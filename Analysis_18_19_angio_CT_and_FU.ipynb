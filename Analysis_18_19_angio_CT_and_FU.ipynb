{
 "cells": [
  {
   "cell_type": "code",
   "execution_count": 35,
   "metadata": {},
   "outputs": [
    {
     "data": {
      "text/html": [
       "<div>\n",
       "<style scoped>\n",
       "    .dataframe tbody tr th:only-of-type {\n",
       "        vertical-align: middle;\n",
       "    }\n",
       "\n",
       "    .dataframe tbody tr th {\n",
       "        vertical-align: top;\n",
       "    }\n",
       "\n",
       "    .dataframe thead th {\n",
       "        text-align: right;\n",
       "    }\n",
       "</style>\n",
       "<table border=\"1\" class=\"dataframe\">\n",
       "  <thead>\n",
       "    <tr style=\"text-align: right;\">\n",
       "      <th></th>\n",
       "      <th>Accession Number</th>\n",
       "      <th>pred_occlusion</th>\n",
       "      <th>pred_vessels</th>\n",
       "      <th>pred_segments</th>\n",
       "      <th>true_vessels</th>\n",
       "      <th>true_segments</th>\n",
       "      <th>volumes</th>\n",
       "      <th>TICI</th>\n",
       "      <th>CTA CTP Report Text</th>\n",
       "      <th>unmatched_occlusions</th>\n",
       "      <th>uncertain_occlusions</th>\n",
       "      <th>LVO</th>\n",
       "      <th>Side</th>\n",
       "      <th>site occlusion</th>\n",
       "      <th>RAPID Core</th>\n",
       "      <th>RAPID Penumbra</th>\n",
       "    </tr>\n",
       "  </thead>\n",
       "  <tbody>\n",
       "    <tr>\n",
       "      <th>0</th>\n",
       "      <td>53737770</td>\n",
       "      <td>0</td>\n",
       "      <td>[]</td>\n",
       "      <td>[]</td>\n",
       "      <td>[]</td>\n",
       "      <td>[]</td>\n",
       "      <td>(0, 0)</td>\n",
       "      <td>NaN</td>\n",
       "      <td>EXAMINATION: Computed tomography angiography (...</td>\n",
       "      <td>[]</td>\n",
       "      <td>[]</td>\n",
       "      <td>0</td>\n",
       "      <td>NaN</td>\n",
       "      <td>NaN</td>\n",
       "      <td>NaN</td>\n",
       "      <td>NaN</td>\n",
       "    </tr>\n",
       "    <tr>\n",
       "      <th>1</th>\n",
       "      <td>53736230</td>\n",
       "      <td>0</td>\n",
       "      <td>[]</td>\n",
       "      <td>[]</td>\n",
       "      <td>[]</td>\n",
       "      <td>[]</td>\n",
       "      <td>(13, 5)</td>\n",
       "      <td>NaN</td>\n",
       "      <td>EXAMINATION: Computed tomography angiography (...</td>\n",
       "      <td>[]</td>\n",
       "      <td>[('uncertain occlusion', 'vertebral', '  _x000...</td>\n",
       "      <td>0</td>\n",
       "      <td>NaN</td>\n",
       "      <td>NaN</td>\n",
       "      <td>13.0</td>\n",
       "      <td>5.0</td>\n",
       "    </tr>\n",
       "    <tr>\n",
       "      <th>2</th>\n",
       "      <td>53728765</td>\n",
       "      <td>0</td>\n",
       "      <td>[]</td>\n",
       "      <td>[]</td>\n",
       "      <td>[]</td>\n",
       "      <td>[]</td>\n",
       "      <td>(0, 8)</td>\n",
       "      <td>NaN</td>\n",
       "      <td>EXAMINATION: Computed tomography angiography (...</td>\n",
       "      <td>[]</td>\n",
       "      <td>[]</td>\n",
       "      <td>0</td>\n",
       "      <td>NaN</td>\n",
       "      <td>NaN</td>\n",
       "      <td>NaN</td>\n",
       "      <td>NaN</td>\n",
       "    </tr>\n",
       "    <tr>\n",
       "      <th>3</th>\n",
       "      <td>53728726</td>\n",
       "      <td>0</td>\n",
       "      <td>[]</td>\n",
       "      <td>[]</td>\n",
       "      <td>[]</td>\n",
       "      <td>[]</td>\n",
       "      <td>(0, 0)</td>\n",
       "      <td>NaN</td>\n",
       "      <td>EXAMINATION: Computed tomography angiography (...</td>\n",
       "      <td>[]</td>\n",
       "      <td>[]</td>\n",
       "      <td>0</td>\n",
       "      <td>NaN</td>\n",
       "      <td>NaN</td>\n",
       "      <td>NaN</td>\n",
       "      <td>NaN</td>\n",
       "    </tr>\n",
       "    <tr>\n",
       "      <th>4</th>\n",
       "      <td>53718900</td>\n",
       "      <td>0</td>\n",
       "      <td>[]</td>\n",
       "      <td>[]</td>\n",
       "      <td>[]</td>\n",
       "      <td>[]</td>\n",
       "      <td>(0, 5)</td>\n",
       "      <td>NaN</td>\n",
       "      <td>EXAMINATION: Computed tomography angiography (...</td>\n",
       "      <td>[]</td>\n",
       "      <td>[]</td>\n",
       "      <td>0</td>\n",
       "      <td>NaN</td>\n",
       "      <td>NaN</td>\n",
       "      <td>NaN</td>\n",
       "      <td>NaN</td>\n",
       "    </tr>\n",
       "    <tr>\n",
       "      <th>...</th>\n",
       "      <td>...</td>\n",
       "      <td>...</td>\n",
       "      <td>...</td>\n",
       "      <td>...</td>\n",
       "      <td>...</td>\n",
       "      <td>...</td>\n",
       "      <td>...</td>\n",
       "      <td>...</td>\n",
       "      <td>...</td>\n",
       "      <td>...</td>\n",
       "      <td>...</td>\n",
       "      <td>...</td>\n",
       "      <td>...</td>\n",
       "      <td>...</td>\n",
       "      <td>...</td>\n",
       "      <td>...</td>\n",
       "    </tr>\n",
       "    <tr>\n",
       "      <th>572</th>\n",
       "      <td>51390288</td>\n",
       "      <td>1</td>\n",
       "      <td>['R PCA', 'R vertebral']</td>\n",
       "      <td>['R V4', 'R P2']</td>\n",
       "      <td>['R PCA']</td>\n",
       "      <td>['R P2']</td>\n",
       "      <td>(0, 0)</td>\n",
       "      <td>NaN</td>\n",
       "      <td>EXAMINATION:_x000D_\\nComputed tomography angio...</td>\n",
       "      <td>[]</td>\n",
       "      <td>[]</td>\n",
       "      <td>2</td>\n",
       "      <td>R</td>\n",
       "      <td>Vertebral/P2</td>\n",
       "      <td>NaN</td>\n",
       "      <td>0.0</td>\n",
       "    </tr>\n",
       "    <tr>\n",
       "      <th>573</th>\n",
       "      <td>51370944</td>\n",
       "      <td>0</td>\n",
       "      <td>[]</td>\n",
       "      <td>[]</td>\n",
       "      <td>[]</td>\n",
       "      <td>[]</td>\n",
       "      <td>(0, 0)</td>\n",
       "      <td>NaN</td>\n",
       "      <td>EXAMINATION: Computed tomography angiography (...</td>\n",
       "      <td>[]</td>\n",
       "      <td>[]</td>\n",
       "      <td>0</td>\n",
       "      <td>NaN</td>\n",
       "      <td>NaN</td>\n",
       "      <td>NaN</td>\n",
       "      <td>NaN</td>\n",
       "    </tr>\n",
       "    <tr>\n",
       "      <th>574</th>\n",
       "      <td>51361957</td>\n",
       "      <td>0</td>\n",
       "      <td>[]</td>\n",
       "      <td>[]</td>\n",
       "      <td>[]</td>\n",
       "      <td>[]</td>\n",
       "      <td>(0, 0)</td>\n",
       "      <td>NaN</td>\n",
       "      <td>EXAMINATION: Computed tomography angiography (...</td>\n",
       "      <td>[]</td>\n",
       "      <td>[]</td>\n",
       "      <td>0</td>\n",
       "      <td>NaN</td>\n",
       "      <td>NaN</td>\n",
       "      <td>NaN</td>\n",
       "      <td>NaN</td>\n",
       "    </tr>\n",
       "    <tr>\n",
       "      <th>575</th>\n",
       "      <td>51361847</td>\n",
       "      <td>0</td>\n",
       "      <td>[]</td>\n",
       "      <td>[]</td>\n",
       "      <td>[]</td>\n",
       "      <td>[]</td>\n",
       "      <td>(0, 0)</td>\n",
       "      <td>NaN</td>\n",
       "      <td>EXAMINATION: Computed tomography angiography (...</td>\n",
       "      <td>[]</td>\n",
       "      <td>[]</td>\n",
       "      <td>0</td>\n",
       "      <td>NaN</td>\n",
       "      <td>NaN</td>\n",
       "      <td>NaN</td>\n",
       "      <td>NaN</td>\n",
       "    </tr>\n",
       "    <tr>\n",
       "      <th>576</th>\n",
       "      <td>51358434</td>\n",
       "      <td>0</td>\n",
       "      <td>[]</td>\n",
       "      <td>[]</td>\n",
       "      <td>[]</td>\n",
       "      <td>[]</td>\n",
       "      <td>(0, 0)</td>\n",
       "      <td>NaN</td>\n",
       "      <td>EXAMINATION: Computed tomography angiography (...</td>\n",
       "      <td>[]</td>\n",
       "      <td>[]</td>\n",
       "      <td>0</td>\n",
       "      <td>NaN</td>\n",
       "      <td>NaN</td>\n",
       "      <td>NaN</td>\n",
       "      <td>NaN</td>\n",
       "    </tr>\n",
       "  </tbody>\n",
       "</table>\n",
       "<p>577 rows × 16 columns</p>\n",
       "</div>"
      ],
      "text/plain": [
       "     Accession Number  pred_occlusion              pred_vessels  \\\n",
       "0            53737770               0                        []   \n",
       "1            53736230               0                        []   \n",
       "2            53728765               0                        []   \n",
       "3            53728726               0                        []   \n",
       "4            53718900               0                        []   \n",
       "..                ...             ...                       ...   \n",
       "572          51390288               1  ['R PCA', 'R vertebral']   \n",
       "573          51370944               0                        []   \n",
       "574          51361957               0                        []   \n",
       "575          51361847               0                        []   \n",
       "576          51358434               0                        []   \n",
       "\n",
       "        pred_segments true_vessels true_segments  volumes TICI  \\\n",
       "0                  []           []            []   (0, 0)  NaN   \n",
       "1                  []           []            []  (13, 5)  NaN   \n",
       "2                  []           []            []   (0, 8)  NaN   \n",
       "3                  []           []            []   (0, 0)  NaN   \n",
       "4                  []           []            []   (0, 5)  NaN   \n",
       "..                ...          ...           ...      ...  ...   \n",
       "572  ['R V4', 'R P2']    ['R PCA']      ['R P2']   (0, 0)  NaN   \n",
       "573                []           []            []   (0, 0)  NaN   \n",
       "574                []           []            []   (0, 0)  NaN   \n",
       "575                []           []            []   (0, 0)  NaN   \n",
       "576                []           []            []   (0, 0)  NaN   \n",
       "\n",
       "                                   CTA CTP Report Text unmatched_occlusions  \\\n",
       "0    EXAMINATION: Computed tomography angiography (...                   []   \n",
       "1    EXAMINATION: Computed tomography angiography (...                   []   \n",
       "2    EXAMINATION: Computed tomography angiography (...                   []   \n",
       "3    EXAMINATION: Computed tomography angiography (...                   []   \n",
       "4    EXAMINATION: Computed tomography angiography (...                   []   \n",
       "..                                                 ...                  ...   \n",
       "572  EXAMINATION:_x000D_\\nComputed tomography angio...                   []   \n",
       "573  EXAMINATION: Computed tomography angiography (...                   []   \n",
       "574  EXAMINATION: Computed tomography angiography (...                   []   \n",
       "575  EXAMINATION: Computed tomography angiography (...                   []   \n",
       "576  EXAMINATION: Computed tomography angiography (...                   []   \n",
       "\n",
       "                                  uncertain_occlusions  LVO Side  \\\n",
       "0                                                   []    0  NaN   \n",
       "1    [('uncertain occlusion', 'vertebral', '  _x000...    0  NaN   \n",
       "2                                                   []    0  NaN   \n",
       "3                                                   []    0  NaN   \n",
       "4                                                   []    0  NaN   \n",
       "..                                                 ...  ...  ...   \n",
       "572                                                 []    2    R   \n",
       "573                                                 []    0  NaN   \n",
       "574                                                 []    0  NaN   \n",
       "575                                                 []    0  NaN   \n",
       "576                                                 []    0  NaN   \n",
       "\n",
       "    site occlusion  RAPID Core  RAPID Penumbra  \n",
       "0              NaN         NaN             NaN  \n",
       "1              NaN        13.0             5.0  \n",
       "2              NaN         NaN             NaN  \n",
       "3              NaN         NaN             NaN  \n",
       "4              NaN         NaN             NaN  \n",
       "..             ...         ...             ...  \n",
       "572   Vertebral/P2         NaN             0.0  \n",
       "573            NaN         NaN             NaN  \n",
       "574            NaN         NaN             NaN  \n",
       "575            NaN         NaN             NaN  \n",
       "576            NaN         NaN             NaN  \n",
       "\n",
       "[577 rows x 16 columns]"
      ]
     },
     "execution_count": 35,
     "metadata": {},
     "output_type": "execute_result"
    }
   ],
   "source": [
    "import pandas as pd\n",
    "#Input is the output of 'NLP_on_CT_angio_extended_18_19, change path accordingly'\n",
    "cohort18_19 = pd.read_excel(\"/mnt/c/Users/zohai/Documents/Research/Neuro_ML/Data/RAPID_18_19_AUTOMATED_OCCLUSION_PREDICTIONS.xlsx\")\n",
    "cohort18_19 = cohort18_19[[\"Accession Number\", \"pred_occlusion\", \"pred_vessels\", \"pred_segments\", \"true_vessels\", \"true_segments\",\n",
    "                          \"volumes\", \"TICI\", \"CTA CTP Report Text\" , \"unmatched_occlusions\", \"uncertain_occlusions\",\n",
    "                          \"LVO\", \"Side\", \"site occlusion\", \"RAPID Core\", \"RAPID Penumbra\"]]\n",
    "cohort18_19\n",
    "# [\"Accession Number\", \"LVO\", \"pred_occlusion\", \"pred_vessels\", \"pred_segments\",\n",
    "#                           \"volumes\", \"TICI\", \"CTA CTP Report Text\" , \"unmatched_occlusions\", \"uncertain_occlusions\",\n",
    "#                           \"Side\", \"site occlusion\"]\n"
   ]
  },
  {
   "cell_type": "code",
   "execution_count": 36,
   "metadata": {},
   "outputs": [
    {
     "data": {
      "text/html": [
       "<div>\n",
       "<style scoped>\n",
       "    .dataframe tbody tr th:only-of-type {\n",
       "        vertical-align: middle;\n",
       "    }\n",
       "\n",
       "    .dataframe tbody tr th {\n",
       "        vertical-align: top;\n",
       "    }\n",
       "\n",
       "    .dataframe thead th {\n",
       "        text-align: right;\n",
       "    }\n",
       "</style>\n",
       "<table border=\"1\" class=\"dataframe\">\n",
       "  <thead>\n",
       "    <tr style=\"text-align: right;\">\n",
       "      <th></th>\n",
       "      <th>Accession Number</th>\n",
       "      <th>pred_occlusion</th>\n",
       "      <th>pred_vessels</th>\n",
       "      <th>pred_segments</th>\n",
       "      <th>true_vessels</th>\n",
       "      <th>true_segments</th>\n",
       "      <th>volumes</th>\n",
       "      <th>TICI</th>\n",
       "      <th>CTA CTP Report Text</th>\n",
       "      <th>unmatched_occlusions</th>\n",
       "      <th>uncertain_occlusions</th>\n",
       "      <th>LVO</th>\n",
       "      <th>Side</th>\n",
       "      <th>site_occlusion</th>\n",
       "      <th>RAPID Core</th>\n",
       "      <th>RAPID Penumbra</th>\n",
       "    </tr>\n",
       "  </thead>\n",
       "  <tbody>\n",
       "    <tr>\n",
       "      <th>0</th>\n",
       "      <td>53737770</td>\n",
       "      <td>0</td>\n",
       "      <td>[]</td>\n",
       "      <td>[]</td>\n",
       "      <td>[]</td>\n",
       "      <td>[]</td>\n",
       "      <td>(0, 0)</td>\n",
       "      <td>NaN</td>\n",
       "      <td>EXAMINATION: Computed tomography angiography (...</td>\n",
       "      <td>[]</td>\n",
       "      <td>[]</td>\n",
       "      <td>0</td>\n",
       "      <td>NaN</td>\n",
       "      <td>NaN</td>\n",
       "      <td>NaN</td>\n",
       "      <td>NaN</td>\n",
       "    </tr>\n",
       "    <tr>\n",
       "      <th>1</th>\n",
       "      <td>53736230</td>\n",
       "      <td>0</td>\n",
       "      <td>[]</td>\n",
       "      <td>[]</td>\n",
       "      <td>[]</td>\n",
       "      <td>[]</td>\n",
       "      <td>(13, 5)</td>\n",
       "      <td>NaN</td>\n",
       "      <td>EXAMINATION: Computed tomography angiography (...</td>\n",
       "      <td>[]</td>\n",
       "      <td>[('uncertain occlusion', 'vertebral', '  _x000...</td>\n",
       "      <td>0</td>\n",
       "      <td>NaN</td>\n",
       "      <td>NaN</td>\n",
       "      <td>13.0</td>\n",
       "      <td>5.0</td>\n",
       "    </tr>\n",
       "    <tr>\n",
       "      <th>2</th>\n",
       "      <td>53728765</td>\n",
       "      <td>0</td>\n",
       "      <td>[]</td>\n",
       "      <td>[]</td>\n",
       "      <td>[]</td>\n",
       "      <td>[]</td>\n",
       "      <td>(0, 8)</td>\n",
       "      <td>NaN</td>\n",
       "      <td>EXAMINATION: Computed tomography angiography (...</td>\n",
       "      <td>[]</td>\n",
       "      <td>[]</td>\n",
       "      <td>0</td>\n",
       "      <td>NaN</td>\n",
       "      <td>NaN</td>\n",
       "      <td>NaN</td>\n",
       "      <td>NaN</td>\n",
       "    </tr>\n",
       "    <tr>\n",
       "      <th>3</th>\n",
       "      <td>53728726</td>\n",
       "      <td>0</td>\n",
       "      <td>[]</td>\n",
       "      <td>[]</td>\n",
       "      <td>[]</td>\n",
       "      <td>[]</td>\n",
       "      <td>(0, 0)</td>\n",
       "      <td>NaN</td>\n",
       "      <td>EXAMINATION: Computed tomography angiography (...</td>\n",
       "      <td>[]</td>\n",
       "      <td>[]</td>\n",
       "      <td>0</td>\n",
       "      <td>NaN</td>\n",
       "      <td>NaN</td>\n",
       "      <td>NaN</td>\n",
       "      <td>NaN</td>\n",
       "    </tr>\n",
       "    <tr>\n",
       "      <th>4</th>\n",
       "      <td>53718900</td>\n",
       "      <td>0</td>\n",
       "      <td>[]</td>\n",
       "      <td>[]</td>\n",
       "      <td>[]</td>\n",
       "      <td>[]</td>\n",
       "      <td>(0, 5)</td>\n",
       "      <td>NaN</td>\n",
       "      <td>EXAMINATION: Computed tomography angiography (...</td>\n",
       "      <td>[]</td>\n",
       "      <td>[]</td>\n",
       "      <td>0</td>\n",
       "      <td>NaN</td>\n",
       "      <td>NaN</td>\n",
       "      <td>NaN</td>\n",
       "      <td>NaN</td>\n",
       "    </tr>\n",
       "    <tr>\n",
       "      <th>...</th>\n",
       "      <td>...</td>\n",
       "      <td>...</td>\n",
       "      <td>...</td>\n",
       "      <td>...</td>\n",
       "      <td>...</td>\n",
       "      <td>...</td>\n",
       "      <td>...</td>\n",
       "      <td>...</td>\n",
       "      <td>...</td>\n",
       "      <td>...</td>\n",
       "      <td>...</td>\n",
       "      <td>...</td>\n",
       "      <td>...</td>\n",
       "      <td>...</td>\n",
       "      <td>...</td>\n",
       "      <td>...</td>\n",
       "    </tr>\n",
       "    <tr>\n",
       "      <th>572</th>\n",
       "      <td>51390288</td>\n",
       "      <td>1</td>\n",
       "      <td>['R PCA', 'R vertebral']</td>\n",
       "      <td>['R V4', 'R P2']</td>\n",
       "      <td>['R PCA']</td>\n",
       "      <td>['R P2']</td>\n",
       "      <td>(0, 0)</td>\n",
       "      <td>NaN</td>\n",
       "      <td>EXAMINATION:_x000D_\\nComputed tomography angio...</td>\n",
       "      <td>[]</td>\n",
       "      <td>[]</td>\n",
       "      <td>2</td>\n",
       "      <td>R</td>\n",
       "      <td>Vertebral/P2</td>\n",
       "      <td>NaN</td>\n",
       "      <td>0.0</td>\n",
       "    </tr>\n",
       "    <tr>\n",
       "      <th>573</th>\n",
       "      <td>51370944</td>\n",
       "      <td>0</td>\n",
       "      <td>[]</td>\n",
       "      <td>[]</td>\n",
       "      <td>[]</td>\n",
       "      <td>[]</td>\n",
       "      <td>(0, 0)</td>\n",
       "      <td>NaN</td>\n",
       "      <td>EXAMINATION: Computed tomography angiography (...</td>\n",
       "      <td>[]</td>\n",
       "      <td>[]</td>\n",
       "      <td>0</td>\n",
       "      <td>NaN</td>\n",
       "      <td>NaN</td>\n",
       "      <td>NaN</td>\n",
       "      <td>NaN</td>\n",
       "    </tr>\n",
       "    <tr>\n",
       "      <th>574</th>\n",
       "      <td>51361957</td>\n",
       "      <td>0</td>\n",
       "      <td>[]</td>\n",
       "      <td>[]</td>\n",
       "      <td>[]</td>\n",
       "      <td>[]</td>\n",
       "      <td>(0, 0)</td>\n",
       "      <td>NaN</td>\n",
       "      <td>EXAMINATION: Computed tomography angiography (...</td>\n",
       "      <td>[]</td>\n",
       "      <td>[]</td>\n",
       "      <td>0</td>\n",
       "      <td>NaN</td>\n",
       "      <td>NaN</td>\n",
       "      <td>NaN</td>\n",
       "      <td>NaN</td>\n",
       "    </tr>\n",
       "    <tr>\n",
       "      <th>575</th>\n",
       "      <td>51361847</td>\n",
       "      <td>0</td>\n",
       "      <td>[]</td>\n",
       "      <td>[]</td>\n",
       "      <td>[]</td>\n",
       "      <td>[]</td>\n",
       "      <td>(0, 0)</td>\n",
       "      <td>NaN</td>\n",
       "      <td>EXAMINATION: Computed tomography angiography (...</td>\n",
       "      <td>[]</td>\n",
       "      <td>[]</td>\n",
       "      <td>0</td>\n",
       "      <td>NaN</td>\n",
       "      <td>NaN</td>\n",
       "      <td>NaN</td>\n",
       "      <td>NaN</td>\n",
       "    </tr>\n",
       "    <tr>\n",
       "      <th>576</th>\n",
       "      <td>51358434</td>\n",
       "      <td>0</td>\n",
       "      <td>[]</td>\n",
       "      <td>[]</td>\n",
       "      <td>[]</td>\n",
       "      <td>[]</td>\n",
       "      <td>(0, 0)</td>\n",
       "      <td>NaN</td>\n",
       "      <td>EXAMINATION: Computed tomography angiography (...</td>\n",
       "      <td>[]</td>\n",
       "      <td>[]</td>\n",
       "      <td>0</td>\n",
       "      <td>NaN</td>\n",
       "      <td>NaN</td>\n",
       "      <td>NaN</td>\n",
       "      <td>NaN</td>\n",
       "    </tr>\n",
       "  </tbody>\n",
       "</table>\n",
       "<p>577 rows × 16 columns</p>\n",
       "</div>"
      ],
      "text/plain": [
       "     Accession Number  pred_occlusion              pred_vessels  \\\n",
       "0            53737770               0                        []   \n",
       "1            53736230               0                        []   \n",
       "2            53728765               0                        []   \n",
       "3            53728726               0                        []   \n",
       "4            53718900               0                        []   \n",
       "..                ...             ...                       ...   \n",
       "572          51390288               1  ['R PCA', 'R vertebral']   \n",
       "573          51370944               0                        []   \n",
       "574          51361957               0                        []   \n",
       "575          51361847               0                        []   \n",
       "576          51358434               0                        []   \n",
       "\n",
       "        pred_segments true_vessels true_segments  volumes TICI  \\\n",
       "0                  []           []            []   (0, 0)  NaN   \n",
       "1                  []           []            []  (13, 5)  NaN   \n",
       "2                  []           []            []   (0, 8)  NaN   \n",
       "3                  []           []            []   (0, 0)  NaN   \n",
       "4                  []           []            []   (0, 5)  NaN   \n",
       "..                ...          ...           ...      ...  ...   \n",
       "572  ['R V4', 'R P2']    ['R PCA']      ['R P2']   (0, 0)  NaN   \n",
       "573                []           []            []   (0, 0)  NaN   \n",
       "574                []           []            []   (0, 0)  NaN   \n",
       "575                []           []            []   (0, 0)  NaN   \n",
       "576                []           []            []   (0, 0)  NaN   \n",
       "\n",
       "                                   CTA CTP Report Text unmatched_occlusions  \\\n",
       "0    EXAMINATION: Computed tomography angiography (...                   []   \n",
       "1    EXAMINATION: Computed tomography angiography (...                   []   \n",
       "2    EXAMINATION: Computed tomography angiography (...                   []   \n",
       "3    EXAMINATION: Computed tomography angiography (...                   []   \n",
       "4    EXAMINATION: Computed tomography angiography (...                   []   \n",
       "..                                                 ...                  ...   \n",
       "572  EXAMINATION:_x000D_\\nComputed tomography angio...                   []   \n",
       "573  EXAMINATION: Computed tomography angiography (...                   []   \n",
       "574  EXAMINATION: Computed tomography angiography (...                   []   \n",
       "575  EXAMINATION: Computed tomography angiography (...                   []   \n",
       "576  EXAMINATION: Computed tomography angiography (...                   []   \n",
       "\n",
       "                                  uncertain_occlusions  LVO Side  \\\n",
       "0                                                   []    0  NaN   \n",
       "1    [('uncertain occlusion', 'vertebral', '  _x000...    0  NaN   \n",
       "2                                                   []    0  NaN   \n",
       "3                                                   []    0  NaN   \n",
       "4                                                   []    0  NaN   \n",
       "..                                                 ...  ...  ...   \n",
       "572                                                 []    2    R   \n",
       "573                                                 []    0  NaN   \n",
       "574                                                 []    0  NaN   \n",
       "575                                                 []    0  NaN   \n",
       "576                                                 []    0  NaN   \n",
       "\n",
       "    site_occlusion  RAPID Core  RAPID Penumbra  \n",
       "0              NaN         NaN             NaN  \n",
       "1              NaN        13.0             5.0  \n",
       "2              NaN         NaN             NaN  \n",
       "3              NaN         NaN             NaN  \n",
       "4              NaN         NaN             NaN  \n",
       "..             ...         ...             ...  \n",
       "572   Vertebral/P2         NaN             0.0  \n",
       "573            NaN         NaN             NaN  \n",
       "574            NaN         NaN             NaN  \n",
       "575            NaN         NaN             NaN  \n",
       "576            NaN         NaN             NaN  \n",
       "\n",
       "[577 rows x 16 columns]"
      ]
     },
     "execution_count": 36,
     "metadata": {},
     "output_type": "execute_result"
    }
   ],
   "source": [
    "cohort18_19 = cohort18_19.rename({\"site occlusion\":\"site_occlusion\"}, axis=\"columns\")\n",
    "cohort18_19"
   ]
  },
  {
   "cell_type": "code",
   "execution_count": 37,
   "metadata": {},
   "outputs": [
    {
     "data": {
      "text/plain": [
       "\"[('uncertain occlusion', 'vertebral', '  _x000D_Non-opacification of the right vertebral artery at its origin with reconstitution distally')]\""
      ]
     },
     "execution_count": 37,
     "metadata": {},
     "output_type": "execute_result"
    }
   ],
   "source": [
    "cohort18_19.iloc[1][\"uncertain_occlusions\"]"
   ]
  },
  {
   "cell_type": "code",
   "execution_count": 38,
   "metadata": {},
   "outputs": [
    {
     "data": {
      "text/plain": [
       "[('uncertain occlusion',\n",
       "  'vertebral',\n",
       "  '  _x000D_Non-opacification of the right vertebral artery at its origin with reconstitution distally')]"
      ]
     },
     "execution_count": 38,
     "metadata": {},
     "output_type": "execute_result"
    }
   ],
   "source": [
    "import ast\n",
    "ast.literal_eval(cohort18_19.iloc[1][\"uncertain_occlusions\"])"
   ]
  },
  {
   "cell_type": "code",
   "execution_count": 39,
   "metadata": {},
   "outputs": [
    {
     "data": {
      "text/plain": [
       "['L ACA']"
      ]
     },
     "execution_count": 39,
     "metadata": {},
     "output_type": "execute_result"
    }
   ],
   "source": [
    "#Columns that were lists/tuples are strings\n",
    "#Used ast functions to convert them back\n",
    "cols_to_convert = [\"true_vessels\", \"true_segments\", \"pred_vessels\",\"pred_segments\",\"volumes\",\"unmatched_occlusions\",\"uncertain_occlusions\"]\n",
    "for col in cols_to_convert:\n",
    "    cohort18_19[col] = cohort18_19[col].apply(lambda x: ast.literal_eval(x) if isinstance(x,str) else x)\n",
    "\n",
    "#cohort18_19[\"pred_vessels\"] = cohort18_19[\"pred_vessels\"].apply(ast.literal_eval)\n",
    "cohort18_19.iloc[527][\"pred_vessels\"]"
   ]
  },
  {
   "cell_type": "code",
   "execution_count": 40,
   "metadata": {},
   "outputs": [
    {
     "data": {
      "text/plain": [
       "Int64Index([ 60,  61,  70,  88,  91,  96, 127, 156, 180, 190, 229, 260, 265,\n",
       "            370, 418, 466, 468, 480, 483, 492, 527, 555],\n",
       "           dtype='int64')"
      ]
     },
     "execution_count": 40,
     "metadata": {},
     "output_type": "execute_result"
    }
   ],
   "source": [
    "#Incdices where volumes are not tuples\n",
    "cohort18_19.index[cohort18_19[\"volumes\"].apply(lambda x: isinstance(x,float))]\n"
   ]
  },
  {
   "cell_type": "code",
   "execution_count": 41,
   "metadata": {},
   "outputs": [
    {
     "data": {
      "text/plain": [
       "Accession Number                                                 53434876\n",
       "pred_occlusion                                                          0\n",
       "pred_vessels                                                           []\n",
       "pred_segments                                                          []\n",
       "true_vessels                                                           []\n",
       "true_segments                                                          []\n",
       "volumes                                                               NaN\n",
       "TICI                                                                  NaN\n",
       "CTA CTP Report Text     EXAMINATION: Computed tomography angiography (...\n",
       "unmatched_occlusions                                                   []\n",
       "uncertain_occlusions                                                   []\n",
       "LVO                                                                     0\n",
       "Side                                                                  NaN\n",
       "site_occlusion                                                        NaN\n",
       "RAPID Core                                                            NaN\n",
       "RAPID Penumbra                                                        NaN\n",
       "Name: 60, dtype: object"
      ]
     },
     "execution_count": 41,
     "metadata": {},
     "output_type": "execute_result"
    }
   ],
   "source": [
    "cohort18_19.iloc[60]"
   ]
  },
  {
   "cell_type": "code",
   "execution_count": 42,
   "metadata": {},
   "outputs": [
    {
     "data": {
      "text/plain": [
       "0      False\n",
       "1      False\n",
       "2      False\n",
       "3      False\n",
       "4      False\n",
       "       ...  \n",
       "572    False\n",
       "573    False\n",
       "574    False\n",
       "575    False\n",
       "576    False\n",
       "Name: RAPID Core (mL), Length: 577, dtype: bool"
      ]
     },
     "execution_count": 42,
     "metadata": {},
     "output_type": "execute_result"
    }
   ],
   "source": [
    "#New columns for *automated* core and penumbra volumes\n",
    "cohort18_19[\"RAPID Core (mL)\"] = cohort18_19[\"volumes\"].apply(lambda x: x[0] if isinstance(x,tuple) else x)\n",
    "cohort18_19[\"RAPID Penumbra (mL)\"] = cohort18_19[\"volumes\"].apply(lambda x: x[1] if isinstance(x,tuple) else x)\n",
    "cohort18_19[\"RAPID Core (mL)\"].isna()"
   ]
  },
  {
   "cell_type": "code",
   "execution_count": 43,
   "metadata": {},
   "outputs": [
    {
     "data": {
      "text/plain": [
       "0       NaN\n",
       "1      13.0\n",
       "2       NaN\n",
       "3       NaN\n",
       "4       NaN\n",
       "       ... \n",
       "572     NaN\n",
       "573     NaN\n",
       "574     NaN\n",
       "575     NaN\n",
       "576     NaN\n",
       "Name: RAPID Core, Length: 577, dtype: float64"
      ]
     },
     "execution_count": 43,
     "metadata": {},
     "output_type": "execute_result"
    }
   ],
   "source": [
    "cohort18_19[\"RAPID Core\"]"
   ]
  },
  {
   "cell_type": "code",
   "execution_count": 44,
   "metadata": {},
   "outputs": [],
   "source": [
    "#Setting NA to 0 for manual and automated (mL)\n",
    "cohort18_19[\"RAPID Core\"] = cohort18_19[\"RAPID Core\"].fillna(0)\n",
    "cohort18_19[\"RAPID Penumbra\"] = cohort18_19[\"RAPID Penumbra\"].fillna(0)"
   ]
  },
  {
   "cell_type": "code",
   "execution_count": 45,
   "metadata": {},
   "outputs": [],
   "source": [
    "#Using manual lvo\n",
    "# manual_lvo = cohort18_19[cohort18_19[\"LVO\"] > 0]\n",
    "# manual_lvo"
   ]
  },
  {
   "cell_type": "code",
   "execution_count": 46,
   "metadata": {},
   "outputs": [
    {
     "data": {
      "text/html": [
       "<div>\n",
       "<style scoped>\n",
       "    .dataframe tbody tr th:only-of-type {\n",
       "        vertical-align: middle;\n",
       "    }\n",
       "\n",
       "    .dataframe tbody tr th {\n",
       "        vertical-align: top;\n",
       "    }\n",
       "\n",
       "    .dataframe thead th {\n",
       "        text-align: right;\n",
       "    }\n",
       "</style>\n",
       "<table border=\"1\" class=\"dataframe\">\n",
       "  <thead>\n",
       "    <tr style=\"text-align: right;\">\n",
       "      <th></th>\n",
       "      <th>Accession Number</th>\n",
       "      <th>pred_occlusion</th>\n",
       "      <th>pred_vessels</th>\n",
       "      <th>pred_segments</th>\n",
       "      <th>true_vessels</th>\n",
       "      <th>true_segments</th>\n",
       "      <th>volumes</th>\n",
       "      <th>TICI</th>\n",
       "      <th>CTA CTP Report Text</th>\n",
       "      <th>unmatched_occlusions</th>\n",
       "      <th>uncertain_occlusions</th>\n",
       "      <th>LVO</th>\n",
       "      <th>Side</th>\n",
       "      <th>site_occlusion</th>\n",
       "      <th>RAPID Core</th>\n",
       "      <th>RAPID Penumbra</th>\n",
       "      <th>RAPID Core (mL)</th>\n",
       "      <th>RAPID Penumbra (mL)</th>\n",
       "    </tr>\n",
       "  </thead>\n",
       "  <tbody>\n",
       "    <tr>\n",
       "      <th>7</th>\n",
       "      <td>53710639</td>\n",
       "      <td>1</td>\n",
       "      <td>[L MCA]</td>\n",
       "      <td>[L M2]</td>\n",
       "      <td>[L MCA]</td>\n",
       "      <td>[L M2]</td>\n",
       "      <td>(0, 58)</td>\n",
       "      <td>3</td>\n",
       "      <td>EXAMINATION: Computed tomography angiography (...</td>\n",
       "      <td>[]</td>\n",
       "      <td>[]</td>\n",
       "      <td>1</td>\n",
       "      <td>L</td>\n",
       "      <td>M2</td>\n",
       "      <td>0.0</td>\n",
       "      <td>58.0</td>\n",
       "      <td>0.0</td>\n",
       "      <td>58.0</td>\n",
       "    </tr>\n",
       "    <tr>\n",
       "      <th>8</th>\n",
       "      <td>53702325</td>\n",
       "      <td>1</td>\n",
       "      <td>[R ICA, R MCA]</td>\n",
       "      <td>[R M1, R M2]</td>\n",
       "      <td>[R ICA, R MCA]</td>\n",
       "      <td>[R M1, R M2]</td>\n",
       "      <td>(216, 302)</td>\n",
       "      <td>3</td>\n",
       "      <td>EXAMINATION: Computed tomography angiography (...</td>\n",
       "      <td>[]</td>\n",
       "      <td>[]</td>\n",
       "      <td>1</td>\n",
       "      <td>R</td>\n",
       "      <td>ICA/M1/M2</td>\n",
       "      <td>216.0</td>\n",
       "      <td>302.0</td>\n",
       "      <td>216.0</td>\n",
       "      <td>302.0</td>\n",
       "    </tr>\n",
       "    <tr>\n",
       "      <th>16</th>\n",
       "      <td>53682761</td>\n",
       "      <td>1</td>\n",
       "      <td>[L MCA, L ICA, L ACA]</td>\n",
       "      <td>[L M1]</td>\n",
       "      <td>[L MCA, L ICA, L ACA]</td>\n",
       "      <td>[L M1]</td>\n",
       "      <td>(159, 230)</td>\n",
       "      <td>NaN</td>\n",
       "      <td>EXAMINATION: Computed tomography angiography (...</td>\n",
       "      <td>[]</td>\n",
       "      <td>[]</td>\n",
       "      <td>1</td>\n",
       "      <td>L</td>\n",
       "      <td>ICA/M1/ACA</td>\n",
       "      <td>159.0</td>\n",
       "      <td>230.0</td>\n",
       "      <td>159.0</td>\n",
       "      <td>230.0</td>\n",
       "    </tr>\n",
       "    <tr>\n",
       "      <th>17</th>\n",
       "      <td>53681846</td>\n",
       "      <td>1</td>\n",
       "      <td>[R MCA]</td>\n",
       "      <td>[R M2]</td>\n",
       "      <td>[R MCA]</td>\n",
       "      <td>[R M2]</td>\n",
       "      <td>(12, 137)</td>\n",
       "      <td>2B</td>\n",
       "      <td>EXAMINATION: Computed tomography angiography (...</td>\n",
       "      <td>[]</td>\n",
       "      <td>[]</td>\n",
       "      <td>1</td>\n",
       "      <td>R</td>\n",
       "      <td>M2</td>\n",
       "      <td>12.0</td>\n",
       "      <td>137.0</td>\n",
       "      <td>12.0</td>\n",
       "      <td>137.0</td>\n",
       "    </tr>\n",
       "    <tr>\n",
       "      <th>20</th>\n",
       "      <td>53678983</td>\n",
       "      <td>1</td>\n",
       "      <td>[L MCA]</td>\n",
       "      <td>[L M2]</td>\n",
       "      <td>[L MCA]</td>\n",
       "      <td>[L M2]</td>\n",
       "      <td>(10, 157)</td>\n",
       "      <td>NaN</td>\n",
       "      <td>EXAMINATION: Computed tomography angiography (...</td>\n",
       "      <td>[]</td>\n",
       "      <td>[]</td>\n",
       "      <td>1</td>\n",
       "      <td>L</td>\n",
       "      <td>M2</td>\n",
       "      <td>10.0</td>\n",
       "      <td>157.0</td>\n",
       "      <td>10.0</td>\n",
       "      <td>157.0</td>\n",
       "    </tr>\n",
       "    <tr>\n",
       "      <th>...</th>\n",
       "      <td>...</td>\n",
       "      <td>...</td>\n",
       "      <td>...</td>\n",
       "      <td>...</td>\n",
       "      <td>...</td>\n",
       "      <td>...</td>\n",
       "      <td>...</td>\n",
       "      <td>...</td>\n",
       "      <td>...</td>\n",
       "      <td>...</td>\n",
       "      <td>...</td>\n",
       "      <td>...</td>\n",
       "      <td>...</td>\n",
       "      <td>...</td>\n",
       "      <td>...</td>\n",
       "      <td>...</td>\n",
       "      <td>...</td>\n",
       "      <td>...</td>\n",
       "    </tr>\n",
       "    <tr>\n",
       "      <th>561</th>\n",
       "      <td>51450558</td>\n",
       "      <td>1</td>\n",
       "      <td>[L MCA, L ICA, L ACA]</td>\n",
       "      <td>[L A1, L M1, L M2]</td>\n",
       "      <td>[L ICA, L MCA, L CCA, L ACA]</td>\n",
       "      <td>[L M1, L M2, L A1]</td>\n",
       "      <td>(169, 196)</td>\n",
       "      <td>NaN</td>\n",
       "      <td>EXAMINATION: Computed tomography angiography (...</td>\n",
       "      <td>[]</td>\n",
       "      <td>[]</td>\n",
       "      <td>1</td>\n",
       "      <td>L</td>\n",
       "      <td>CCA/ICA/M1/M2/A1</td>\n",
       "      <td>169.0</td>\n",
       "      <td>196.0</td>\n",
       "      <td>169.0</td>\n",
       "      <td>196.0</td>\n",
       "    </tr>\n",
       "    <tr>\n",
       "      <th>568</th>\n",
       "      <td>51404302</td>\n",
       "      <td>1</td>\n",
       "      <td>[L ICA]</td>\n",
       "      <td>[]</td>\n",
       "      <td>[]</td>\n",
       "      <td>[]</td>\n",
       "      <td>(0, 0)</td>\n",
       "      <td>NaN</td>\n",
       "      <td>EXAMINATION: Computed tomography angiography (...</td>\n",
       "      <td>[]</td>\n",
       "      <td>[]</td>\n",
       "      <td>0</td>\n",
       "      <td>NaN</td>\n",
       "      <td>NaN</td>\n",
       "      <td>0.0</td>\n",
       "      <td>0.0</td>\n",
       "      <td>0.0</td>\n",
       "      <td>0.0</td>\n",
       "    </tr>\n",
       "    <tr>\n",
       "      <th>569</th>\n",
       "      <td>51404081</td>\n",
       "      <td>1</td>\n",
       "      <td>[R MCA]</td>\n",
       "      <td>[R M2]</td>\n",
       "      <td>[R MCA]</td>\n",
       "      <td>[R M2]</td>\n",
       "      <td>(16, 40)</td>\n",
       "      <td>NaN</td>\n",
       "      <td>EXAMINATION: Computed tomography angiography (...</td>\n",
       "      <td>[]</td>\n",
       "      <td>[]</td>\n",
       "      <td>1</td>\n",
       "      <td>R</td>\n",
       "      <td>M2</td>\n",
       "      <td>16.0</td>\n",
       "      <td>40.0</td>\n",
       "      <td>16.0</td>\n",
       "      <td>40.0</td>\n",
       "    </tr>\n",
       "    <tr>\n",
       "      <th>570</th>\n",
       "      <td>51401684</td>\n",
       "      <td>1</td>\n",
       "      <td>[R MCA]</td>\n",
       "      <td>[R M2]</td>\n",
       "      <td>[R MCA]</td>\n",
       "      <td>[R M2]</td>\n",
       "      <td>(7, 27)</td>\n",
       "      <td>NaN</td>\n",
       "      <td>EXAMINATION: Computed tomography angiography (...</td>\n",
       "      <td>[]</td>\n",
       "      <td>[]</td>\n",
       "      <td>1</td>\n",
       "      <td>R</td>\n",
       "      <td>M2</td>\n",
       "      <td>7.0</td>\n",
       "      <td>27.0</td>\n",
       "      <td>7.0</td>\n",
       "      <td>27.0</td>\n",
       "    </tr>\n",
       "    <tr>\n",
       "      <th>572</th>\n",
       "      <td>51390288</td>\n",
       "      <td>1</td>\n",
       "      <td>[R PCA, R vertebral]</td>\n",
       "      <td>[R V4, R P2]</td>\n",
       "      <td>[R PCA]</td>\n",
       "      <td>[R P2]</td>\n",
       "      <td>(0, 0)</td>\n",
       "      <td>NaN</td>\n",
       "      <td>EXAMINATION:_x000D_\\nComputed tomography angio...</td>\n",
       "      <td>[]</td>\n",
       "      <td>[]</td>\n",
       "      <td>2</td>\n",
       "      <td>R</td>\n",
       "      <td>Vertebral/P2</td>\n",
       "      <td>0.0</td>\n",
       "      <td>0.0</td>\n",
       "      <td>0.0</td>\n",
       "      <td>0.0</td>\n",
       "    </tr>\n",
       "  </tbody>\n",
       "</table>\n",
       "<p>163 rows × 18 columns</p>\n",
       "</div>"
      ],
      "text/plain": [
       "     Accession Number  pred_occlusion           pred_vessels  \\\n",
       "7            53710639               1                [L MCA]   \n",
       "8            53702325               1         [R ICA, R MCA]   \n",
       "16           53682761               1  [L MCA, L ICA, L ACA]   \n",
       "17           53681846               1                [R MCA]   \n",
       "20           53678983               1                [L MCA]   \n",
       "..                ...             ...                    ...   \n",
       "561          51450558               1  [L MCA, L ICA, L ACA]   \n",
       "568          51404302               1                [L ICA]   \n",
       "569          51404081               1                [R MCA]   \n",
       "570          51401684               1                [R MCA]   \n",
       "572          51390288               1   [R PCA, R vertebral]   \n",
       "\n",
       "          pred_segments                  true_vessels       true_segments  \\\n",
       "7                [L M2]                       [L MCA]              [L M2]   \n",
       "8          [R M1, R M2]                [R ICA, R MCA]        [R M1, R M2]   \n",
       "16               [L M1]         [L MCA, L ICA, L ACA]              [L M1]   \n",
       "17               [R M2]                       [R MCA]              [R M2]   \n",
       "20               [L M2]                       [L MCA]              [L M2]   \n",
       "..                  ...                           ...                 ...   \n",
       "561  [L A1, L M1, L M2]  [L ICA, L MCA, L CCA, L ACA]  [L M1, L M2, L A1]   \n",
       "568                  []                            []                  []   \n",
       "569              [R M2]                       [R MCA]              [R M2]   \n",
       "570              [R M2]                       [R MCA]              [R M2]   \n",
       "572        [R V4, R P2]                       [R PCA]              [R P2]   \n",
       "\n",
       "        volumes TICI                                CTA CTP Report Text  \\\n",
       "7       (0, 58)    3  EXAMINATION: Computed tomography angiography (...   \n",
       "8    (216, 302)    3  EXAMINATION: Computed tomography angiography (...   \n",
       "16   (159, 230)  NaN  EXAMINATION: Computed tomography angiography (...   \n",
       "17    (12, 137)   2B  EXAMINATION: Computed tomography angiography (...   \n",
       "20    (10, 157)  NaN  EXAMINATION: Computed tomography angiography (...   \n",
       "..          ...  ...                                                ...   \n",
       "561  (169, 196)  NaN  EXAMINATION: Computed tomography angiography (...   \n",
       "568      (0, 0)  NaN  EXAMINATION: Computed tomography angiography (...   \n",
       "569    (16, 40)  NaN  EXAMINATION: Computed tomography angiography (...   \n",
       "570     (7, 27)  NaN  EXAMINATION: Computed tomography angiography (...   \n",
       "572      (0, 0)  NaN  EXAMINATION:_x000D_\\nComputed tomography angio...   \n",
       "\n",
       "    unmatched_occlusions uncertain_occlusions  LVO Side    site_occlusion  \\\n",
       "7                     []                   []    1    L                M2   \n",
       "8                     []                   []    1    R         ICA/M1/M2   \n",
       "16                    []                   []    1    L        ICA/M1/ACA   \n",
       "17                    []                   []    1    R                M2   \n",
       "20                    []                   []    1    L                M2   \n",
       "..                   ...                  ...  ...  ...               ...   \n",
       "561                   []                   []    1    L  CCA/ICA/M1/M2/A1   \n",
       "568                   []                   []    0  NaN               NaN   \n",
       "569                   []                   []    1    R                M2   \n",
       "570                   []                   []    1    R                M2   \n",
       "572                   []                   []    2    R      Vertebral/P2   \n",
       "\n",
       "     RAPID Core  RAPID Penumbra  RAPID Core (mL)  RAPID Penumbra (mL)  \n",
       "7           0.0            58.0              0.0                 58.0  \n",
       "8         216.0           302.0            216.0                302.0  \n",
       "16        159.0           230.0            159.0                230.0  \n",
       "17         12.0           137.0             12.0                137.0  \n",
       "20         10.0           157.0             10.0                157.0  \n",
       "..          ...             ...              ...                  ...  \n",
       "561       169.0           196.0            169.0                196.0  \n",
       "568         0.0             0.0              0.0                  0.0  \n",
       "569        16.0            40.0             16.0                 40.0  \n",
       "570         7.0            27.0              7.0                 27.0  \n",
       "572         0.0             0.0              0.0                  0.0  \n",
       "\n",
       "[163 rows x 18 columns]"
      ]
     },
     "execution_count": 46,
     "metadata": {},
     "output_type": "execute_result"
    }
   ],
   "source": [
    "#USING NLP LVO\n",
    "manual_lvo = cohort18_19[cohort18_19[\"pred_occlusion\"] > 0]\n",
    "manual_lvo"
   ]
  },
  {
   "cell_type": "code",
   "execution_count": 47,
   "metadata": {},
   "outputs": [],
   "source": [
    "#Setting NA to 0 for manual and automated (mL)\n",
    "manual_lvo = manual_lvo.fillna(0)"
   ]
  },
  {
   "cell_type": "code",
   "execution_count": 48,
   "metadata": {},
   "outputs": [
    {
     "data": {
      "text/html": [
       "<div>\n",
       "<style scoped>\n",
       "    .dataframe tbody tr th:only-of-type {\n",
       "        vertical-align: middle;\n",
       "    }\n",
       "\n",
       "    .dataframe tbody tr th {\n",
       "        vertical-align: top;\n",
       "    }\n",
       "\n",
       "    .dataframe thead th {\n",
       "        text-align: right;\n",
       "    }\n",
       "</style>\n",
       "<table border=\"1\" class=\"dataframe\">\n",
       "  <thead>\n",
       "    <tr style=\"text-align: right;\">\n",
       "      <th></th>\n",
       "      <th>Accession Number</th>\n",
       "      <th>pred_occlusion</th>\n",
       "      <th>pred_vessels</th>\n",
       "      <th>pred_segments</th>\n",
       "      <th>true_vessels</th>\n",
       "      <th>true_segments</th>\n",
       "      <th>volumes</th>\n",
       "      <th>TICI</th>\n",
       "      <th>CTA CTP Report Text</th>\n",
       "      <th>unmatched_occlusions</th>\n",
       "      <th>uncertain_occlusions</th>\n",
       "      <th>LVO</th>\n",
       "      <th>Side</th>\n",
       "      <th>site_occlusion</th>\n",
       "      <th>RAPID Core</th>\n",
       "      <th>RAPID Penumbra</th>\n",
       "      <th>RAPID Core (mL)</th>\n",
       "      <th>RAPID Penumbra (mL)</th>\n",
       "    </tr>\n",
       "  </thead>\n",
       "  <tbody>\n",
       "    <tr>\n",
       "      <th>7</th>\n",
       "      <td>53710639</td>\n",
       "      <td>1</td>\n",
       "      <td>[L MCA]</td>\n",
       "      <td>[L M2]</td>\n",
       "      <td>[L MCA]</td>\n",
       "      <td>[L M2]</td>\n",
       "      <td>(0, 58)</td>\n",
       "      <td>3</td>\n",
       "      <td>EXAMINATION: Computed tomography angiography (...</td>\n",
       "      <td>[]</td>\n",
       "      <td>[]</td>\n",
       "      <td>1</td>\n",
       "      <td>L</td>\n",
       "      <td>M2</td>\n",
       "      <td>0.0</td>\n",
       "      <td>58.0</td>\n",
       "      <td>0.0</td>\n",
       "      <td>58.0</td>\n",
       "    </tr>\n",
       "    <tr>\n",
       "      <th>8</th>\n",
       "      <td>53702325</td>\n",
       "      <td>1</td>\n",
       "      <td>[R ICA, R MCA]</td>\n",
       "      <td>[R M1, R M2]</td>\n",
       "      <td>[R ICA, R MCA]</td>\n",
       "      <td>[R M1, R M2]</td>\n",
       "      <td>(216, 302)</td>\n",
       "      <td>3</td>\n",
       "      <td>EXAMINATION: Computed tomography angiography (...</td>\n",
       "      <td>[]</td>\n",
       "      <td>[]</td>\n",
       "      <td>1</td>\n",
       "      <td>R</td>\n",
       "      <td>ICA/M1/M2</td>\n",
       "      <td>216.0</td>\n",
       "      <td>302.0</td>\n",
       "      <td>216.0</td>\n",
       "      <td>302.0</td>\n",
       "    </tr>\n",
       "    <tr>\n",
       "      <th>16</th>\n",
       "      <td>53682761</td>\n",
       "      <td>1</td>\n",
       "      <td>[L MCA, L ICA, L ACA]</td>\n",
       "      <td>[L M1]</td>\n",
       "      <td>[L MCA, L ICA, L ACA]</td>\n",
       "      <td>[L M1]</td>\n",
       "      <td>(159, 230)</td>\n",
       "      <td>0</td>\n",
       "      <td>EXAMINATION: Computed tomography angiography (...</td>\n",
       "      <td>[]</td>\n",
       "      <td>[]</td>\n",
       "      <td>1</td>\n",
       "      <td>L</td>\n",
       "      <td>ICA/M1/ACA</td>\n",
       "      <td>159.0</td>\n",
       "      <td>230.0</td>\n",
       "      <td>159.0</td>\n",
       "      <td>230.0</td>\n",
       "    </tr>\n",
       "    <tr>\n",
       "      <th>17</th>\n",
       "      <td>53681846</td>\n",
       "      <td>1</td>\n",
       "      <td>[R MCA]</td>\n",
       "      <td>[R M2]</td>\n",
       "      <td>[R MCA]</td>\n",
       "      <td>[R M2]</td>\n",
       "      <td>(12, 137)</td>\n",
       "      <td>2B</td>\n",
       "      <td>EXAMINATION: Computed tomography angiography (...</td>\n",
       "      <td>[]</td>\n",
       "      <td>[]</td>\n",
       "      <td>1</td>\n",
       "      <td>R</td>\n",
       "      <td>M2</td>\n",
       "      <td>12.0</td>\n",
       "      <td>137.0</td>\n",
       "      <td>12.0</td>\n",
       "      <td>137.0</td>\n",
       "    </tr>\n",
       "    <tr>\n",
       "      <th>20</th>\n",
       "      <td>53678983</td>\n",
       "      <td>1</td>\n",
       "      <td>[L MCA]</td>\n",
       "      <td>[L M2]</td>\n",
       "      <td>[L MCA]</td>\n",
       "      <td>[L M2]</td>\n",
       "      <td>(10, 157)</td>\n",
       "      <td>0</td>\n",
       "      <td>EXAMINATION: Computed tomography angiography (...</td>\n",
       "      <td>[]</td>\n",
       "      <td>[]</td>\n",
       "      <td>1</td>\n",
       "      <td>L</td>\n",
       "      <td>M2</td>\n",
       "      <td>10.0</td>\n",
       "      <td>157.0</td>\n",
       "      <td>10.0</td>\n",
       "      <td>157.0</td>\n",
       "    </tr>\n",
       "    <tr>\n",
       "      <th>...</th>\n",
       "      <td>...</td>\n",
       "      <td>...</td>\n",
       "      <td>...</td>\n",
       "      <td>...</td>\n",
       "      <td>...</td>\n",
       "      <td>...</td>\n",
       "      <td>...</td>\n",
       "      <td>...</td>\n",
       "      <td>...</td>\n",
       "      <td>...</td>\n",
       "      <td>...</td>\n",
       "      <td>...</td>\n",
       "      <td>...</td>\n",
       "      <td>...</td>\n",
       "      <td>...</td>\n",
       "      <td>...</td>\n",
       "      <td>...</td>\n",
       "      <td>...</td>\n",
       "    </tr>\n",
       "    <tr>\n",
       "      <th>560</th>\n",
       "      <td>51454787</td>\n",
       "      <td>1</td>\n",
       "      <td>[L PCA]</td>\n",
       "      <td>[]</td>\n",
       "      <td>[L PCA]</td>\n",
       "      <td>[]</td>\n",
       "      <td>(0, 10)</td>\n",
       "      <td>0</td>\n",
       "      <td>EXAMINATION: Computed tomography angiography (...</td>\n",
       "      <td>[]</td>\n",
       "      <td>[(uncertain occlusion, vertebral, _x000D__x000...</td>\n",
       "      <td>2</td>\n",
       "      <td>L</td>\n",
       "      <td>PCA</td>\n",
       "      <td>0.0</td>\n",
       "      <td>10.0</td>\n",
       "      <td>0.0</td>\n",
       "      <td>10.0</td>\n",
       "    </tr>\n",
       "    <tr>\n",
       "      <th>561</th>\n",
       "      <td>51450558</td>\n",
       "      <td>1</td>\n",
       "      <td>[L MCA, L ICA, L ACA]</td>\n",
       "      <td>[L A1, L M1, L M2]</td>\n",
       "      <td>[L ICA, L MCA, L CCA, L ACA]</td>\n",
       "      <td>[L M1, L M2, L A1]</td>\n",
       "      <td>(169, 196)</td>\n",
       "      <td>0</td>\n",
       "      <td>EXAMINATION: Computed tomography angiography (...</td>\n",
       "      <td>[]</td>\n",
       "      <td>[]</td>\n",
       "      <td>1</td>\n",
       "      <td>L</td>\n",
       "      <td>CCA/ICA/M1/M2/A1</td>\n",
       "      <td>169.0</td>\n",
       "      <td>196.0</td>\n",
       "      <td>169.0</td>\n",
       "      <td>196.0</td>\n",
       "    </tr>\n",
       "    <tr>\n",
       "      <th>569</th>\n",
       "      <td>51404081</td>\n",
       "      <td>1</td>\n",
       "      <td>[R MCA]</td>\n",
       "      <td>[R M2]</td>\n",
       "      <td>[R MCA]</td>\n",
       "      <td>[R M2]</td>\n",
       "      <td>(16, 40)</td>\n",
       "      <td>0</td>\n",
       "      <td>EXAMINATION: Computed tomography angiography (...</td>\n",
       "      <td>[]</td>\n",
       "      <td>[]</td>\n",
       "      <td>1</td>\n",
       "      <td>R</td>\n",
       "      <td>M2</td>\n",
       "      <td>16.0</td>\n",
       "      <td>40.0</td>\n",
       "      <td>16.0</td>\n",
       "      <td>40.0</td>\n",
       "    </tr>\n",
       "    <tr>\n",
       "      <th>570</th>\n",
       "      <td>51401684</td>\n",
       "      <td>1</td>\n",
       "      <td>[R MCA]</td>\n",
       "      <td>[R M2]</td>\n",
       "      <td>[R MCA]</td>\n",
       "      <td>[R M2]</td>\n",
       "      <td>(7, 27)</td>\n",
       "      <td>0</td>\n",
       "      <td>EXAMINATION: Computed tomography angiography (...</td>\n",
       "      <td>[]</td>\n",
       "      <td>[]</td>\n",
       "      <td>1</td>\n",
       "      <td>R</td>\n",
       "      <td>M2</td>\n",
       "      <td>7.0</td>\n",
       "      <td>27.0</td>\n",
       "      <td>7.0</td>\n",
       "      <td>27.0</td>\n",
       "    </tr>\n",
       "    <tr>\n",
       "      <th>572</th>\n",
       "      <td>51390288</td>\n",
       "      <td>1</td>\n",
       "      <td>[R PCA, R vertebral]</td>\n",
       "      <td>[R V4, R P2]</td>\n",
       "      <td>[R PCA]</td>\n",
       "      <td>[R P2]</td>\n",
       "      <td>(0, 0)</td>\n",
       "      <td>0</td>\n",
       "      <td>EXAMINATION:_x000D_\\nComputed tomography angio...</td>\n",
       "      <td>[]</td>\n",
       "      <td>[]</td>\n",
       "      <td>2</td>\n",
       "      <td>R</td>\n",
       "      <td>Vertebral/P2</td>\n",
       "      <td>0.0</td>\n",
       "      <td>0.0</td>\n",
       "      <td>0.0</td>\n",
       "      <td>0.0</td>\n",
       "    </tr>\n",
       "  </tbody>\n",
       "</table>\n",
       "<p>145 rows × 18 columns</p>\n",
       "</div>"
      ],
      "text/plain": [
       "     Accession Number  pred_occlusion           pred_vessels  \\\n",
       "7            53710639               1                [L MCA]   \n",
       "8            53702325               1         [R ICA, R MCA]   \n",
       "16           53682761               1  [L MCA, L ICA, L ACA]   \n",
       "17           53681846               1                [R MCA]   \n",
       "20           53678983               1                [L MCA]   \n",
       "..                ...             ...                    ...   \n",
       "560          51454787               1                [L PCA]   \n",
       "561          51450558               1  [L MCA, L ICA, L ACA]   \n",
       "569          51404081               1                [R MCA]   \n",
       "570          51401684               1                [R MCA]   \n",
       "572          51390288               1   [R PCA, R vertebral]   \n",
       "\n",
       "          pred_segments                  true_vessels       true_segments  \\\n",
       "7                [L M2]                       [L MCA]              [L M2]   \n",
       "8          [R M1, R M2]                [R ICA, R MCA]        [R M1, R M2]   \n",
       "16               [L M1]         [L MCA, L ICA, L ACA]              [L M1]   \n",
       "17               [R M2]                       [R MCA]              [R M2]   \n",
       "20               [L M2]                       [L MCA]              [L M2]   \n",
       "..                  ...                           ...                 ...   \n",
       "560                  []                       [L PCA]                  []   \n",
       "561  [L A1, L M1, L M2]  [L ICA, L MCA, L CCA, L ACA]  [L M1, L M2, L A1]   \n",
       "569              [R M2]                       [R MCA]              [R M2]   \n",
       "570              [R M2]                       [R MCA]              [R M2]   \n",
       "572        [R V4, R P2]                       [R PCA]              [R P2]   \n",
       "\n",
       "        volumes TICI                                CTA CTP Report Text  \\\n",
       "7       (0, 58)    3  EXAMINATION: Computed tomography angiography (...   \n",
       "8    (216, 302)    3  EXAMINATION: Computed tomography angiography (...   \n",
       "16   (159, 230)    0  EXAMINATION: Computed tomography angiography (...   \n",
       "17    (12, 137)   2B  EXAMINATION: Computed tomography angiography (...   \n",
       "20    (10, 157)    0  EXAMINATION: Computed tomography angiography (...   \n",
       "..          ...  ...                                                ...   \n",
       "560     (0, 10)    0  EXAMINATION: Computed tomography angiography (...   \n",
       "561  (169, 196)    0  EXAMINATION: Computed tomography angiography (...   \n",
       "569    (16, 40)    0  EXAMINATION: Computed tomography angiography (...   \n",
       "570     (7, 27)    0  EXAMINATION: Computed tomography angiography (...   \n",
       "572      (0, 0)    0  EXAMINATION:_x000D_\\nComputed tomography angio...   \n",
       "\n",
       "    unmatched_occlusions                               uncertain_occlusions  \\\n",
       "7                     []                                                 []   \n",
       "8                     []                                                 []   \n",
       "16                    []                                                 []   \n",
       "17                    []                                                 []   \n",
       "20                    []                                                 []   \n",
       "..                   ...                                                ...   \n",
       "560                   []  [(uncertain occlusion, vertebral, _x000D__x000...   \n",
       "561                   []                                                 []   \n",
       "569                   []                                                 []   \n",
       "570                   []                                                 []   \n",
       "572                   []                                                 []   \n",
       "\n",
       "     LVO Side    site_occlusion  RAPID Core  RAPID Penumbra  RAPID Core (mL)  \\\n",
       "7      1    L                M2         0.0            58.0              0.0   \n",
       "8      1    R         ICA/M1/M2       216.0           302.0            216.0   \n",
       "16     1    L        ICA/M1/ACA       159.0           230.0            159.0   \n",
       "17     1    R                M2        12.0           137.0             12.0   \n",
       "20     1    L                M2        10.0           157.0             10.0   \n",
       "..   ...  ...               ...         ...             ...              ...   \n",
       "560    2    L               PCA         0.0            10.0              0.0   \n",
       "561    1    L  CCA/ICA/M1/M2/A1       169.0           196.0            169.0   \n",
       "569    1    R                M2        16.0            40.0             16.0   \n",
       "570    1    R                M2         7.0            27.0              7.0   \n",
       "572    2    R      Vertebral/P2         0.0             0.0              0.0   \n",
       "\n",
       "     RAPID Penumbra (mL)  \n",
       "7                   58.0  \n",
       "8                  302.0  \n",
       "16                 230.0  \n",
       "17                 137.0  \n",
       "20                 157.0  \n",
       "..                   ...  \n",
       "560                 10.0  \n",
       "561                196.0  \n",
       "569                 40.0  \n",
       "570                 27.0  \n",
       "572                  0.0  \n",
       "\n",
       "[145 rows x 18 columns]"
      ]
     },
     "execution_count": 48,
     "metadata": {},
     "output_type": "execute_result"
    }
   ],
   "source": [
    "#core/penumbra volume accuracy\n",
    "#first use lvos got correct!\n",
    "correct_lvo = manual_lvo[manual_lvo[\"LVO\"] > 0]\n",
    "correct_lvo\n"
   ]
  },
  {
   "cell_type": "code",
   "execution_count": 49,
   "metadata": {},
   "outputs": [],
   "source": [
    "core_acc = correct_lvo[\"RAPID Core (mL)\"].eq(correct_lvo[\"RAPID Core\"])\n",
    "pen_acc = correct_lvo[\"RAPID Penumbra (mL)\"].eq(correct_lvo[\"RAPID Penumbra\"])"
   ]
  },
  {
   "cell_type": "code",
   "execution_count": 50,
   "metadata": {},
   "outputs": [
    {
     "data": {
      "text/plain": [
       "1.0"
      ]
     },
     "execution_count": 50,
     "metadata": {},
     "output_type": "execute_result"
    }
   ],
   "source": [
    "core_acc.mean()"
   ]
  },
  {
   "cell_type": "code",
   "execution_count": 51,
   "metadata": {},
   "outputs": [
    {
     "data": {
      "text/plain": [
       "0.9793103448275862"
      ]
     },
     "execution_count": 51,
     "metadata": {},
     "output_type": "execute_result"
    }
   ],
   "source": [
    "pen_acc.mean()"
   ]
  },
  {
   "cell_type": "code",
   "execution_count": 52,
   "metadata": {},
   "outputs": [
    {
     "data": {
      "text/plain": [
       "7      True\n",
       "8      True\n",
       "16     True\n",
       "17     True\n",
       "20     True\n",
       "       ... \n",
       "560    True\n",
       "561    True\n",
       "569    True\n",
       "570    True\n",
       "572    True\n",
       "Length: 145, dtype: bool"
      ]
     },
     "execution_count": 52,
     "metadata": {},
     "output_type": "execute_result"
    }
   ],
   "source": [
    "pen_acc"
   ]
  },
  {
   "cell_type": "code",
   "execution_count": 53,
   "metadata": {},
   "outputs": [
    {
     "data": {
      "text/plain": [
       "0.9631901840490797"
      ]
     },
     "execution_count": 53,
     "metadata": {},
     "output_type": "execute_result"
    }
   ],
   "source": [
    "manual_lvo[\"RAPID Core (mL)\"].eq(manual_lvo[\"RAPID Core\"]).mean()"
   ]
  },
  {
   "cell_type": "code",
   "execution_count": 54,
   "metadata": {},
   "outputs": [
    {
     "data": {
      "text/html": [
       "<div>\n",
       "<style scoped>\n",
       "    .dataframe tbody tr th:only-of-type {\n",
       "        vertical-align: middle;\n",
       "    }\n",
       "\n",
       "    .dataframe tbody tr th {\n",
       "        vertical-align: top;\n",
       "    }\n",
       "\n",
       "    .dataframe thead th {\n",
       "        text-align: right;\n",
       "    }\n",
       "</style>\n",
       "<table border=\"1\" class=\"dataframe\">\n",
       "  <thead>\n",
       "    <tr style=\"text-align: right;\">\n",
       "      <th></th>\n",
       "      <th>Accession Number</th>\n",
       "      <th>pred_occlusion</th>\n",
       "      <th>pred_vessels</th>\n",
       "      <th>pred_segments</th>\n",
       "      <th>true_vessels</th>\n",
       "      <th>true_segments</th>\n",
       "      <th>volumes</th>\n",
       "      <th>TICI</th>\n",
       "      <th>CTA CTP Report Text</th>\n",
       "      <th>unmatched_occlusions</th>\n",
       "      <th>uncertain_occlusions</th>\n",
       "      <th>LVO</th>\n",
       "      <th>Side</th>\n",
       "      <th>site_occlusion</th>\n",
       "      <th>RAPID Core</th>\n",
       "      <th>RAPID Penumbra</th>\n",
       "      <th>RAPID Core (mL)</th>\n",
       "      <th>RAPID Penumbra (mL)</th>\n",
       "    </tr>\n",
       "  </thead>\n",
       "  <tbody>\n",
       "    <tr>\n",
       "      <th>218</th>\n",
       "      <td>52779658</td>\n",
       "      <td>1</td>\n",
       "      <td>[L MCA, R vertebral]</td>\n",
       "      <td>[L M1]</td>\n",
       "      <td>[L MCA]</td>\n",
       "      <td>[L M1]</td>\n",
       "      <td>(7, None, 82)</td>\n",
       "      <td>3</td>\n",
       "      <td>EXAMINATION: Computed tomography angiography (...</td>\n",
       "      <td>[]</td>\n",
       "      <td>[]</td>\n",
       "      <td>1</td>\n",
       "      <td>L/R</td>\n",
       "      <td>M1/Vertebral</td>\n",
       "      <td>7.0</td>\n",
       "      <td>82.0</td>\n",
       "      <td>7.0</td>\n",
       "      <td>0.0</td>\n",
       "    </tr>\n",
       "    <tr>\n",
       "      <th>381</th>\n",
       "      <td>52132648</td>\n",
       "      <td>1</td>\n",
       "      <td>[R MCA]</td>\n",
       "      <td>[R M1, R M1, R M2, R M2]</td>\n",
       "      <td>[R MCA]</td>\n",
       "      <td>[R M1, R M2]</td>\n",
       "      <td>(0, 0, 120, 71)</td>\n",
       "      <td>0</td>\n",
       "      <td>EXAMINATION: Computed tomography angiography (...</td>\n",
       "      <td>[]</td>\n",
       "      <td>[]</td>\n",
       "      <td>1</td>\n",
       "      <td>R</td>\n",
       "      <td>M1/M2</td>\n",
       "      <td>0.0</td>\n",
       "      <td>120.0</td>\n",
       "      <td>0.0</td>\n",
       "      <td>0.0</td>\n",
       "    </tr>\n",
       "    <tr>\n",
       "      <th>382</th>\n",
       "      <td>52132504</td>\n",
       "      <td>1</td>\n",
       "      <td>[R MCA]</td>\n",
       "      <td>[R M1, R M1, R M2, R M2]</td>\n",
       "      <td>[R MCA]</td>\n",
       "      <td>[R M1, R M2]</td>\n",
       "      <td>(0, 0, 120, 71)</td>\n",
       "      <td>0</td>\n",
       "      <td>EXAMINATION: Computed tomography angiography (...</td>\n",
       "      <td>[]</td>\n",
       "      <td>[]</td>\n",
       "      <td>1</td>\n",
       "      <td>R</td>\n",
       "      <td>M1/M2</td>\n",
       "      <td>0.0</td>\n",
       "      <td>120.0</td>\n",
       "      <td>0.0</td>\n",
       "      <td>0.0</td>\n",
       "    </tr>\n",
       "  </tbody>\n",
       "</table>\n",
       "</div>"
      ],
      "text/plain": [
       "     Accession Number  pred_occlusion          pred_vessels  \\\n",
       "218          52779658               1  [L MCA, R vertebral]   \n",
       "381          52132648               1               [R MCA]   \n",
       "382          52132504               1               [R MCA]   \n",
       "\n",
       "                pred_segments true_vessels true_segments          volumes  \\\n",
       "218                    [L M1]      [L MCA]        [L M1]    (7, None, 82)   \n",
       "381  [R M1, R M1, R M2, R M2]      [R MCA]  [R M1, R M2]  (0, 0, 120, 71)   \n",
       "382  [R M1, R M1, R M2, R M2]      [R MCA]  [R M1, R M2]  (0, 0, 120, 71)   \n",
       "\n",
       "    TICI                                CTA CTP Report Text  \\\n",
       "218    3  EXAMINATION: Computed tomography angiography (...   \n",
       "381    0  EXAMINATION: Computed tomography angiography (...   \n",
       "382    0  EXAMINATION: Computed tomography angiography (...   \n",
       "\n",
       "    unmatched_occlusions uncertain_occlusions  LVO Side site_occlusion  \\\n",
       "218                   []                   []    1  L/R   M1/Vertebral   \n",
       "381                   []                   []    1    R          M1/M2   \n",
       "382                   []                   []    1    R          M1/M2   \n",
       "\n",
       "     RAPID Core  RAPID Penumbra  RAPID Core (mL)  RAPID Penumbra (mL)  \n",
       "218         7.0            82.0              7.0                  0.0  \n",
       "381         0.0           120.0              0.0                  0.0  \n",
       "382         0.0           120.0              0.0                  0.0  "
      ]
     },
     "execution_count": 54,
     "metadata": {},
     "output_type": "execute_result"
    }
   ],
   "source": [
    "#Extraction ok, but not at index 0 and 1\n",
    "pen_acc_false = correct_lvo[[not a for a in pen_acc]]\n",
    "pen_acc_false"
   ]
  },
  {
   "cell_type": "code",
   "execution_count": 55,
   "metadata": {},
   "outputs": [],
   "source": [
    "# #0=no occlusion\n",
    "# #1=proximal occlusion\n",
    "# #2=distal occlusion\n",
    "# def check_proximal_distal(occlusion_status,vessels_list,segments_list):\n",
    "#     is_occlusion = occlusion_status\n",
    "#     vessels = vessels_list\n",
    "#     segments = segments_list\n",
    "#     if is_occlusion == 1:\n",
    "#         if any(\"ICA\" in vessel for vessel in vessels):\n",
    "#             return 1\n",
    "#         if any(\"MCA\" in vessel for vessel in vessels):\n",
    "#             if any(\"M1\" in segment for segment in segments):\n",
    "#                 return 1\n",
    "#         return 2\n",
    "#     return 0\n",
    "# check_proximal_distal(1,['R PCA','R MCA'],['R P1', 'R M2'])"
   ]
  },
  {
   "cell_type": "code",
   "execution_count": 56,
   "metadata": {},
   "outputs": [],
   "source": [
    "#USING TRUE OCCLUSIONS\n",
    "# #0=no occlusion\n",
    "# #1=proximal occlusion\n",
    "# #2=distal occlusion\n",
    "# def check_proximal_distal(occlusion_status,segments_str):\n",
    "#     is_occlusion = occlusion_status\n",
    "#     segments = segments_str\n",
    "#     if is_occlusion > 0:\n",
    "#         if not isinstance(segments,str):\n",
    "#             return 0\n",
    "#         if \"ICA\" in segments:\n",
    "#             return 1\n",
    "#         if \"M1\" in segments:\n",
    "#             return 1\n",
    "#         return 2\n",
    "#     return 0\n",
    "# check_proximal_distal(1,\"ICA/M1/ACA\")"
   ]
  },
  {
   "cell_type": "code",
   "execution_count": 57,
   "metadata": {},
   "outputs": [
    {
     "data": {
      "text/plain": [
       "['L ICA']"
      ]
     },
     "execution_count": 57,
     "metadata": {},
     "output_type": "execute_result"
    }
   ],
   "source": [
    "cohort18_19.loc[50].pred_vessels"
   ]
  },
  {
   "cell_type": "code",
   "execution_count": 58,
   "metadata": {},
   "outputs": [
    {
     "data": {
      "text/plain": [
       "True"
      ]
     },
     "execution_count": 58,
     "metadata": {},
     "output_type": "execute_result"
    }
   ],
   "source": [
    "# d = ['R ECA', 'R PCA']\n",
    "l = [\"ICA\", \"MCA\"]\n",
    "any(v in s for v in l for s in cohort18_19.loc[50].pred_vessels)"
   ]
  },
  {
   "cell_type": "code",
   "execution_count": 59,
   "metadata": {},
   "outputs": [
    {
     "data": {
      "text/plain": [
       "['R ICA', 'R MCA']"
      ]
     },
     "execution_count": 59,
     "metadata": {},
     "output_type": "execute_result"
    }
   ],
   "source": [
    "cohort18_19.loc[8].true_vessels"
   ]
  },
  {
   "cell_type": "code",
   "execution_count": 60,
   "metadata": {},
   "outputs": [
    {
     "data": {
      "text/plain": [
       "True"
      ]
     },
     "execution_count": 60,
     "metadata": {},
     "output_type": "execute_result"
    }
   ],
   "source": [
    "# d = ['R ECA', 'R PCA']\n",
    "l = [\"ICA\", \"MCA\"]\n",
    "any(v in s for v in l for s in cohort18_19.loc[8].true_vessels)"
   ]
  },
  {
   "cell_type": "code",
   "execution_count": 61,
   "metadata": {},
   "outputs": [
    {
     "data": {
      "text/html": [
       "<div>\n",
       "<style scoped>\n",
       "    .dataframe tbody tr th:only-of-type {\n",
       "        vertical-align: middle;\n",
       "    }\n",
       "\n",
       "    .dataframe tbody tr th {\n",
       "        vertical-align: top;\n",
       "    }\n",
       "\n",
       "    .dataframe thead th {\n",
       "        text-align: right;\n",
       "    }\n",
       "</style>\n",
       "<table border=\"1\" class=\"dataframe\">\n",
       "  <thead>\n",
       "    <tr style=\"text-align: right;\">\n",
       "      <th></th>\n",
       "      <th>Accession Number</th>\n",
       "      <th>pred_occlusion</th>\n",
       "      <th>pred_vessels</th>\n",
       "      <th>pred_segments</th>\n",
       "      <th>true_vessels</th>\n",
       "      <th>true_segments</th>\n",
       "      <th>volumes</th>\n",
       "      <th>TICI</th>\n",
       "      <th>CTA CTP Report Text</th>\n",
       "      <th>unmatched_occlusions</th>\n",
       "      <th>uncertain_occlusions</th>\n",
       "      <th>LVO</th>\n",
       "      <th>Side</th>\n",
       "      <th>site_occlusion</th>\n",
       "      <th>RAPID Core</th>\n",
       "      <th>RAPID Penumbra</th>\n",
       "      <th>RAPID Core (mL)</th>\n",
       "      <th>RAPID Penumbra (mL)</th>\n",
       "    </tr>\n",
       "  </thead>\n",
       "  <tbody>\n",
       "    <tr>\n",
       "      <th>7</th>\n",
       "      <td>53710639</td>\n",
       "      <td>1</td>\n",
       "      <td>[L MCA]</td>\n",
       "      <td>[L M2]</td>\n",
       "      <td>[L MCA]</td>\n",
       "      <td>[L M2]</td>\n",
       "      <td>(0, 58)</td>\n",
       "      <td>3</td>\n",
       "      <td>EXAMINATION: Computed tomography angiography (...</td>\n",
       "      <td>[]</td>\n",
       "      <td>[]</td>\n",
       "      <td>1</td>\n",
       "      <td>L</td>\n",
       "      <td>M2</td>\n",
       "      <td>0.0</td>\n",
       "      <td>58.0</td>\n",
       "      <td>0.0</td>\n",
       "      <td>58.0</td>\n",
       "    </tr>\n",
       "    <tr>\n",
       "      <th>8</th>\n",
       "      <td>53702325</td>\n",
       "      <td>1</td>\n",
       "      <td>[R ICA, R MCA]</td>\n",
       "      <td>[R M1, R M2]</td>\n",
       "      <td>[R ICA, R MCA]</td>\n",
       "      <td>[R M1, R M2]</td>\n",
       "      <td>(216, 302)</td>\n",
       "      <td>3</td>\n",
       "      <td>EXAMINATION: Computed tomography angiography (...</td>\n",
       "      <td>[]</td>\n",
       "      <td>[]</td>\n",
       "      <td>1</td>\n",
       "      <td>R</td>\n",
       "      <td>ICA/M1/M2</td>\n",
       "      <td>216.0</td>\n",
       "      <td>302.0</td>\n",
       "      <td>216.0</td>\n",
       "      <td>302.0</td>\n",
       "    </tr>\n",
       "    <tr>\n",
       "      <th>16</th>\n",
       "      <td>53682761</td>\n",
       "      <td>1</td>\n",
       "      <td>[L MCA, L ICA, L ACA]</td>\n",
       "      <td>[L M1]</td>\n",
       "      <td>[L MCA, L ICA, L ACA]</td>\n",
       "      <td>[L M1]</td>\n",
       "      <td>(159, 230)</td>\n",
       "      <td>NaN</td>\n",
       "      <td>EXAMINATION: Computed tomography angiography (...</td>\n",
       "      <td>[]</td>\n",
       "      <td>[]</td>\n",
       "      <td>1</td>\n",
       "      <td>L</td>\n",
       "      <td>ICA/M1/ACA</td>\n",
       "      <td>159.0</td>\n",
       "      <td>230.0</td>\n",
       "      <td>159.0</td>\n",
       "      <td>230.0</td>\n",
       "    </tr>\n",
       "    <tr>\n",
       "      <th>17</th>\n",
       "      <td>53681846</td>\n",
       "      <td>1</td>\n",
       "      <td>[R MCA]</td>\n",
       "      <td>[R M2]</td>\n",
       "      <td>[R MCA]</td>\n",
       "      <td>[R M2]</td>\n",
       "      <td>(12, 137)</td>\n",
       "      <td>2B</td>\n",
       "      <td>EXAMINATION: Computed tomography angiography (...</td>\n",
       "      <td>[]</td>\n",
       "      <td>[]</td>\n",
       "      <td>1</td>\n",
       "      <td>R</td>\n",
       "      <td>M2</td>\n",
       "      <td>12.0</td>\n",
       "      <td>137.0</td>\n",
       "      <td>12.0</td>\n",
       "      <td>137.0</td>\n",
       "    </tr>\n",
       "    <tr>\n",
       "      <th>20</th>\n",
       "      <td>53678983</td>\n",
       "      <td>1</td>\n",
       "      <td>[L MCA]</td>\n",
       "      <td>[L M2]</td>\n",
       "      <td>[L MCA]</td>\n",
       "      <td>[L M2]</td>\n",
       "      <td>(10, 157)</td>\n",
       "      <td>NaN</td>\n",
       "      <td>EXAMINATION: Computed tomography angiography (...</td>\n",
       "      <td>[]</td>\n",
       "      <td>[]</td>\n",
       "      <td>1</td>\n",
       "      <td>L</td>\n",
       "      <td>M2</td>\n",
       "      <td>10.0</td>\n",
       "      <td>157.0</td>\n",
       "      <td>10.0</td>\n",
       "      <td>157.0</td>\n",
       "    </tr>\n",
       "    <tr>\n",
       "      <th>...</th>\n",
       "      <td>...</td>\n",
       "      <td>...</td>\n",
       "      <td>...</td>\n",
       "      <td>...</td>\n",
       "      <td>...</td>\n",
       "      <td>...</td>\n",
       "      <td>...</td>\n",
       "      <td>...</td>\n",
       "      <td>...</td>\n",
       "      <td>...</td>\n",
       "      <td>...</td>\n",
       "      <td>...</td>\n",
       "      <td>...</td>\n",
       "      <td>...</td>\n",
       "      <td>...</td>\n",
       "      <td>...</td>\n",
       "      <td>...</td>\n",
       "      <td>...</td>\n",
       "    </tr>\n",
       "    <tr>\n",
       "      <th>558</th>\n",
       "      <td>51483615</td>\n",
       "      <td>1</td>\n",
       "      <td>[L MCA]</td>\n",
       "      <td>[L M1]</td>\n",
       "      <td>[L MCA]</td>\n",
       "      <td>[L M1]</td>\n",
       "      <td>(29, 99)</td>\n",
       "      <td>NaN</td>\n",
       "      <td>EXAMINATION: Computed tomography angiography (...</td>\n",
       "      <td>[]</td>\n",
       "      <td>[]</td>\n",
       "      <td>1</td>\n",
       "      <td>L</td>\n",
       "      <td>M1</td>\n",
       "      <td>29.0</td>\n",
       "      <td>99.0</td>\n",
       "      <td>29.0</td>\n",
       "      <td>99.0</td>\n",
       "    </tr>\n",
       "    <tr>\n",
       "      <th>561</th>\n",
       "      <td>51450558</td>\n",
       "      <td>1</td>\n",
       "      <td>[L MCA, L ICA, L ACA]</td>\n",
       "      <td>[L A1, L M1, L M2]</td>\n",
       "      <td>[L ICA, L MCA, L CCA, L ACA]</td>\n",
       "      <td>[L M1, L M2, L A1]</td>\n",
       "      <td>(169, 196)</td>\n",
       "      <td>NaN</td>\n",
       "      <td>EXAMINATION: Computed tomography angiography (...</td>\n",
       "      <td>[]</td>\n",
       "      <td>[]</td>\n",
       "      <td>1</td>\n",
       "      <td>L</td>\n",
       "      <td>CCA/ICA/M1/M2/A1</td>\n",
       "      <td>169.0</td>\n",
       "      <td>196.0</td>\n",
       "      <td>169.0</td>\n",
       "      <td>196.0</td>\n",
       "    </tr>\n",
       "    <tr>\n",
       "      <th>568</th>\n",
       "      <td>51404302</td>\n",
       "      <td>1</td>\n",
       "      <td>[L ICA]</td>\n",
       "      <td>[]</td>\n",
       "      <td>[]</td>\n",
       "      <td>[]</td>\n",
       "      <td>(0, 0)</td>\n",
       "      <td>NaN</td>\n",
       "      <td>EXAMINATION: Computed tomography angiography (...</td>\n",
       "      <td>[]</td>\n",
       "      <td>[]</td>\n",
       "      <td>0</td>\n",
       "      <td>NaN</td>\n",
       "      <td>NaN</td>\n",
       "      <td>0.0</td>\n",
       "      <td>0.0</td>\n",
       "      <td>0.0</td>\n",
       "      <td>0.0</td>\n",
       "    </tr>\n",
       "    <tr>\n",
       "      <th>569</th>\n",
       "      <td>51404081</td>\n",
       "      <td>1</td>\n",
       "      <td>[R MCA]</td>\n",
       "      <td>[R M2]</td>\n",
       "      <td>[R MCA]</td>\n",
       "      <td>[R M2]</td>\n",
       "      <td>(16, 40)</td>\n",
       "      <td>NaN</td>\n",
       "      <td>EXAMINATION: Computed tomography angiography (...</td>\n",
       "      <td>[]</td>\n",
       "      <td>[]</td>\n",
       "      <td>1</td>\n",
       "      <td>R</td>\n",
       "      <td>M2</td>\n",
       "      <td>16.0</td>\n",
       "      <td>40.0</td>\n",
       "      <td>16.0</td>\n",
       "      <td>40.0</td>\n",
       "    </tr>\n",
       "    <tr>\n",
       "      <th>570</th>\n",
       "      <td>51401684</td>\n",
       "      <td>1</td>\n",
       "      <td>[R MCA]</td>\n",
       "      <td>[R M2]</td>\n",
       "      <td>[R MCA]</td>\n",
       "      <td>[R M2]</td>\n",
       "      <td>(7, 27)</td>\n",
       "      <td>NaN</td>\n",
       "      <td>EXAMINATION: Computed tomography angiography (...</td>\n",
       "      <td>[]</td>\n",
       "      <td>[]</td>\n",
       "      <td>1</td>\n",
       "      <td>R</td>\n",
       "      <td>M2</td>\n",
       "      <td>7.0</td>\n",
       "      <td>27.0</td>\n",
       "      <td>7.0</td>\n",
       "      <td>27.0</td>\n",
       "    </tr>\n",
       "  </tbody>\n",
       "</table>\n",
       "<p>129 rows × 18 columns</p>\n",
       "</div>"
      ],
      "text/plain": [
       "     Accession Number  pred_occlusion           pred_vessels  \\\n",
       "7            53710639               1                [L MCA]   \n",
       "8            53702325               1         [R ICA, R MCA]   \n",
       "16           53682761               1  [L MCA, L ICA, L ACA]   \n",
       "17           53681846               1                [R MCA]   \n",
       "20           53678983               1                [L MCA]   \n",
       "..                ...             ...                    ...   \n",
       "558          51483615               1                [L MCA]   \n",
       "561          51450558               1  [L MCA, L ICA, L ACA]   \n",
       "568          51404302               1                [L ICA]   \n",
       "569          51404081               1                [R MCA]   \n",
       "570          51401684               1                [R MCA]   \n",
       "\n",
       "          pred_segments                  true_vessels       true_segments  \\\n",
       "7                [L M2]                       [L MCA]              [L M2]   \n",
       "8          [R M1, R M2]                [R ICA, R MCA]        [R M1, R M2]   \n",
       "16               [L M1]         [L MCA, L ICA, L ACA]              [L M1]   \n",
       "17               [R M2]                       [R MCA]              [R M2]   \n",
       "20               [L M2]                       [L MCA]              [L M2]   \n",
       "..                  ...                           ...                 ...   \n",
       "558              [L M1]                       [L MCA]              [L M1]   \n",
       "561  [L A1, L M1, L M2]  [L ICA, L MCA, L CCA, L ACA]  [L M1, L M2, L A1]   \n",
       "568                  []                            []                  []   \n",
       "569              [R M2]                       [R MCA]              [R M2]   \n",
       "570              [R M2]                       [R MCA]              [R M2]   \n",
       "\n",
       "        volumes TICI                                CTA CTP Report Text  \\\n",
       "7       (0, 58)    3  EXAMINATION: Computed tomography angiography (...   \n",
       "8    (216, 302)    3  EXAMINATION: Computed tomography angiography (...   \n",
       "16   (159, 230)  NaN  EXAMINATION: Computed tomography angiography (...   \n",
       "17    (12, 137)   2B  EXAMINATION: Computed tomography angiography (...   \n",
       "20    (10, 157)  NaN  EXAMINATION: Computed tomography angiography (...   \n",
       "..          ...  ...                                                ...   \n",
       "558    (29, 99)  NaN  EXAMINATION: Computed tomography angiography (...   \n",
       "561  (169, 196)  NaN  EXAMINATION: Computed tomography angiography (...   \n",
       "568      (0, 0)  NaN  EXAMINATION: Computed tomography angiography (...   \n",
       "569    (16, 40)  NaN  EXAMINATION: Computed tomography angiography (...   \n",
       "570     (7, 27)  NaN  EXAMINATION: Computed tomography angiography (...   \n",
       "\n",
       "    unmatched_occlusions uncertain_occlusions  LVO Side    site_occlusion  \\\n",
       "7                     []                   []    1    L                M2   \n",
       "8                     []                   []    1    R         ICA/M1/M2   \n",
       "16                    []                   []    1    L        ICA/M1/ACA   \n",
       "17                    []                   []    1    R                M2   \n",
       "20                    []                   []    1    L                M2   \n",
       "..                   ...                  ...  ...  ...               ...   \n",
       "558                   []                   []    1    L                M1   \n",
       "561                   []                   []    1    L  CCA/ICA/M1/M2/A1   \n",
       "568                   []                   []    0  NaN               NaN   \n",
       "569                   []                   []    1    R                M2   \n",
       "570                   []                   []    1    R                M2   \n",
       "\n",
       "     RAPID Core  RAPID Penumbra  RAPID Core (mL)  RAPID Penumbra (mL)  \n",
       "7           0.0            58.0              0.0                 58.0  \n",
       "8         216.0           302.0            216.0                302.0  \n",
       "16        159.0           230.0            159.0                230.0  \n",
       "17         12.0           137.0             12.0                137.0  \n",
       "20         10.0           157.0             10.0                157.0  \n",
       "..          ...             ...              ...                  ...  \n",
       "558        29.0            99.0             29.0                 99.0  \n",
       "561       169.0           196.0            169.0                196.0  \n",
       "568         0.0             0.0              0.0                  0.0  \n",
       "569        16.0            40.0             16.0                 40.0  \n",
       "570         7.0            27.0              7.0                 27.0  \n",
       "\n",
       "[129 rows x 18 columns]"
      ]
     },
     "execution_count": 61,
     "metadata": {},
     "output_type": "execute_result"
    }
   ],
   "source": [
    "#USE NLP occlusions and only ICA/MCA\n",
    "pred_occls = cohort18_19[cohort18_19[\"pred_occlusion\"]>0]\n",
    "#Make pred_vessels column of lists not strings\n",
    "pred_ant_lvo = [any(v in q for v in l for q in s) for s in pred_occls[\"pred_vessels\"]]\n",
    "pred_ant_occls = pred_occls[pred_ant_lvo]\n",
    "pred_ant_occls\n",
    "# y = [(a in q for q in s) for a in [\"M1\",\"M2\"] for s in b[\"pred_segments\"]]\n",
    "# y\n",
    "# for a in h[\"pred_segments\"]:\n",
    "#     print(a)\n",
    "#h[not any(a in q for a in [\"M1\",\"M2\"] for q in h[\"pred_segments\"])]\n",
    "# i = [[] == i for i in h[\"pred_segments\"]]\n",
    "# h[i]\n"
   ]
  },
  {
   "cell_type": "code",
   "execution_count": 62,
   "metadata": {},
   "outputs": [
    {
     "data": {
      "text/plain": [
       "7                           [L MCA]\n",
       "8                    [R ICA, R MCA]\n",
       "16            [L MCA, L ICA, L ACA]\n",
       "17                          [R MCA]\n",
       "20                          [L MCA]\n",
       "                   ...             \n",
       "561    [L ICA, L MCA, L CCA, L ACA]\n",
       "568                              []\n",
       "569                         [R MCA]\n",
       "570                         [R MCA]\n",
       "572                         [R PCA]\n",
       "Name: true_vessels, Length: 163, dtype: object"
      ]
     },
     "execution_count": 62,
     "metadata": {},
     "output_type": "execute_result"
    }
   ],
   "source": [
    "pred_occls.true_vessels\n",
    "#cohort18_19[len(cohort18_19[\"true_vessels\"])>0]"
   ]
  },
  {
   "cell_type": "code",
   "execution_count": 63,
   "metadata": {},
   "outputs": [
    {
     "data": {
      "text/html": [
       "<div>\n",
       "<style scoped>\n",
       "    .dataframe tbody tr th:only-of-type {\n",
       "        vertical-align: middle;\n",
       "    }\n",
       "\n",
       "    .dataframe tbody tr th {\n",
       "        vertical-align: top;\n",
       "    }\n",
       "\n",
       "    .dataframe thead th {\n",
       "        text-align: right;\n",
       "    }\n",
       "</style>\n",
       "<table border=\"1\" class=\"dataframe\">\n",
       "  <thead>\n",
       "    <tr style=\"text-align: right;\">\n",
       "      <th></th>\n",
       "      <th>Accession Number</th>\n",
       "      <th>pred_occlusion</th>\n",
       "      <th>pred_vessels</th>\n",
       "      <th>pred_segments</th>\n",
       "      <th>true_vessels</th>\n",
       "      <th>true_segments</th>\n",
       "      <th>volumes</th>\n",
       "      <th>TICI</th>\n",
       "      <th>CTA CTP Report Text</th>\n",
       "      <th>unmatched_occlusions</th>\n",
       "      <th>uncertain_occlusions</th>\n",
       "      <th>LVO</th>\n",
       "      <th>Side</th>\n",
       "      <th>site_occlusion</th>\n",
       "      <th>RAPID Core</th>\n",
       "      <th>RAPID Penumbra</th>\n",
       "      <th>RAPID Core (mL)</th>\n",
       "      <th>RAPID Penumbra (mL)</th>\n",
       "    </tr>\n",
       "  </thead>\n",
       "  <tbody>\n",
       "    <tr>\n",
       "      <th>7</th>\n",
       "      <td>53710639</td>\n",
       "      <td>1</td>\n",
       "      <td>[L MCA]</td>\n",
       "      <td>[L M2]</td>\n",
       "      <td>[L MCA]</td>\n",
       "      <td>[L M2]</td>\n",
       "      <td>(0, 58)</td>\n",
       "      <td>3</td>\n",
       "      <td>EXAMINATION: Computed tomography angiography (...</td>\n",
       "      <td>[]</td>\n",
       "      <td>[]</td>\n",
       "      <td>1</td>\n",
       "      <td>L</td>\n",
       "      <td>M2</td>\n",
       "      <td>0.0</td>\n",
       "      <td>58.0</td>\n",
       "      <td>0.0</td>\n",
       "      <td>58.0</td>\n",
       "    </tr>\n",
       "    <tr>\n",
       "      <th>8</th>\n",
       "      <td>53702325</td>\n",
       "      <td>1</td>\n",
       "      <td>[R ICA, R MCA]</td>\n",
       "      <td>[R M1, R M2]</td>\n",
       "      <td>[R ICA, R MCA]</td>\n",
       "      <td>[R M1, R M2]</td>\n",
       "      <td>(216, 302)</td>\n",
       "      <td>3</td>\n",
       "      <td>EXAMINATION: Computed tomography angiography (...</td>\n",
       "      <td>[]</td>\n",
       "      <td>[]</td>\n",
       "      <td>1</td>\n",
       "      <td>R</td>\n",
       "      <td>ICA/M1/M2</td>\n",
       "      <td>216.0</td>\n",
       "      <td>302.0</td>\n",
       "      <td>216.0</td>\n",
       "      <td>302.0</td>\n",
       "    </tr>\n",
       "    <tr>\n",
       "      <th>16</th>\n",
       "      <td>53682761</td>\n",
       "      <td>1</td>\n",
       "      <td>[L MCA, L ICA, L ACA]</td>\n",
       "      <td>[L M1]</td>\n",
       "      <td>[L MCA, L ICA, L ACA]</td>\n",
       "      <td>[L M1]</td>\n",
       "      <td>(159, 230)</td>\n",
       "      <td>NaN</td>\n",
       "      <td>EXAMINATION: Computed tomography angiography (...</td>\n",
       "      <td>[]</td>\n",
       "      <td>[]</td>\n",
       "      <td>1</td>\n",
       "      <td>L</td>\n",
       "      <td>ICA/M1/ACA</td>\n",
       "      <td>159.0</td>\n",
       "      <td>230.0</td>\n",
       "      <td>159.0</td>\n",
       "      <td>230.0</td>\n",
       "    </tr>\n",
       "    <tr>\n",
       "      <th>17</th>\n",
       "      <td>53681846</td>\n",
       "      <td>1</td>\n",
       "      <td>[R MCA]</td>\n",
       "      <td>[R M2]</td>\n",
       "      <td>[R MCA]</td>\n",
       "      <td>[R M2]</td>\n",
       "      <td>(12, 137)</td>\n",
       "      <td>2B</td>\n",
       "      <td>EXAMINATION: Computed tomography angiography (...</td>\n",
       "      <td>[]</td>\n",
       "      <td>[]</td>\n",
       "      <td>1</td>\n",
       "      <td>R</td>\n",
       "      <td>M2</td>\n",
       "      <td>12.0</td>\n",
       "      <td>137.0</td>\n",
       "      <td>12.0</td>\n",
       "      <td>137.0</td>\n",
       "    </tr>\n",
       "    <tr>\n",
       "      <th>20</th>\n",
       "      <td>53678983</td>\n",
       "      <td>1</td>\n",
       "      <td>[L MCA]</td>\n",
       "      <td>[L M2]</td>\n",
       "      <td>[L MCA]</td>\n",
       "      <td>[L M2]</td>\n",
       "      <td>(10, 157)</td>\n",
       "      <td>NaN</td>\n",
       "      <td>EXAMINATION: Computed tomography angiography (...</td>\n",
       "      <td>[]</td>\n",
       "      <td>[]</td>\n",
       "      <td>1</td>\n",
       "      <td>L</td>\n",
       "      <td>M2</td>\n",
       "      <td>10.0</td>\n",
       "      <td>157.0</td>\n",
       "      <td>10.0</td>\n",
       "      <td>157.0</td>\n",
       "    </tr>\n",
       "    <tr>\n",
       "      <th>...</th>\n",
       "      <td>...</td>\n",
       "      <td>...</td>\n",
       "      <td>...</td>\n",
       "      <td>...</td>\n",
       "      <td>...</td>\n",
       "      <td>...</td>\n",
       "      <td>...</td>\n",
       "      <td>...</td>\n",
       "      <td>...</td>\n",
       "      <td>...</td>\n",
       "      <td>...</td>\n",
       "      <td>...</td>\n",
       "      <td>...</td>\n",
       "      <td>...</td>\n",
       "      <td>...</td>\n",
       "      <td>...</td>\n",
       "      <td>...</td>\n",
       "      <td>...</td>\n",
       "    </tr>\n",
       "    <tr>\n",
       "      <th>554</th>\n",
       "      <td>51506626</td>\n",
       "      <td>1</td>\n",
       "      <td>[R MCA]</td>\n",
       "      <td>[]</td>\n",
       "      <td>[R MCA]</td>\n",
       "      <td>[R M2]</td>\n",
       "      <td>(0, 15)</td>\n",
       "      <td>NaN</td>\n",
       "      <td>EXAMINATION: Computed tomography angiography (...</td>\n",
       "      <td>[]</td>\n",
       "      <td>[]</td>\n",
       "      <td>1</td>\n",
       "      <td>R</td>\n",
       "      <td>M2</td>\n",
       "      <td>0.0</td>\n",
       "      <td>15.0</td>\n",
       "      <td>0.0</td>\n",
       "      <td>15.0</td>\n",
       "    </tr>\n",
       "    <tr>\n",
       "      <th>558</th>\n",
       "      <td>51483615</td>\n",
       "      <td>1</td>\n",
       "      <td>[L MCA]</td>\n",
       "      <td>[L M1]</td>\n",
       "      <td>[L MCA]</td>\n",
       "      <td>[L M1]</td>\n",
       "      <td>(29, 99)</td>\n",
       "      <td>NaN</td>\n",
       "      <td>EXAMINATION: Computed tomography angiography (...</td>\n",
       "      <td>[]</td>\n",
       "      <td>[]</td>\n",
       "      <td>1</td>\n",
       "      <td>L</td>\n",
       "      <td>M1</td>\n",
       "      <td>29.0</td>\n",
       "      <td>99.0</td>\n",
       "      <td>29.0</td>\n",
       "      <td>99.0</td>\n",
       "    </tr>\n",
       "    <tr>\n",
       "      <th>561</th>\n",
       "      <td>51450558</td>\n",
       "      <td>1</td>\n",
       "      <td>[L MCA, L ICA, L ACA]</td>\n",
       "      <td>[L A1, L M1, L M2]</td>\n",
       "      <td>[L ICA, L MCA, L CCA, L ACA]</td>\n",
       "      <td>[L M1, L M2, L A1]</td>\n",
       "      <td>(169, 196)</td>\n",
       "      <td>NaN</td>\n",
       "      <td>EXAMINATION: Computed tomography angiography (...</td>\n",
       "      <td>[]</td>\n",
       "      <td>[]</td>\n",
       "      <td>1</td>\n",
       "      <td>L</td>\n",
       "      <td>CCA/ICA/M1/M2/A1</td>\n",
       "      <td>169.0</td>\n",
       "      <td>196.0</td>\n",
       "      <td>169.0</td>\n",
       "      <td>196.0</td>\n",
       "    </tr>\n",
       "    <tr>\n",
       "      <th>569</th>\n",
       "      <td>51404081</td>\n",
       "      <td>1</td>\n",
       "      <td>[R MCA]</td>\n",
       "      <td>[R M2]</td>\n",
       "      <td>[R MCA]</td>\n",
       "      <td>[R M2]</td>\n",
       "      <td>(16, 40)</td>\n",
       "      <td>NaN</td>\n",
       "      <td>EXAMINATION: Computed tomography angiography (...</td>\n",
       "      <td>[]</td>\n",
       "      <td>[]</td>\n",
       "      <td>1</td>\n",
       "      <td>R</td>\n",
       "      <td>M2</td>\n",
       "      <td>16.0</td>\n",
       "      <td>40.0</td>\n",
       "      <td>16.0</td>\n",
       "      <td>40.0</td>\n",
       "    </tr>\n",
       "    <tr>\n",
       "      <th>570</th>\n",
       "      <td>51401684</td>\n",
       "      <td>1</td>\n",
       "      <td>[R MCA]</td>\n",
       "      <td>[R M2]</td>\n",
       "      <td>[R MCA]</td>\n",
       "      <td>[R M2]</td>\n",
       "      <td>(7, 27)</td>\n",
       "      <td>NaN</td>\n",
       "      <td>EXAMINATION: Computed tomography angiography (...</td>\n",
       "      <td>[]</td>\n",
       "      <td>[]</td>\n",
       "      <td>1</td>\n",
       "      <td>R</td>\n",
       "      <td>M2</td>\n",
       "      <td>7.0</td>\n",
       "      <td>27.0</td>\n",
       "      <td>7.0</td>\n",
       "      <td>27.0</td>\n",
       "    </tr>\n",
       "  </tbody>\n",
       "</table>\n",
       "<p>117 rows × 18 columns</p>\n",
       "</div>"
      ],
      "text/plain": [
       "     Accession Number  pred_occlusion           pred_vessels  \\\n",
       "7            53710639               1                [L MCA]   \n",
       "8            53702325               1         [R ICA, R MCA]   \n",
       "16           53682761               1  [L MCA, L ICA, L ACA]   \n",
       "17           53681846               1                [R MCA]   \n",
       "20           53678983               1                [L MCA]   \n",
       "..                ...             ...                    ...   \n",
       "554          51506626               1                [R MCA]   \n",
       "558          51483615               1                [L MCA]   \n",
       "561          51450558               1  [L MCA, L ICA, L ACA]   \n",
       "569          51404081               1                [R MCA]   \n",
       "570          51401684               1                [R MCA]   \n",
       "\n",
       "          pred_segments                  true_vessels       true_segments  \\\n",
       "7                [L M2]                       [L MCA]              [L M2]   \n",
       "8          [R M1, R M2]                [R ICA, R MCA]        [R M1, R M2]   \n",
       "16               [L M1]         [L MCA, L ICA, L ACA]              [L M1]   \n",
       "17               [R M2]                       [R MCA]              [R M2]   \n",
       "20               [L M2]                       [L MCA]              [L M2]   \n",
       "..                  ...                           ...                 ...   \n",
       "554                  []                       [R MCA]              [R M2]   \n",
       "558              [L M1]                       [L MCA]              [L M1]   \n",
       "561  [L A1, L M1, L M2]  [L ICA, L MCA, L CCA, L ACA]  [L M1, L M2, L A1]   \n",
       "569              [R M2]                       [R MCA]              [R M2]   \n",
       "570              [R M2]                       [R MCA]              [R M2]   \n",
       "\n",
       "        volumes TICI                                CTA CTP Report Text  \\\n",
       "7       (0, 58)    3  EXAMINATION: Computed tomography angiography (...   \n",
       "8    (216, 302)    3  EXAMINATION: Computed tomography angiography (...   \n",
       "16   (159, 230)  NaN  EXAMINATION: Computed tomography angiography (...   \n",
       "17    (12, 137)   2B  EXAMINATION: Computed tomography angiography (...   \n",
       "20    (10, 157)  NaN  EXAMINATION: Computed tomography angiography (...   \n",
       "..          ...  ...                                                ...   \n",
       "554     (0, 15)  NaN  EXAMINATION: Computed tomography angiography (...   \n",
       "558    (29, 99)  NaN  EXAMINATION: Computed tomography angiography (...   \n",
       "561  (169, 196)  NaN  EXAMINATION: Computed tomography angiography (...   \n",
       "569    (16, 40)  NaN  EXAMINATION: Computed tomography angiography (...   \n",
       "570     (7, 27)  NaN  EXAMINATION: Computed tomography angiography (...   \n",
       "\n",
       "    unmatched_occlusions uncertain_occlusions  LVO Side    site_occlusion  \\\n",
       "7                     []                   []    1    L                M2   \n",
       "8                     []                   []    1    R         ICA/M1/M2   \n",
       "16                    []                   []    1    L        ICA/M1/ACA   \n",
       "17                    []                   []    1    R                M2   \n",
       "20                    []                   []    1    L                M2   \n",
       "..                   ...                  ...  ...  ...               ...   \n",
       "554                   []                   []    1    R                M2   \n",
       "558                   []                   []    1    L                M1   \n",
       "561                   []                   []    1    L  CCA/ICA/M1/M2/A1   \n",
       "569                   []                   []    1    R                M2   \n",
       "570                   []                   []    1    R                M2   \n",
       "\n",
       "     RAPID Core  RAPID Penumbra  RAPID Core (mL)  RAPID Penumbra (mL)  \n",
       "7           0.0            58.0              0.0                 58.0  \n",
       "8         216.0           302.0            216.0                302.0  \n",
       "16        159.0           230.0            159.0                230.0  \n",
       "17         12.0           137.0             12.0                137.0  \n",
       "20         10.0           157.0             10.0                157.0  \n",
       "..          ...             ...              ...                  ...  \n",
       "554         0.0            15.0              0.0                 15.0  \n",
       "558        29.0            99.0             29.0                 99.0  \n",
       "561       169.0           196.0            169.0                196.0  \n",
       "569        16.0            40.0             16.0                 40.0  \n",
       "570         7.0            27.0              7.0                 27.0  \n",
       "\n",
       "[117 rows x 18 columns]"
      ]
     },
     "execution_count": 63,
     "metadata": {},
     "output_type": "execute_result"
    }
   ],
   "source": [
    "#Filter to those with true occlusion and true ICA/M1 as well\n",
    "only_occls = pred_ant_occls[pred_ant_occls[\"LVO\"]>0]\n",
    "l = [\"ICA\", \"MCA\"]\n",
    "only_occls.true_vessels\n",
    "true_ant_lvo = [any(v in s for v in l for s in ll) for ll in only_occls[\"true_vessels\"]]\n",
    "true_ant_lvo\n",
    "only_ant_occls = only_occls[true_ant_lvo]\n",
    "only_ant_occls"
   ]
  },
  {
   "cell_type": "code",
   "execution_count": 64,
   "metadata": {},
   "outputs": [
    {
     "data": {
      "text/html": [
       "<div>\n",
       "<style scoped>\n",
       "    .dataframe tbody tr th:only-of-type {\n",
       "        vertical-align: middle;\n",
       "    }\n",
       "\n",
       "    .dataframe tbody tr th {\n",
       "        vertical-align: top;\n",
       "    }\n",
       "\n",
       "    .dataframe thead th {\n",
       "        text-align: right;\n",
       "    }\n",
       "</style>\n",
       "<table border=\"1\" class=\"dataframe\">\n",
       "  <thead>\n",
       "    <tr style=\"text-align: right;\">\n",
       "      <th></th>\n",
       "      <th>Accession Number</th>\n",
       "      <th>pred_occlusion</th>\n",
       "      <th>pred_vessels</th>\n",
       "      <th>pred_segments</th>\n",
       "      <th>true_vessels</th>\n",
       "      <th>true_segments</th>\n",
       "      <th>volumes</th>\n",
       "      <th>TICI</th>\n",
       "      <th>CTA CTP Report Text</th>\n",
       "      <th>unmatched_occlusions</th>\n",
       "      <th>uncertain_occlusions</th>\n",
       "      <th>LVO</th>\n",
       "      <th>Side</th>\n",
       "      <th>site_occlusion</th>\n",
       "      <th>RAPID Core</th>\n",
       "      <th>RAPID Penumbra</th>\n",
       "      <th>RAPID Core (mL)</th>\n",
       "      <th>RAPID Penumbra (mL)</th>\n",
       "    </tr>\n",
       "  </thead>\n",
       "  <tbody>\n",
       "    <tr>\n",
       "      <th>7</th>\n",
       "      <td>53710639</td>\n",
       "      <td>1</td>\n",
       "      <td>[L MCA]</td>\n",
       "      <td>[L M2]</td>\n",
       "      <td>[L MCA]</td>\n",
       "      <td>[L M2]</td>\n",
       "      <td>(0, 58)</td>\n",
       "      <td>3</td>\n",
       "      <td>EXAMINATION: Computed tomography angiography (...</td>\n",
       "      <td>[]</td>\n",
       "      <td>[]</td>\n",
       "      <td>1</td>\n",
       "      <td>L</td>\n",
       "      <td>M2</td>\n",
       "      <td>0.0</td>\n",
       "      <td>58.0</td>\n",
       "      <td>0.0</td>\n",
       "      <td>58.0</td>\n",
       "    </tr>\n",
       "    <tr>\n",
       "      <th>8</th>\n",
       "      <td>53702325</td>\n",
       "      <td>1</td>\n",
       "      <td>[R ICA, R MCA]</td>\n",
       "      <td>[R M1, R M2]</td>\n",
       "      <td>[R ICA, R MCA]</td>\n",
       "      <td>[R M1, R M2]</td>\n",
       "      <td>(216, 302)</td>\n",
       "      <td>3</td>\n",
       "      <td>EXAMINATION: Computed tomography angiography (...</td>\n",
       "      <td>[]</td>\n",
       "      <td>[]</td>\n",
       "      <td>1</td>\n",
       "      <td>R</td>\n",
       "      <td>ICA/M1/M2</td>\n",
       "      <td>216.0</td>\n",
       "      <td>302.0</td>\n",
       "      <td>216.0</td>\n",
       "      <td>302.0</td>\n",
       "    </tr>\n",
       "    <tr>\n",
       "      <th>16</th>\n",
       "      <td>53682761</td>\n",
       "      <td>1</td>\n",
       "      <td>[L MCA, L ICA, L ACA]</td>\n",
       "      <td>[L M1]</td>\n",
       "      <td>[L MCA, L ICA, L ACA]</td>\n",
       "      <td>[L M1]</td>\n",
       "      <td>(159, 230)</td>\n",
       "      <td>NaN</td>\n",
       "      <td>EXAMINATION: Computed tomography angiography (...</td>\n",
       "      <td>[]</td>\n",
       "      <td>[]</td>\n",
       "      <td>1</td>\n",
       "      <td>L</td>\n",
       "      <td>ICA/M1/ACA</td>\n",
       "      <td>159.0</td>\n",
       "      <td>230.0</td>\n",
       "      <td>159.0</td>\n",
       "      <td>230.0</td>\n",
       "    </tr>\n",
       "    <tr>\n",
       "      <th>17</th>\n",
       "      <td>53681846</td>\n",
       "      <td>1</td>\n",
       "      <td>[R MCA]</td>\n",
       "      <td>[R M2]</td>\n",
       "      <td>[R MCA]</td>\n",
       "      <td>[R M2]</td>\n",
       "      <td>(12, 137)</td>\n",
       "      <td>2B</td>\n",
       "      <td>EXAMINATION: Computed tomography angiography (...</td>\n",
       "      <td>[]</td>\n",
       "      <td>[]</td>\n",
       "      <td>1</td>\n",
       "      <td>R</td>\n",
       "      <td>M2</td>\n",
       "      <td>12.0</td>\n",
       "      <td>137.0</td>\n",
       "      <td>12.0</td>\n",
       "      <td>137.0</td>\n",
       "    </tr>\n",
       "    <tr>\n",
       "      <th>20</th>\n",
       "      <td>53678983</td>\n",
       "      <td>1</td>\n",
       "      <td>[L MCA]</td>\n",
       "      <td>[L M2]</td>\n",
       "      <td>[L MCA]</td>\n",
       "      <td>[L M2]</td>\n",
       "      <td>(10, 157)</td>\n",
       "      <td>NaN</td>\n",
       "      <td>EXAMINATION: Computed tomography angiography (...</td>\n",
       "      <td>[]</td>\n",
       "      <td>[]</td>\n",
       "      <td>1</td>\n",
       "      <td>L</td>\n",
       "      <td>M2</td>\n",
       "      <td>10.0</td>\n",
       "      <td>157.0</td>\n",
       "      <td>10.0</td>\n",
       "      <td>157.0</td>\n",
       "    </tr>\n",
       "    <tr>\n",
       "      <th>...</th>\n",
       "      <td>...</td>\n",
       "      <td>...</td>\n",
       "      <td>...</td>\n",
       "      <td>...</td>\n",
       "      <td>...</td>\n",
       "      <td>...</td>\n",
       "      <td>...</td>\n",
       "      <td>...</td>\n",
       "      <td>...</td>\n",
       "      <td>...</td>\n",
       "      <td>...</td>\n",
       "      <td>...</td>\n",
       "      <td>...</td>\n",
       "      <td>...</td>\n",
       "      <td>...</td>\n",
       "      <td>...</td>\n",
       "      <td>...</td>\n",
       "      <td>...</td>\n",
       "    </tr>\n",
       "    <tr>\n",
       "      <th>554</th>\n",
       "      <td>51506626</td>\n",
       "      <td>1</td>\n",
       "      <td>[R MCA]</td>\n",
       "      <td>[]</td>\n",
       "      <td>[R MCA]</td>\n",
       "      <td>[R M2]</td>\n",
       "      <td>(0, 15)</td>\n",
       "      <td>NaN</td>\n",
       "      <td>EXAMINATION: Computed tomography angiography (...</td>\n",
       "      <td>[]</td>\n",
       "      <td>[]</td>\n",
       "      <td>1</td>\n",
       "      <td>R</td>\n",
       "      <td>M2</td>\n",
       "      <td>0.0</td>\n",
       "      <td>15.0</td>\n",
       "      <td>0.0</td>\n",
       "      <td>15.0</td>\n",
       "    </tr>\n",
       "    <tr>\n",
       "      <th>558</th>\n",
       "      <td>51483615</td>\n",
       "      <td>1</td>\n",
       "      <td>[L MCA]</td>\n",
       "      <td>[L M1]</td>\n",
       "      <td>[L MCA]</td>\n",
       "      <td>[L M1]</td>\n",
       "      <td>(29, 99)</td>\n",
       "      <td>NaN</td>\n",
       "      <td>EXAMINATION: Computed tomography angiography (...</td>\n",
       "      <td>[]</td>\n",
       "      <td>[]</td>\n",
       "      <td>1</td>\n",
       "      <td>L</td>\n",
       "      <td>M1</td>\n",
       "      <td>29.0</td>\n",
       "      <td>99.0</td>\n",
       "      <td>29.0</td>\n",
       "      <td>99.0</td>\n",
       "    </tr>\n",
       "    <tr>\n",
       "      <th>561</th>\n",
       "      <td>51450558</td>\n",
       "      <td>1</td>\n",
       "      <td>[L MCA, L ICA, L ACA]</td>\n",
       "      <td>[L A1, L M1, L M2]</td>\n",
       "      <td>[L ICA, L MCA, L CCA, L ACA]</td>\n",
       "      <td>[L M1, L M2, L A1]</td>\n",
       "      <td>(169, 196)</td>\n",
       "      <td>NaN</td>\n",
       "      <td>EXAMINATION: Computed tomography angiography (...</td>\n",
       "      <td>[]</td>\n",
       "      <td>[]</td>\n",
       "      <td>1</td>\n",
       "      <td>L</td>\n",
       "      <td>CCA/ICA/M1/M2/A1</td>\n",
       "      <td>169.0</td>\n",
       "      <td>196.0</td>\n",
       "      <td>169.0</td>\n",
       "      <td>196.0</td>\n",
       "    </tr>\n",
       "    <tr>\n",
       "      <th>569</th>\n",
       "      <td>51404081</td>\n",
       "      <td>1</td>\n",
       "      <td>[R MCA]</td>\n",
       "      <td>[R M2]</td>\n",
       "      <td>[R MCA]</td>\n",
       "      <td>[R M2]</td>\n",
       "      <td>(16, 40)</td>\n",
       "      <td>NaN</td>\n",
       "      <td>EXAMINATION: Computed tomography angiography (...</td>\n",
       "      <td>[]</td>\n",
       "      <td>[]</td>\n",
       "      <td>1</td>\n",
       "      <td>R</td>\n",
       "      <td>M2</td>\n",
       "      <td>16.0</td>\n",
       "      <td>40.0</td>\n",
       "      <td>16.0</td>\n",
       "      <td>40.0</td>\n",
       "    </tr>\n",
       "    <tr>\n",
       "      <th>570</th>\n",
       "      <td>51401684</td>\n",
       "      <td>1</td>\n",
       "      <td>[R MCA]</td>\n",
       "      <td>[R M2]</td>\n",
       "      <td>[R MCA]</td>\n",
       "      <td>[R M2]</td>\n",
       "      <td>(7, 27)</td>\n",
       "      <td>NaN</td>\n",
       "      <td>EXAMINATION: Computed tomography angiography (...</td>\n",
       "      <td>[]</td>\n",
       "      <td>[]</td>\n",
       "      <td>1</td>\n",
       "      <td>R</td>\n",
       "      <td>M2</td>\n",
       "      <td>7.0</td>\n",
       "      <td>27.0</td>\n",
       "      <td>7.0</td>\n",
       "      <td>27.0</td>\n",
       "    </tr>\n",
       "  </tbody>\n",
       "</table>\n",
       "<p>126 rows × 18 columns</p>\n",
       "</div>"
      ],
      "text/plain": [
       "     Accession Number  pred_occlusion           pred_vessels  \\\n",
       "7            53710639               1                [L MCA]   \n",
       "8            53702325               1         [R ICA, R MCA]   \n",
       "16           53682761               1  [L MCA, L ICA, L ACA]   \n",
       "17           53681846               1                [R MCA]   \n",
       "20           53678983               1                [L MCA]   \n",
       "..                ...             ...                    ...   \n",
       "554          51506626               1                [R MCA]   \n",
       "558          51483615               1                [L MCA]   \n",
       "561          51450558               1  [L MCA, L ICA, L ACA]   \n",
       "569          51404081               1                [R MCA]   \n",
       "570          51401684               1                [R MCA]   \n",
       "\n",
       "          pred_segments                  true_vessels       true_segments  \\\n",
       "7                [L M2]                       [L MCA]              [L M2]   \n",
       "8          [R M1, R M2]                [R ICA, R MCA]        [R M1, R M2]   \n",
       "16               [L M1]         [L MCA, L ICA, L ACA]              [L M1]   \n",
       "17               [R M2]                       [R MCA]              [R M2]   \n",
       "20               [L M2]                       [L MCA]              [L M2]   \n",
       "..                  ...                           ...                 ...   \n",
       "554                  []                       [R MCA]              [R M2]   \n",
       "558              [L M1]                       [L MCA]              [L M1]   \n",
       "561  [L A1, L M1, L M2]  [L ICA, L MCA, L CCA, L ACA]  [L M1, L M2, L A1]   \n",
       "569              [R M2]                       [R MCA]              [R M2]   \n",
       "570              [R M2]                       [R MCA]              [R M2]   \n",
       "\n",
       "        volumes TICI                                CTA CTP Report Text  \\\n",
       "7       (0, 58)    3  EXAMINATION: Computed tomography angiography (...   \n",
       "8    (216, 302)    3  EXAMINATION: Computed tomography angiography (...   \n",
       "16   (159, 230)  NaN  EXAMINATION: Computed tomography angiography (...   \n",
       "17    (12, 137)   2B  EXAMINATION: Computed tomography angiography (...   \n",
       "20    (10, 157)  NaN  EXAMINATION: Computed tomography angiography (...   \n",
       "..          ...  ...                                                ...   \n",
       "554     (0, 15)  NaN  EXAMINATION: Computed tomography angiography (...   \n",
       "558    (29, 99)  NaN  EXAMINATION: Computed tomography angiography (...   \n",
       "561  (169, 196)  NaN  EXAMINATION: Computed tomography angiography (...   \n",
       "569    (16, 40)  NaN  EXAMINATION: Computed tomography angiography (...   \n",
       "570     (7, 27)  NaN  EXAMINATION: Computed tomography angiography (...   \n",
       "\n",
       "    unmatched_occlusions uncertain_occlusions  LVO Side    site_occlusion  \\\n",
       "7                     []                   []    1    L                M2   \n",
       "8                     []                   []    1    R         ICA/M1/M2   \n",
       "16                    []                   []    1    L        ICA/M1/ACA   \n",
       "17                    []                   []    1    R                M2   \n",
       "20                    []                   []    1    L                M2   \n",
       "..                   ...                  ...  ...  ...               ...   \n",
       "554                   []                   []    1    R                M2   \n",
       "558                   []                   []    1    L                M1   \n",
       "561                   []                   []    1    L  CCA/ICA/M1/M2/A1   \n",
       "569                   []                   []    1    R                M2   \n",
       "570                   []                   []    1    R                M2   \n",
       "\n",
       "     RAPID Core  RAPID Penumbra  RAPID Core (mL)  RAPID Penumbra (mL)  \n",
       "7           0.0            58.0              0.0                 58.0  \n",
       "8         216.0           302.0            216.0                302.0  \n",
       "16        159.0           230.0            159.0                230.0  \n",
       "17         12.0           137.0             12.0                137.0  \n",
       "20         10.0           157.0             10.0                157.0  \n",
       "..          ...             ...              ...                  ...  \n",
       "554         0.0            15.0              0.0                 15.0  \n",
       "558        29.0            99.0             29.0                 99.0  \n",
       "561       169.0           196.0            169.0                196.0  \n",
       "569        16.0            40.0             16.0                 40.0  \n",
       "570         7.0            27.0              7.0                 27.0  \n",
       "\n",
       "[126 rows x 18 columns]"
      ]
     },
     "execution_count": 64,
     "metadata": {},
     "output_type": "execute_result"
    }
   ],
   "source": [
    "#True total prox occlusions\n",
    "#For reference\n",
    "occls = cohort18_19[cohort18_19[\"LVO\"]>0]\n",
    "l = [\"ICA\", \"MCA\"]\n",
    "true_tot_lvo = [any(v in s for v in l for s in ll) for ll in occls[\"true_vessels\"]]\n",
    "occls[true_tot_lvo]"
   ]
  },
  {
   "cell_type": "code",
   "execution_count": 65,
   "metadata": {},
   "outputs": [
    {
     "data": {
      "text/plain": [
       "1"
      ]
     },
     "execution_count": 65,
     "metadata": {},
     "output_type": "execute_result"
    }
   ],
   "source": [
    "#USING NLP PREDICTIONS\n",
    "#0=no occlusion\n",
    "#1=proximal occlusion\n",
    "#2=distal occlusion\n",
    "def check_proximal_distal(occlusion_status, vessels, segments):\n",
    "    is_occlusion = occlusion_status\n",
    "    if is_occlusion > 0:\n",
    "        if any(\"ICA\" in s for s in vessels):\n",
    "            return 1\n",
    "        if segments == []:\n",
    "            return 0\n",
    "        if any(\"MCA\" in s for s in vessels):\n",
    "            if any(\"M1\" in s for s in segments):\n",
    "                return 1\n",
    "            return 2\n",
    "    return 0\n",
    "check_proximal_distal(1,cohort18_19.loc[50].pred_vessels,[])"
   ]
  },
  {
   "cell_type": "code",
   "execution_count": 66,
   "metadata": {
    "scrolled": true
   },
   "outputs": [
    {
     "data": {
      "text/html": [
       "<div>\n",
       "<style scoped>\n",
       "    .dataframe tbody tr th:only-of-type {\n",
       "        vertical-align: middle;\n",
       "    }\n",
       "\n",
       "    .dataframe tbody tr th {\n",
       "        vertical-align: top;\n",
       "    }\n",
       "\n",
       "    .dataframe thead th {\n",
       "        text-align: right;\n",
       "    }\n",
       "</style>\n",
       "<table border=\"1\" class=\"dataframe\">\n",
       "  <thead>\n",
       "    <tr style=\"text-align: right;\">\n",
       "      <th></th>\n",
       "      <th>Accession Number</th>\n",
       "      <th>pred_occlusion</th>\n",
       "      <th>pred_vessels</th>\n",
       "      <th>pred_segments</th>\n",
       "      <th>true_vessels</th>\n",
       "      <th>true_segments</th>\n",
       "      <th>volumes</th>\n",
       "      <th>TICI</th>\n",
       "      <th>CTA CTP Report Text</th>\n",
       "      <th>unmatched_occlusions</th>\n",
       "      <th>uncertain_occlusions</th>\n",
       "      <th>LVO</th>\n",
       "      <th>Side</th>\n",
       "      <th>site_occlusion</th>\n",
       "      <th>RAPID Core</th>\n",
       "      <th>RAPID Penumbra</th>\n",
       "      <th>RAPID Core (mL)</th>\n",
       "      <th>RAPID Penumbra (mL)</th>\n",
       "      <th>NLP_proximal_occlusion</th>\n",
       "      <th>manual_proximal_occlusion</th>\n",
       "    </tr>\n",
       "  </thead>\n",
       "  <tbody>\n",
       "    <tr>\n",
       "      <th>155</th>\n",
       "      <td>53017602</td>\n",
       "      <td>1</td>\n",
       "      <td>[R ICA, R MCA]</td>\n",
       "      <td>[R M2, R M3]</td>\n",
       "      <td>[R MCA]</td>\n",
       "      <td>[R M2, R M3]</td>\n",
       "      <td>(22, 52)</td>\n",
       "      <td>NaN</td>\n",
       "      <td>EXAMINATION: Computed tomography angiography (...</td>\n",
       "      <td>[]</td>\n",
       "      <td>[(uncertain occlusion, ICA, _x000D_ Nonopacifi...</td>\n",
       "      <td>2</td>\n",
       "      <td>R</td>\n",
       "      <td>M2/M3</td>\n",
       "      <td>22.0</td>\n",
       "      <td>52.0</td>\n",
       "      <td>22.0</td>\n",
       "      <td>52.0</td>\n",
       "      <td>1</td>\n",
       "      <td>2</td>\n",
       "    </tr>\n",
       "    <tr>\n",
       "      <th>185</th>\n",
       "      <td>52903392</td>\n",
       "      <td>1</td>\n",
       "      <td>[R MCA]</td>\n",
       "      <td>[R M2]</td>\n",
       "      <td>[R MCA]</td>\n",
       "      <td>[R M1, R M2]</td>\n",
       "      <td>(57, 170)</td>\n",
       "      <td>NaN</td>\n",
       "      <td>EXAMINATION: Computed tomography angiography (...</td>\n",
       "      <td>[]</td>\n",
       "      <td>[]</td>\n",
       "      <td>1</td>\n",
       "      <td>R</td>\n",
       "      <td>M1/M2</td>\n",
       "      <td>57.0</td>\n",
       "      <td>170.0</td>\n",
       "      <td>57.0</td>\n",
       "      <td>170.0</td>\n",
       "      <td>2</td>\n",
       "      <td>1</td>\n",
       "    </tr>\n",
       "    <tr>\n",
       "      <th>364</th>\n",
       "      <td>52202517</td>\n",
       "      <td>1</td>\n",
       "      <td>[R MCA]</td>\n",
       "      <td>[R M1, R M2, R M3]</td>\n",
       "      <td>[R MCA]</td>\n",
       "      <td>[R M2]</td>\n",
       "      <td>(74, 161)</td>\n",
       "      <td>NaN</td>\n",
       "      <td>EXAMINATION: Computed tomography angiography (...</td>\n",
       "      <td>[]</td>\n",
       "      <td>[]</td>\n",
       "      <td>1</td>\n",
       "      <td>R</td>\n",
       "      <td>M2</td>\n",
       "      <td>74.0</td>\n",
       "      <td>161.0</td>\n",
       "      <td>74.0</td>\n",
       "      <td>161.0</td>\n",
       "      <td>1</td>\n",
       "      <td>2</td>\n",
       "    </tr>\n",
       "    <tr>\n",
       "      <th>478</th>\n",
       "      <td>51774576</td>\n",
       "      <td>1</td>\n",
       "      <td>[L MCA]</td>\n",
       "      <td>[L M1, L M2]</td>\n",
       "      <td>[L MCA]</td>\n",
       "      <td>[L M2]</td>\n",
       "      <td>(0, 0)</td>\n",
       "      <td>NaN</td>\n",
       "      <td>EXAMINATION: Computed tomography angiography (...</td>\n",
       "      <td>[]</td>\n",
       "      <td>[]</td>\n",
       "      <td>1</td>\n",
       "      <td>L</td>\n",
       "      <td>M2</td>\n",
       "      <td>0.0</td>\n",
       "      <td>0.0</td>\n",
       "      <td>0.0</td>\n",
       "      <td>0.0</td>\n",
       "      <td>1</td>\n",
       "      <td>2</td>\n",
       "    </tr>\n",
       "    <tr>\n",
       "      <th>483</th>\n",
       "      <td>51761692</td>\n",
       "      <td>1</td>\n",
       "      <td>[R MCA]</td>\n",
       "      <td>[R M1, R M2, R M2]</td>\n",
       "      <td>[R MCA]</td>\n",
       "      <td>[R M2]</td>\n",
       "      <td>NaN</td>\n",
       "      <td>0</td>\n",
       "      <td>EXAMINATION: Computed tomography angiography (...</td>\n",
       "      <td>[]</td>\n",
       "      <td>[]</td>\n",
       "      <td>1</td>\n",
       "      <td>R</td>\n",
       "      <td>M2</td>\n",
       "      <td>0.0</td>\n",
       "      <td>0.0</td>\n",
       "      <td>NaN</td>\n",
       "      <td>NaN</td>\n",
       "      <td>1</td>\n",
       "      <td>2</td>\n",
       "    </tr>\n",
       "    <tr>\n",
       "      <th>491</th>\n",
       "      <td>51755266</td>\n",
       "      <td>1</td>\n",
       "      <td>[L MCA]</td>\n",
       "      <td>[L M2]</td>\n",
       "      <td>[L MCA]</td>\n",
       "      <td>[L M1, L M2]</td>\n",
       "      <td>(16, 69)</td>\n",
       "      <td>2a</td>\n",
       "      <td>EXAMINATION: Computed tomography angiography (...</td>\n",
       "      <td>[]</td>\n",
       "      <td>[]</td>\n",
       "      <td>1</td>\n",
       "      <td>L</td>\n",
       "      <td>M1/M2</td>\n",
       "      <td>16.0</td>\n",
       "      <td>69.0</td>\n",
       "      <td>16.0</td>\n",
       "      <td>69.0</td>\n",
       "      <td>2</td>\n",
       "      <td>1</td>\n",
       "    </tr>\n",
       "    <tr>\n",
       "      <th>495</th>\n",
       "      <td>51740821</td>\n",
       "      <td>1</td>\n",
       "      <td>[R MCA]</td>\n",
       "      <td>[R M2, R M2]</td>\n",
       "      <td>[R MCA]</td>\n",
       "      <td>[R M1, R M2]</td>\n",
       "      <td>(4, 122)</td>\n",
       "      <td>NaN</td>\n",
       "      <td>EXAMINATION: Computed tomography angiography (...</td>\n",
       "      <td>[]</td>\n",
       "      <td>[]</td>\n",
       "      <td>1</td>\n",
       "      <td>R</td>\n",
       "      <td>M1/M2</td>\n",
       "      <td>4.0</td>\n",
       "      <td>122.0</td>\n",
       "      <td>4.0</td>\n",
       "      <td>122.0</td>\n",
       "      <td>2</td>\n",
       "      <td>1</td>\n",
       "    </tr>\n",
       "    <tr>\n",
       "      <th>554</th>\n",
       "      <td>51506626</td>\n",
       "      <td>1</td>\n",
       "      <td>[R MCA]</td>\n",
       "      <td>[]</td>\n",
       "      <td>[R MCA]</td>\n",
       "      <td>[R M2]</td>\n",
       "      <td>(0, 15)</td>\n",
       "      <td>NaN</td>\n",
       "      <td>EXAMINATION: Computed tomography angiography (...</td>\n",
       "      <td>[]</td>\n",
       "      <td>[]</td>\n",
       "      <td>1</td>\n",
       "      <td>R</td>\n",
       "      <td>M2</td>\n",
       "      <td>0.0</td>\n",
       "      <td>15.0</td>\n",
       "      <td>0.0</td>\n",
       "      <td>15.0</td>\n",
       "      <td>0</td>\n",
       "      <td>2</td>\n",
       "    </tr>\n",
       "  </tbody>\n",
       "</table>\n",
       "</div>"
      ],
      "text/plain": [
       "     Accession Number  pred_occlusion    pred_vessels       pred_segments  \\\n",
       "155          53017602               1  [R ICA, R MCA]        [R M2, R M3]   \n",
       "185          52903392               1         [R MCA]              [R M2]   \n",
       "364          52202517               1         [R MCA]  [R M1, R M2, R M3]   \n",
       "478          51774576               1         [L MCA]        [L M1, L M2]   \n",
       "483          51761692               1         [R MCA]  [R M1, R M2, R M2]   \n",
       "491          51755266               1         [L MCA]              [L M2]   \n",
       "495          51740821               1         [R MCA]        [R M2, R M2]   \n",
       "554          51506626               1         [R MCA]                  []   \n",
       "\n",
       "    true_vessels true_segments    volumes TICI  \\\n",
       "155      [R MCA]  [R M2, R M3]   (22, 52)  NaN   \n",
       "185      [R MCA]  [R M1, R M2]  (57, 170)  NaN   \n",
       "364      [R MCA]        [R M2]  (74, 161)  NaN   \n",
       "478      [L MCA]        [L M2]     (0, 0)  NaN   \n",
       "483      [R MCA]        [R M2]        NaN    0   \n",
       "491      [L MCA]  [L M1, L M2]   (16, 69)   2a   \n",
       "495      [R MCA]  [R M1, R M2]   (4, 122)  NaN   \n",
       "554      [R MCA]        [R M2]    (0, 15)  NaN   \n",
       "\n",
       "                                   CTA CTP Report Text unmatched_occlusions  \\\n",
       "155  EXAMINATION: Computed tomography angiography (...                   []   \n",
       "185  EXAMINATION: Computed tomography angiography (...                   []   \n",
       "364  EXAMINATION: Computed tomography angiography (...                   []   \n",
       "478  EXAMINATION: Computed tomography angiography (...                   []   \n",
       "483  EXAMINATION: Computed tomography angiography (...                   []   \n",
       "491  EXAMINATION: Computed tomography angiography (...                   []   \n",
       "495  EXAMINATION: Computed tomography angiography (...                   []   \n",
       "554  EXAMINATION: Computed tomography angiography (...                   []   \n",
       "\n",
       "                                  uncertain_occlusions  LVO Side  \\\n",
       "155  [(uncertain occlusion, ICA, _x000D_ Nonopacifi...    2    R   \n",
       "185                                                 []    1    R   \n",
       "364                                                 []    1    R   \n",
       "478                                                 []    1    L   \n",
       "483                                                 []    1    R   \n",
       "491                                                 []    1    L   \n",
       "495                                                 []    1    R   \n",
       "554                                                 []    1    R   \n",
       "\n",
       "    site_occlusion  RAPID Core  RAPID Penumbra  RAPID Core (mL)  \\\n",
       "155          M2/M3        22.0            52.0             22.0   \n",
       "185          M1/M2        57.0           170.0             57.0   \n",
       "364             M2        74.0           161.0             74.0   \n",
       "478             M2         0.0             0.0              0.0   \n",
       "483             M2         0.0             0.0              NaN   \n",
       "491          M1/M2        16.0            69.0             16.0   \n",
       "495          M1/M2         4.0           122.0              4.0   \n",
       "554             M2         0.0            15.0              0.0   \n",
       "\n",
       "     RAPID Penumbra (mL)  NLP_proximal_occlusion  manual_proximal_occlusion  \n",
       "155                 52.0                       1                          2  \n",
       "185                170.0                       2                          1  \n",
       "364                161.0                       1                          2  \n",
       "478                  0.0                       1                          2  \n",
       "483                  NaN                       1                          2  \n",
       "491                 69.0                       2                          1  \n",
       "495                122.0                       2                          1  \n",
       "554                 15.0                       0                          2  "
      ]
     },
     "execution_count": 66,
     "metadata": {},
     "output_type": "execute_result"
    }
   ],
   "source": [
    "#Check prox vs dist of NLP and manual\n",
    "only_ant_occls[\"NLP_proximal_occlusion\"] = only_ant_occls.apply(lambda x: check_proximal_distal(x.pred_occlusion,x.pred_vessels,x.pred_segments), axis=1)\n",
    "only_ant_occls[\"manual_proximal_occlusion\"] = only_ant_occls.apply(lambda x: check_proximal_distal(x.LVO,x.true_vessels,x.true_segments), axis=1)\n",
    "only_ant_occls[only_ant_occls[\"manual_proximal_occlusion\"] != only_ant_occls[\"NLP_proximal_occlusion\"]]"
   ]
  },
  {
   "cell_type": "code",
   "execution_count": 67,
   "metadata": {},
   "outputs": [
    {
     "data": {
      "text/html": [
       "<div>\n",
       "<style scoped>\n",
       "    .dataframe tbody tr th:only-of-type {\n",
       "        vertical-align: middle;\n",
       "    }\n",
       "\n",
       "    .dataframe tbody tr th {\n",
       "        vertical-align: top;\n",
       "    }\n",
       "\n",
       "    .dataframe thead th {\n",
       "        text-align: right;\n",
       "    }\n",
       "</style>\n",
       "<table border=\"1\" class=\"dataframe\">\n",
       "  <thead>\n",
       "    <tr style=\"text-align: right;\">\n",
       "      <th></th>\n",
       "      <th>Accession Number</th>\n",
       "      <th>pred_occlusion</th>\n",
       "      <th>pred_vessels</th>\n",
       "      <th>pred_segments</th>\n",
       "      <th>true_vessels</th>\n",
       "      <th>true_segments</th>\n",
       "      <th>volumes</th>\n",
       "      <th>TICI</th>\n",
       "      <th>CTA CTP Report Text</th>\n",
       "      <th>unmatched_occlusions</th>\n",
       "      <th>uncertain_occlusions</th>\n",
       "      <th>LVO</th>\n",
       "      <th>Side</th>\n",
       "      <th>site_occlusion</th>\n",
       "      <th>RAPID Core</th>\n",
       "      <th>RAPID Penumbra</th>\n",
       "      <th>RAPID Core (mL)</th>\n",
       "      <th>RAPID Penumbra (mL)</th>\n",
       "      <th>NLP_proximal_occlusion</th>\n",
       "      <th>manual_proximal_occlusion</th>\n",
       "    </tr>\n",
       "  </thead>\n",
       "  <tbody>\n",
       "    <tr>\n",
       "      <th>8</th>\n",
       "      <td>53702325</td>\n",
       "      <td>1</td>\n",
       "      <td>[R ICA, R MCA]</td>\n",
       "      <td>[R M1, R M2]</td>\n",
       "      <td>[R ICA, R MCA]</td>\n",
       "      <td>[R M1, R M2]</td>\n",
       "      <td>(216, 302)</td>\n",
       "      <td>3</td>\n",
       "      <td>EXAMINATION: Computed tomography angiography (...</td>\n",
       "      <td>[]</td>\n",
       "      <td>[]</td>\n",
       "      <td>1</td>\n",
       "      <td>R</td>\n",
       "      <td>ICA/M1/M2</td>\n",
       "      <td>216.0</td>\n",
       "      <td>302.0</td>\n",
       "      <td>216.0</td>\n",
       "      <td>302.0</td>\n",
       "      <td>1</td>\n",
       "      <td>1</td>\n",
       "    </tr>\n",
       "    <tr>\n",
       "      <th>16</th>\n",
       "      <td>53682761</td>\n",
       "      <td>1</td>\n",
       "      <td>[L MCA, L ICA, L ACA]</td>\n",
       "      <td>[L M1]</td>\n",
       "      <td>[L MCA, L ICA, L ACA]</td>\n",
       "      <td>[L M1]</td>\n",
       "      <td>(159, 230)</td>\n",
       "      <td>NaN</td>\n",
       "      <td>EXAMINATION: Computed tomography angiography (...</td>\n",
       "      <td>[]</td>\n",
       "      <td>[]</td>\n",
       "      <td>1</td>\n",
       "      <td>L</td>\n",
       "      <td>ICA/M1/ACA</td>\n",
       "      <td>159.0</td>\n",
       "      <td>230.0</td>\n",
       "      <td>159.0</td>\n",
       "      <td>230.0</td>\n",
       "      <td>1</td>\n",
       "      <td>1</td>\n",
       "    </tr>\n",
       "    <tr>\n",
       "      <th>46</th>\n",
       "      <td>53515196</td>\n",
       "      <td>1</td>\n",
       "      <td>[R MCA]</td>\n",
       "      <td>[R M1]</td>\n",
       "      <td>[R MCA]</td>\n",
       "      <td>[R M1]</td>\n",
       "      <td>(12, 47)</td>\n",
       "      <td>NaN</td>\n",
       "      <td>EXAMINATION: Computed tomography angiography (...</td>\n",
       "      <td>[]</td>\n",
       "      <td>[]</td>\n",
       "      <td>1</td>\n",
       "      <td>R/R</td>\n",
       "      <td>M1 &amp; Vetebral</td>\n",
       "      <td>12.0</td>\n",
       "      <td>47.0</td>\n",
       "      <td>12.0</td>\n",
       "      <td>47.0</td>\n",
       "      <td>1</td>\n",
       "      <td>1</td>\n",
       "    </tr>\n",
       "    <tr>\n",
       "      <th>49</th>\n",
       "      <td>53513802</td>\n",
       "      <td>1</td>\n",
       "      <td>[L MCA]</td>\n",
       "      <td>[L M1]</td>\n",
       "      <td>[L MCA]</td>\n",
       "      <td>[L M1]</td>\n",
       "      <td>(44, 168)</td>\n",
       "      <td>NR</td>\n",
       "      <td>EXAMINATION: Computed tomography angiography (...</td>\n",
       "      <td>[]</td>\n",
       "      <td>[]</td>\n",
       "      <td>1</td>\n",
       "      <td>L</td>\n",
       "      <td>M1</td>\n",
       "      <td>44.0</td>\n",
       "      <td>168.0</td>\n",
       "      <td>44.0</td>\n",
       "      <td>168.0</td>\n",
       "      <td>1</td>\n",
       "      <td>1</td>\n",
       "    </tr>\n",
       "    <tr>\n",
       "      <th>50</th>\n",
       "      <td>53510193</td>\n",
       "      <td>1</td>\n",
       "      <td>[L ICA]</td>\n",
       "      <td>[]</td>\n",
       "      <td>[L ICA]</td>\n",
       "      <td>[]</td>\n",
       "      <td>(41, 142)</td>\n",
       "      <td>1</td>\n",
       "      <td>EXAMINATION: Computed tomography angiography (...</td>\n",
       "      <td>[]</td>\n",
       "      <td>[]</td>\n",
       "      <td>1</td>\n",
       "      <td>L</td>\n",
       "      <td>ICA</td>\n",
       "      <td>41.0</td>\n",
       "      <td>142.0</td>\n",
       "      <td>41.0</td>\n",
       "      <td>142.0</td>\n",
       "      <td>1</td>\n",
       "      <td>1</td>\n",
       "    </tr>\n",
       "    <tr>\n",
       "      <th>...</th>\n",
       "      <td>...</td>\n",
       "      <td>...</td>\n",
       "      <td>...</td>\n",
       "      <td>...</td>\n",
       "      <td>...</td>\n",
       "      <td>...</td>\n",
       "      <td>...</td>\n",
       "      <td>...</td>\n",
       "      <td>...</td>\n",
       "      <td>...</td>\n",
       "      <td>...</td>\n",
       "      <td>...</td>\n",
       "      <td>...</td>\n",
       "      <td>...</td>\n",
       "      <td>...</td>\n",
       "      <td>...</td>\n",
       "      <td>...</td>\n",
       "      <td>...</td>\n",
       "      <td>...</td>\n",
       "      <td>...</td>\n",
       "    </tr>\n",
       "    <tr>\n",
       "      <th>531</th>\n",
       "      <td>51603903</td>\n",
       "      <td>1</td>\n",
       "      <td>[L MCA]</td>\n",
       "      <td>[L M1]</td>\n",
       "      <td>[L MCA]</td>\n",
       "      <td>[L M1]</td>\n",
       "      <td>(137, 174)</td>\n",
       "      <td>NaN</td>\n",
       "      <td>EXAMINATION: Computed tomography angiography (...</td>\n",
       "      <td>[]</td>\n",
       "      <td>[]</td>\n",
       "      <td>1</td>\n",
       "      <td>L</td>\n",
       "      <td>M1</td>\n",
       "      <td>137.0</td>\n",
       "      <td>174.0</td>\n",
       "      <td>137.0</td>\n",
       "      <td>174.0</td>\n",
       "      <td>1</td>\n",
       "      <td>1</td>\n",
       "    </tr>\n",
       "    <tr>\n",
       "      <th>533</th>\n",
       "      <td>51599769</td>\n",
       "      <td>1</td>\n",
       "      <td>[R ICA, R MCA]</td>\n",
       "      <td>[R M1, R M1]</td>\n",
       "      <td>[R ICA, R MCA]</td>\n",
       "      <td>[R M1]</td>\n",
       "      <td>(0, 94)</td>\n",
       "      <td>2b</td>\n",
       "      <td>EXAMINATION: Computed tomography angiography (...</td>\n",
       "      <td>[]</td>\n",
       "      <td>[(uncertain occlusion, ICA, _x000D__x000D_  Oc...</td>\n",
       "      <td>1</td>\n",
       "      <td>R</td>\n",
       "      <td>ICA/M1</td>\n",
       "      <td>0.0</td>\n",
       "      <td>94.0</td>\n",
       "      <td>0.0</td>\n",
       "      <td>94.0</td>\n",
       "      <td>1</td>\n",
       "      <td>1</td>\n",
       "    </tr>\n",
       "    <tr>\n",
       "      <th>538</th>\n",
       "      <td>51572617</td>\n",
       "      <td>1</td>\n",
       "      <td>[L MCA]</td>\n",
       "      <td>[L M1, L M2]</td>\n",
       "      <td>[L MCA]</td>\n",
       "      <td>[L M1, L M2]</td>\n",
       "      <td>(93, 105)</td>\n",
       "      <td>NaN</td>\n",
       "      <td>EXAMINATION: Computed tomography angiography (...</td>\n",
       "      <td>[]</td>\n",
       "      <td>[]</td>\n",
       "      <td>1</td>\n",
       "      <td>L</td>\n",
       "      <td>M1/M2</td>\n",
       "      <td>93.0</td>\n",
       "      <td>105.0</td>\n",
       "      <td>93.0</td>\n",
       "      <td>105.0</td>\n",
       "      <td>1</td>\n",
       "      <td>1</td>\n",
       "    </tr>\n",
       "    <tr>\n",
       "      <th>558</th>\n",
       "      <td>51483615</td>\n",
       "      <td>1</td>\n",
       "      <td>[L MCA]</td>\n",
       "      <td>[L M1]</td>\n",
       "      <td>[L MCA]</td>\n",
       "      <td>[L M1]</td>\n",
       "      <td>(29, 99)</td>\n",
       "      <td>NaN</td>\n",
       "      <td>EXAMINATION: Computed tomography angiography (...</td>\n",
       "      <td>[]</td>\n",
       "      <td>[]</td>\n",
       "      <td>1</td>\n",
       "      <td>L</td>\n",
       "      <td>M1</td>\n",
       "      <td>29.0</td>\n",
       "      <td>99.0</td>\n",
       "      <td>29.0</td>\n",
       "      <td>99.0</td>\n",
       "      <td>1</td>\n",
       "      <td>1</td>\n",
       "    </tr>\n",
       "    <tr>\n",
       "      <th>561</th>\n",
       "      <td>51450558</td>\n",
       "      <td>1</td>\n",
       "      <td>[L MCA, L ICA, L ACA]</td>\n",
       "      <td>[L A1, L M1, L M2]</td>\n",
       "      <td>[L ICA, L MCA, L CCA, L ACA]</td>\n",
       "      <td>[L M1, L M2, L A1]</td>\n",
       "      <td>(169, 196)</td>\n",
       "      <td>NaN</td>\n",
       "      <td>EXAMINATION: Computed tomography angiography (...</td>\n",
       "      <td>[]</td>\n",
       "      <td>[]</td>\n",
       "      <td>1</td>\n",
       "      <td>L</td>\n",
       "      <td>CCA/ICA/M1/M2/A1</td>\n",
       "      <td>169.0</td>\n",
       "      <td>196.0</td>\n",
       "      <td>169.0</td>\n",
       "      <td>196.0</td>\n",
       "      <td>1</td>\n",
       "      <td>1</td>\n",
       "    </tr>\n",
       "  </tbody>\n",
       "</table>\n",
       "<p>72 rows × 20 columns</p>\n",
       "</div>"
      ],
      "text/plain": [
       "     Accession Number  pred_occlusion           pred_vessels  \\\n",
       "8            53702325               1         [R ICA, R MCA]   \n",
       "16           53682761               1  [L MCA, L ICA, L ACA]   \n",
       "46           53515196               1                [R MCA]   \n",
       "49           53513802               1                [L MCA]   \n",
       "50           53510193               1                [L ICA]   \n",
       "..                ...             ...                    ...   \n",
       "531          51603903               1                [L MCA]   \n",
       "533          51599769               1         [R ICA, R MCA]   \n",
       "538          51572617               1                [L MCA]   \n",
       "558          51483615               1                [L MCA]   \n",
       "561          51450558               1  [L MCA, L ICA, L ACA]   \n",
       "\n",
       "          pred_segments                  true_vessels       true_segments  \\\n",
       "8          [R M1, R M2]                [R ICA, R MCA]        [R M1, R M2]   \n",
       "16               [L M1]         [L MCA, L ICA, L ACA]              [L M1]   \n",
       "46               [R M1]                       [R MCA]              [R M1]   \n",
       "49               [L M1]                       [L MCA]              [L M1]   \n",
       "50                   []                       [L ICA]                  []   \n",
       "..                  ...                           ...                 ...   \n",
       "531              [L M1]                       [L MCA]              [L M1]   \n",
       "533        [R M1, R M1]                [R ICA, R MCA]              [R M1]   \n",
       "538        [L M1, L M2]                       [L MCA]        [L M1, L M2]   \n",
       "558              [L M1]                       [L MCA]              [L M1]   \n",
       "561  [L A1, L M1, L M2]  [L ICA, L MCA, L CCA, L ACA]  [L M1, L M2, L A1]   \n",
       "\n",
       "        volumes TICI                                CTA CTP Report Text  \\\n",
       "8    (216, 302)    3  EXAMINATION: Computed tomography angiography (...   \n",
       "16   (159, 230)  NaN  EXAMINATION: Computed tomography angiography (...   \n",
       "46     (12, 47)  NaN  EXAMINATION: Computed tomography angiography (...   \n",
       "49    (44, 168)   NR  EXAMINATION: Computed tomography angiography (...   \n",
       "50    (41, 142)    1  EXAMINATION: Computed tomography angiography (...   \n",
       "..          ...  ...                                                ...   \n",
       "531  (137, 174)  NaN  EXAMINATION: Computed tomography angiography (...   \n",
       "533     (0, 94)   2b  EXAMINATION: Computed tomography angiography (...   \n",
       "538   (93, 105)  NaN  EXAMINATION: Computed tomography angiography (...   \n",
       "558    (29, 99)  NaN  EXAMINATION: Computed tomography angiography (...   \n",
       "561  (169, 196)  NaN  EXAMINATION: Computed tomography angiography (...   \n",
       "\n",
       "    unmatched_occlusions                               uncertain_occlusions  \\\n",
       "8                     []                                                 []   \n",
       "16                    []                                                 []   \n",
       "46                    []                                                 []   \n",
       "49                    []                                                 []   \n",
       "50                    []                                                 []   \n",
       "..                   ...                                                ...   \n",
       "531                   []                                                 []   \n",
       "533                   []  [(uncertain occlusion, ICA, _x000D__x000D_  Oc...   \n",
       "538                   []                                                 []   \n",
       "558                   []                                                 []   \n",
       "561                   []                                                 []   \n",
       "\n",
       "     LVO Side    site_occlusion  RAPID Core  RAPID Penumbra  RAPID Core (mL)  \\\n",
       "8      1    R         ICA/M1/M2       216.0           302.0            216.0   \n",
       "16     1    L        ICA/M1/ACA       159.0           230.0            159.0   \n",
       "46     1  R/R     M1 & Vetebral        12.0            47.0             12.0   \n",
       "49     1    L                M1        44.0           168.0             44.0   \n",
       "50     1    L               ICA        41.0           142.0             41.0   \n",
       "..   ...  ...               ...         ...             ...              ...   \n",
       "531    1    L                M1       137.0           174.0            137.0   \n",
       "533    1    R            ICA/M1         0.0            94.0              0.0   \n",
       "538    1    L             M1/M2        93.0           105.0             93.0   \n",
       "558    1    L                M1        29.0            99.0             29.0   \n",
       "561    1    L  CCA/ICA/M1/M2/A1       169.0           196.0            169.0   \n",
       "\n",
       "     RAPID Penumbra (mL)  NLP_proximal_occlusion  manual_proximal_occlusion  \n",
       "8                  302.0                       1                          1  \n",
       "16                 230.0                       1                          1  \n",
       "46                  47.0                       1                          1  \n",
       "49                 168.0                       1                          1  \n",
       "50                 142.0                       1                          1  \n",
       "..                   ...                     ...                        ...  \n",
       "531                174.0                       1                          1  \n",
       "533                 94.0                       1                          1  \n",
       "538                105.0                       1                          1  \n",
       "558                 99.0                       1                          1  \n",
       "561                196.0                       1                          1  \n",
       "\n",
       "[72 rows x 20 columns]"
      ]
     },
     "execution_count": 67,
     "metadata": {},
     "output_type": "execute_result"
    }
   ],
   "source": [
    "only_ant_occls[only_ant_occls[\"NLP_proximal_occlusion\"]==1]"
   ]
  },
  {
   "cell_type": "code",
   "execution_count": 68,
   "metadata": {},
   "outputs": [
    {
     "name": "stdout",
     "output_type": "stream",
     "text": [
      "              precision    recall  f1-score   support\n",
      "\n",
      "           0       0.50      1.00      0.67         1\n",
      "           1       0.94      0.96      0.95        71\n",
      "           2       0.93      0.89      0.91        45\n",
      "\n",
      "    accuracy                           0.93       117\n",
      "   macro avg       0.79      0.95      0.84       117\n",
      "weighted avg       0.94      0.93      0.93       117\n",
      "\n",
      "[[[115   1]\n",
      "  [  0   1]]\n",
      "\n",
      " [[ 42   4]\n",
      "  [  3  68]]\n",
      "\n",
      " [[ 69   3]\n",
      "  [  5  40]]]\n"
     ]
    }
   ],
   "source": [
    "#Recall for proximal (1-ICA/M1) vs distal (2-M2 and beyond)\n",
    "from sklearn.metrics import classification_report\n",
    "from sklearn.metrics import multilabel_confusion_matrix\n",
    "print(classification_report(only_ant_occls[\"manual_proximal_occlusion\"], only_ant_occls[\"NLP_proximal_occlusion\"]))\n",
    "print(multilabel_confusion_matrix(only_ant_occls[\"manual_proximal_occlusion\"], only_ant_occls[\"NLP_proximal_occlusion\"]))"
   ]
  },
  {
   "cell_type": "code",
   "execution_count": 35,
   "metadata": {},
   "outputs": [],
   "source": [
    "# # df['col_3'] = df.apply(lambda x: f(x.col_1, x.col_2), axis=1)\n",
    "# cohort18_19[\"proximal_occlusion\"] = cohort18_19.apply(lambda x: check_proximal_distal(x.LVO,x.site_occlusion), axis=1)\n",
    "# cohort18_19[cohort18_19[\"proximal_occlusion\"] == 1]"
   ]
  },
  {
   "cell_type": "code",
   "execution_count": 36,
   "metadata": {},
   "outputs": [
    {
     "data": {
      "text/html": [
       "<div>\n",
       "<style scoped>\n",
       "    .dataframe tbody tr th:only-of-type {\n",
       "        vertical-align: middle;\n",
       "    }\n",
       "\n",
       "    .dataframe tbody tr th {\n",
       "        vertical-align: top;\n",
       "    }\n",
       "\n",
       "    .dataframe thead th {\n",
       "        text-align: right;\n",
       "    }\n",
       "</style>\n",
       "<table border=\"1\" class=\"dataframe\">\n",
       "  <thead>\n",
       "    <tr style=\"text-align: right;\">\n",
       "      <th></th>\n",
       "      <th>Accession Number</th>\n",
       "      <th>pred_occlusion</th>\n",
       "      <th>pred_vessels</th>\n",
       "      <th>pred_segments</th>\n",
       "      <th>true_vessels</th>\n",
       "      <th>true_segments</th>\n",
       "      <th>volumes</th>\n",
       "      <th>TICI</th>\n",
       "      <th>CTA CTP Report Text</th>\n",
       "      <th>unmatched_occlusions</th>\n",
       "      <th>uncertain_occlusions</th>\n",
       "      <th>LVO</th>\n",
       "      <th>Side</th>\n",
       "      <th>site_occlusion</th>\n",
       "      <th>RAPID Core</th>\n",
       "      <th>RAPID Penumbra</th>\n",
       "      <th>RAPID Core (mL)</th>\n",
       "      <th>RAPID Penumbra (mL)</th>\n",
       "      <th>proximal_occlusion</th>\n",
       "    </tr>\n",
       "  </thead>\n",
       "  <tbody>\n",
       "    <tr>\n",
       "      <th>8</th>\n",
       "      <td>53702325</td>\n",
       "      <td>1</td>\n",
       "      <td>[R ICA, R MCA]</td>\n",
       "      <td>[R M1, R M2]</td>\n",
       "      <td>[R ICA, R MCA]</td>\n",
       "      <td>[R M1, R M2]</td>\n",
       "      <td>(216, 302)</td>\n",
       "      <td>3</td>\n",
       "      <td>EXAMINATION: Computed tomography angiography (...</td>\n",
       "      <td>[]</td>\n",
       "      <td>[]</td>\n",
       "      <td>1</td>\n",
       "      <td>R</td>\n",
       "      <td>ICA/M1/M2</td>\n",
       "      <td>216.0</td>\n",
       "      <td>302.0</td>\n",
       "      <td>216.0</td>\n",
       "      <td>302.0</td>\n",
       "      <td>1</td>\n",
       "    </tr>\n",
       "    <tr>\n",
       "      <th>16</th>\n",
       "      <td>53682761</td>\n",
       "      <td>1</td>\n",
       "      <td>[L MCA, L ICA, L ACA]</td>\n",
       "      <td>[L M1]</td>\n",
       "      <td>[L MCA, L ICA, L ACA]</td>\n",
       "      <td>[L M1]</td>\n",
       "      <td>(159, 230)</td>\n",
       "      <td>NaN</td>\n",
       "      <td>EXAMINATION: Computed tomography angiography (...</td>\n",
       "      <td>[]</td>\n",
       "      <td>[]</td>\n",
       "      <td>1</td>\n",
       "      <td>L</td>\n",
       "      <td>ICA/M1/ACA</td>\n",
       "      <td>159.0</td>\n",
       "      <td>230.0</td>\n",
       "      <td>159.0</td>\n",
       "      <td>230.0</td>\n",
       "      <td>1</td>\n",
       "    </tr>\n",
       "    <tr>\n",
       "      <th>46</th>\n",
       "      <td>53515196</td>\n",
       "      <td>1</td>\n",
       "      <td>[R MCA]</td>\n",
       "      <td>[R M1]</td>\n",
       "      <td>[R MCA]</td>\n",
       "      <td>[R M1]</td>\n",
       "      <td>(12, 47)</td>\n",
       "      <td>NaN</td>\n",
       "      <td>EXAMINATION: Computed tomography angiography (...</td>\n",
       "      <td>[]</td>\n",
       "      <td>[]</td>\n",
       "      <td>1</td>\n",
       "      <td>R/R</td>\n",
       "      <td>M1 &amp; Vetebral</td>\n",
       "      <td>12.0</td>\n",
       "      <td>47.0</td>\n",
       "      <td>12.0</td>\n",
       "      <td>47.0</td>\n",
       "      <td>1</td>\n",
       "    </tr>\n",
       "    <tr>\n",
       "      <th>49</th>\n",
       "      <td>53513802</td>\n",
       "      <td>1</td>\n",
       "      <td>[L MCA]</td>\n",
       "      <td>[L M1]</td>\n",
       "      <td>[L MCA]</td>\n",
       "      <td>[L M1]</td>\n",
       "      <td>(44, 168)</td>\n",
       "      <td>NR</td>\n",
       "      <td>EXAMINATION: Computed tomography angiography (...</td>\n",
       "      <td>[]</td>\n",
       "      <td>[]</td>\n",
       "      <td>1</td>\n",
       "      <td>L</td>\n",
       "      <td>M1</td>\n",
       "      <td>44.0</td>\n",
       "      <td>168.0</td>\n",
       "      <td>44.0</td>\n",
       "      <td>168.0</td>\n",
       "      <td>1</td>\n",
       "    </tr>\n",
       "    <tr>\n",
       "      <th>50</th>\n",
       "      <td>53510193</td>\n",
       "      <td>1</td>\n",
       "      <td>[L ICA]</td>\n",
       "      <td>[]</td>\n",
       "      <td>[L ICA]</td>\n",
       "      <td>[]</td>\n",
       "      <td>(41, 142)</td>\n",
       "      <td>1</td>\n",
       "      <td>EXAMINATION: Computed tomography angiography (...</td>\n",
       "      <td>[]</td>\n",
       "      <td>[]</td>\n",
       "      <td>1</td>\n",
       "      <td>L</td>\n",
       "      <td>ICA</td>\n",
       "      <td>41.0</td>\n",
       "      <td>142.0</td>\n",
       "      <td>41.0</td>\n",
       "      <td>142.0</td>\n",
       "      <td>1</td>\n",
       "    </tr>\n",
       "    <tr>\n",
       "      <th>...</th>\n",
       "      <td>...</td>\n",
       "      <td>...</td>\n",
       "      <td>...</td>\n",
       "      <td>...</td>\n",
       "      <td>...</td>\n",
       "      <td>...</td>\n",
       "      <td>...</td>\n",
       "      <td>...</td>\n",
       "      <td>...</td>\n",
       "      <td>...</td>\n",
       "      <td>...</td>\n",
       "      <td>...</td>\n",
       "      <td>...</td>\n",
       "      <td>...</td>\n",
       "      <td>...</td>\n",
       "      <td>...</td>\n",
       "      <td>...</td>\n",
       "      <td>...</td>\n",
       "      <td>...</td>\n",
       "    </tr>\n",
       "    <tr>\n",
       "      <th>537</th>\n",
       "      <td>51585488</td>\n",
       "      <td>1</td>\n",
       "      <td>[R ICA]</td>\n",
       "      <td>[]</td>\n",
       "      <td>[]</td>\n",
       "      <td>[]</td>\n",
       "      <td>(0, 0)</td>\n",
       "      <td>NaN</td>\n",
       "      <td>EXAMINATION: Computed tomography angiography (...</td>\n",
       "      <td>[]</td>\n",
       "      <td>[]</td>\n",
       "      <td>0</td>\n",
       "      <td>NaN</td>\n",
       "      <td>NaN</td>\n",
       "      <td>0.0</td>\n",
       "      <td>0.0</td>\n",
       "      <td>0.0</td>\n",
       "      <td>0.0</td>\n",
       "      <td>1</td>\n",
       "    </tr>\n",
       "    <tr>\n",
       "      <th>538</th>\n",
       "      <td>51572617</td>\n",
       "      <td>1</td>\n",
       "      <td>[L MCA]</td>\n",
       "      <td>[L M1, L M2]</td>\n",
       "      <td>[L MCA]</td>\n",
       "      <td>[L M1, L M2]</td>\n",
       "      <td>(93, 105)</td>\n",
       "      <td>NaN</td>\n",
       "      <td>EXAMINATION: Computed tomography angiography (...</td>\n",
       "      <td>[]</td>\n",
       "      <td>[]</td>\n",
       "      <td>1</td>\n",
       "      <td>L</td>\n",
       "      <td>M1/M2</td>\n",
       "      <td>93.0</td>\n",
       "      <td>105.0</td>\n",
       "      <td>93.0</td>\n",
       "      <td>105.0</td>\n",
       "      <td>1</td>\n",
       "    </tr>\n",
       "    <tr>\n",
       "      <th>558</th>\n",
       "      <td>51483615</td>\n",
       "      <td>1</td>\n",
       "      <td>[L MCA]</td>\n",
       "      <td>[L M1]</td>\n",
       "      <td>[L MCA]</td>\n",
       "      <td>[L M1]</td>\n",
       "      <td>(29, 99)</td>\n",
       "      <td>NaN</td>\n",
       "      <td>EXAMINATION: Computed tomography angiography (...</td>\n",
       "      <td>[]</td>\n",
       "      <td>[]</td>\n",
       "      <td>1</td>\n",
       "      <td>L</td>\n",
       "      <td>M1</td>\n",
       "      <td>29.0</td>\n",
       "      <td>99.0</td>\n",
       "      <td>29.0</td>\n",
       "      <td>99.0</td>\n",
       "      <td>1</td>\n",
       "    </tr>\n",
       "    <tr>\n",
       "      <th>561</th>\n",
       "      <td>51450558</td>\n",
       "      <td>1</td>\n",
       "      <td>[L MCA, L ICA, L ACA]</td>\n",
       "      <td>[L A1, L M1, L M2]</td>\n",
       "      <td>[L ICA, L MCA, L CCA, L ACA]</td>\n",
       "      <td>[L M1, L M2, L A1]</td>\n",
       "      <td>(169, 196)</td>\n",
       "      <td>NaN</td>\n",
       "      <td>EXAMINATION: Computed tomography angiography (...</td>\n",
       "      <td>[]</td>\n",
       "      <td>[]</td>\n",
       "      <td>1</td>\n",
       "      <td>L</td>\n",
       "      <td>CCA/ICA/M1/M2/A1</td>\n",
       "      <td>169.0</td>\n",
       "      <td>196.0</td>\n",
       "      <td>169.0</td>\n",
       "      <td>196.0</td>\n",
       "      <td>1</td>\n",
       "    </tr>\n",
       "    <tr>\n",
       "      <th>568</th>\n",
       "      <td>51404302</td>\n",
       "      <td>1</td>\n",
       "      <td>[L ICA]</td>\n",
       "      <td>[]</td>\n",
       "      <td>[]</td>\n",
       "      <td>[]</td>\n",
       "      <td>(0, 0)</td>\n",
       "      <td>NaN</td>\n",
       "      <td>EXAMINATION: Computed tomography angiography (...</td>\n",
       "      <td>[]</td>\n",
       "      <td>[]</td>\n",
       "      <td>0</td>\n",
       "      <td>NaN</td>\n",
       "      <td>NaN</td>\n",
       "      <td>0.0</td>\n",
       "      <td>0.0</td>\n",
       "      <td>0.0</td>\n",
       "      <td>0.0</td>\n",
       "      <td>1</td>\n",
       "    </tr>\n",
       "  </tbody>\n",
       "</table>\n",
       "<p>82 rows × 19 columns</p>\n",
       "</div>"
      ],
      "text/plain": [
       "     Accession Number  pred_occlusion           pred_vessels  \\\n",
       "8            53702325               1         [R ICA, R MCA]   \n",
       "16           53682761               1  [L MCA, L ICA, L ACA]   \n",
       "46           53515196               1                [R MCA]   \n",
       "49           53513802               1                [L MCA]   \n",
       "50           53510193               1                [L ICA]   \n",
       "..                ...             ...                    ...   \n",
       "537          51585488               1                [R ICA]   \n",
       "538          51572617               1                [L MCA]   \n",
       "558          51483615               1                [L MCA]   \n",
       "561          51450558               1  [L MCA, L ICA, L ACA]   \n",
       "568          51404302               1                [L ICA]   \n",
       "\n",
       "          pred_segments                  true_vessels       true_segments  \\\n",
       "8          [R M1, R M2]                [R ICA, R MCA]        [R M1, R M2]   \n",
       "16               [L M1]         [L MCA, L ICA, L ACA]              [L M1]   \n",
       "46               [R M1]                       [R MCA]              [R M1]   \n",
       "49               [L M1]                       [L MCA]              [L M1]   \n",
       "50                   []                       [L ICA]                  []   \n",
       "..                  ...                           ...                 ...   \n",
       "537                  []                            []                  []   \n",
       "538        [L M1, L M2]                       [L MCA]        [L M1, L M2]   \n",
       "558              [L M1]                       [L MCA]              [L M1]   \n",
       "561  [L A1, L M1, L M2]  [L ICA, L MCA, L CCA, L ACA]  [L M1, L M2, L A1]   \n",
       "568                  []                            []                  []   \n",
       "\n",
       "        volumes TICI                                CTA CTP Report Text  \\\n",
       "8    (216, 302)    3  EXAMINATION: Computed tomography angiography (...   \n",
       "16   (159, 230)  NaN  EXAMINATION: Computed tomography angiography (...   \n",
       "46     (12, 47)  NaN  EXAMINATION: Computed tomography angiography (...   \n",
       "49    (44, 168)   NR  EXAMINATION: Computed tomography angiography (...   \n",
       "50    (41, 142)    1  EXAMINATION: Computed tomography angiography (...   \n",
       "..          ...  ...                                                ...   \n",
       "537      (0, 0)  NaN  EXAMINATION: Computed tomography angiography (...   \n",
       "538   (93, 105)  NaN  EXAMINATION: Computed tomography angiography (...   \n",
       "558    (29, 99)  NaN  EXAMINATION: Computed tomography angiography (...   \n",
       "561  (169, 196)  NaN  EXAMINATION: Computed tomography angiography (...   \n",
       "568      (0, 0)  NaN  EXAMINATION: Computed tomography angiography (...   \n",
       "\n",
       "    unmatched_occlusions uncertain_occlusions  LVO Side    site_occlusion  \\\n",
       "8                     []                   []    1    R         ICA/M1/M2   \n",
       "16                    []                   []    1    L        ICA/M1/ACA   \n",
       "46                    []                   []    1  R/R     M1 & Vetebral   \n",
       "49                    []                   []    1    L                M1   \n",
       "50                    []                   []    1    L               ICA   \n",
       "..                   ...                  ...  ...  ...               ...   \n",
       "537                   []                   []    0  NaN               NaN   \n",
       "538                   []                   []    1    L             M1/M2   \n",
       "558                   []                   []    1    L                M1   \n",
       "561                   []                   []    1    L  CCA/ICA/M1/M2/A1   \n",
       "568                   []                   []    0  NaN               NaN   \n",
       "\n",
       "     RAPID Core  RAPID Penumbra  RAPID Core (mL)  RAPID Penumbra (mL)  \\\n",
       "8         216.0           302.0            216.0                302.0   \n",
       "16        159.0           230.0            159.0                230.0   \n",
       "46         12.0            47.0             12.0                 47.0   \n",
       "49         44.0           168.0             44.0                168.0   \n",
       "50         41.0           142.0             41.0                142.0   \n",
       "..          ...             ...              ...                  ...   \n",
       "537         0.0             0.0              0.0                  0.0   \n",
       "538        93.0           105.0             93.0                105.0   \n",
       "558        29.0            99.0             29.0                 99.0   \n",
       "561       169.0           196.0            169.0                196.0   \n",
       "568         0.0             0.0              0.0                  0.0   \n",
       "\n",
       "     proximal_occlusion  \n",
       "8                     1  \n",
       "16                    1  \n",
       "46                    1  \n",
       "49                    1  \n",
       "50                    1  \n",
       "..                  ...  \n",
       "537                   1  \n",
       "538                   1  \n",
       "558                   1  \n",
       "561                   1  \n",
       "568                   1  \n",
       "\n",
       "[82 rows x 19 columns]"
      ]
     },
     "execution_count": 36,
     "metadata": {},
     "output_type": "execute_result"
    }
   ],
   "source": [
    "# NLP LVO\n",
    "#For further analysis!!\n",
    "cohort18_19[\"proximal_occlusion\"] = cohort18_19.apply(lambda x: check_proximal_distal(x.pred_occlusion,x.pred_vessels,x.pred_segments), axis=1)\n",
    "cohort18_19[cohort18_19[\"proximal_occlusion\"] == 1]"
   ]
  },
  {
   "cell_type": "code",
   "execution_count": 37,
   "metadata": {},
   "outputs": [],
   "source": [
    "# out_filename=\"/mnt/c/Users/zohai/Documents/Research/Neuro_ML/LVOs_Follow_Up_CTs/BJH_2018_2019_master_v2_PROX_TEST.xlsx\"\n",
    "# cohort18_19.to_excel(out_filename, index=False)"
   ]
  },
  {
   "cell_type": "code",
   "execution_count": 38,
   "metadata": {},
   "outputs": [],
   "source": [
    "import re\n",
    "class labels_extractor:\n",
    "    \n",
    "    def __init__(self,side_column,occlusion_column):\n",
    "        self.side_labels = self.extract_occlusion_labels(side_column)\n",
    "        self.occl_labels = self.extract_occlusion_labels(occlusion_column)\n",
    "    \n",
    "    def extract_occlusion_labels(self,df):\n",
    "        #side = (df['Side'])\n",
    "        cleaned_df = list(df.fillna(''))\n",
    "\n",
    "        #df_normalize_both = [df.lower() if \"both\" in df.lower() else df for df in cleaned_df]\n",
    "\n",
    "        df_no_spaces = [df.replace(\" \",\"\") for df in cleaned_df]\n",
    "\n",
    "        df_no_seps = [re.split(\"\\/|&\",df) if (\"/\" in df or \"&\" in df) else df for df in df_no_spaces]\n",
    "\n",
    "\n",
    "        return df_no_seps\n",
    "    \n",
    "    def return_labels(self):\n",
    "        labels = []\n",
    "        for side, occl in zip(self.side_labels,self.occl_labels):\n",
    "            #Occl is '', i.e. no occlusion\n",
    "            if not occl:\n",
    "                labels.append([])\n",
    "            else:\n",
    "                #Lowercase vertebral and basilar to match predictions\n",
    "                if occl in [\"Vertebral\", \"Basilar\"]:\n",
    "                    occl = occl.lower()\n",
    "                #Ex. [\"M2\", \"M1\"]\n",
    "                if isinstance(occl,list):\n",
    "                    #Ex. [\"L\", \"R\"]\n",
    "                    if isinstance(side,list):\n",
    "                        labels.append([\" \".join(tup) for tup in zip(side,occl)])\n",
    "#                         for s, o in zip(side,occl):\n",
    "#                             labels.append(s + \" \" + o)\n",
    "                    else:\n",
    "                        if side:\n",
    "                            side += \" \"\n",
    "                        l = []\n",
    "                        for o in occl:\n",
    "                            if \"both\" in side.lower():\n",
    "                                l.append(\"R \"+ o)\n",
    "                                l.append(\"L \"+ o)\n",
    "                            else:\n",
    "                                l.append(side + o)\n",
    "                        labels.append(l)\n",
    "                else:\n",
    "                    if side:\n",
    "                        side += \" \"\n",
    "                    if \"both\" in side.lower():\n",
    "                        labels.append([\"R \"+ occl, \"L \"+ occl])\n",
    "#                         l.append(\"R \"+ occl)\n",
    "#                         l.append(\"L \"+ occl)\n",
    "                    else:\n",
    "                        labels.append([side + occl])\n",
    "        return labels\n",
    "                        \n",
    "                    \n",
    "\n",
    "    \n",
    "# side_labels = extract_occlusion_labels(filtered_df['Side'])\n",
    "# side_labels\n",
    "# le = labels_extractor(cohort18_19['Side'],cohort18_19['site_occlusion'])\n",
    "# le.occl_labels[105]"
   ]
  },
  {
   "cell_type": "markdown",
   "metadata": {},
   "source": [
    "f = lambda x: 1 if (\"ICA\" in x) or (\"M1\" in x) else 2"
   ]
  },
  {
   "cell_type": "markdown",
   "metadata": {},
   "source": [
    "f(le.occl_labels[105])"
   ]
  },
  {
   "cell_type": "markdown",
   "metadata": {},
   "source": [
    "cohort18_19[\"occlusion label\"] = le.occl_labels\n",
    "cohort18_19[\"LVO\"].iloc[105]"
   ]
  },
  {
   "cell_type": "markdown",
   "metadata": {},
   "source": [
    "cohort18_19[cohort18_19[\"LVO\"]>0].iloc[105]"
   ]
  },
  {
   "cell_type": "markdown",
   "metadata": {},
   "source": [
    "manual_proximal_distal = cohort18_19[cohort18_19[\"LVO\"]>0][\"occlusion label\"].apply(f)\n",
    "manual_proximal_distal=manual_proximal_distal.astype(str)\n",
    "manual_proximal_distal.iloc[105]"
   ]
  },
  {
   "cell_type": "markdown",
   "metadata": {},
   "source": [
    "cohort18_19[cohort18_19[\"LVO\"]>0][\"occlusion label\"].iloc[105]"
   ]
  },
  {
   "cell_type": "markdown",
   "metadata": {},
   "source": [
    "from sklearn.preprocessing import MultiLabelBinarizer\n",
    "from sklearn.metrics import classification_report\n",
    "class stats_generator:\n",
    "    def __init__(self, X, y, check_side=None):\n",
    "        self.oneHotEncoder = MultiLabelBinarizer()\n",
    "        #If only self.y, classes in self.X not in self.y would\n",
    "        #may cause an error when classification_report(...) generated\n",
    "        #Case where predictions vary from y labels \n",
    "        self.oneHotEncoder.fit(y)\n",
    "        self.encoded_X = self.oneHotEncoder.transform(X)\n",
    "        self.encoded_y = self.oneHotEncoder.transform(y)\n",
    "    def getStats(self):\n",
    "        print(classification_report(self.encoded_y, self.encoded_X, target_names=self.oneHotEncoder.classes_))"
   ]
  },
  {
   "cell_type": "markdown",
   "metadata": {},
   "source": [
    "stats_generator(cohort18_19[cohort18_19[\"LVO\"]>0][\"proximal_occlusion\"].astype(str), manual_proximal_distal).getStats()"
   ]
  },
  {
   "cell_type": "markdown",
   "metadata": {},
   "source": [
    "def differences(preds,labels):\n",
    "    #Compare lower case labels to lower case predictions\n",
    "    #Set ^ operation returns list with elements unique to either prediction or label but not both\n",
    "    lower = lambda x:x.lower()\n",
    "    differences = []\n",
    "    for prediction,label in zip(preds,labels):\n",
    "        if list(set(map(lower,prediction))^set(map(lower,label))):\n",
    "            differences.append((prediction,label))\n",
    "        else:\n",
    "            differences.append(())\n",
    "    return differences\n",
    "\n",
    "diffs = differences(cohort18_19[cohort18_19[\"LVO\"]>0][\"proximal_occlusion\"].astype(str),manual_proximal_distal)\n",
    "diffs = list(filter(lambda xy:True if xy[0] else False,(zip(diffs,range(len(diffs))))))\n",
    "diffs"
   ]
  },
  {
   "cell_type": "markdown",
   "metadata": {},
   "source": [
    "cohort18_19[cohort18_19[\"unmatched_occlusions\"].astype(str) != '[]'][\"unmatched_occlusions\"]"
   ]
  },
  {
   "cell_type": "markdown",
   "metadata": {},
   "source": [
    "cohort18_19[cohort18_19[\"uncertain_occlusions\"].astype(str) != '[]'][\"uncertain_occlusions\"]"
   ]
  },
  {
   "cell_type": "markdown",
   "metadata": {},
   "source": [
    "import matplotlib\n",
    "proximal_occlusions = cohort18_19[cohort18_19[\"proximal_occlusion\"] > 0]\n",
    "plt = proximal_occlusions.plot.scatter(x='proximal_occlusion',y='RAPID Core (mL)')"
   ]
  },
  {
   "cell_type": "markdown",
   "metadata": {},
   "source": [
    "proximal_occlusions.hist(column=[\"RAPID Core (mL)\", \"RAPID Penumbra (mL)\", \"pred_occlusion\", \"proximal_occlusion\"])"
   ]
  },
  {
   "cell_type": "markdown",
   "metadata": {},
   "source": [
    "proximal_occlusions[proximal_occlusions[\"RAPID Core (mL)\"].isna()]"
   ]
  },
  {
   "cell_type": "markdown",
   "metadata": {},
   "source": [
    "proximal_occlusions = proximal_occlusions[proximal_occlusions[\"RAPID Core (mL)\"].notna()]\n",
    "proximal_occlusions = proximal_occlusions[proximal_occlusions[\"RAPID Penumbra (mL)\"].notna()]\n",
    "proximal_occlusions"
   ]
  },
  {
   "cell_type": "markdown",
   "metadata": {},
   "source": [
    "#box_df = proximal_occlusions[\"boxplot\"]\n",
    "proximal_occlusions.boxplot(column='RAPID Core (mL)',by='proximal_occlusion')"
   ]
  },
  {
   "cell_type": "markdown",
   "metadata": {},
   "source": [
    "proximal_occlusions[proximal_occlusions[\"proximal_occlusion\"] == 1][\"RAPID Core (mL)\"].quantile(q=[.25,.5,.75])"
   ]
  },
  {
   "cell_type": "markdown",
   "metadata": {},
   "source": [
    "proximal_occlusions[proximal_occlusions[\"proximal_occlusion\"] == 2][\"RAPID Core (mL)\"].quantile(q=[.25,.5,.75])"
   ]
  },
  {
   "cell_type": "markdown",
   "metadata": {},
   "source": [
    "proximal_occlusions.hist(column='RAPID Core (mL)',by='proximal_occlusion')"
   ]
  },
  {
   "cell_type": "markdown",
   "metadata": {},
   "source": [
    "sum(proximal_occlusions[proximal_occlusions[\"proximal_occlusion\"] == 1][\"RAPID Core (mL)\"] == 0)"
   ]
  },
  {
   "cell_type": "markdown",
   "metadata": {},
   "source": [
    "sum(proximal_occlusions[proximal_occlusions[\"proximal_occlusion\"] == 2][\"RAPID Core (mL)\"] == 0)"
   ]
  },
  {
   "cell_type": "markdown",
   "metadata": {},
   "source": [
    "sum(proximal_occlusions[proximal_occlusions[\"proximal_occlusion\"] == 1][\"RAPID Core (mL)\"] < 25)"
   ]
  },
  {
   "cell_type": "markdown",
   "metadata": {},
   "source": [
    "sum(proximal_occlusions[proximal_occlusions[\"proximal_occlusion\"] == 2][\"RAPID Core (mL)\"] < 10)"
   ]
  },
  {
   "cell_type": "markdown",
   "metadata": {},
   "source": [
    "proximal_occlusions.iloc[0]"
   ]
  },
  {
   "cell_type": "markdown",
   "metadata": {},
   "source": [
    "#Excluding high vals\n",
    "#cohort18_19[(cohort18_19[\"proximal_occlusion\"] > 0) & (cohort18_19[\"RAPID Core (mL)\"] < 100)].boxplot(column='RAPID Core (mL)',by='proximal_occlusion')"
   ]
  },
  {
   "cell_type": "markdown",
   "metadata": {},
   "source": [
    "from scipy.stats import ttest_ind, mannwhitneyu\n",
    "proximals = proximal_occlusions[proximal_occlusions[\"proximal_occlusion\"] == 1]\n",
    "distals = proximal_occlusions[proximal_occlusions[\"proximal_occlusion\"] == 2]\n",
    "ttest_ind(proximals[\"RAPID Core (mL)\"].dropna(),distals[\"RAPID Core (mL)\"].dropna())"
   ]
  },
  {
   "cell_type": "markdown",
   "metadata": {},
   "source": [
    "mannwhitneyu(proximals[\"RAPID Core (mL)\"],distals[\"RAPID Core (mL)\"])"
   ]
  },
  {
   "cell_type": "markdown",
   "metadata": {},
   "source": []
  },
  {
   "cell_type": "markdown",
   "metadata": {
    "scrolled": true
   },
   "source": [
    "#len(proximals.dropna()) + len(distals.dropna())"
   ]
  },
  {
   "cell_type": "markdown",
   "metadata": {},
   "source": [
    "#len(proximal_occlusions.dropna())"
   ]
  },
  {
   "cell_type": "markdown",
   "metadata": {},
   "source": [
    "#Excluding 0 core volume\n",
    "#cohort18_19[(cohort18_19[\"proximal_occlusion\"] > 0) & (cohort18_19[\"RAPID Core (mL)\"] > 0)].boxplot(column='RAPID Core (mL)',by='proximal_occlusion')"
   ]
  },
  {
   "cell_type": "markdown",
   "metadata": {},
   "source": [
    "#Not many na's\n",
    "len(proximals[\"RAPID Core (mL)\"].dropna())"
   ]
  },
  {
   "cell_type": "markdown",
   "metadata": {},
   "source": [
    "proximal_occlusions.boxplot(column='RAPID Penumbra (mL)',by='proximal_occlusion')"
   ]
  },
  {
   "cell_type": "markdown",
   "metadata": {},
   "source": [
    "proximal_occlusions[proximal_occlusions[\"proximal_occlusion\"] == 1][\"RAPID Penumbra (mL)\"].quantile(q=[.25,.5,.75])"
   ]
  },
  {
   "cell_type": "markdown",
   "metadata": {},
   "source": [
    "proximal_occlusions[proximal_occlusions[\"proximal_occlusion\"] == 2][\"RAPID Penumbra (mL)\"].quantile(q=[.25,.5,.75])"
   ]
  },
  {
   "cell_type": "markdown",
   "metadata": {},
   "source": [
    "proximal_occlusions.hist(column='RAPID Penumbra (mL)',by='proximal_occlusion')"
   ]
  },
  {
   "cell_type": "markdown",
   "metadata": {},
   "source": [
    "sum(proximal_occlusions[proximal_occlusions[\"proximal_occlusion\"] == 1][\"RAPID Penumbra (mL)\"] == 0)"
   ]
  },
  {
   "cell_type": "markdown",
   "metadata": {},
   "source": [
    "sum(proximal_occlusions[proximal_occlusions[\"proximal_occlusion\"] == 2][\"RAPID Penumbra (mL)\"] == 0)"
   ]
  },
  {
   "cell_type": "markdown",
   "metadata": {},
   "source": [
    "sum(proximal_occlusions[proximal_occlusions[\"proximal_occlusion\"] == 1][\"RAPID Penumbra (mL)\"] < 25)"
   ]
  },
  {
   "cell_type": "markdown",
   "metadata": {},
   "source": [
    "sum(proximal_occlusions[proximal_occlusions[\"proximal_occlusion\"] == 2][\"RAPID Penumbra (mL)\"] < 25)"
   ]
  },
  {
   "cell_type": "markdown",
   "metadata": {},
   "source": [
    "#ttest_ind(proximals[\"RAPID Penumbra (mL)\"].dropna(),distals[\"RAPID Penumbra (mL)\"].dropna())"
   ]
  },
  {
   "cell_type": "markdown",
   "metadata": {},
   "source": [
    "mannwhitneyu(proximals[\"RAPID Penumbra (mL)\"],distals[\"RAPID Penumbra (mL)\"])"
   ]
  },
  {
   "cell_type": "markdown",
   "metadata": {},
   "source": [
    "#len(proximals[\"RAPID Penumbra (mL)\"].dropna())"
   ]
  },
  {
   "cell_type": "code",
   "execution_count": 39,
   "metadata": {},
   "outputs": [],
   "source": [
    "# #Excluding 0 penumbra volume\n",
    "# cohort18_19[(cohort18_19[\"proximal_occlusion\"] > 0) & (cohort18_19[\"RAPID Penumbra (mL)\"] > 0)].boxplot(column='RAPID Penumbra (mL)',by='proximal_occlusion')"
   ]
  },
  {
   "cell_type": "code",
   "execution_count": 40,
   "metadata": {},
   "outputs": [
    {
     "data": {
      "text/html": [
       "<div>\n",
       "<style scoped>\n",
       "    .dataframe tbody tr th:only-of-type {\n",
       "        vertical-align: middle;\n",
       "    }\n",
       "\n",
       "    .dataframe tbody tr th {\n",
       "        vertical-align: top;\n",
       "    }\n",
       "\n",
       "    .dataframe thead th {\n",
       "        text-align: right;\n",
       "    }\n",
       "</style>\n",
       "<table border=\"1\" class=\"dataframe\">\n",
       "  <thead>\n",
       "    <tr style=\"text-align: right;\">\n",
       "      <th></th>\n",
       "      <th>Accession Number</th>\n",
       "      <th>midline shift (mm)</th>\n",
       "      <th>edema</th>\n",
       "      <th>sulcal effacement</th>\n",
       "      <th>fu_CT_report</th>\n",
       "      <th>fu_CT2_report</th>\n",
       "      <th>fu_CT3_report</th>\n",
       "      <th>ee_ms_se</th>\n",
       "      <th>TICI</th>\n",
       "      <th>ME</th>\n",
       "      <th>manual_edema</th>\n",
       "      <th>manual_mls</th>\n",
       "    </tr>\n",
       "  </thead>\n",
       "  <tbody>\n",
       "    <tr>\n",
       "      <th>0</th>\n",
       "      <td>53710639</td>\n",
       "      <td>0</td>\n",
       "      <td>0</td>\n",
       "      <td>0.0</td>\n",
       "      <td>There is no acute intracranial hemorrhage. Ven...</td>\n",
       "      <td>NaN</td>\n",
       "      <td>NaN</td>\n",
       "      <td>[(0, 0, 0)]</td>\n",
       "      <td>3</td>\n",
       "      <td>0</td>\n",
       "      <td>0</td>\n",
       "      <td>0</td>\n",
       "    </tr>\n",
       "    <tr>\n",
       "      <th>1</th>\n",
       "      <td>53702325</td>\n",
       "      <td>4</td>\n",
       "      <td>1</td>\n",
       "      <td>1.0</td>\n",
       "      <td>There is large right anterior circulation isch...</td>\n",
       "      <td>NaN</td>\n",
       "      <td>NaN</td>\n",
       "      <td>[(1, 4, 1)]</td>\n",
       "      <td>3</td>\n",
       "      <td>0</td>\n",
       "      <td>1</td>\n",
       "      <td>4</td>\n",
       "    </tr>\n",
       "    <tr>\n",
       "      <th>2</th>\n",
       "      <td>53682761</td>\n",
       "      <td>4</td>\n",
       "      <td>1</td>\n",
       "      <td>1.0</td>\n",
       "      <td>There is evolution of large left anterior and ...</td>\n",
       "      <td>There is evolution of the large left anterior ...</td>\n",
       "      <td>NaN</td>\n",
       "      <td>[(1, 3, 1), (1, 4, 1)]</td>\n",
       "      <td>NaN</td>\n",
       "      <td>0</td>\n",
       "      <td>1</td>\n",
       "      <td>4</td>\n",
       "    </tr>\n",
       "    <tr>\n",
       "      <th>3</th>\n",
       "      <td>53681846</td>\n",
       "      <td>0</td>\n",
       "      <td>0</td>\n",
       "      <td>1.0</td>\n",
       "      <td>There is no acute intracranial hemorrhage. Pre...</td>\n",
       "      <td>Again seen is mild hypoattenuation within a pa...</td>\n",
       "      <td>An evolving subacute ischemic infarction invol...</td>\n",
       "      <td>[(0, 0, 1), (0, 0, 1), (0, 0, 0)]</td>\n",
       "      <td>2B</td>\n",
       "      <td>0</td>\n",
       "      <td>0</td>\n",
       "      <td>0</td>\n",
       "    </tr>\n",
       "    <tr>\n",
       "      <th>4</th>\n",
       "      <td>53678983</td>\n",
       "      <td>0</td>\n",
       "      <td>0</td>\n",
       "      <td>NaN</td>\n",
       "      <td>NaN</td>\n",
       "      <td>NaN</td>\n",
       "      <td>NaN</td>\n",
       "      <td>[]</td>\n",
       "      <td>NaN</td>\n",
       "      <td>0</td>\n",
       "      <td>0</td>\n",
       "      <td>0</td>\n",
       "    </tr>\n",
       "    <tr>\n",
       "      <th>...</th>\n",
       "      <td>...</td>\n",
       "      <td>...</td>\n",
       "      <td>...</td>\n",
       "      <td>...</td>\n",
       "      <td>...</td>\n",
       "      <td>...</td>\n",
       "      <td>...</td>\n",
       "      <td>...</td>\n",
       "      <td>...</td>\n",
       "      <td>...</td>\n",
       "      <td>...</td>\n",
       "      <td>...</td>\n",
       "    </tr>\n",
       "    <tr>\n",
       "      <th>117</th>\n",
       "      <td>51506626</td>\n",
       "      <td>0</td>\n",
       "      <td>0</td>\n",
       "      <td>NaN</td>\n",
       "      <td>NaN</td>\n",
       "      <td>NaN</td>\n",
       "      <td>NaN</td>\n",
       "      <td>[]</td>\n",
       "      <td>NaN</td>\n",
       "      <td>0</td>\n",
       "      <td>0</td>\n",
       "      <td>0</td>\n",
       "    </tr>\n",
       "    <tr>\n",
       "      <th>118</th>\n",
       "      <td>51483615</td>\n",
       "      <td>0</td>\n",
       "      <td>0</td>\n",
       "      <td>NaN</td>\n",
       "      <td>NaN</td>\n",
       "      <td>NaN</td>\n",
       "      <td>NaN</td>\n",
       "      <td>[]</td>\n",
       "      <td>NaN</td>\n",
       "      <td>0</td>\n",
       "      <td>0</td>\n",
       "      <td>0</td>\n",
       "    </tr>\n",
       "    <tr>\n",
       "      <th>119</th>\n",
       "      <td>51450558</td>\n",
       "      <td>9</td>\n",
       "      <td>1</td>\n",
       "      <td>0.0</td>\n",
       "      <td>Redemonstrated is a long segment clot within t...</td>\n",
       "      <td>Long segment clot within the left middle cereb...</td>\n",
       "      <td>NaN</td>\n",
       "      <td>[(1, 5, 0), (1, 9, 0)]</td>\n",
       "      <td>NaN</td>\n",
       "      <td>1</td>\n",
       "      <td>1</td>\n",
       "      <td>9</td>\n",
       "    </tr>\n",
       "    <tr>\n",
       "      <th>120</th>\n",
       "      <td>51404081</td>\n",
       "      <td>0</td>\n",
       "      <td>0</td>\n",
       "      <td>0.0</td>\n",
       "      <td>There is moderate-severe periventricular white...</td>\n",
       "      <td>NaN</td>\n",
       "      <td>NaN</td>\n",
       "      <td>[(0, 0, 0)]</td>\n",
       "      <td>NaN</td>\n",
       "      <td>0</td>\n",
       "      <td>0</td>\n",
       "      <td>0</td>\n",
       "    </tr>\n",
       "    <tr>\n",
       "      <th>121</th>\n",
       "      <td>51401684</td>\n",
       "      <td>10</td>\n",
       "      <td>1</td>\n",
       "      <td>0.0</td>\n",
       "      <td>Since previous examination, there has been hem...</td>\n",
       "      <td>Redemonstrated is hemorrhagic conversion of th...</td>\n",
       "      <td>Large right temporoparietal intraparenchymal h...</td>\n",
       "      <td>[(1, 9, 0), (1, 10, 0), (0, 0, 0)]</td>\n",
       "      <td>NaN</td>\n",
       "      <td>1</td>\n",
       "      <td>1</td>\n",
       "      <td>10</td>\n",
       "    </tr>\n",
       "  </tbody>\n",
       "</table>\n",
       "<p>122 rows × 12 columns</p>\n",
       "</div>"
      ],
      "text/plain": [
       "     Accession Number  midline shift (mm)  edema  sulcal effacement  \\\n",
       "0            53710639                   0      0                0.0   \n",
       "1            53702325                   4      1                1.0   \n",
       "2            53682761                   4      1                1.0   \n",
       "3            53681846                   0      0                1.0   \n",
       "4            53678983                   0      0                NaN   \n",
       "..                ...                 ...    ...                ...   \n",
       "117          51506626                   0      0                NaN   \n",
       "118          51483615                   0      0                NaN   \n",
       "119          51450558                   9      1                0.0   \n",
       "120          51404081                   0      0                0.0   \n",
       "121          51401684                  10      1                0.0   \n",
       "\n",
       "                                          fu_CT_report  \\\n",
       "0    There is no acute intracranial hemorrhage. Ven...   \n",
       "1    There is large right anterior circulation isch...   \n",
       "2    There is evolution of large left anterior and ...   \n",
       "3    There is no acute intracranial hemorrhage. Pre...   \n",
       "4                                                  NaN   \n",
       "..                                                 ...   \n",
       "117                                                NaN   \n",
       "118                                                NaN   \n",
       "119  Redemonstrated is a long segment clot within t...   \n",
       "120  There is moderate-severe periventricular white...   \n",
       "121  Since previous examination, there has been hem...   \n",
       "\n",
       "                                         fu_CT2_report  \\\n",
       "0                                                  NaN   \n",
       "1                                                  NaN   \n",
       "2    There is evolution of the large left anterior ...   \n",
       "3    Again seen is mild hypoattenuation within a pa...   \n",
       "4                                                  NaN   \n",
       "..                                                 ...   \n",
       "117                                                NaN   \n",
       "118                                                NaN   \n",
       "119  Long segment clot within the left middle cereb...   \n",
       "120                                                NaN   \n",
       "121  Redemonstrated is hemorrhagic conversion of th...   \n",
       "\n",
       "                                         fu_CT3_report  \\\n",
       "0                                                  NaN   \n",
       "1                                                  NaN   \n",
       "2                                                  NaN   \n",
       "3    An evolving subacute ischemic infarction invol...   \n",
       "4                                                  NaN   \n",
       "..                                                 ...   \n",
       "117                                                NaN   \n",
       "118                                                NaN   \n",
       "119                                                NaN   \n",
       "120                                                NaN   \n",
       "121  Large right temporoparietal intraparenchymal h...   \n",
       "\n",
       "                               ee_ms_se TICI  ME  manual_edema  manual_mls  \n",
       "0                           [(0, 0, 0)]    3   0             0           0  \n",
       "1                           [(1, 4, 1)]    3   0             1           4  \n",
       "2                [(1, 3, 1), (1, 4, 1)]  NaN   0             1           4  \n",
       "3     [(0, 0, 1), (0, 0, 1), (0, 0, 0)]   2B   0             0           0  \n",
       "4                                    []  NaN   0             0           0  \n",
       "..                                  ...  ...  ..           ...         ...  \n",
       "117                                  []  NaN   0             0           0  \n",
       "118                                  []  NaN   0             0           0  \n",
       "119              [(1, 5, 0), (1, 9, 0)]  NaN   1             1           9  \n",
       "120                         [(0, 0, 0)]  NaN   0             0           0  \n",
       "121  [(1, 9, 0), (1, 10, 0), (0, 0, 0)]  NaN   1             1          10  \n",
       "\n",
       "[122 rows x 12 columns]"
      ]
     },
     "execution_count": 40,
     "metadata": {},
     "output_type": "execute_result"
    }
   ],
   "source": [
    "#Follow ups\n",
    "#Input from NLP_on_FU_CT_edema_v2_all_FU\n",
    "fu_18_19 = pd.read_excel(\"/mnt/c/Users/zohai/Documents/Research/Neuro_ML/LVOs_Follow_Up_CTs/BJH_2018_2019_master_v2_AUTOMATED_EDEMA_RESULTS.xlsx\")\n",
    "fu_18_19 = fu_18_19[[\"Accession.Number\",\"midline shift (mm)\", \n",
    "                     \"edema\", \"sulcal effacement\", \"fu_CT_report\", \"fu_CT2_report\", \"fu_CT3_report\", \"ee_ms_se\",\n",
    "                     \"TICI\", \"ME\", \"manual_edema\",\"manual_mls\"]]\n",
    "fu_18_19.rename(columns={\"Accession.Number\":\"Accession Number\"},inplace=True)\n",
    "fu_18_19"
   ]
  },
  {
   "cell_type": "code",
   "execution_count": 41,
   "metadata": {},
   "outputs": [
    {
     "data": {
      "text/plain": [
       "153.0"
      ]
     },
     "execution_count": 41,
     "metadata": {},
     "output_type": "execute_result"
    }
   ],
   "source": [
    "#Count of FU CT reports analyzed\n",
    "fu_count = fu_18_19[[\"fu_CT_report\",\"fu_CT2_report\",\"fu_CT3_report\"]].apply(pd.Series.value_counts, axis=0)\n",
    "fu_count.fu_CT_report.sum() + fu_count.fu_CT2_report.sum()+fu_count.fu_CT3_report.sum()"
   ]
  },
  {
   "cell_type": "code",
   "execution_count": 42,
   "metadata": {},
   "outputs": [
    {
     "data": {
      "text/html": [
       "<div>\n",
       "<style scoped>\n",
       "    .dataframe tbody tr th:only-of-type {\n",
       "        vertical-align: middle;\n",
       "    }\n",
       "\n",
       "    .dataframe tbody tr th {\n",
       "        vertical-align: top;\n",
       "    }\n",
       "\n",
       "    .dataframe thead th {\n",
       "        text-align: right;\n",
       "    }\n",
       "</style>\n",
       "<table border=\"1\" class=\"dataframe\">\n",
       "  <thead>\n",
       "    <tr style=\"text-align: right;\">\n",
       "      <th></th>\n",
       "      <th>Accession Number</th>\n",
       "      <th>pred_occlusion</th>\n",
       "      <th>pred_vessels</th>\n",
       "      <th>pred_segments</th>\n",
       "      <th>true_vessels</th>\n",
       "      <th>true_segments</th>\n",
       "      <th>volumes</th>\n",
       "      <th>TICI_x</th>\n",
       "      <th>CTA CTP Report Text</th>\n",
       "      <th>unmatched_occlusions</th>\n",
       "      <th>...</th>\n",
       "      <th>edema</th>\n",
       "      <th>sulcal effacement</th>\n",
       "      <th>fu_CT_report</th>\n",
       "      <th>fu_CT2_report</th>\n",
       "      <th>fu_CT3_report</th>\n",
       "      <th>ee_ms_se</th>\n",
       "      <th>TICI_y</th>\n",
       "      <th>ME</th>\n",
       "      <th>manual_edema</th>\n",
       "      <th>manual_mls</th>\n",
       "    </tr>\n",
       "  </thead>\n",
       "  <tbody>\n",
       "    <tr>\n",
       "      <th>0</th>\n",
       "      <td>53710639</td>\n",
       "      <td>1</td>\n",
       "      <td>[L MCA]</td>\n",
       "      <td>[L M2]</td>\n",
       "      <td>[L MCA]</td>\n",
       "      <td>[L M2]</td>\n",
       "      <td>(0, 58)</td>\n",
       "      <td>3</td>\n",
       "      <td>EXAMINATION: Computed tomography angiography (...</td>\n",
       "      <td>[]</td>\n",
       "      <td>...</td>\n",
       "      <td>0</td>\n",
       "      <td>0.0</td>\n",
       "      <td>There is no acute intracranial hemorrhage. Ven...</td>\n",
       "      <td>NaN</td>\n",
       "      <td>NaN</td>\n",
       "      <td>[(0, 0, 0)]</td>\n",
       "      <td>3</td>\n",
       "      <td>0</td>\n",
       "      <td>0</td>\n",
       "      <td>0</td>\n",
       "    </tr>\n",
       "    <tr>\n",
       "      <th>1</th>\n",
       "      <td>53702325</td>\n",
       "      <td>1</td>\n",
       "      <td>[R ICA, R MCA]</td>\n",
       "      <td>[R M1, R M2]</td>\n",
       "      <td>[R ICA, R MCA]</td>\n",
       "      <td>[R M1, R M2]</td>\n",
       "      <td>(216, 302)</td>\n",
       "      <td>3</td>\n",
       "      <td>EXAMINATION: Computed tomography angiography (...</td>\n",
       "      <td>[]</td>\n",
       "      <td>...</td>\n",
       "      <td>1</td>\n",
       "      <td>1.0</td>\n",
       "      <td>There is large right anterior circulation isch...</td>\n",
       "      <td>NaN</td>\n",
       "      <td>NaN</td>\n",
       "      <td>[(1, 4, 1)]</td>\n",
       "      <td>3</td>\n",
       "      <td>0</td>\n",
       "      <td>1</td>\n",
       "      <td>4</td>\n",
       "    </tr>\n",
       "    <tr>\n",
       "      <th>2</th>\n",
       "      <td>53682761</td>\n",
       "      <td>1</td>\n",
       "      <td>[L MCA, L ICA, L ACA]</td>\n",
       "      <td>[L M1]</td>\n",
       "      <td>[L MCA, L ICA, L ACA]</td>\n",
       "      <td>[L M1]</td>\n",
       "      <td>(159, 230)</td>\n",
       "      <td>NaN</td>\n",
       "      <td>EXAMINATION: Computed tomography angiography (...</td>\n",
       "      <td>[]</td>\n",
       "      <td>...</td>\n",
       "      <td>1</td>\n",
       "      <td>1.0</td>\n",
       "      <td>There is evolution of large left anterior and ...</td>\n",
       "      <td>There is evolution of the large left anterior ...</td>\n",
       "      <td>NaN</td>\n",
       "      <td>[(1, 3, 1), (1, 4, 1)]</td>\n",
       "      <td>NaN</td>\n",
       "      <td>0</td>\n",
       "      <td>1</td>\n",
       "      <td>4</td>\n",
       "    </tr>\n",
       "    <tr>\n",
       "      <th>3</th>\n",
       "      <td>53681846</td>\n",
       "      <td>1</td>\n",
       "      <td>[R MCA]</td>\n",
       "      <td>[R M2]</td>\n",
       "      <td>[R MCA]</td>\n",
       "      <td>[R M2]</td>\n",
       "      <td>(12, 137)</td>\n",
       "      <td>2B</td>\n",
       "      <td>EXAMINATION: Computed tomography angiography (...</td>\n",
       "      <td>[]</td>\n",
       "      <td>...</td>\n",
       "      <td>0</td>\n",
       "      <td>1.0</td>\n",
       "      <td>There is no acute intracranial hemorrhage. Pre...</td>\n",
       "      <td>Again seen is mild hypoattenuation within a pa...</td>\n",
       "      <td>An evolving subacute ischemic infarction invol...</td>\n",
       "      <td>[(0, 0, 1), (0, 0, 1), (0, 0, 0)]</td>\n",
       "      <td>2B</td>\n",
       "      <td>0</td>\n",
       "      <td>0</td>\n",
       "      <td>0</td>\n",
       "    </tr>\n",
       "    <tr>\n",
       "      <th>4</th>\n",
       "      <td>53678983</td>\n",
       "      <td>1</td>\n",
       "      <td>[L MCA]</td>\n",
       "      <td>[L M2]</td>\n",
       "      <td>[L MCA]</td>\n",
       "      <td>[L M2]</td>\n",
       "      <td>(10, 157)</td>\n",
       "      <td>NaN</td>\n",
       "      <td>EXAMINATION: Computed tomography angiography (...</td>\n",
       "      <td>[]</td>\n",
       "      <td>...</td>\n",
       "      <td>0</td>\n",
       "      <td>NaN</td>\n",
       "      <td>NaN</td>\n",
       "      <td>NaN</td>\n",
       "      <td>NaN</td>\n",
       "      <td>[]</td>\n",
       "      <td>NaN</td>\n",
       "      <td>0</td>\n",
       "      <td>0</td>\n",
       "      <td>0</td>\n",
       "    </tr>\n",
       "    <tr>\n",
       "      <th>...</th>\n",
       "      <td>...</td>\n",
       "      <td>...</td>\n",
       "      <td>...</td>\n",
       "      <td>...</td>\n",
       "      <td>...</td>\n",
       "      <td>...</td>\n",
       "      <td>...</td>\n",
       "      <td>...</td>\n",
       "      <td>...</td>\n",
       "      <td>...</td>\n",
       "      <td>...</td>\n",
       "      <td>...</td>\n",
       "      <td>...</td>\n",
       "      <td>...</td>\n",
       "      <td>...</td>\n",
       "      <td>...</td>\n",
       "      <td>...</td>\n",
       "      <td>...</td>\n",
       "      <td>...</td>\n",
       "      <td>...</td>\n",
       "      <td>...</td>\n",
       "    </tr>\n",
       "    <tr>\n",
       "      <th>117</th>\n",
       "      <td>51506626</td>\n",
       "      <td>1</td>\n",
       "      <td>[R MCA]</td>\n",
       "      <td>[]</td>\n",
       "      <td>[R MCA]</td>\n",
       "      <td>[R M2]</td>\n",
       "      <td>(0, 15)</td>\n",
       "      <td>NaN</td>\n",
       "      <td>EXAMINATION: Computed tomography angiography (...</td>\n",
       "      <td>[]</td>\n",
       "      <td>...</td>\n",
       "      <td>0</td>\n",
       "      <td>NaN</td>\n",
       "      <td>NaN</td>\n",
       "      <td>NaN</td>\n",
       "      <td>NaN</td>\n",
       "      <td>[]</td>\n",
       "      <td>NaN</td>\n",
       "      <td>0</td>\n",
       "      <td>0</td>\n",
       "      <td>0</td>\n",
       "    </tr>\n",
       "    <tr>\n",
       "      <th>118</th>\n",
       "      <td>51483615</td>\n",
       "      <td>1</td>\n",
       "      <td>[L MCA]</td>\n",
       "      <td>[L M1]</td>\n",
       "      <td>[L MCA]</td>\n",
       "      <td>[L M1]</td>\n",
       "      <td>(29, 99)</td>\n",
       "      <td>NaN</td>\n",
       "      <td>EXAMINATION: Computed tomography angiography (...</td>\n",
       "      <td>[]</td>\n",
       "      <td>...</td>\n",
       "      <td>0</td>\n",
       "      <td>NaN</td>\n",
       "      <td>NaN</td>\n",
       "      <td>NaN</td>\n",
       "      <td>NaN</td>\n",
       "      <td>[]</td>\n",
       "      <td>NaN</td>\n",
       "      <td>0</td>\n",
       "      <td>0</td>\n",
       "      <td>0</td>\n",
       "    </tr>\n",
       "    <tr>\n",
       "      <th>119</th>\n",
       "      <td>51450558</td>\n",
       "      <td>1</td>\n",
       "      <td>[L MCA, L ICA, L ACA]</td>\n",
       "      <td>[L A1, L M1, L M2]</td>\n",
       "      <td>[L ICA, L MCA, L CCA, L ACA]</td>\n",
       "      <td>[L M1, L M2, L A1]</td>\n",
       "      <td>(169, 196)</td>\n",
       "      <td>NaN</td>\n",
       "      <td>EXAMINATION: Computed tomography angiography (...</td>\n",
       "      <td>[]</td>\n",
       "      <td>...</td>\n",
       "      <td>1</td>\n",
       "      <td>0.0</td>\n",
       "      <td>Redemonstrated is a long segment clot within t...</td>\n",
       "      <td>Long segment clot within the left middle cereb...</td>\n",
       "      <td>NaN</td>\n",
       "      <td>[(1, 5, 0), (1, 9, 0)]</td>\n",
       "      <td>NaN</td>\n",
       "      <td>1</td>\n",
       "      <td>1</td>\n",
       "      <td>9</td>\n",
       "    </tr>\n",
       "    <tr>\n",
       "      <th>120</th>\n",
       "      <td>51404081</td>\n",
       "      <td>1</td>\n",
       "      <td>[R MCA]</td>\n",
       "      <td>[R M2]</td>\n",
       "      <td>[R MCA]</td>\n",
       "      <td>[R M2]</td>\n",
       "      <td>(16, 40)</td>\n",
       "      <td>NaN</td>\n",
       "      <td>EXAMINATION: Computed tomography angiography (...</td>\n",
       "      <td>[]</td>\n",
       "      <td>...</td>\n",
       "      <td>0</td>\n",
       "      <td>0.0</td>\n",
       "      <td>There is moderate-severe periventricular white...</td>\n",
       "      <td>NaN</td>\n",
       "      <td>NaN</td>\n",
       "      <td>[(0, 0, 0)]</td>\n",
       "      <td>NaN</td>\n",
       "      <td>0</td>\n",
       "      <td>0</td>\n",
       "      <td>0</td>\n",
       "    </tr>\n",
       "    <tr>\n",
       "      <th>121</th>\n",
       "      <td>51401684</td>\n",
       "      <td>1</td>\n",
       "      <td>[R MCA]</td>\n",
       "      <td>[R M2]</td>\n",
       "      <td>[R MCA]</td>\n",
       "      <td>[R M2]</td>\n",
       "      <td>(7, 27)</td>\n",
       "      <td>NaN</td>\n",
       "      <td>EXAMINATION: Computed tomography angiography (...</td>\n",
       "      <td>[]</td>\n",
       "      <td>...</td>\n",
       "      <td>1</td>\n",
       "      <td>0.0</td>\n",
       "      <td>Since previous examination, there has been hem...</td>\n",
       "      <td>Redemonstrated is hemorrhagic conversion of th...</td>\n",
       "      <td>Large right temporoparietal intraparenchymal h...</td>\n",
       "      <td>[(1, 9, 0), (1, 10, 0), (0, 0, 0)]</td>\n",
       "      <td>NaN</td>\n",
       "      <td>1</td>\n",
       "      <td>1</td>\n",
       "      <td>10</td>\n",
       "    </tr>\n",
       "  </tbody>\n",
       "</table>\n",
       "<p>122 rows × 30 columns</p>\n",
       "</div>"
      ],
      "text/plain": [
       "     Accession Number  pred_occlusion           pred_vessels  \\\n",
       "0            53710639               1                [L MCA]   \n",
       "1            53702325               1         [R ICA, R MCA]   \n",
       "2            53682761               1  [L MCA, L ICA, L ACA]   \n",
       "3            53681846               1                [R MCA]   \n",
       "4            53678983               1                [L MCA]   \n",
       "..                ...             ...                    ...   \n",
       "117          51506626               1                [R MCA]   \n",
       "118          51483615               1                [L MCA]   \n",
       "119          51450558               1  [L MCA, L ICA, L ACA]   \n",
       "120          51404081               1                [R MCA]   \n",
       "121          51401684               1                [R MCA]   \n",
       "\n",
       "          pred_segments                  true_vessels       true_segments  \\\n",
       "0                [L M2]                       [L MCA]              [L M2]   \n",
       "1          [R M1, R M2]                [R ICA, R MCA]        [R M1, R M2]   \n",
       "2                [L M1]         [L MCA, L ICA, L ACA]              [L M1]   \n",
       "3                [R M2]                       [R MCA]              [R M2]   \n",
       "4                [L M2]                       [L MCA]              [L M2]   \n",
       "..                  ...                           ...                 ...   \n",
       "117                  []                       [R MCA]              [R M2]   \n",
       "118              [L M1]                       [L MCA]              [L M1]   \n",
       "119  [L A1, L M1, L M2]  [L ICA, L MCA, L CCA, L ACA]  [L M1, L M2, L A1]   \n",
       "120              [R M2]                       [R MCA]              [R M2]   \n",
       "121              [R M2]                       [R MCA]              [R M2]   \n",
       "\n",
       "        volumes TICI_x                                CTA CTP Report Text  \\\n",
       "0       (0, 58)      3  EXAMINATION: Computed tomography angiography (...   \n",
       "1    (216, 302)      3  EXAMINATION: Computed tomography angiography (...   \n",
       "2    (159, 230)    NaN  EXAMINATION: Computed tomography angiography (...   \n",
       "3     (12, 137)     2B  EXAMINATION: Computed tomography angiography (...   \n",
       "4     (10, 157)    NaN  EXAMINATION: Computed tomography angiography (...   \n",
       "..          ...    ...                                                ...   \n",
       "117     (0, 15)    NaN  EXAMINATION: Computed tomography angiography (...   \n",
       "118    (29, 99)    NaN  EXAMINATION: Computed tomography angiography (...   \n",
       "119  (169, 196)    NaN  EXAMINATION: Computed tomography angiography (...   \n",
       "120    (16, 40)    NaN  EXAMINATION: Computed tomography angiography (...   \n",
       "121     (7, 27)    NaN  EXAMINATION: Computed tomography angiography (...   \n",
       "\n",
       "    unmatched_occlusions  ... edema  sulcal effacement  \\\n",
       "0                     []  ...     0                0.0   \n",
       "1                     []  ...     1                1.0   \n",
       "2                     []  ...     1                1.0   \n",
       "3                     []  ...     0                1.0   \n",
       "4                     []  ...     0                NaN   \n",
       "..                   ...  ...   ...                ...   \n",
       "117                   []  ...     0                NaN   \n",
       "118                   []  ...     0                NaN   \n",
       "119                   []  ...     1                0.0   \n",
       "120                   []  ...     0                0.0   \n",
       "121                   []  ...     1                0.0   \n",
       "\n",
       "                                          fu_CT_report  \\\n",
       "0    There is no acute intracranial hemorrhage. Ven...   \n",
       "1    There is large right anterior circulation isch...   \n",
       "2    There is evolution of large left anterior and ...   \n",
       "3    There is no acute intracranial hemorrhage. Pre...   \n",
       "4                                                  NaN   \n",
       "..                                                 ...   \n",
       "117                                                NaN   \n",
       "118                                                NaN   \n",
       "119  Redemonstrated is a long segment clot within t...   \n",
       "120  There is moderate-severe periventricular white...   \n",
       "121  Since previous examination, there has been hem...   \n",
       "\n",
       "                                         fu_CT2_report  \\\n",
       "0                                                  NaN   \n",
       "1                                                  NaN   \n",
       "2    There is evolution of the large left anterior ...   \n",
       "3    Again seen is mild hypoattenuation within a pa...   \n",
       "4                                                  NaN   \n",
       "..                                                 ...   \n",
       "117                                                NaN   \n",
       "118                                                NaN   \n",
       "119  Long segment clot within the left middle cereb...   \n",
       "120                                                NaN   \n",
       "121  Redemonstrated is hemorrhagic conversion of th...   \n",
       "\n",
       "                                         fu_CT3_report  \\\n",
       "0                                                  NaN   \n",
       "1                                                  NaN   \n",
       "2                                                  NaN   \n",
       "3    An evolving subacute ischemic infarction invol...   \n",
       "4                                                  NaN   \n",
       "..                                                 ...   \n",
       "117                                                NaN   \n",
       "118                                                NaN   \n",
       "119                                                NaN   \n",
       "120                                                NaN   \n",
       "121  Large right temporoparietal intraparenchymal h...   \n",
       "\n",
       "                               ee_ms_se  TICI_y  ME  manual_edema  manual_mls  \n",
       "0                           [(0, 0, 0)]       3   0             0           0  \n",
       "1                           [(1, 4, 1)]       3   0             1           4  \n",
       "2                [(1, 3, 1), (1, 4, 1)]     NaN   0             1           4  \n",
       "3     [(0, 0, 1), (0, 0, 1), (0, 0, 0)]      2B   0             0           0  \n",
       "4                                    []     NaN   0             0           0  \n",
       "..                                  ...     ...  ..           ...         ...  \n",
       "117                                  []     NaN   0             0           0  \n",
       "118                                  []     NaN   0             0           0  \n",
       "119              [(1, 5, 0), (1, 9, 0)]     NaN   1             1           9  \n",
       "120                         [(0, 0, 0)]     NaN   0             0           0  \n",
       "121  [(1, 9, 0), (1, 10, 0), (0, 0, 0)]     NaN   1             1          10  \n",
       "\n",
       "[122 rows x 30 columns]"
      ]
     },
     "execution_count": 42,
     "metadata": {},
     "output_type": "execute_result"
    }
   ],
   "source": [
    "merged = pd.merge(cohort18_19,fu_18_19, on = \"Accession Number\")\n",
    "merged"
   ]
  },
  {
   "cell_type": "code",
   "execution_count": 43,
   "metadata": {},
   "outputs": [],
   "source": [
    "#Filter out NAs from core/penumbra (cannot determine if 0 volume or not)\n",
    "merged = merged[merged[\"RAPID Core (mL)\"].notna()]"
   ]
  },
  {
   "cell_type": "code",
   "execution_count": 44,
   "metadata": {},
   "outputs": [
    {
     "name": "stderr",
     "output_type": "stream",
     "text": [
      "/mnt/c/Users/zohai/Documents/Research/Neuro_ML/miniconda3/envs/neuroml/lib/python3.8/site-packages/pandas/core/frame.py:4462: SettingWithCopyWarning: \n",
      "A value is trying to be set on a copy of a slice from a DataFrame\n",
      "\n",
      "See the caveats in the documentation: https://pandas.pydata.org/pandas-docs/stable/user_guide/indexing.html#returning-a-view-versus-a-copy\n",
      "  return super().fillna(\n"
     ]
    },
    {
     "data": {
      "text/html": [
       "<div>\n",
       "<style scoped>\n",
       "    .dataframe tbody tr th:only-of-type {\n",
       "        vertical-align: middle;\n",
       "    }\n",
       "\n",
       "    .dataframe tbody tr th {\n",
       "        vertical-align: top;\n",
       "    }\n",
       "\n",
       "    .dataframe thead th {\n",
       "        text-align: right;\n",
       "    }\n",
       "</style>\n",
       "<table border=\"1\" class=\"dataframe\">\n",
       "  <thead>\n",
       "    <tr style=\"text-align: right;\">\n",
       "      <th></th>\n",
       "      <th>Accession Number</th>\n",
       "      <th>pred_occlusion</th>\n",
       "      <th>pred_vessels</th>\n",
       "      <th>pred_segments</th>\n",
       "      <th>true_vessels</th>\n",
       "      <th>true_segments</th>\n",
       "      <th>volumes</th>\n",
       "      <th>TICI_x</th>\n",
       "      <th>CTA CTP Report Text</th>\n",
       "      <th>unmatched_occlusions</th>\n",
       "      <th>...</th>\n",
       "      <th>edema</th>\n",
       "      <th>sulcal effacement</th>\n",
       "      <th>fu_CT_report</th>\n",
       "      <th>fu_CT2_report</th>\n",
       "      <th>fu_CT3_report</th>\n",
       "      <th>ee_ms_se</th>\n",
       "      <th>TICI_y</th>\n",
       "      <th>ME</th>\n",
       "      <th>manual_edema</th>\n",
       "      <th>manual_mls</th>\n",
       "    </tr>\n",
       "  </thead>\n",
       "  <tbody>\n",
       "    <tr>\n",
       "      <th>0</th>\n",
       "      <td>53710639</td>\n",
       "      <td>1</td>\n",
       "      <td>[L MCA]</td>\n",
       "      <td>[L M2]</td>\n",
       "      <td>[L MCA]</td>\n",
       "      <td>[L M2]</td>\n",
       "      <td>(0, 58)</td>\n",
       "      <td>3</td>\n",
       "      <td>EXAMINATION: Computed tomography angiography (...</td>\n",
       "      <td>[]</td>\n",
       "      <td>...</td>\n",
       "      <td>0</td>\n",
       "      <td>0.0</td>\n",
       "      <td>There is no acute intracranial hemorrhage. Ven...</td>\n",
       "      <td>0</td>\n",
       "      <td>0</td>\n",
       "      <td>[(0, 0, 0)]</td>\n",
       "      <td>3</td>\n",
       "      <td>0</td>\n",
       "      <td>0</td>\n",
       "      <td>0</td>\n",
       "    </tr>\n",
       "    <tr>\n",
       "      <th>1</th>\n",
       "      <td>53702325</td>\n",
       "      <td>1</td>\n",
       "      <td>[R ICA, R MCA]</td>\n",
       "      <td>[R M1, R M2]</td>\n",
       "      <td>[R ICA, R MCA]</td>\n",
       "      <td>[R M1, R M2]</td>\n",
       "      <td>(216, 302)</td>\n",
       "      <td>3</td>\n",
       "      <td>EXAMINATION: Computed tomography angiography (...</td>\n",
       "      <td>[]</td>\n",
       "      <td>...</td>\n",
       "      <td>1</td>\n",
       "      <td>1.0</td>\n",
       "      <td>There is large right anterior circulation isch...</td>\n",
       "      <td>0</td>\n",
       "      <td>0</td>\n",
       "      <td>[(1, 4, 1)]</td>\n",
       "      <td>3</td>\n",
       "      <td>0</td>\n",
       "      <td>1</td>\n",
       "      <td>4</td>\n",
       "    </tr>\n",
       "    <tr>\n",
       "      <th>2</th>\n",
       "      <td>53682761</td>\n",
       "      <td>1</td>\n",
       "      <td>[L MCA, L ICA, L ACA]</td>\n",
       "      <td>[L M1]</td>\n",
       "      <td>[L MCA, L ICA, L ACA]</td>\n",
       "      <td>[L M1]</td>\n",
       "      <td>(159, 230)</td>\n",
       "      <td>0</td>\n",
       "      <td>EXAMINATION: Computed tomography angiography (...</td>\n",
       "      <td>[]</td>\n",
       "      <td>...</td>\n",
       "      <td>1</td>\n",
       "      <td>1.0</td>\n",
       "      <td>There is evolution of large left anterior and ...</td>\n",
       "      <td>There is evolution of the large left anterior ...</td>\n",
       "      <td>0</td>\n",
       "      <td>[(1, 3, 1), (1, 4, 1)]</td>\n",
       "      <td>0</td>\n",
       "      <td>0</td>\n",
       "      <td>1</td>\n",
       "      <td>4</td>\n",
       "    </tr>\n",
       "    <tr>\n",
       "      <th>3</th>\n",
       "      <td>53681846</td>\n",
       "      <td>1</td>\n",
       "      <td>[R MCA]</td>\n",
       "      <td>[R M2]</td>\n",
       "      <td>[R MCA]</td>\n",
       "      <td>[R M2]</td>\n",
       "      <td>(12, 137)</td>\n",
       "      <td>2B</td>\n",
       "      <td>EXAMINATION: Computed tomography angiography (...</td>\n",
       "      <td>[]</td>\n",
       "      <td>...</td>\n",
       "      <td>0</td>\n",
       "      <td>1.0</td>\n",
       "      <td>There is no acute intracranial hemorrhage. Pre...</td>\n",
       "      <td>Again seen is mild hypoattenuation within a pa...</td>\n",
       "      <td>An evolving subacute ischemic infarction invol...</td>\n",
       "      <td>[(0, 0, 1), (0, 0, 1), (0, 0, 0)]</td>\n",
       "      <td>2B</td>\n",
       "      <td>0</td>\n",
       "      <td>0</td>\n",
       "      <td>0</td>\n",
       "    </tr>\n",
       "    <tr>\n",
       "      <th>4</th>\n",
       "      <td>53678983</td>\n",
       "      <td>1</td>\n",
       "      <td>[L MCA]</td>\n",
       "      <td>[L M2]</td>\n",
       "      <td>[L MCA]</td>\n",
       "      <td>[L M2]</td>\n",
       "      <td>(10, 157)</td>\n",
       "      <td>0</td>\n",
       "      <td>EXAMINATION: Computed tomography angiography (...</td>\n",
       "      <td>[]</td>\n",
       "      <td>...</td>\n",
       "      <td>0</td>\n",
       "      <td>0.0</td>\n",
       "      <td>0</td>\n",
       "      <td>0</td>\n",
       "      <td>0</td>\n",
       "      <td>[]</td>\n",
       "      <td>0</td>\n",
       "      <td>0</td>\n",
       "      <td>0</td>\n",
       "      <td>0</td>\n",
       "    </tr>\n",
       "    <tr>\n",
       "      <th>...</th>\n",
       "      <td>...</td>\n",
       "      <td>...</td>\n",
       "      <td>...</td>\n",
       "      <td>...</td>\n",
       "      <td>...</td>\n",
       "      <td>...</td>\n",
       "      <td>...</td>\n",
       "      <td>...</td>\n",
       "      <td>...</td>\n",
       "      <td>...</td>\n",
       "      <td>...</td>\n",
       "      <td>...</td>\n",
       "      <td>...</td>\n",
       "      <td>...</td>\n",
       "      <td>...</td>\n",
       "      <td>...</td>\n",
       "      <td>...</td>\n",
       "      <td>...</td>\n",
       "      <td>...</td>\n",
       "      <td>...</td>\n",
       "      <td>...</td>\n",
       "    </tr>\n",
       "    <tr>\n",
       "      <th>117</th>\n",
       "      <td>51506626</td>\n",
       "      <td>1</td>\n",
       "      <td>[R MCA]</td>\n",
       "      <td>[]</td>\n",
       "      <td>[R MCA]</td>\n",
       "      <td>[R M2]</td>\n",
       "      <td>(0, 15)</td>\n",
       "      <td>0</td>\n",
       "      <td>EXAMINATION: Computed tomography angiography (...</td>\n",
       "      <td>[]</td>\n",
       "      <td>...</td>\n",
       "      <td>0</td>\n",
       "      <td>0.0</td>\n",
       "      <td>0</td>\n",
       "      <td>0</td>\n",
       "      <td>0</td>\n",
       "      <td>[]</td>\n",
       "      <td>0</td>\n",
       "      <td>0</td>\n",
       "      <td>0</td>\n",
       "      <td>0</td>\n",
       "    </tr>\n",
       "    <tr>\n",
       "      <th>118</th>\n",
       "      <td>51483615</td>\n",
       "      <td>1</td>\n",
       "      <td>[L MCA]</td>\n",
       "      <td>[L M1]</td>\n",
       "      <td>[L MCA]</td>\n",
       "      <td>[L M1]</td>\n",
       "      <td>(29, 99)</td>\n",
       "      <td>0</td>\n",
       "      <td>EXAMINATION: Computed tomography angiography (...</td>\n",
       "      <td>[]</td>\n",
       "      <td>...</td>\n",
       "      <td>0</td>\n",
       "      <td>0.0</td>\n",
       "      <td>0</td>\n",
       "      <td>0</td>\n",
       "      <td>0</td>\n",
       "      <td>[]</td>\n",
       "      <td>0</td>\n",
       "      <td>0</td>\n",
       "      <td>0</td>\n",
       "      <td>0</td>\n",
       "    </tr>\n",
       "    <tr>\n",
       "      <th>119</th>\n",
       "      <td>51450558</td>\n",
       "      <td>1</td>\n",
       "      <td>[L MCA, L ICA, L ACA]</td>\n",
       "      <td>[L A1, L M1, L M2]</td>\n",
       "      <td>[L ICA, L MCA, L CCA, L ACA]</td>\n",
       "      <td>[L M1, L M2, L A1]</td>\n",
       "      <td>(169, 196)</td>\n",
       "      <td>0</td>\n",
       "      <td>EXAMINATION: Computed tomography angiography (...</td>\n",
       "      <td>[]</td>\n",
       "      <td>...</td>\n",
       "      <td>1</td>\n",
       "      <td>0.0</td>\n",
       "      <td>Redemonstrated is a long segment clot within t...</td>\n",
       "      <td>Long segment clot within the left middle cereb...</td>\n",
       "      <td>0</td>\n",
       "      <td>[(1, 5, 0), (1, 9, 0)]</td>\n",
       "      <td>0</td>\n",
       "      <td>1</td>\n",
       "      <td>1</td>\n",
       "      <td>9</td>\n",
       "    </tr>\n",
       "    <tr>\n",
       "      <th>120</th>\n",
       "      <td>51404081</td>\n",
       "      <td>1</td>\n",
       "      <td>[R MCA]</td>\n",
       "      <td>[R M2]</td>\n",
       "      <td>[R MCA]</td>\n",
       "      <td>[R M2]</td>\n",
       "      <td>(16, 40)</td>\n",
       "      <td>0</td>\n",
       "      <td>EXAMINATION: Computed tomography angiography (...</td>\n",
       "      <td>[]</td>\n",
       "      <td>...</td>\n",
       "      <td>0</td>\n",
       "      <td>0.0</td>\n",
       "      <td>There is moderate-severe periventricular white...</td>\n",
       "      <td>0</td>\n",
       "      <td>0</td>\n",
       "      <td>[(0, 0, 0)]</td>\n",
       "      <td>0</td>\n",
       "      <td>0</td>\n",
       "      <td>0</td>\n",
       "      <td>0</td>\n",
       "    </tr>\n",
       "    <tr>\n",
       "      <th>121</th>\n",
       "      <td>51401684</td>\n",
       "      <td>1</td>\n",
       "      <td>[R MCA]</td>\n",
       "      <td>[R M2]</td>\n",
       "      <td>[R MCA]</td>\n",
       "      <td>[R M2]</td>\n",
       "      <td>(7, 27)</td>\n",
       "      <td>0</td>\n",
       "      <td>EXAMINATION: Computed tomography angiography (...</td>\n",
       "      <td>[]</td>\n",
       "      <td>...</td>\n",
       "      <td>1</td>\n",
       "      <td>0.0</td>\n",
       "      <td>Since previous examination, there has been hem...</td>\n",
       "      <td>Redemonstrated is hemorrhagic conversion of th...</td>\n",
       "      <td>Large right temporoparietal intraparenchymal h...</td>\n",
       "      <td>[(1, 9, 0), (1, 10, 0), (0, 0, 0)]</td>\n",
       "      <td>0</td>\n",
       "      <td>1</td>\n",
       "      <td>1</td>\n",
       "      <td>10</td>\n",
       "    </tr>\n",
       "  </tbody>\n",
       "</table>\n",
       "<p>116 rows × 30 columns</p>\n",
       "</div>"
      ],
      "text/plain": [
       "     Accession Number  pred_occlusion           pred_vessels  \\\n",
       "0            53710639               1                [L MCA]   \n",
       "1            53702325               1         [R ICA, R MCA]   \n",
       "2            53682761               1  [L MCA, L ICA, L ACA]   \n",
       "3            53681846               1                [R MCA]   \n",
       "4            53678983               1                [L MCA]   \n",
       "..                ...             ...                    ...   \n",
       "117          51506626               1                [R MCA]   \n",
       "118          51483615               1                [L MCA]   \n",
       "119          51450558               1  [L MCA, L ICA, L ACA]   \n",
       "120          51404081               1                [R MCA]   \n",
       "121          51401684               1                [R MCA]   \n",
       "\n",
       "          pred_segments                  true_vessels       true_segments  \\\n",
       "0                [L M2]                       [L MCA]              [L M2]   \n",
       "1          [R M1, R M2]                [R ICA, R MCA]        [R M1, R M2]   \n",
       "2                [L M1]         [L MCA, L ICA, L ACA]              [L M1]   \n",
       "3                [R M2]                       [R MCA]              [R M2]   \n",
       "4                [L M2]                       [L MCA]              [L M2]   \n",
       "..                  ...                           ...                 ...   \n",
       "117                  []                       [R MCA]              [R M2]   \n",
       "118              [L M1]                       [L MCA]              [L M1]   \n",
       "119  [L A1, L M1, L M2]  [L ICA, L MCA, L CCA, L ACA]  [L M1, L M2, L A1]   \n",
       "120              [R M2]                       [R MCA]              [R M2]   \n",
       "121              [R M2]                       [R MCA]              [R M2]   \n",
       "\n",
       "        volumes TICI_x                                CTA CTP Report Text  \\\n",
       "0       (0, 58)      3  EXAMINATION: Computed tomography angiography (...   \n",
       "1    (216, 302)      3  EXAMINATION: Computed tomography angiography (...   \n",
       "2    (159, 230)      0  EXAMINATION: Computed tomography angiography (...   \n",
       "3     (12, 137)     2B  EXAMINATION: Computed tomography angiography (...   \n",
       "4     (10, 157)      0  EXAMINATION: Computed tomography angiography (...   \n",
       "..          ...    ...                                                ...   \n",
       "117     (0, 15)      0  EXAMINATION: Computed tomography angiography (...   \n",
       "118    (29, 99)      0  EXAMINATION: Computed tomography angiography (...   \n",
       "119  (169, 196)      0  EXAMINATION: Computed tomography angiography (...   \n",
       "120    (16, 40)      0  EXAMINATION: Computed tomography angiography (...   \n",
       "121     (7, 27)      0  EXAMINATION: Computed tomography angiography (...   \n",
       "\n",
       "    unmatched_occlusions  ... edema  sulcal effacement  \\\n",
       "0                     []  ...     0                0.0   \n",
       "1                     []  ...     1                1.0   \n",
       "2                     []  ...     1                1.0   \n",
       "3                     []  ...     0                1.0   \n",
       "4                     []  ...     0                0.0   \n",
       "..                   ...  ...   ...                ...   \n",
       "117                   []  ...     0                0.0   \n",
       "118                   []  ...     0                0.0   \n",
       "119                   []  ...     1                0.0   \n",
       "120                   []  ...     0                0.0   \n",
       "121                   []  ...     1                0.0   \n",
       "\n",
       "                                          fu_CT_report  \\\n",
       "0    There is no acute intracranial hemorrhage. Ven...   \n",
       "1    There is large right anterior circulation isch...   \n",
       "2    There is evolution of large left anterior and ...   \n",
       "3    There is no acute intracranial hemorrhage. Pre...   \n",
       "4                                                    0   \n",
       "..                                                 ...   \n",
       "117                                                  0   \n",
       "118                                                  0   \n",
       "119  Redemonstrated is a long segment clot within t...   \n",
       "120  There is moderate-severe periventricular white...   \n",
       "121  Since previous examination, there has been hem...   \n",
       "\n",
       "                                         fu_CT2_report  \\\n",
       "0                                                    0   \n",
       "1                                                    0   \n",
       "2    There is evolution of the large left anterior ...   \n",
       "3    Again seen is mild hypoattenuation within a pa...   \n",
       "4                                                    0   \n",
       "..                                                 ...   \n",
       "117                                                  0   \n",
       "118                                                  0   \n",
       "119  Long segment clot within the left middle cereb...   \n",
       "120                                                  0   \n",
       "121  Redemonstrated is hemorrhagic conversion of th...   \n",
       "\n",
       "                                         fu_CT3_report  \\\n",
       "0                                                    0   \n",
       "1                                                    0   \n",
       "2                                                    0   \n",
       "3    An evolving subacute ischemic infarction invol...   \n",
       "4                                                    0   \n",
       "..                                                 ...   \n",
       "117                                                  0   \n",
       "118                                                  0   \n",
       "119                                                  0   \n",
       "120                                                  0   \n",
       "121  Large right temporoparietal intraparenchymal h...   \n",
       "\n",
       "                               ee_ms_se  TICI_y  ME  manual_edema  manual_mls  \n",
       "0                           [(0, 0, 0)]       3   0             0           0  \n",
       "1                           [(1, 4, 1)]       3   0             1           4  \n",
       "2                [(1, 3, 1), (1, 4, 1)]       0   0             1           4  \n",
       "3     [(0, 0, 1), (0, 0, 1), (0, 0, 0)]      2B   0             0           0  \n",
       "4                                    []       0   0             0           0  \n",
       "..                                  ...     ...  ..           ...         ...  \n",
       "117                                  []       0   0             0           0  \n",
       "118                                  []       0   0             0           0  \n",
       "119              [(1, 5, 0), (1, 9, 0)]       0   1             1           9  \n",
       "120                         [(0, 0, 0)]       0   0             0           0  \n",
       "121  [(1, 9, 0), (1, 10, 0), (0, 0, 0)]       0   1             1          10  \n",
       "\n",
       "[116 rows x 30 columns]"
      ]
     },
     "execution_count": 44,
     "metadata": {},
     "output_type": "execute_result"
    }
   ],
   "source": [
    "#Fill NAs in edema sulcal effacement and midline shift with 0\n",
    "merged.fillna(0,inplace=True)\n",
    "merged"
   ]
  },
  {
   "cell_type": "code",
   "execution_count": 45,
   "metadata": {
    "scrolled": false
   },
   "outputs": [
    {
     "name": "stderr",
     "output_type": "stream",
     "text": [
      "<ipython-input-45-3e2d1f2232f1>:2: SettingWithCopyWarning: \n",
      "A value is trying to be set on a copy of a slice from a DataFrame.\n",
      "Try using .loc[row_indexer,col_indexer] = value instead\n",
      "\n",
      "See the caveats in the documentation: https://pandas.pydata.org/pandas-docs/stable/user_guide/indexing.html#returning-a-view-versus-a-copy\n",
      "  check_merged[\"manual_proximal_occlusion\"] = check_merged.apply(lambda x: check_proximal_distal(x.LVO,x.true_vessels,x.true_segments), axis=1)\n"
     ]
    },
    {
     "data": {
      "text/html": [
       "<div>\n",
       "<style scoped>\n",
       "    .dataframe tbody tr th:only-of-type {\n",
       "        vertical-align: middle;\n",
       "    }\n",
       "\n",
       "    .dataframe tbody tr th {\n",
       "        vertical-align: top;\n",
       "    }\n",
       "\n",
       "    .dataframe thead th {\n",
       "        text-align: right;\n",
       "    }\n",
       "</style>\n",
       "<table border=\"1\" class=\"dataframe\">\n",
       "  <thead>\n",
       "    <tr style=\"text-align: right;\">\n",
       "      <th></th>\n",
       "      <th>Accession Number</th>\n",
       "      <th>pred_occlusion</th>\n",
       "      <th>pred_vessels</th>\n",
       "      <th>pred_segments</th>\n",
       "      <th>true_vessels</th>\n",
       "      <th>true_segments</th>\n",
       "      <th>volumes</th>\n",
       "      <th>TICI_x</th>\n",
       "      <th>CTA CTP Report Text</th>\n",
       "      <th>unmatched_occlusions</th>\n",
       "      <th>...</th>\n",
       "      <th>sulcal effacement</th>\n",
       "      <th>fu_CT_report</th>\n",
       "      <th>fu_CT2_report</th>\n",
       "      <th>fu_CT3_report</th>\n",
       "      <th>ee_ms_se</th>\n",
       "      <th>TICI_y</th>\n",
       "      <th>ME</th>\n",
       "      <th>manual_edema</th>\n",
       "      <th>manual_mls</th>\n",
       "      <th>manual_proximal_occlusion</th>\n",
       "    </tr>\n",
       "  </thead>\n",
       "  <tbody>\n",
       "    <tr>\n",
       "      <th>92</th>\n",
       "      <td>51976268</td>\n",
       "      <td>1</td>\n",
       "      <td>[R MCA]</td>\n",
       "      <td>[]</td>\n",
       "      <td>[R MCA]</td>\n",
       "      <td>[]</td>\n",
       "      <td>(15, 104)</td>\n",
       "      <td>3</td>\n",
       "      <td>EXAMINATION: Computed tomography angiography (...</td>\n",
       "      <td>[]</td>\n",
       "      <td>...</td>\n",
       "      <td>0.0</td>\n",
       "      <td>0</td>\n",
       "      <td>0</td>\n",
       "      <td>0</td>\n",
       "      <td>[]</td>\n",
       "      <td>3</td>\n",
       "      <td>0</td>\n",
       "      <td>0</td>\n",
       "      <td>0</td>\n",
       "      <td>0</td>\n",
       "    </tr>\n",
       "  </tbody>\n",
       "</table>\n",
       "<p>1 rows × 31 columns</p>\n",
       "</div>"
      ],
      "text/plain": [
       "    Accession Number  pred_occlusion pred_vessels pred_segments true_vessels  \\\n",
       "92          51976268               1      [R MCA]            []      [R MCA]   \n",
       "\n",
       "   true_segments    volumes TICI_x  \\\n",
       "92            []  (15, 104)      3   \n",
       "\n",
       "                                  CTA CTP Report Text unmatched_occlusions  \\\n",
       "92  EXAMINATION: Computed tomography angiography (...                   []   \n",
       "\n",
       "    ... sulcal effacement  fu_CT_report fu_CT2_report fu_CT3_report  ee_ms_se  \\\n",
       "92  ...               0.0             0             0             0        []   \n",
       "\n",
       "    TICI_y  ME  manual_edema  manual_mls  manual_proximal_occlusion  \n",
       "92       3   0             0           0                          0  \n",
       "\n",
       "[1 rows x 31 columns]"
      ]
     },
     "execution_count": 45,
     "metadata": {},
     "output_type": "execute_result"
    }
   ],
   "source": [
    "check_merged = merged\n",
    "check_merged[\"manual_proximal_occlusion\"] = check_merged.apply(lambda x: check_proximal_distal(x.LVO,x.true_vessels,x.true_segments), axis=1)\n",
    "check_merged[check_merged[\"manual_proximal_occlusion\"] == 0]"
   ]
  },
  {
   "cell_type": "code",
   "execution_count": 46,
   "metadata": {},
   "outputs": [],
   "source": [
    "# Filter out those that were manually marked as not LVO\n",
    "# merged = merged[merged[\"LVO\"]>0]\n",
    "# merged"
   ]
  },
  {
   "cell_type": "markdown",
   "metadata": {},
   "source": [
    "import ast\n",
    "labeled_segments = [ast.literal_eval(l) for l in merged.true_segments]\n",
    "labeled_segments"
   ]
  },
  {
   "cell_type": "markdown",
   "metadata": {},
   "source": [
    "segs = list(zip(merged.pred_segments, labeled_segments))\n",
    "segs"
   ]
  },
  {
   "cell_type": "markdown",
   "metadata": {},
   "source": [
    "seg_m1 = lambda x: int(not not sum([\"M1\" in l for l in x]))\n",
    "seg_m2 = lambda x: int(not not sum([\"M2\" in l for l in x]))"
   ]
  },
  {
   "cell_type": "markdown",
   "metadata": {},
   "source": [
    "#Only M1 or M2s in segs\n",
    "segs = [(segs[i][0],segs[i][1]) for i in range(len(segs)) if (seg_m1(segs[i][1]) or seg_m2(segs[i][1]))]\n",
    "segs"
   ]
  },
  {
   "cell_type": "markdown",
   "metadata": {},
   "source": [
    "len(segs)"
   ]
  },
  {
   "cell_type": "markdown",
   "metadata": {},
   "source": [
    "seg_m1_status_df = pd.DataFrame([(seg_m1(p),seg_m1(l)) for (p,l) in segs])\n",
    "seg_m1_status_df.columns = [\"predicted\",\"labels\"]\n",
    "seg_m1_status_df"
   ]
  },
  {
   "cell_type": "markdown",
   "metadata": {},
   "source": [
    "print(classification_report(seg_m1_status_df.labels, seg_m1_status_df.predicted))"
   ]
  },
  {
   "cell_type": "markdown",
   "metadata": {},
   "source": [
    "from sklearn.metrics import confusion_matrix\n",
    "tn, fp, fn, tp = confusion_matrix(seg_m1_status_df.labels, seg_m1_status_df.predicted).ravel()\n",
    "(tn, fp, fn, tp)"
   ]
  },
  {
   "cell_type": "markdown",
   "metadata": {},
   "source": [
    "seg_m2_df = pd.DataFrame([(seg_m2(p),seg_m2(l)) for (p,l) in segs])\n",
    "seg_m2_df.columns = [\"predicted\",\"labels\"]\n",
    "seg_m2_df[seg_m2_df[\"labels\"]>0]"
   ]
  },
  {
   "cell_type": "markdown",
   "metadata": {
    "scrolled": true
   },
   "source": [
    "print(classification_report(seg_m2_df.labels, seg_m2_df.predicted))"
   ]
  },
  {
   "cell_type": "markdown",
   "metadata": {},
   "source": [
    "from sklearn.metrics import confusion_matrix\n",
    "tn, fp, fn, tp = confusion_matrix(seg_m2_df.labels, seg_m2_df.predicted).ravel()\n",
    "(tn, fp, fn, tp)"
   ]
  },
  {
   "cell_type": "code",
   "execution_count": 47,
   "metadata": {},
   "outputs": [
    {
     "data": {
      "text/plain": [
       "42"
      ]
     },
     "execution_count": 47,
     "metadata": {},
     "output_type": "execute_result"
    }
   ],
   "source": [
    "len(merged[merged[\"edema\"]>0])"
   ]
  },
  {
   "cell_type": "code",
   "execution_count": 48,
   "metadata": {},
   "outputs": [
    {
     "data": {
      "text/plain": [
       "44"
      ]
     },
     "execution_count": 48,
     "metadata": {},
     "output_type": "execute_result"
    }
   ],
   "source": [
    "len(merged[merged[\"manual_edema\"]>0])"
   ]
  },
  {
   "cell_type": "code",
   "execution_count": 49,
   "metadata": {},
   "outputs": [
    {
     "name": "stdout",
     "output_type": "stream",
     "text": [
      "              precision    recall  f1-score   support\n",
      "\n",
      "           0       0.96      0.99      0.97        72\n",
      "           1       0.98      0.93      0.95        44\n",
      "\n",
      "    accuracy                           0.97       116\n",
      "   macro avg       0.97      0.96      0.96       116\n",
      "weighted avg       0.97      0.97      0.97       116\n",
      "\n"
     ]
    }
   ],
   "source": [
    "print(classification_report(merged[\"manual_edema\"], merged[\"edema\"]))"
   ]
  },
  {
   "cell_type": "code",
   "execution_count": 50,
   "metadata": {},
   "outputs": [
    {
     "name": "stdout",
     "output_type": "stream",
     "text": [
      "              precision    recall  f1-score   support\n",
      "\n",
      "           0       0.00      0.00      0.00         0\n",
      "           1       1.00      1.00      1.00         1\n",
      "           2       1.00      1.00      1.00         2\n",
      "           3       1.00      1.00      1.00         1\n",
      "           4       1.00      0.75      0.86         4\n",
      "           5       1.00      0.67      0.80         3\n",
      "           6       0.00      0.00      0.00         1\n",
      "           7       1.00      1.00      1.00         1\n",
      "           8       1.00      1.00      1.00         1\n",
      "           9       1.00      1.00      1.00         2\n",
      "          10       1.00      1.00      1.00         2\n",
      "          11       1.00      1.00      1.00         2\n",
      "          13       1.00      1.00      1.00         1\n",
      "          15       1.00      1.00      1.00         3\n",
      "          17       1.00      1.00      1.00         1\n",
      "\n",
      "    accuracy                           0.88        25\n",
      "   macro avg       0.87      0.83      0.84        25\n",
      "weighted avg       0.96      0.88      0.91        25\n",
      "\n"
     ]
    },
    {
     "name": "stderr",
     "output_type": "stream",
     "text": [
      "/mnt/c/Users/zohai/Documents/Research/Neuro_ML/miniconda3/envs/neuroml/lib/python3.8/site-packages/sklearn/metrics/_classification.py:1221: UndefinedMetricWarning: Recall and F-score are ill-defined and being set to 0.0 in labels with no true samples. Use `zero_division` parameter to control this behavior.\n",
      "  _warn_prf(average, modifier, msg_start, len(result))\n"
     ]
    }
   ],
   "source": [
    "mls = merged[merged[\"manual_mls\"]>0]\n",
    "print(classification_report(mls[\"manual_mls\"], mls[\"midline shift (mm)\"]))"
   ]
  },
  {
   "cell_type": "code",
   "execution_count": 51,
   "metadata": {},
   "outputs": [
    {
     "name": "stdout",
     "output_type": "stream",
     "text": [
      "              precision    recall  f1-score   support\n",
      "\n",
      "           1       1.00      1.00      1.00        25\n",
      "\n",
      "    accuracy                           1.00        25\n",
      "   macro avg       1.00      1.00      1.00        25\n",
      "weighted avg       1.00      1.00      1.00        25\n",
      "\n"
     ]
    },
    {
     "name": "stderr",
     "output_type": "stream",
     "text": [
      "/mnt/c/Users/zohai/Documents/Research/Neuro_ML/miniconda3/envs/neuroml/lib/python3.8/site-packages/pandas/core/indexing.py:1720: SettingWithCopyWarning: \n",
      "A value is trying to be set on a copy of a slice from a DataFrame.\n",
      "Try using .loc[row_indexer,col_indexer] = value instead\n",
      "\n",
      "See the caveats in the documentation: https://pandas.pydata.org/pandas-docs/stable/user_guide/indexing.html#returning-a-view-versus-a-copy\n",
      "  self._setitem_single_column(loc, value, pi)\n",
      "/mnt/c/Users/zohai/Documents/Research/Neuro_ML/miniconda3/envs/neuroml/lib/python3.8/site-packages/pandas/core/indexing.py:1720: SettingWithCopyWarning: \n",
      "A value is trying to be set on a copy of a slice from a DataFrame.\n",
      "Try using .loc[row_indexer,col_indexer] = value instead\n",
      "\n",
      "See the caveats in the documentation: https://pandas.pydata.org/pandas-docs/stable/user_guide/indexing.html#returning-a-view-versus-a-copy\n",
      "  self._setitem_single_column(loc, value, pi)\n"
     ]
    }
   ],
   "source": [
    "#PRESENCE OF MLS\n",
    "mls.loc[mls[\"manual_mls\"]>0] = 1\n",
    "mls.loc[mls[\"midline shift (mm)\"]>0] = 1\n",
    "print(classification_report(mls[\"manual_mls\"], mls[\"midline shift (mm)\"]))"
   ]
  },
  {
   "cell_type": "code",
   "execution_count": null,
   "metadata": {},
   "outputs": [],
   "source": []
  },
  {
   "cell_type": "code",
   "execution_count": 52,
   "metadata": {},
   "outputs": [],
   "source": [
    "filename=\"/mnt/c/Users/zohai/Documents/Research/Neuro_ML/LVOs_Follow_Up_CTs/BJH_2018_2019_master_v2.xlsx\"\n",
    "output_filename = filename.split(\".\")[0]\n",
    "output_filename += \"_AUTOMATED_INITIAL_FU_EDEMA_RESULTS.xlsx\"\n",
    "output_filename\n",
    "merged.to_excel(output_filename, index=False)"
   ]
  },
  {
   "cell_type": "code",
   "execution_count": 53,
   "metadata": {},
   "outputs": [],
   "source": [
    "merged_sig = merged[[\"RAPID Core (mL)\", \"RAPID Penumbra (mL)\",\"proximal_occlusion\",\"midline shift (mm)\",\"edema\",\"sulcal effacement\", \"ME\"]]\n",
    "#Columns that were lists/tuples are strings\n",
    "#Used ast functions to convert them back\n",
    "# cols_to_convert = [\"RAPID Core (mL)\", \"RAPID Penumbra (mL)\",\"proximal_occlusion\",\"midline shift (mm)\",\"edema\",\"sulcal effacement\"]\n",
    "# for col in cols_to_convert:\n",
    "#     merged_sig[col] = merged_sig[col].apply(lambda x: ast.literal_eval(x) if isinstance(x,str) else x)\n",
    "\n",
    "# #cohort18_19[\"pred_vessels\"] = cohort18_19[\"pred_vessels\"].apply(ast.literal_eval)\n",
    "# merged_sig"
   ]
  },
  {
   "cell_type": "code",
   "execution_count": 54,
   "metadata": {},
   "outputs": [
    {
     "name": "stdout",
     "output_type": "stream",
     "text": [
      "Edema %: 36.206896551724135\n",
      "Sulcal Effacement without edema %: 8.108108108108109\n",
      "Had any midline shift %: 20.689655172413794\n"
     ]
    }
   ],
   "source": [
    "#Percentage of data with edema, sulcal effacement, midline shift\n",
    "print(\"Edema %: \"+ str(merged_sig[\"edema\"].mean()*100))\n",
    "print(\"Sulcal Effacement without edema %: \"+ str(merged_sig[merged_sig[\"edema\"] == 0][\"sulcal effacement\"].mean()*100))\n",
    "print(\"Had any midline shift %: \"+ str(merged_sig[merged_sig[\"midline shift (mm)\"] > 0].shape[0]/merged_sig.shape[0]*100))"
   ]
  },
  {
   "cell_type": "code",
   "execution_count": 55,
   "metadata": {},
   "outputs": [
    {
     "name": "stdout",
     "output_type": "stream",
     "text": [
      "Edema #: 42\n",
      "Had any midline shift #: 24\n"
     ]
    }
   ],
   "source": [
    "#Number with edema and midline shift\n",
    "print(\"Edema #: \"+ str(merged_sig[merged_sig[\"edema\"] > 0].shape[0]))\n",
    "print(\"Had any midline shift #: \"+ str(merged_sig[merged_sig[\"midline shift (mm)\"] > 0].shape[0]))"
   ]
  },
  {
   "cell_type": "code",
   "execution_count": 56,
   "metadata": {},
   "outputs": [
    {
     "data": {
      "text/html": [
       "<div>\n",
       "<style scoped>\n",
       "    .dataframe tbody tr th:only-of-type {\n",
       "        vertical-align: middle;\n",
       "    }\n",
       "\n",
       "    .dataframe tbody tr th {\n",
       "        vertical-align: top;\n",
       "    }\n",
       "\n",
       "    .dataframe thead th {\n",
       "        text-align: right;\n",
       "    }\n",
       "</style>\n",
       "<table border=\"1\" class=\"dataframe\">\n",
       "  <thead>\n",
       "    <tr style=\"text-align: right;\">\n",
       "      <th></th>\n",
       "      <th>Edema</th>\n",
       "      <th>Effacement without edema</th>\n",
       "      <th>No effacement no edema</th>\n",
       "    </tr>\n",
       "  </thead>\n",
       "  <tbody>\n",
       "    <tr>\n",
       "      <th>No occlusion</th>\n",
       "      <td>3</td>\n",
       "      <td>0</td>\n",
       "      <td>6</td>\n",
       "    </tr>\n",
       "    <tr>\n",
       "      <th>Proximal occlusion</th>\n",
       "      <td>27</td>\n",
       "      <td>1</td>\n",
       "      <td>36</td>\n",
       "    </tr>\n",
       "    <tr>\n",
       "      <th>Distal occlusion</th>\n",
       "      <td>12</td>\n",
       "      <td>5</td>\n",
       "      <td>26</td>\n",
       "    </tr>\n",
       "  </tbody>\n",
       "</table>\n",
       "</div>"
      ],
      "text/plain": [
       "                    Edema  Effacement without edema  No effacement no edema\n",
       "No occlusion            3                         0                       6\n",
       "Proximal occlusion     27                         1                      36\n",
       "Distal occlusion       12                         5                      26"
      ]
     },
     "execution_count": 56,
     "metadata": {},
     "output_type": "execute_result"
    }
   ],
   "source": [
    "#3x2 table for 1. no occlusion, 2. proximal 3. distal, vs. edema or no edema\n",
    "no_occl = merged_sig[merged_sig[\"proximal_occlusion\"] == 0]\n",
    "proximal = merged_sig[merged_sig[\"proximal_occlusion\"] == 1]\n",
    "distal = merged_sig[merged_sig[\"proximal_occlusion\"] == 2]\n",
    "\n",
    "edema = [t[t[\"edema\"] > 0].shape[0] for t in [no_occl,proximal,distal]]\n",
    "effacement_no_edema = [t[(t[\"sulcal effacement\"] > 0) & (t[\"edema\"] == 0)].shape[0] for t in [no_occl,proximal,distal]]\n",
    "no_effac_no_edema = [t[(t[\"sulcal effacement\"] == 0) & (t[\"edema\"] == 0)].shape[0] for t in [no_occl,proximal,distal]]\n",
    "\n",
    "matrix = pd.DataFrame({\"Edema\":edema,\"Effacement without edema\":effacement_no_edema,\"No effacement no edema\":no_effac_no_edema})\n",
    "matrix.index = [\"No occlusion\",\"Proximal occlusion\",\"Distal occlusion\"]\n",
    "matrix"
   ]
  },
  {
   "cell_type": "code",
   "execution_count": 57,
   "metadata": {},
   "outputs": [
    {
     "data": {
      "text/html": [
       "<div>\n",
       "<style scoped>\n",
       "    .dataframe tbody tr th:only-of-type {\n",
       "        vertical-align: middle;\n",
       "    }\n",
       "\n",
       "    .dataframe tbody tr th {\n",
       "        vertical-align: top;\n",
       "    }\n",
       "\n",
       "    .dataframe thead th {\n",
       "        text-align: right;\n",
       "    }\n",
       "</style>\n",
       "<table border=\"1\" class=\"dataframe\">\n",
       "  <thead>\n",
       "    <tr style=\"text-align: right;\">\n",
       "      <th></th>\n",
       "      <th>RAPID Core (mL)</th>\n",
       "      <th>RAPID Penumbra (mL)</th>\n",
       "      <th>proximal_occlusion</th>\n",
       "      <th>midline shift (mm)</th>\n",
       "      <th>edema</th>\n",
       "      <th>sulcal effacement</th>\n",
       "      <th>ME</th>\n",
       "    </tr>\n",
       "  </thead>\n",
       "  <tbody>\n",
       "    <tr>\n",
       "      <th>1</th>\n",
       "      <td>216.0</td>\n",
       "      <td>302.0</td>\n",
       "      <td>1</td>\n",
       "      <td>4</td>\n",
       "      <td>1</td>\n",
       "      <td>1.0</td>\n",
       "      <td>0</td>\n",
       "    </tr>\n",
       "    <tr>\n",
       "      <th>2</th>\n",
       "      <td>159.0</td>\n",
       "      <td>230.0</td>\n",
       "      <td>1</td>\n",
       "      <td>4</td>\n",
       "      <td>1</td>\n",
       "      <td>1.0</td>\n",
       "      <td>0</td>\n",
       "    </tr>\n",
       "    <tr>\n",
       "      <th>10</th>\n",
       "      <td>12.0</td>\n",
       "      <td>47.0</td>\n",
       "      <td>1</td>\n",
       "      <td>0</td>\n",
       "      <td>0</td>\n",
       "      <td>0.0</td>\n",
       "      <td>0</td>\n",
       "    </tr>\n",
       "    <tr>\n",
       "      <th>11</th>\n",
       "      <td>44.0</td>\n",
       "      <td>168.0</td>\n",
       "      <td>1</td>\n",
       "      <td>2</td>\n",
       "      <td>1</td>\n",
       "      <td>0.0</td>\n",
       "      <td>0</td>\n",
       "    </tr>\n",
       "    <tr>\n",
       "      <th>12</th>\n",
       "      <td>41.0</td>\n",
       "      <td>142.0</td>\n",
       "      <td>1</td>\n",
       "      <td>9</td>\n",
       "      <td>1</td>\n",
       "      <td>0.0</td>\n",
       "      <td>0</td>\n",
       "    </tr>\n",
       "    <tr>\n",
       "      <th>...</th>\n",
       "      <td>...</td>\n",
       "      <td>...</td>\n",
       "      <td>...</td>\n",
       "      <td>...</td>\n",
       "      <td>...</td>\n",
       "      <td>...</td>\n",
       "      <td>...</td>\n",
       "    </tr>\n",
       "    <tr>\n",
       "      <th>113</th>\n",
       "      <td>137.0</td>\n",
       "      <td>174.0</td>\n",
       "      <td>1</td>\n",
       "      <td>0</td>\n",
       "      <td>1</td>\n",
       "      <td>1.0</td>\n",
       "      <td>1</td>\n",
       "    </tr>\n",
       "    <tr>\n",
       "      <th>115</th>\n",
       "      <td>0.0</td>\n",
       "      <td>94.0</td>\n",
       "      <td>1</td>\n",
       "      <td>8</td>\n",
       "      <td>1</td>\n",
       "      <td>0.0</td>\n",
       "      <td>1</td>\n",
       "    </tr>\n",
       "    <tr>\n",
       "      <th>116</th>\n",
       "      <td>93.0</td>\n",
       "      <td>105.0</td>\n",
       "      <td>1</td>\n",
       "      <td>15</td>\n",
       "      <td>1</td>\n",
       "      <td>0.0</td>\n",
       "      <td>1</td>\n",
       "    </tr>\n",
       "    <tr>\n",
       "      <th>118</th>\n",
       "      <td>29.0</td>\n",
       "      <td>99.0</td>\n",
       "      <td>1</td>\n",
       "      <td>0</td>\n",
       "      <td>0</td>\n",
       "      <td>0.0</td>\n",
       "      <td>0</td>\n",
       "    </tr>\n",
       "    <tr>\n",
       "      <th>119</th>\n",
       "      <td>169.0</td>\n",
       "      <td>196.0</td>\n",
       "      <td>1</td>\n",
       "      <td>9</td>\n",
       "      <td>1</td>\n",
       "      <td>0.0</td>\n",
       "      <td>1</td>\n",
       "    </tr>\n",
       "  </tbody>\n",
       "</table>\n",
       "<p>64 rows × 7 columns</p>\n",
       "</div>"
      ],
      "text/plain": [
       "     RAPID Core (mL)  RAPID Penumbra (mL)  proximal_occlusion  \\\n",
       "1              216.0                302.0                   1   \n",
       "2              159.0                230.0                   1   \n",
       "10              12.0                 47.0                   1   \n",
       "11              44.0                168.0                   1   \n",
       "12              41.0                142.0                   1   \n",
       "..               ...                  ...                 ...   \n",
       "113            137.0                174.0                   1   \n",
       "115              0.0                 94.0                   1   \n",
       "116             93.0                105.0                   1   \n",
       "118             29.0                 99.0                   1   \n",
       "119            169.0                196.0                   1   \n",
       "\n",
       "     midline shift (mm)  edema  sulcal effacement  ME  \n",
       "1                     4      1                1.0   0  \n",
       "2                     4      1                1.0   0  \n",
       "10                    0      0                0.0   0  \n",
       "11                    2      1                0.0   0  \n",
       "12                    9      1                0.0   0  \n",
       "..                  ...    ...                ...  ..  \n",
       "113                   0      1                1.0   1  \n",
       "115                   8      1                0.0   1  \n",
       "116                  15      1                0.0   1  \n",
       "118                   0      0                0.0   0  \n",
       "119                   9      1                0.0   1  \n",
       "\n",
       "[64 rows x 7 columns]"
      ]
     },
     "execution_count": 57,
     "metadata": {},
     "output_type": "execute_result"
    }
   ],
   "source": [
    "proximal"
   ]
  },
  {
   "cell_type": "code",
   "execution_count": 58,
   "metadata": {},
   "outputs": [
    {
     "data": {
      "text/plain": [
       "43"
      ]
     },
     "execution_count": 58,
     "metadata": {},
     "output_type": "execute_result"
    }
   ],
   "source": [
    "len(distal)"
   ]
  },
  {
   "cell_type": "code",
   "execution_count": 59,
   "metadata": {},
   "outputs": [
    {
     "data": {
      "text/html": [
       "<div>\n",
       "<style scoped>\n",
       "    .dataframe tbody tr th:only-of-type {\n",
       "        vertical-align: middle;\n",
       "    }\n",
       "\n",
       "    .dataframe tbody tr th {\n",
       "        vertical-align: top;\n",
       "    }\n",
       "\n",
       "    .dataframe thead th {\n",
       "        text-align: right;\n",
       "    }\n",
       "</style>\n",
       "<table border=\"1\" class=\"dataframe\">\n",
       "  <thead>\n",
       "    <tr style=\"text-align: right;\">\n",
       "      <th></th>\n",
       "      <th>RAPID Core (mL)</th>\n",
       "      <th>RAPID Penumbra (mL)</th>\n",
       "      <th>proximal_occlusion</th>\n",
       "      <th>midline shift (mm)</th>\n",
       "      <th>edema</th>\n",
       "      <th>sulcal effacement</th>\n",
       "      <th>ME</th>\n",
       "    </tr>\n",
       "  </thead>\n",
       "  <tbody>\n",
       "    <tr>\n",
       "      <th>17</th>\n",
       "      <td>84.0</td>\n",
       "      <td>135.0</td>\n",
       "      <td>0</td>\n",
       "      <td>17</td>\n",
       "      <td>1</td>\n",
       "      <td>1.0</td>\n",
       "      <td>1</td>\n",
       "    </tr>\n",
       "    <tr>\n",
       "      <th>24</th>\n",
       "      <td>12.0</td>\n",
       "      <td>146.0</td>\n",
       "      <td>0</td>\n",
       "      <td>0</td>\n",
       "      <td>0</td>\n",
       "      <td>0.0</td>\n",
       "      <td>0</td>\n",
       "    </tr>\n",
       "    <tr>\n",
       "      <th>25</th>\n",
       "      <td>23.0</td>\n",
       "      <td>236.0</td>\n",
       "      <td>0</td>\n",
       "      <td>0</td>\n",
       "      <td>0</td>\n",
       "      <td>0.0</td>\n",
       "      <td>0</td>\n",
       "    </tr>\n",
       "    <tr>\n",
       "      <th>61</th>\n",
       "      <td>0.0</td>\n",
       "      <td>46.0</td>\n",
       "      <td>0</td>\n",
       "      <td>7</td>\n",
       "      <td>1</td>\n",
       "      <td>1.0</td>\n",
       "      <td>1</td>\n",
       "    </tr>\n",
       "    <tr>\n",
       "      <th>76</th>\n",
       "      <td>12.0</td>\n",
       "      <td>85.0</td>\n",
       "      <td>0</td>\n",
       "      <td>0</td>\n",
       "      <td>0</td>\n",
       "      <td>0.0</td>\n",
       "      <td>0</td>\n",
       "    </tr>\n",
       "    <tr>\n",
       "      <th>88</th>\n",
       "      <td>308.0</td>\n",
       "      <td>347.0</td>\n",
       "      <td>0</td>\n",
       "      <td>0</td>\n",
       "      <td>1</td>\n",
       "      <td>1.0</td>\n",
       "      <td>1</td>\n",
       "    </tr>\n",
       "    <tr>\n",
       "      <th>92</th>\n",
       "      <td>15.0</td>\n",
       "      <td>104.0</td>\n",
       "      <td>0</td>\n",
       "      <td>0</td>\n",
       "      <td>0</td>\n",
       "      <td>0.0</td>\n",
       "      <td>0</td>\n",
       "    </tr>\n",
       "    <tr>\n",
       "      <th>108</th>\n",
       "      <td>0.0</td>\n",
       "      <td>144.0</td>\n",
       "      <td>0</td>\n",
       "      <td>0</td>\n",
       "      <td>0</td>\n",
       "      <td>0.0</td>\n",
       "      <td>0</td>\n",
       "    </tr>\n",
       "    <tr>\n",
       "      <th>117</th>\n",
       "      <td>0.0</td>\n",
       "      <td>15.0</td>\n",
       "      <td>0</td>\n",
       "      <td>0</td>\n",
       "      <td>0</td>\n",
       "      <td>0.0</td>\n",
       "      <td>0</td>\n",
       "    </tr>\n",
       "  </tbody>\n",
       "</table>\n",
       "</div>"
      ],
      "text/plain": [
       "     RAPID Core (mL)  RAPID Penumbra (mL)  proximal_occlusion  \\\n",
       "17              84.0                135.0                   0   \n",
       "24              12.0                146.0                   0   \n",
       "25              23.0                236.0                   0   \n",
       "61               0.0                 46.0                   0   \n",
       "76              12.0                 85.0                   0   \n",
       "88             308.0                347.0                   0   \n",
       "92              15.0                104.0                   0   \n",
       "108              0.0                144.0                   0   \n",
       "117              0.0                 15.0                   0   \n",
       "\n",
       "     midline shift (mm)  edema  sulcal effacement  ME  \n",
       "17                   17      1                1.0   1  \n",
       "24                    0      0                0.0   0  \n",
       "25                    0      0                0.0   0  \n",
       "61                    7      1                1.0   1  \n",
       "76                    0      0                0.0   0  \n",
       "88                    0      1                1.0   1  \n",
       "92                    0      0                0.0   0  \n",
       "108                   0      0                0.0   0  \n",
       "117                   0      0                0.0   0  "
      ]
     },
     "execution_count": 59,
     "metadata": {},
     "output_type": "execute_result"
    }
   ],
   "source": [
    "# no_occl"
   ]
  },
  {
   "cell_type": "code",
   "execution_count": 60,
   "metadata": {},
   "outputs": [
    {
     "data": {
      "text/plain": [
       "RAPID Core (mL)        21\n",
       "RAPID Penumbra (mL)    21\n",
       "proximal_occlusion     21\n",
       "midline shift (mm)     21\n",
       "edema                  21\n",
       "sulcal effacement      21\n",
       "ME                     21\n",
       "dtype: int64"
      ]
     },
     "execution_count": 60,
     "metadata": {},
     "output_type": "execute_result"
    }
   ],
   "source": [
    "#Total reports with sulcal effacement\n",
    "# se = merged_sig[merged_sig[\"sulcal effacement\"]>0]\n",
    "# se.count()"
   ]
  },
  {
   "cell_type": "code",
   "execution_count": 61,
   "metadata": {
    "scrolled": false
   },
   "outputs": [
    {
     "data": {
      "text/html": [
       "<div>\n",
       "<style scoped>\n",
       "    .dataframe tbody tr th:only-of-type {\n",
       "        vertical-align: middle;\n",
       "    }\n",
       "\n",
       "    .dataframe tbody tr th {\n",
       "        vertical-align: top;\n",
       "    }\n",
       "\n",
       "    .dataframe thead th {\n",
       "        text-align: right;\n",
       "    }\n",
       "</style>\n",
       "<table border=\"1\" class=\"dataframe\">\n",
       "  <thead>\n",
       "    <tr style=\"text-align: right;\">\n",
       "      <th></th>\n",
       "      <th>RAPID Core (mL)</th>\n",
       "      <th>RAPID Penumbra (mL)</th>\n",
       "      <th>proximal_occlusion</th>\n",
       "      <th>midline shift (mm)</th>\n",
       "      <th>edema</th>\n",
       "      <th>sulcal effacement</th>\n",
       "      <th>ME</th>\n",
       "    </tr>\n",
       "  </thead>\n",
       "  <tbody>\n",
       "    <tr>\n",
       "      <th>3</th>\n",
       "      <td>12.0</td>\n",
       "      <td>137.0</td>\n",
       "      <td>2</td>\n",
       "      <td>0</td>\n",
       "      <td>0</td>\n",
       "      <td>1.0</td>\n",
       "      <td>0</td>\n",
       "    </tr>\n",
       "    <tr>\n",
       "      <th>23</th>\n",
       "      <td>131.0</td>\n",
       "      <td>232.0</td>\n",
       "      <td>1</td>\n",
       "      <td>0</td>\n",
       "      <td>0</td>\n",
       "      <td>1.0</td>\n",
       "      <td>0</td>\n",
       "    </tr>\n",
       "    <tr>\n",
       "      <th>34</th>\n",
       "      <td>5.0</td>\n",
       "      <td>91.0</td>\n",
       "      <td>2</td>\n",
       "      <td>0</td>\n",
       "      <td>0</td>\n",
       "      <td>1.0</td>\n",
       "      <td>0</td>\n",
       "    </tr>\n",
       "    <tr>\n",
       "      <th>67</th>\n",
       "      <td>19.0</td>\n",
       "      <td>95.0</td>\n",
       "      <td>2</td>\n",
       "      <td>0</td>\n",
       "      <td>0</td>\n",
       "      <td>1.0</td>\n",
       "      <td>0</td>\n",
       "    </tr>\n",
       "    <tr>\n",
       "      <th>103</th>\n",
       "      <td>60.0</td>\n",
       "      <td>162.0</td>\n",
       "      <td>2</td>\n",
       "      <td>0</td>\n",
       "      <td>0</td>\n",
       "      <td>1.0</td>\n",
       "      <td>1</td>\n",
       "    </tr>\n",
       "    <tr>\n",
       "      <th>104</th>\n",
       "      <td>16.0</td>\n",
       "      <td>69.0</td>\n",
       "      <td>2</td>\n",
       "      <td>0</td>\n",
       "      <td>0</td>\n",
       "      <td>1.0</td>\n",
       "      <td>0</td>\n",
       "    </tr>\n",
       "  </tbody>\n",
       "</table>\n",
       "</div>"
      ],
      "text/plain": [
       "     RAPID Core (mL)  RAPID Penumbra (mL)  proximal_occlusion  \\\n",
       "3               12.0                137.0                   2   \n",
       "23             131.0                232.0                   1   \n",
       "34               5.0                 91.0                   2   \n",
       "67              19.0                 95.0                   2   \n",
       "103             60.0                162.0                   2   \n",
       "104             16.0                 69.0                   2   \n",
       "\n",
       "     midline shift (mm)  edema  sulcal effacement  ME  \n",
       "3                     0      0                1.0   0  \n",
       "23                    0      0                1.0   0  \n",
       "34                    0      0                1.0   0  \n",
       "67                    0      0                1.0   0  \n",
       "103                   0      0                1.0   1  \n",
       "104                   0      0                1.0   0  "
      ]
     },
     "execution_count": 61,
     "metadata": {},
     "output_type": "execute_result"
    }
   ],
   "source": [
    "#Reports with sulcal effacement without edema\n",
    "# se[se[\"edema\"] < 1]"
   ]
  },
  {
   "cell_type": "code",
   "execution_count": 62,
   "metadata": {},
   "outputs": [
    {
     "data": {
      "text/html": [
       "<div>\n",
       "<style scoped>\n",
       "    .dataframe tbody tr th:only-of-type {\n",
       "        vertical-align: middle;\n",
       "    }\n",
       "\n",
       "    .dataframe tbody tr th {\n",
       "        vertical-align: top;\n",
       "    }\n",
       "\n",
       "    .dataframe thead th {\n",
       "        text-align: right;\n",
       "    }\n",
       "</style>\n",
       "<table border=\"1\" class=\"dataframe\">\n",
       "  <thead>\n",
       "    <tr style=\"text-align: right;\">\n",
       "      <th></th>\n",
       "      <th>RAPID Core (mL)</th>\n",
       "      <th>RAPID Penumbra (mL)</th>\n",
       "      <th>proximal_occlusion</th>\n",
       "      <th>midline shift (mm)</th>\n",
       "      <th>edema</th>\n",
       "      <th>sulcal effacement</th>\n",
       "      <th>ME</th>\n",
       "    </tr>\n",
       "  </thead>\n",
       "  <tbody>\n",
       "    <tr>\n",
       "      <th>0</th>\n",
       "      <td>0.0</td>\n",
       "      <td>58.0</td>\n",
       "      <td>2</td>\n",
       "      <td>0</td>\n",
       "      <td>0</td>\n",
       "      <td>0.0</td>\n",
       "      <td>0</td>\n",
       "    </tr>\n",
       "    <tr>\n",
       "      <th>4</th>\n",
       "      <td>10.0</td>\n",
       "      <td>157.0</td>\n",
       "      <td>2</td>\n",
       "      <td>0</td>\n",
       "      <td>0</td>\n",
       "      <td>0.0</td>\n",
       "      <td>0</td>\n",
       "    </tr>\n",
       "    <tr>\n",
       "      <th>5</th>\n",
       "      <td>0.0</td>\n",
       "      <td>38.0</td>\n",
       "      <td>2</td>\n",
       "      <td>0</td>\n",
       "      <td>0</td>\n",
       "      <td>0.0</td>\n",
       "      <td>0</td>\n",
       "    </tr>\n",
       "    <tr>\n",
       "      <th>6</th>\n",
       "      <td>8.0</td>\n",
       "      <td>48.0</td>\n",
       "      <td>2</td>\n",
       "      <td>0</td>\n",
       "      <td>0</td>\n",
       "      <td>0.0</td>\n",
       "      <td>0</td>\n",
       "    </tr>\n",
       "    <tr>\n",
       "      <th>7</th>\n",
       "      <td>0.0</td>\n",
       "      <td>62.0</td>\n",
       "      <td>2</td>\n",
       "      <td>0</td>\n",
       "      <td>0</td>\n",
       "      <td>0.0</td>\n",
       "      <td>0</td>\n",
       "    </tr>\n",
       "    <tr>\n",
       "      <th>...</th>\n",
       "      <td>...</td>\n",
       "      <td>...</td>\n",
       "      <td>...</td>\n",
       "      <td>...</td>\n",
       "      <td>...</td>\n",
       "      <td>...</td>\n",
       "      <td>...</td>\n",
       "    </tr>\n",
       "    <tr>\n",
       "      <th>111</th>\n",
       "      <td>0.0</td>\n",
       "      <td>74.0</td>\n",
       "      <td>1</td>\n",
       "      <td>0</td>\n",
       "      <td>0</td>\n",
       "      <td>0.0</td>\n",
       "      <td>0</td>\n",
       "    </tr>\n",
       "    <tr>\n",
       "      <th>114</th>\n",
       "      <td>6.0</td>\n",
       "      <td>48.0</td>\n",
       "      <td>2</td>\n",
       "      <td>0</td>\n",
       "      <td>0</td>\n",
       "      <td>0.0</td>\n",
       "      <td>0</td>\n",
       "    </tr>\n",
       "    <tr>\n",
       "      <th>117</th>\n",
       "      <td>0.0</td>\n",
       "      <td>15.0</td>\n",
       "      <td>0</td>\n",
       "      <td>0</td>\n",
       "      <td>0</td>\n",
       "      <td>0.0</td>\n",
       "      <td>0</td>\n",
       "    </tr>\n",
       "    <tr>\n",
       "      <th>118</th>\n",
       "      <td>29.0</td>\n",
       "      <td>99.0</td>\n",
       "      <td>1</td>\n",
       "      <td>0</td>\n",
       "      <td>0</td>\n",
       "      <td>0.0</td>\n",
       "      <td>0</td>\n",
       "    </tr>\n",
       "    <tr>\n",
       "      <th>120</th>\n",
       "      <td>16.0</td>\n",
       "      <td>40.0</td>\n",
       "      <td>2</td>\n",
       "      <td>0</td>\n",
       "      <td>0</td>\n",
       "      <td>0.0</td>\n",
       "      <td>0</td>\n",
       "    </tr>\n",
       "  </tbody>\n",
       "</table>\n",
       "<p>68 rows × 7 columns</p>\n",
       "</div>"
      ],
      "text/plain": [
       "     RAPID Core (mL)  RAPID Penumbra (mL)  proximal_occlusion  \\\n",
       "0                0.0                 58.0                   2   \n",
       "4               10.0                157.0                   2   \n",
       "5                0.0                 38.0                   2   \n",
       "6                8.0                 48.0                   2   \n",
       "7                0.0                 62.0                   2   \n",
       "..               ...                  ...                 ...   \n",
       "111              0.0                 74.0                   1   \n",
       "114              6.0                 48.0                   2   \n",
       "117              0.0                 15.0                   0   \n",
       "118             29.0                 99.0                   1   \n",
       "120             16.0                 40.0                   2   \n",
       "\n",
       "     midline shift (mm)  edema  sulcal effacement  ME  \n",
       "0                     0      0                0.0   0  \n",
       "4                     0      0                0.0   0  \n",
       "5                     0      0                0.0   0  \n",
       "6                     0      0                0.0   0  \n",
       "7                     0      0                0.0   0  \n",
       "..                  ...    ...                ...  ..  \n",
       "111                   0      0                0.0   0  \n",
       "114                   0      0                0.0   0  \n",
       "117                   0      0                0.0   0  \n",
       "118                   0      0                0.0   0  \n",
       "120                   0      0                0.0   0  \n",
       "\n",
       "[68 rows x 7 columns]"
      ]
     },
     "execution_count": 62,
     "metadata": {},
     "output_type": "execute_result"
    }
   ],
   "source": [
    "#No edema or sulcal effacement\n",
    "# no_e_se = merged_sig[merged_sig[\"edema\"] == 0]\n",
    "# no_e_se = no_e_se[no_e_se[\"sulcal effacement\"]==0]\n",
    "# no_e_se"
   ]
  },
  {
   "cell_type": "code",
   "execution_count": 63,
   "metadata": {},
   "outputs": [
    {
     "data": {
      "text/plain": [
       "array([[<AxesSubplot:title={'center':'RAPID Core (mL)'}>,\n",
       "        <AxesSubplot:title={'center':'RAPID Penumbra (mL)'}>]],\n",
       "      dtype=object)"
      ]
     },
     "execution_count": 63,
     "metadata": {},
     "output_type": "execute_result"
    },
    {
     "data": {
      "image/png": "[encoded data removed]",
      "text/plain": [
       "<Figure size 432x288 with 2 Axes>"
      ]
     },
     "metadata": {
      "needs_background": "light"
     },
     "output_type": "display_data"
    }
   ],
   "source": [
    "#Ischemic volume distributions for no edema/no sulcal effacement group\n",
    "# no_e_se.hist(column=[\"RAPID Core (mL)\", \"RAPID Penumbra (mL)\"])"
   ]
  },
  {
   "cell_type": "code",
   "execution_count": 64,
   "metadata": {},
   "outputs": [
    {
     "data": {
      "text/plain": [
       "array([[<AxesSubplot:title={'center':'proximal_occlusion'}>]],\n",
       "      dtype=object)"
      ]
     },
     "execution_count": 64,
     "metadata": {},
     "output_type": "execute_result"
    },
    {
     "data": {
      "image/png": "[encoded data removed]",
      "text/plain": [
       "<Figure size 432x288 with 1 Axes>"
      ]
     },
     "metadata": {
      "needs_background": "light"
     },
     "output_type": "display_data"
    }
   ],
   "source": [
    "#Proximal occlusion distributions no edema/se group\n",
    "#0=No occlusion\n",
    "#1=Proximal occlusion\n",
    "#2=Distal occlusion\n",
    "# no_e_se.hist(column=\"proximal_occlusion\")"
   ]
  },
  {
   "cell_type": "code",
   "execution_count": 65,
   "metadata": {},
   "outputs": [
    {
     "data": {
      "text/plain": [
       "<AxesSubplot:title={'center':'RAPID Core (mL)'}, xlabel='proximal_occlusion'>"
      ]
     },
     "execution_count": 65,
     "metadata": {},
     "output_type": "execute_result"
    },
    {
     "data": {
      "image/png": "[encoded data removed]",
      "text/plain": [
       "<Figure size 432x288 with 1 Axes>"
      ]
     },
     "metadata": {
      "needs_background": "light"
     },
     "output_type": "display_data"
    }
   ],
   "source": [
    "# no_e_se.boxplot(column='RAPID Core (mL)',by='proximal_occlusion')"
   ]
  },
  {
   "cell_type": "code",
   "execution_count": 66,
   "metadata": {},
   "outputs": [
    {
     "data": {
      "text/plain": [
       "0.25     3.00\n",
       "0.50    12.00\n",
       "0.75    14.25\n",
       "Name: RAPID Core (mL), dtype: float64"
      ]
     },
     "execution_count": 66,
     "metadata": {},
     "output_type": "execute_result"
    }
   ],
   "source": [
    "#0, no occlusion\n",
    "# no_e_se[no_e_se[\"proximal_occlusion\"]==0][\"RAPID Core (mL)\"].quantile(q=[.25,.5,.75])"
   ]
  },
  {
   "cell_type": "code",
   "execution_count": 67,
   "metadata": {},
   "outputs": [
    {
     "data": {
      "text/plain": [
       "0.25     0.00\n",
       "0.50     9.00\n",
       "0.75    29.75\n",
       "Name: RAPID Core (mL), dtype: float64"
      ]
     },
     "execution_count": 67,
     "metadata": {},
     "output_type": "execute_result"
    }
   ],
   "source": [
    "#1, proximal occlusion\n",
    "# no_e_se[no_e_se[\"proximal_occlusion\"]==1][\"RAPID Core (mL)\"].quantile(q=[.25,.5,.75])"
   ]
  },
  {
   "cell_type": "code",
   "execution_count": 68,
   "metadata": {},
   "outputs": [
    {
     "data": {
      "text/plain": [
       "0.25     0.00\n",
       "0.50     9.00\n",
       "0.75    18.75\n",
       "Name: RAPID Core (mL), dtype: float64"
      ]
     },
     "execution_count": 68,
     "metadata": {},
     "output_type": "execute_result"
    }
   ],
   "source": [
    "#2, distal occlusion\n",
    "# no_e_se[no_e_se[\"proximal_occlusion\"]==2][\"RAPID Core (mL)\"].quantile(q=[.25,.5,.75])"
   ]
  },
  {
   "cell_type": "code",
   "execution_count": 69,
   "metadata": {},
   "outputs": [
    {
     "data": {
      "text/plain": [
       "MannwhitneyuResult(statistic=455.5, pvalue=0.43024746678431136)"
      ]
     },
     "execution_count": 69,
     "metadata": {},
     "output_type": "execute_result"
    }
   ],
   "source": [
    "#p-val for proximal vs distal occlusions\n",
    "# from scipy.stats import mannwhitneyu\n",
    "# mannwhitneyu(no_e_se[no_e_se[\"proximal_occlusion\"]==1][\"RAPID Core (mL)\"],no_e_se[no_e_se[\"proximal_occlusion\"]==2][\"RAPID Core (mL)\"])"
   ]
  },
  {
   "cell_type": "code",
   "execution_count": 70,
   "metadata": {},
   "outputs": [
    {
     "data": {
      "text/plain": [
       "<AxesSubplot:title={'center':'RAPID Penumbra (mL)'}, xlabel='proximal_occlusion'>"
      ]
     },
     "execution_count": 70,
     "metadata": {},
     "output_type": "execute_result"
    },
    {
     "data": {
      "image/png": "[encoded data removed]",
      "text/plain": [
       "<Figure size 432x288 with 1 Axes>"
      ]
     },
     "metadata": {
      "needs_background": "light"
     },
     "output_type": "display_data"
    }
   ],
   "source": [
    "# no_e_se.boxplot(column='RAPID Penumbra (mL)',by='proximal_occlusion')"
   ]
  },
  {
   "cell_type": "code",
   "execution_count": 71,
   "metadata": {},
   "outputs": [
    {
     "data": {
      "text/plain": [
       "0.25     89.75\n",
       "0.50    124.00\n",
       "0.75    145.50\n",
       "Name: RAPID Penumbra (mL), dtype: float64"
      ]
     },
     "execution_count": 71,
     "metadata": {},
     "output_type": "execute_result"
    }
   ],
   "source": [
    "#0, no occlusion\n",
    "# no_e_se[no_e_se[\"proximal_occlusion\"]==0][\"RAPID Penumbra (mL)\"].quantile(q=[.25,.5,.75])"
   ]
  },
  {
   "cell_type": "code",
   "execution_count": 72,
   "metadata": {},
   "outputs": [
    {
     "data": {
      "text/plain": [
       "0.25     56.75\n",
       "0.50     98.00\n",
       "0.75    148.50\n",
       "Name: RAPID Penumbra (mL), dtype: float64"
      ]
     },
     "execution_count": 72,
     "metadata": {},
     "output_type": "execute_result"
    }
   ],
   "source": [
    "#1, proximal occlusion\n",
    "# no_e_se[no_e_se[\"proximal_occlusion\"]==1][\"RAPID Penumbra (mL)\"].quantile(q=[.25,.5,.75])"
   ]
  },
  {
   "cell_type": "code",
   "execution_count": 73,
   "metadata": {},
   "outputs": [
    {
     "data": {
      "text/plain": [
       "0.25    33.25\n",
       "0.50    48.00\n",
       "0.75    61.00\n",
       "Name: RAPID Penumbra (mL), dtype: float64"
      ]
     },
     "execution_count": 73,
     "metadata": {},
     "output_type": "execute_result"
    }
   ],
   "source": [
    "#2, distal occlusion\n",
    "# no_e_se[no_e_se[\"proximal_occlusion\"]==2][\"RAPID Penumbra (mL)\"].quantile(q=[.25,.5,.75])"
   ]
  },
  {
   "cell_type": "code",
   "execution_count": 74,
   "metadata": {},
   "outputs": [
    {
     "data": {
      "text/plain": [
       "MannwhitneyuResult(statistic=226.5, pvalue=0.00029213279234477916)"
      ]
     },
     "execution_count": 74,
     "metadata": {},
     "output_type": "execute_result"
    }
   ],
   "source": [
    "#p-val for proximal vs distal occlusions\n",
    "# mannwhitneyu(no_e_se[no_e_se[\"proximal_occlusion\"]==1][\"RAPID Penumbra (mL)\"],no_e_se[no_e_se[\"proximal_occlusion\"]==2][\"RAPID Penumbra (mL)\"])"
   ]
  },
  {
   "cell_type": "code",
   "execution_count": 75,
   "metadata": {},
   "outputs": [
    {
     "data": {
      "text/html": [
       "<div>\n",
       "<style scoped>\n",
       "    .dataframe tbody tr th:only-of-type {\n",
       "        vertical-align: middle;\n",
       "    }\n",
       "\n",
       "    .dataframe tbody tr th {\n",
       "        vertical-align: top;\n",
       "    }\n",
       "\n",
       "    .dataframe thead th {\n",
       "        text-align: right;\n",
       "    }\n",
       "</style>\n",
       "<table border=\"1\" class=\"dataframe\">\n",
       "  <thead>\n",
       "    <tr style=\"text-align: right;\">\n",
       "      <th></th>\n",
       "      <th>RAPID Core (mL)</th>\n",
       "      <th>RAPID Penumbra (mL)</th>\n",
       "      <th>proximal_occlusion</th>\n",
       "      <th>midline shift (mm)</th>\n",
       "      <th>edema</th>\n",
       "      <th>sulcal effacement</th>\n",
       "      <th>ME</th>\n",
       "    </tr>\n",
       "  </thead>\n",
       "  <tbody>\n",
       "    <tr>\n",
       "      <th>1</th>\n",
       "      <td>216.0</td>\n",
       "      <td>302.0</td>\n",
       "      <td>1</td>\n",
       "      <td>4</td>\n",
       "      <td>1</td>\n",
       "      <td>1.0</td>\n",
       "      <td>0</td>\n",
       "    </tr>\n",
       "    <tr>\n",
       "      <th>2</th>\n",
       "      <td>159.0</td>\n",
       "      <td>230.0</td>\n",
       "      <td>1</td>\n",
       "      <td>4</td>\n",
       "      <td>1</td>\n",
       "      <td>1.0</td>\n",
       "      <td>0</td>\n",
       "    </tr>\n",
       "    <tr>\n",
       "      <th>9</th>\n",
       "      <td>12.0</td>\n",
       "      <td>66.0</td>\n",
       "      <td>2</td>\n",
       "      <td>0</td>\n",
       "      <td>1</td>\n",
       "      <td>1.0</td>\n",
       "      <td>0</td>\n",
       "    </tr>\n",
       "    <tr>\n",
       "      <th>11</th>\n",
       "      <td>44.0</td>\n",
       "      <td>168.0</td>\n",
       "      <td>1</td>\n",
       "      <td>2</td>\n",
       "      <td>1</td>\n",
       "      <td>0.0</td>\n",
       "      <td>0</td>\n",
       "    </tr>\n",
       "    <tr>\n",
       "      <th>12</th>\n",
       "      <td>41.0</td>\n",
       "      <td>142.0</td>\n",
       "      <td>1</td>\n",
       "      <td>9</td>\n",
       "      <td>1</td>\n",
       "      <td>0.0</td>\n",
       "      <td>0</td>\n",
       "    </tr>\n",
       "    <tr>\n",
       "      <th>13</th>\n",
       "      <td>14.0</td>\n",
       "      <td>88.0</td>\n",
       "      <td>1</td>\n",
       "      <td>0</td>\n",
       "      <td>1</td>\n",
       "      <td>0.0</td>\n",
       "      <td>0</td>\n",
       "    </tr>\n",
       "    <tr>\n",
       "      <th>17</th>\n",
       "      <td>84.0</td>\n",
       "      <td>135.0</td>\n",
       "      <td>0</td>\n",
       "      <td>17</td>\n",
       "      <td>1</td>\n",
       "      <td>1.0</td>\n",
       "      <td>1</td>\n",
       "    </tr>\n",
       "    <tr>\n",
       "      <th>19</th>\n",
       "      <td>9.0</td>\n",
       "      <td>80.0</td>\n",
       "      <td>2</td>\n",
       "      <td>0</td>\n",
       "      <td>1</td>\n",
       "      <td>1.0</td>\n",
       "      <td>0</td>\n",
       "    </tr>\n",
       "    <tr>\n",
       "      <th>26</th>\n",
       "      <td>9.0</td>\n",
       "      <td>37.0</td>\n",
       "      <td>2</td>\n",
       "      <td>0</td>\n",
       "      <td>1</td>\n",
       "      <td>0.0</td>\n",
       "      <td>0</td>\n",
       "    </tr>\n",
       "    <tr>\n",
       "      <th>27</th>\n",
       "      <td>75.0</td>\n",
       "      <td>99.0</td>\n",
       "      <td>1</td>\n",
       "      <td>4</td>\n",
       "      <td>1</td>\n",
       "      <td>0.0</td>\n",
       "      <td>0</td>\n",
       "    </tr>\n",
       "    <tr>\n",
       "      <th>28</th>\n",
       "      <td>17.0</td>\n",
       "      <td>55.0</td>\n",
       "      <td>1</td>\n",
       "      <td>0</td>\n",
       "      <td>1</td>\n",
       "      <td>0.0</td>\n",
       "      <td>0</td>\n",
       "    </tr>\n",
       "    <tr>\n",
       "      <th>31</th>\n",
       "      <td>22.0</td>\n",
       "      <td>52.0</td>\n",
       "      <td>1</td>\n",
       "      <td>0</td>\n",
       "      <td>1</td>\n",
       "      <td>0.0</td>\n",
       "      <td>1</td>\n",
       "    </tr>\n",
       "    <tr>\n",
       "      <th>35</th>\n",
       "      <td>57.0</td>\n",
       "      <td>170.0</td>\n",
       "      <td>2</td>\n",
       "      <td>15</td>\n",
       "      <td>1</td>\n",
       "      <td>0.0</td>\n",
       "      <td>1</td>\n",
       "    </tr>\n",
       "    <tr>\n",
       "      <th>39</th>\n",
       "      <td>9.0</td>\n",
       "      <td>168.0</td>\n",
       "      <td>1</td>\n",
       "      <td>0</td>\n",
       "      <td>1</td>\n",
       "      <td>1.0</td>\n",
       "      <td>1</td>\n",
       "    </tr>\n",
       "    <tr>\n",
       "      <th>41</th>\n",
       "      <td>0.0</td>\n",
       "      <td>30.0</td>\n",
       "      <td>1</td>\n",
       "      <td>11</td>\n",
       "      <td>1</td>\n",
       "      <td>1.0</td>\n",
       "      <td>1</td>\n",
       "    </tr>\n",
       "    <tr>\n",
       "      <th>42</th>\n",
       "      <td>7.0</td>\n",
       "      <td>0.0</td>\n",
       "      <td>1</td>\n",
       "      <td>3</td>\n",
       "      <td>1</td>\n",
       "      <td>0.0</td>\n",
       "      <td>1</td>\n",
       "    </tr>\n",
       "    <tr>\n",
       "      <th>44</th>\n",
       "      <td>21.0</td>\n",
       "      <td>84.0</td>\n",
       "      <td>2</td>\n",
       "      <td>0</td>\n",
       "      <td>1</td>\n",
       "      <td>1.0</td>\n",
       "      <td>0</td>\n",
       "    </tr>\n",
       "    <tr>\n",
       "      <th>46</th>\n",
       "      <td>10.0</td>\n",
       "      <td>56.0</td>\n",
       "      <td>2</td>\n",
       "      <td>0</td>\n",
       "      <td>1</td>\n",
       "      <td>1.0</td>\n",
       "      <td>0</td>\n",
       "    </tr>\n",
       "    <tr>\n",
       "      <th>47</th>\n",
       "      <td>109.0</td>\n",
       "      <td>128.0</td>\n",
       "      <td>1</td>\n",
       "      <td>5</td>\n",
       "      <td>1</td>\n",
       "      <td>1.0</td>\n",
       "      <td>1</td>\n",
       "    </tr>\n",
       "    <tr>\n",
       "      <th>49</th>\n",
       "      <td>94.0</td>\n",
       "      <td>214.0</td>\n",
       "      <td>2</td>\n",
       "      <td>13</td>\n",
       "      <td>1</td>\n",
       "      <td>0.0</td>\n",
       "      <td>1</td>\n",
       "    </tr>\n",
       "    <tr>\n",
       "      <th>52</th>\n",
       "      <td>41.0</td>\n",
       "      <td>114.0</td>\n",
       "      <td>1</td>\n",
       "      <td>2</td>\n",
       "      <td>1</td>\n",
       "      <td>0.0</td>\n",
       "      <td>1</td>\n",
       "    </tr>\n",
       "    <tr>\n",
       "      <th>58</th>\n",
       "      <td>8.0</td>\n",
       "      <td>12.0</td>\n",
       "      <td>1</td>\n",
       "      <td>0</td>\n",
       "      <td>1</td>\n",
       "      <td>0.0</td>\n",
       "      <td>0</td>\n",
       "    </tr>\n",
       "    <tr>\n",
       "      <th>61</th>\n",
       "      <td>0.0</td>\n",
       "      <td>46.0</td>\n",
       "      <td>0</td>\n",
       "      <td>7</td>\n",
       "      <td>1</td>\n",
       "      <td>1.0</td>\n",
       "      <td>1</td>\n",
       "    </tr>\n",
       "    <tr>\n",
       "      <th>62</th>\n",
       "      <td>126.0</td>\n",
       "      <td>258.0</td>\n",
       "      <td>1</td>\n",
       "      <td>6</td>\n",
       "      <td>1</td>\n",
       "      <td>0.0</td>\n",
       "      <td>1</td>\n",
       "    </tr>\n",
       "    <tr>\n",
       "      <th>65</th>\n",
       "      <td>21.0</td>\n",
       "      <td>76.0</td>\n",
       "      <td>2</td>\n",
       "      <td>0</td>\n",
       "      <td>1</td>\n",
       "      <td>1.0</td>\n",
       "      <td>0</td>\n",
       "    </tr>\n",
       "    <tr>\n",
       "      <th>66</th>\n",
       "      <td>41.0</td>\n",
       "      <td>109.0</td>\n",
       "      <td>1</td>\n",
       "      <td>3</td>\n",
       "      <td>1</td>\n",
       "      <td>0.0</td>\n",
       "      <td>0</td>\n",
       "    </tr>\n",
       "    <tr>\n",
       "      <th>69</th>\n",
       "      <td>7.0</td>\n",
       "      <td>83.0</td>\n",
       "      <td>1</td>\n",
       "      <td>5</td>\n",
       "      <td>1</td>\n",
       "      <td>1.0</td>\n",
       "      <td>1</td>\n",
       "    </tr>\n",
       "    <tr>\n",
       "      <th>71</th>\n",
       "      <td>254.0</td>\n",
       "      <td>399.0</td>\n",
       "      <td>1</td>\n",
       "      <td>10</td>\n",
       "      <td>1</td>\n",
       "      <td>0.0</td>\n",
       "      <td>1</td>\n",
       "    </tr>\n",
       "    <tr>\n",
       "      <th>73</th>\n",
       "      <td>127.0</td>\n",
       "      <td>286.0</td>\n",
       "      <td>1</td>\n",
       "      <td>15</td>\n",
       "      <td>1</td>\n",
       "      <td>0.0</td>\n",
       "      <td>1</td>\n",
       "    </tr>\n",
       "    <tr>\n",
       "      <th>74</th>\n",
       "      <td>160.0</td>\n",
       "      <td>230.0</td>\n",
       "      <td>1</td>\n",
       "      <td>11</td>\n",
       "      <td>1</td>\n",
       "      <td>0.0</td>\n",
       "      <td>1</td>\n",
       "    </tr>\n",
       "    <tr>\n",
       "      <th>79</th>\n",
       "      <td>18.0</td>\n",
       "      <td>46.0</td>\n",
       "      <td>2</td>\n",
       "      <td>0</td>\n",
       "      <td>1</td>\n",
       "      <td>0.0</td>\n",
       "      <td>0</td>\n",
       "    </tr>\n",
       "    <tr>\n",
       "      <th>82</th>\n",
       "      <td>117.0</td>\n",
       "      <td>205.0</td>\n",
       "      <td>1</td>\n",
       "      <td>0</td>\n",
       "      <td>1</td>\n",
       "      <td>0.0</td>\n",
       "      <td>0</td>\n",
       "    </tr>\n",
       "    <tr>\n",
       "      <th>84</th>\n",
       "      <td>46.0</td>\n",
       "      <td>56.0</td>\n",
       "      <td>2</td>\n",
       "      <td>0</td>\n",
       "      <td>1</td>\n",
       "      <td>0.0</td>\n",
       "      <td>1</td>\n",
       "    </tr>\n",
       "    <tr>\n",
       "      <th>88</th>\n",
       "      <td>308.0</td>\n",
       "      <td>347.0</td>\n",
       "      <td>0</td>\n",
       "      <td>0</td>\n",
       "      <td>1</td>\n",
       "      <td>1.0</td>\n",
       "      <td>1</td>\n",
       "    </tr>\n",
       "    <tr>\n",
       "      <th>94</th>\n",
       "      <td>18.0</td>\n",
       "      <td>91.0</td>\n",
       "      <td>1</td>\n",
       "      <td>0</td>\n",
       "      <td>1</td>\n",
       "      <td>0.0</td>\n",
       "      <td>0</td>\n",
       "    </tr>\n",
       "    <tr>\n",
       "      <th>98</th>\n",
       "      <td>29.0</td>\n",
       "      <td>188.0</td>\n",
       "      <td>1</td>\n",
       "      <td>0</td>\n",
       "      <td>1</td>\n",
       "      <td>0.0</td>\n",
       "      <td>0</td>\n",
       "    </tr>\n",
       "    <tr>\n",
       "      <th>105</th>\n",
       "      <td>4.0</td>\n",
       "      <td>122.0</td>\n",
       "      <td>2</td>\n",
       "      <td>0</td>\n",
       "      <td>1</td>\n",
       "      <td>0.0</td>\n",
       "      <td>0</td>\n",
       "    </tr>\n",
       "    <tr>\n",
       "      <th>113</th>\n",
       "      <td>137.0</td>\n",
       "      <td>174.0</td>\n",
       "      <td>1</td>\n",
       "      <td>0</td>\n",
       "      <td>1</td>\n",
       "      <td>1.0</td>\n",
       "      <td>1</td>\n",
       "    </tr>\n",
       "    <tr>\n",
       "      <th>115</th>\n",
       "      <td>0.0</td>\n",
       "      <td>94.0</td>\n",
       "      <td>1</td>\n",
       "      <td>8</td>\n",
       "      <td>1</td>\n",
       "      <td>0.0</td>\n",
       "      <td>1</td>\n",
       "    </tr>\n",
       "    <tr>\n",
       "      <th>116</th>\n",
       "      <td>93.0</td>\n",
       "      <td>105.0</td>\n",
       "      <td>1</td>\n",
       "      <td>15</td>\n",
       "      <td>1</td>\n",
       "      <td>0.0</td>\n",
       "      <td>1</td>\n",
       "    </tr>\n",
       "    <tr>\n",
       "      <th>119</th>\n",
       "      <td>169.0</td>\n",
       "      <td>196.0</td>\n",
       "      <td>1</td>\n",
       "      <td>9</td>\n",
       "      <td>1</td>\n",
       "      <td>0.0</td>\n",
       "      <td>1</td>\n",
       "    </tr>\n",
       "    <tr>\n",
       "      <th>121</th>\n",
       "      <td>7.0</td>\n",
       "      <td>27.0</td>\n",
       "      <td>2</td>\n",
       "      <td>10</td>\n",
       "      <td>1</td>\n",
       "      <td>0.0</td>\n",
       "      <td>1</td>\n",
       "    </tr>\n",
       "  </tbody>\n",
       "</table>\n",
       "</div>"
      ],
      "text/plain": [
       "     RAPID Core (mL)  RAPID Penumbra (mL)  proximal_occlusion  \\\n",
       "1              216.0                302.0                   1   \n",
       "2              159.0                230.0                   1   \n",
       "9               12.0                 66.0                   2   \n",
       "11              44.0                168.0                   1   \n",
       "12              41.0                142.0                   1   \n",
       "13              14.0                 88.0                   1   \n",
       "17              84.0                135.0                   0   \n",
       "19               9.0                 80.0                   2   \n",
       "26               9.0                 37.0                   2   \n",
       "27              75.0                 99.0                   1   \n",
       "28              17.0                 55.0                   1   \n",
       "31              22.0                 52.0                   1   \n",
       "35              57.0                170.0                   2   \n",
       "39               9.0                168.0                   1   \n",
       "41               0.0                 30.0                   1   \n",
       "42               7.0                  0.0                   1   \n",
       "44              21.0                 84.0                   2   \n",
       "46              10.0                 56.0                   2   \n",
       "47             109.0                128.0                   1   \n",
       "49              94.0                214.0                   2   \n",
       "52              41.0                114.0                   1   \n",
       "58               8.0                 12.0                   1   \n",
       "61               0.0                 46.0                   0   \n",
       "62             126.0                258.0                   1   \n",
       "65              21.0                 76.0                   2   \n",
       "66              41.0                109.0                   1   \n",
       "69               7.0                 83.0                   1   \n",
       "71             254.0                399.0                   1   \n",
       "73             127.0                286.0                   1   \n",
       "74             160.0                230.0                   1   \n",
       "79              18.0                 46.0                   2   \n",
       "82             117.0                205.0                   1   \n",
       "84              46.0                 56.0                   2   \n",
       "88             308.0                347.0                   0   \n",
       "94              18.0                 91.0                   1   \n",
       "98              29.0                188.0                   1   \n",
       "105              4.0                122.0                   2   \n",
       "113            137.0                174.0                   1   \n",
       "115              0.0                 94.0                   1   \n",
       "116             93.0                105.0                   1   \n",
       "119            169.0                196.0                   1   \n",
       "121              7.0                 27.0                   2   \n",
       "\n",
       "     midline shift (mm)  edema  sulcal effacement  ME  \n",
       "1                     4      1                1.0   0  \n",
       "2                     4      1                1.0   0  \n",
       "9                     0      1                1.0   0  \n",
       "11                    2      1                0.0   0  \n",
       "12                    9      1                0.0   0  \n",
       "13                    0      1                0.0   0  \n",
       "17                   17      1                1.0   1  \n",
       "19                    0      1                1.0   0  \n",
       "26                    0      1                0.0   0  \n",
       "27                    4      1                0.0   0  \n",
       "28                    0      1                0.0   0  \n",
       "31                    0      1                0.0   1  \n",
       "35                   15      1                0.0   1  \n",
       "39                    0      1                1.0   1  \n",
       "41                   11      1                1.0   1  \n",
       "42                    3      1                0.0   1  \n",
       "44                    0      1                1.0   0  \n",
       "46                    0      1                1.0   0  \n",
       "47                    5      1                1.0   1  \n",
       "49                   13      1                0.0   1  \n",
       "52                    2      1                0.0   1  \n",
       "58                    0      1                0.0   0  \n",
       "61                    7      1                1.0   1  \n",
       "62                    6      1                0.0   1  \n",
       "65                    0      1                1.0   0  \n",
       "66                    3      1                0.0   0  \n",
       "69                    5      1                1.0   1  \n",
       "71                   10      1                0.0   1  \n",
       "73                   15      1                0.0   1  \n",
       "74                   11      1                0.0   1  \n",
       "79                    0      1                0.0   0  \n",
       "82                    0      1                0.0   0  \n",
       "84                    0      1                0.0   1  \n",
       "88                    0      1                1.0   1  \n",
       "94                    0      1                0.0   0  \n",
       "98                    0      1                0.0   0  \n",
       "105                   0      1                0.0   0  \n",
       "113                   0      1                1.0   1  \n",
       "115                   8      1                0.0   1  \n",
       "116                  15      1                0.0   1  \n",
       "119                   9      1                0.0   1  \n",
       "121                  10      1                0.0   1  "
      ]
     },
     "execution_count": 75,
     "metadata": {},
     "output_type": "execute_result"
    }
   ],
   "source": [
    "edema = merged_sig[merged_sig[\"edema\"] > 0]\n",
    "edema"
   ]
  },
  {
   "cell_type": "code",
   "execution_count": 76,
   "metadata": {},
   "outputs": [
    {
     "data": {
      "text/plain": [
       "'Chronic left parieto-occipital encephalomalacia is again noted. There is no acute intracranial hemorrhage. Ventricles are of normal size and morphology. No mass effect or midline shift is present.'"
      ]
     },
     "execution_count": 76,
     "metadata": {},
     "output_type": "execute_result"
    }
   ],
   "source": [
    "# merged[\"fu_CT_report\"].iloc[18]"
   ]
  },
  {
   "cell_type": "code",
   "execution_count": 77,
   "metadata": {},
   "outputs": [
    {
     "data": {
      "text/plain": [
       "array([[<AxesSubplot:title={'center':'RAPID Core (mL)'}>,\n",
       "        <AxesSubplot:title={'center':'RAPID Penumbra (mL)'}>]],\n",
       "      dtype=object)"
      ]
     },
     "execution_count": 77,
     "metadata": {},
     "output_type": "execute_result"
    },
    {
     "data": {
      "image/png": "[encoded data removed]",
      "text/plain": [
       "<Figure size 432x288 with 2 Axes>"
      ]
     },
     "metadata": {
      "needs_background": "light"
     },
     "output_type": "display_data"
    }
   ],
   "source": [
    "#Edema volume distributions\n",
    "# edema.hist(column=[\"RAPID Core (mL)\", \"RAPID Penumbra (mL)\"])"
   ]
  },
  {
   "cell_type": "code",
   "execution_count": 78,
   "metadata": {},
   "outputs": [
    {
     "data": {
      "text/plain": [
       "array([[<AxesSubplot:title={'center':'proximal_occlusion'}>]],\n",
       "      dtype=object)"
      ]
     },
     "execution_count": 78,
     "metadata": {},
     "output_type": "execute_result"
    },
    {
     "data": {
      "image/png": "[encoded data removed]",
      "text/plain": [
       "<Figure size 432x288 with 1 Axes>"
      ]
     },
     "metadata": {
      "needs_background": "light"
     },
     "output_type": "display_data"
    }
   ],
   "source": [
    "#Edema proximal occlusion distributions\n",
    "#0=Not found\n",
    "#1=Proximal occlusion\n",
    "#2=Distal occlusion\n",
    "# merged_sig[merged_sig[\"edema\"]>0].hist(column=\"proximal_occlusion\")"
   ]
  },
  {
   "cell_type": "code",
   "execution_count": null,
   "metadata": {},
   "outputs": [],
   "source": []
  },
  {
   "cell_type": "code",
   "execution_count": 1,
   "metadata": {
    "scrolled": false
   },
   "outputs": [
    {
     "name": "stdout",
     "output_type": "stream",
     "text": [
      "The history saving thread hit an unexpected error (DatabaseError('database disk image is malformed')).History will not be written to the database.\n"
     ]
    },
    {
     "ename": "NameError",
     "evalue": "name 'edema' is not defined",
     "output_type": "error",
     "traceback": [
      "\u001b[0;31m---------------------------------------------------------------------------\u001b[0m",
      "\u001b[0;31mNameError\u001b[0m                                 Traceback (most recent call last)",
      "\u001b[0;32m<ipython-input-1-4dc0f3b6a371>\u001b[0m in \u001b[0;36m<module>\u001b[0;34m\u001b[0m\n\u001b[1;32m      3\u001b[0m \u001b[0;32mfrom\u001b[0m \u001b[0mscipy\u001b[0m\u001b[0;34m.\u001b[0m\u001b[0mstats\u001b[0m \u001b[0;32mimport\u001b[0m \u001b[0mmannwhitneyu\u001b[0m\u001b[0;34m\u001b[0m\u001b[0;34m\u001b[0m\u001b[0m\n\u001b[1;32m      4\u001b[0m \u001b[0;32mimport\u001b[0m \u001b[0mmatplotlib\u001b[0m\u001b[0;34m.\u001b[0m\u001b[0mpyplot\u001b[0m \u001b[0;32mas\u001b[0m \u001b[0mplt\u001b[0m\u001b[0;34m\u001b[0m\u001b[0;34m\u001b[0m\u001b[0m\n\u001b[0;32m----> 5\u001b[0;31m \u001b[0mp\u001b[0m \u001b[0;34m=\u001b[0m \u001b[0msns\u001b[0m\u001b[0;34m.\u001b[0m\u001b[0mboxplot\u001b[0m\u001b[0;34m(\u001b[0m\u001b[0mdata\u001b[0m \u001b[0;34m=\u001b[0m \u001b[0medema\u001b[0m\u001b[0;34m[\u001b[0m\u001b[0medema\u001b[0m\u001b[0;34m[\u001b[0m\u001b[0;34m\"proximal_occlusion\"\u001b[0m\u001b[0;34m]\u001b[0m\u001b[0;34m>\u001b[0m\u001b[0;36m0\u001b[0m\u001b[0;34m]\u001b[0m\u001b[0;34m,\u001b[0m \u001b[0mx\u001b[0m\u001b[0;34m=\u001b[0m\u001b[0;34m'proximal_occlusion'\u001b[0m\u001b[0;34m,\u001b[0m \u001b[0my\u001b[0m\u001b[0;34m=\u001b[0m\u001b[0;34m'RAPID Core (mL)'\u001b[0m\u001b[0;34m)\u001b[0m\u001b[0;34m\u001b[0m\u001b[0;34m\u001b[0m\u001b[0m\n\u001b[0m\u001b[1;32m      6\u001b[0m \u001b[0;31m#p.axes.set_title(\"Ischemic Core Volumes of Proximal vs Distal Occlusions (p < .01)\",fontsize=16)\u001b[0m\u001b[0;34m\u001b[0m\u001b[0;34m\u001b[0m\u001b[0;34m\u001b[0m\u001b[0m\n\u001b[1;32m      7\u001b[0m \u001b[0mp\u001b[0m\u001b[0;34m.\u001b[0m\u001b[0mset_xlabel\u001b[0m\u001b[0;34m(\u001b[0m\u001b[0;34m\"Proximal Occlusion (1) vs Distal Occlusion (2) status\"\u001b[0m\u001b[0;34m)\u001b[0m\u001b[0;34m\u001b[0m\u001b[0;34m\u001b[0m\u001b[0m\n",
      "\u001b[0;31mNameError\u001b[0m: name 'edema' is not defined"
     ]
    }
   ],
   "source": [
    "#edema[edema[\"proximal_occlusion\"]>0].boxplot(column='RAPID Core (mL)',by='proximal_occlusion')\n",
    "import seaborn as sns\n",
    "from scipy.stats import mannwhitneyu\n",
    "import matplotlib.pyplot as plt\n",
    "p = sns.boxplot(data = edema[edema[\"proximal_occlusion\"]>0], x='proximal_occlusion', y='RAPID Core (mL)')\n",
    "#p.axes.set_title(\"Ischemic Core Volumes of Proximal vs Distal Occlusions (p < .01)\",fontsize=16)\n",
    "p.set_xlabel(\"Proximal Occlusion (1) vs Distal Occlusion (2) status\")\n",
    "plt.savefig(\"saved_figs/prox vs core.png\", dpi=500)"
   ]
  },
  {
   "cell_type": "code",
   "execution_count": 80,
   "metadata": {},
   "outputs": [
    {
     "data": {
      "text/plain": [
       "['proximal', 'distal', 'proximal', 'distal', 'distal']"
      ]
     },
     "execution_count": 80,
     "metadata": {},
     "output_type": "execute_result"
    }
   ],
   "source": [
    "l = [1,2,1,2,2]\n",
    "[\"proximal\" if x==1 else \"distal\" for x in l]"
   ]
  },
  {
   "cell_type": "code",
   "execution_count": 81,
   "metadata": {},
   "outputs": [
    {
     "data": {
      "text/plain": [
       "0.25     42.0\n",
       "0.50     84.0\n",
       "0.75    196.0\n",
       "Name: RAPID Core (mL), dtype: float64"
      ]
     },
     "execution_count": 81,
     "metadata": {},
     "output_type": "execute_result"
    }
   ],
   "source": [
    "#0, no occlusion\n",
    "edema[edema[\"proximal_occlusion\"]==0][\"RAPID Core (mL)\"].quantile(q=[.25,.5,.75])"
   ]
  },
  {
   "cell_type": "code",
   "execution_count": 82,
   "metadata": {},
   "outputs": [
    {
     "data": {
      "text/plain": [
       "0.25     15.5\n",
       "0.50     41.0\n",
       "0.75    126.5\n",
       "Name: RAPID Core (mL), dtype: float64"
      ]
     },
     "execution_count": 82,
     "metadata": {},
     "output_type": "execute_result"
    }
   ],
   "source": [
    "#1, proximal occlusion\n",
    "edema[edema[\"proximal_occlusion\"]==1][\"RAPID Core (mL)\"].quantile(q=[.25,.5,.75])"
   ]
  },
  {
   "cell_type": "code",
   "execution_count": 83,
   "metadata": {},
   "outputs": [
    {
     "data": {
      "text/plain": [
       "0.25     9.00\n",
       "0.50    15.00\n",
       "0.75    27.25\n",
       "Name: RAPID Core (mL), dtype: float64"
      ]
     },
     "execution_count": 83,
     "metadata": {},
     "output_type": "execute_result"
    }
   ],
   "source": [
    "#2, distal occlusion\n",
    "edema[edema[\"proximal_occlusion\"]==2][\"RAPID Core (mL)\"].quantile(q=[.25,.5,.75])"
   ]
  },
  {
   "cell_type": "code",
   "execution_count": 84,
   "metadata": {},
   "outputs": [
    {
     "data": {
      "text/plain": [
       "MannwhitneyuResult(statistic=101.5, pvalue=0.03384015967161377)"
      ]
     },
     "execution_count": 84,
     "metadata": {},
     "output_type": "execute_result"
    }
   ],
   "source": [
    "#p-val for proximal vs distal occlusions\n",
    "mannwhitneyu(edema[edema[\"proximal_occlusion\"]==1][\"RAPID Core (mL)\"],edema[edema[\"proximal_occlusion\"]==2][\"RAPID Core (mL)\"])"
   ]
  },
  {
   "cell_type": "code",
   "execution_count": 85,
   "metadata": {},
   "outputs": [
    {
     "data": {
      "text/plain": [
       "Text(0.5, 0, 'Proximal Occlusion (1) vs Distal Occlusion (2) status')"
      ]
     },
     "execution_count": 85,
     "metadata": {},
     "output_type": "execute_result"
    },
    {
     "data": {
      "image/png": "[encoded data removed]",
      "text/plain": [
       "<Figure size 432x288 with 1 Axes>"
      ]
     },
     "metadata": {
      "needs_background": "light"
     },
     "output_type": "display_data"
    }
   ],
   "source": [
    "#edema[edema[\"proximal_occlusion\"]>0].boxplot(column='RAPID Penumbra (mL)',by='proximal_occlusion')\n",
    "p = sns.boxplot(data = edema[edema[\"proximal_occlusion\"]>0], x='proximal_occlusion', y='RAPID Penumbra (mL)')\n",
    "#p.axes.set_title(\"Ischemic Penumbra Volumes of Proximal vs Distal Occlusions\")\n",
    "p.set_xlabel(\"Proximal Occlusion (1) vs Distal Occlusion (2) status\")\n",
    "plt.savefig(\"saved_figs/prox vs penumbra.png\", dpi=500)"
   ]
  },
  {
   "cell_type": "code",
   "execution_count": 86,
   "metadata": {},
   "outputs": [
    {
     "data": {
      "text/plain": [
       "0.25     90.5\n",
       "0.50    135.0\n",
       "0.75    241.0\n",
       "Name: RAPID Penumbra (mL), dtype: float64"
      ]
     },
     "execution_count": 86,
     "metadata": {},
     "output_type": "execute_result"
    }
   ],
   "source": [
    "#0, no occlusion\n",
    "edema[edema[\"proximal_occlusion\"]==0][\"RAPID Penumbra (mL)\"].quantile(q=[.25,.5,.75])"
   ]
  },
  {
   "cell_type": "code",
   "execution_count": 87,
   "metadata": {},
   "outputs": [
    {
     "data": {
      "text/plain": [
       "0.25     89.5\n",
       "0.50    128.0\n",
       "0.75    200.5\n",
       "Name: RAPID Penumbra (mL), dtype: float64"
      ]
     },
     "execution_count": 87,
     "metadata": {},
     "output_type": "execute_result"
    }
   ],
   "source": [
    "#1, proximal occlusion\n",
    "edema[edema[\"proximal_occlusion\"]==1][\"RAPID Penumbra (mL)\"].quantile(q=[.25,.5,.75])"
   ]
  },
  {
   "cell_type": "code",
   "execution_count": 88,
   "metadata": {},
   "outputs": [
    {
     "data": {
      "text/plain": [
       "0.25    53.5\n",
       "0.50    71.0\n",
       "0.75    93.5\n",
       "Name: RAPID Penumbra (mL), dtype: float64"
      ]
     },
     "execution_count": 88,
     "metadata": {},
     "output_type": "execute_result"
    }
   ],
   "source": [
    "#2, distal occlusion\n",
    "edema[edema[\"proximal_occlusion\"]==2][\"RAPID Penumbra (mL)\"].quantile(q=[.25,.5,.75])"
   ]
  },
  {
   "cell_type": "code",
   "execution_count": 89,
   "metadata": {},
   "outputs": [
    {
     "data": {
      "text/plain": [
       "MannwhitneyuResult(statistic=90.0, pvalue=0.01477740203483568)"
      ]
     },
     "execution_count": 89,
     "metadata": {},
     "output_type": "execute_result"
    }
   ],
   "source": [
    "#p-val for proximal vs distal occlusions\n",
    "mannwhitneyu(edema[edema[\"proximal_occlusion\"]==1][\"RAPID Penumbra (mL)\"],edema[edema[\"proximal_occlusion\"]==2][\"RAPID Penumbra (mL)\"])"
   ]
  },
  {
   "cell_type": "code",
   "execution_count": 90,
   "metadata": {
    "scrolled": false
   },
   "outputs": [
    {
     "data": {
      "text/plain": [
       "Text(0.5, 0, 'Proximal Occlusion (1) vs Distal Occlusion (2) status')"
      ]
     },
     "execution_count": 90,
     "metadata": {},
     "output_type": "execute_result"
    },
    {
     "data": {
      "image/png": "[encoded data removed]",
      "text/plain": [
       "<Figure size 432x288 with 1 Axes>"
      ]
     },
     "metadata": {
      "needs_background": "light"
     },
     "output_type": "display_data"
    }
   ],
   "source": [
    "#ALL PROX/DIST OCCLUSIONS, not just edema\n",
    "import seaborn as sns\n",
    "p = sns.boxplot(data = merged_sig[merged_sig[\"proximal_occlusion\"]>0], x='proximal_occlusion', y='RAPID Core (mL)')\n",
    "#p.axes.set_title(\"Ischemic Core Volumes of Proximal vs Distal Occlusions (p < .01)\",fontsize=16)\n",
    "p.set_xlabel(\"Proximal Occlusion (1) vs Distal Occlusion (2) status\")\n",
    "plt.savefig(\"saved_figs/prox vs core.png\", dpi=500)"
   ]
  },
  {
   "cell_type": "code",
   "execution_count": 91,
   "metadata": {},
   "outputs": [
    {
     "data": {
      "text/plain": [
       "0.25     0.0\n",
       "0.50    12.0\n",
       "0.75    23.0\n",
       "Name: RAPID Core (mL), dtype: float64"
      ]
     },
     "execution_count": 91,
     "metadata": {},
     "output_type": "execute_result"
    }
   ],
   "source": [
    "#0, no occlusion\n",
    "merged_sig[merged_sig[\"proximal_occlusion\"]==0][\"RAPID Core (mL)\"].quantile(q=[.25,.5,.75])"
   ]
  },
  {
   "cell_type": "code",
   "execution_count": 92,
   "metadata": {},
   "outputs": [
    {
     "data": {
      "text/plain": [
       "0.25     0.00\n",
       "0.50    20.50\n",
       "0.75    74.25\n",
       "Name: RAPID Core (mL), dtype: float64"
      ]
     },
     "execution_count": 92,
     "metadata": {},
     "output_type": "execute_result"
    }
   ],
   "source": [
    "#1, proximal occlusion\n",
    "merged_sig[merged_sig[\"proximal_occlusion\"]==1][\"RAPID Core (mL)\"].quantile(q=[.25,.5,.75])"
   ]
  },
  {
   "cell_type": "code",
   "execution_count": 93,
   "metadata": {},
   "outputs": [
    {
     "data": {
      "text/plain": [
       "0.25     5.0\n",
       "0.50    12.0\n",
       "0.75    20.5\n",
       "Name: RAPID Core (mL), dtype: float64"
      ]
     },
     "execution_count": 93,
     "metadata": {},
     "output_type": "execute_result"
    }
   ],
   "source": [
    "#2, distal occlusion\n",
    "merged_sig[merged_sig[\"proximal_occlusion\"]==2][\"RAPID Core (mL)\"].quantile(q=[.25,.5,.75])"
   ]
  },
  {
   "cell_type": "code",
   "execution_count": 94,
   "metadata": {},
   "outputs": [
    {
     "data": {
      "text/plain": [
       "MannwhitneyuResult(statistic=1119.0, pvalue=0.050438552155662696)"
      ]
     },
     "execution_count": 94,
     "metadata": {},
     "output_type": "execute_result"
    }
   ],
   "source": [
    "#p-val for proximal vs distal occlusions\n",
    "mannwhitneyu(merged_sig[merged_sig[\"proximal_occlusion\"]==1][\"RAPID Core (mL)\"],merged_sig[merged_sig[\"proximal_occlusion\"]==2][\"RAPID Core (mL)\"])"
   ]
  },
  {
   "cell_type": "code",
   "execution_count": 95,
   "metadata": {
    "scrolled": false
   },
   "outputs": [
    {
     "data": {
      "text/plain": [
       "Text(0.5, 0, 'Proximal Occlusion (1) vs Distal Occlusion (2) status')"
      ]
     },
     "execution_count": 95,
     "metadata": {},
     "output_type": "execute_result"
    },
    {
     "data": {
      "image/png": "[encoded data removed]",
      "text/plain": [
       "<Figure size 432x288 with 1 Axes>"
      ]
     },
     "metadata": {
      "needs_background": "light"
     },
     "output_type": "display_data"
    }
   ],
   "source": [
    "#ALL PROX/DIST OCCLUSIONS, not just edema\n",
    "import seaborn as sns\n",
    "p = sns.boxplot(data = cohort18_19[cohort18_19[\"proximal_occlusion\"]>0], x='proximal_occlusion', y='RAPID Core (mL)')\n",
    "#p.axes.set_title(\"Ischemic Core Volumes of Proximal vs Distal Occlusions (p < .01)\",fontsize=16)\n",
    "p.set_xlabel(\"Proximal Occlusion (1) vs Distal Occlusion (2) status\")\n",
    "plt.savefig(\"saved_figs/prox vs core.png\", dpi=500)"
   ]
  },
  {
   "cell_type": "code",
   "execution_count": 96,
   "metadata": {},
   "outputs": [
    {
     "data": {
      "text/plain": [
       "0.25    0.0\n",
       "0.50    0.0\n",
       "0.75    0.0\n",
       "Name: RAPID Core (mL), dtype: float64"
      ]
     },
     "execution_count": 96,
     "metadata": {},
     "output_type": "execute_result"
    }
   ],
   "source": [
    "#0, no occlusion\n",
    "cohort18_19[cohort18_19[\"proximal_occlusion\"]==0][\"RAPID Core (mL)\"].quantile(q=[.25,.5,.75])"
   ]
  },
  {
   "cell_type": "code",
   "execution_count": 97,
   "metadata": {},
   "outputs": [
    {
     "data": {
      "text/plain": [
       "0.25     0.0\n",
       "0.50    13.0\n",
       "0.75    55.0\n",
       "Name: RAPID Core (mL), dtype: float64"
      ]
     },
     "execution_count": 97,
     "metadata": {},
     "output_type": "execute_result"
    }
   ],
   "source": [
    "#1, proximal occlusion\n",
    "cohort18_19[cohort18_19[\"proximal_occlusion\"]==1][\"RAPID Core (mL)\"].quantile(q=[.25,.5,.75])"
   ]
  },
  {
   "cell_type": "code",
   "execution_count": 98,
   "metadata": {},
   "outputs": [
    {
     "data": {
      "text/plain": [
       "0.25     5.0\n",
       "0.50    11.0\n",
       "0.75    20.0\n",
       "Name: RAPID Core (mL), dtype: float64"
      ]
     },
     "execution_count": 98,
     "metadata": {},
     "output_type": "execute_result"
    }
   ],
   "source": [
    "#2, distal occlusion\n",
    "cohort18_19[cohort18_19[\"proximal_occlusion\"]==2][\"RAPID Core (mL)\"].quantile(q=[.25,.5,.75])"
   ]
  },
  {
   "cell_type": "code",
   "execution_count": 99,
   "metadata": {},
   "outputs": [
    {
     "data": {
      "text/plain": [
       "MannwhitneyuResult(statistic=1611.0, pvalue=0.11729859483845795)"
      ]
     },
     "execution_count": 99,
     "metadata": {},
     "output_type": "execute_result"
    }
   ],
   "source": [
    "#p-val for proximal vs distal occlusions\n",
    "mannwhitneyu(cohort18_19[cohort18_19[\"proximal_occlusion\"]==1][\"RAPID Core (mL)\"],cohort18_19[cohort18_19[\"proximal_occlusion\"]==2][\"RAPID Core (mL)\"])"
   ]
  },
  {
   "cell_type": "code",
   "execution_count": 95,
   "metadata": {},
   "outputs": [
    {
     "data": {
      "text/plain": [
       "Text(0.5, 0, 'Proximal Occlusion (1) vs Distal Occlusion (2) status')"
      ]
     },
     "execution_count": 95,
     "metadata": {},
     "output_type": "execute_result"
    },
    {
     "data": {
      "image/png": "[encoded data removed]",
      "text/plain": [
       "<Figure size 432x288 with 1 Axes>"
      ]
     },
     "metadata": {
      "needs_background": "light"
     },
     "output_type": "display_data"
    }
   ],
   "source": [
    "#ALL PROX/DIST OCCLUSIONS, not just edema\n",
    "p = sns.boxplot(data = merged_sig[merged_sig[\"proximal_occlusion\"]>0], x='proximal_occlusion', y='RAPID Penumbra (mL)')\n",
    "#p.axes.set_title(\"Ischemic Core Volumes of Proximal vs Distal Occlusions (p < .01)\",fontsize=16)\n",
    "p.set_xlabel(\"Proximal Occlusion (1) vs Distal Occlusion (2) status\")\n",
    "plt.savefig(\"saved_figs/prox vs core.png\", dpi=500)"
   ]
  },
  {
   "cell_type": "code",
   "execution_count": 96,
   "metadata": {},
   "outputs": [
    {
     "data": {
      "text/plain": [
       "0.25     85.0\n",
       "0.50    135.0\n",
       "0.75    146.0\n",
       "Name: RAPID Penumbra (mL), dtype: float64"
      ]
     },
     "execution_count": 96,
     "metadata": {},
     "output_type": "execute_result"
    }
   ],
   "source": [
    "#0, no occlusion\n",
    "merged_sig[merged_sig[\"proximal_occlusion\"]==0][\"RAPID Penumbra (mL)\"].quantile(q=[.25,.5,.75])"
   ]
  },
  {
   "cell_type": "code",
   "execution_count": 97,
   "metadata": {},
   "outputs": [
    {
     "data": {
      "text/plain": [
       "0.25     70.5\n",
       "0.50    106.5\n",
       "0.75    177.5\n",
       "Name: RAPID Penumbra (mL), dtype: float64"
      ]
     },
     "execution_count": 97,
     "metadata": {},
     "output_type": "execute_result"
    }
   ],
   "source": [
    "#1, proximal occlusion\n",
    "merged_sig[merged_sig[\"proximal_occlusion\"]==1][\"RAPID Penumbra (mL)\"].quantile(q=[.25,.5,.75])"
   ]
  },
  {
   "cell_type": "code",
   "execution_count": 98,
   "metadata": {},
   "outputs": [
    {
     "data": {
      "text/plain": [
       "0.25    37.5\n",
       "0.50    57.0\n",
       "0.75    82.0\n",
       "Name: RAPID Penumbra (mL), dtype: float64"
      ]
     },
     "execution_count": 98,
     "metadata": {},
     "output_type": "execute_result"
    }
   ],
   "source": [
    "#2, distal occlusion\n",
    "merged_sig[merged_sig[\"proximal_occlusion\"]==2][\"RAPID Penumbra (mL)\"].quantile(q=[.25,.5,.75])"
   ]
  },
  {
   "cell_type": "code",
   "execution_count": 99,
   "metadata": {},
   "outputs": [
    {
     "data": {
      "text/plain": [
       "MannwhitneyuResult(statistic=745.0, pvalue=3.078825379592403e-05)"
      ]
     },
     "execution_count": 99,
     "metadata": {},
     "output_type": "execute_result"
    }
   ],
   "source": [
    "#p-val for proximal vs distal occlusions\n",
    "mannwhitneyu(merged_sig[merged_sig[\"proximal_occlusion\"]==1][\"RAPID Penumbra (mL)\"],merged_sig[merged_sig[\"proximal_occlusion\"]==2][\"RAPID Penumbra (mL)\"])"
   ]
  },
  {
   "cell_type": "code",
   "execution_count": null,
   "metadata": {},
   "outputs": [],
   "source": []
  },
  {
   "cell_type": "code",
   "execution_count": 100,
   "metadata": {
    "scrolled": false
   },
   "outputs": [
    {
     "data": {
      "text/plain": [
       "Text(0.5, 0, 'Proximal Occlusion (1) vs Distal Occlusion (2) status')"
      ]
     },
     "execution_count": 100,
     "metadata": {},
     "output_type": "execute_result"
    },
    {
     "data": {
      "image/png": "[encoded data removed]",
      "text/plain": [
       "<Figure size 432x288 with 1 Axes>"
      ]
     },
     "metadata": {
      "needs_background": "light"
     },
     "output_type": "display_data"
    }
   ],
   "source": [
    "#ALL PROX/DIST OCCLUSIONS, not just edema\n",
    "import seaborn as sns\n",
    "p = sns.boxplot(data = cohort18_19[cohort18_19[\"proximal_occlusion\"]>0], x='proximal_occlusion', y='RAPID Penumbra (mL)')\n",
    "#p.axes.set_title(\"Ischemic Core Volumes of Proximal vs Distal Occlusions (p < .01)\",fontsize=16)\n",
    "p.set_xlabel(\"Proximal Occlusion (1) vs Distal Occlusion (2) status\")\n",
    "plt.savefig(\"saved_figs/prox vs core.png\", dpi=500)"
   ]
  },
  {
   "cell_type": "code",
   "execution_count": 101,
   "metadata": {},
   "outputs": [
    {
     "data": {
      "text/plain": [
       "0.25     0.0\n",
       "0.50     0.0\n",
       "0.75    13.0\n",
       "Name: RAPID Penumbra (mL), dtype: float64"
      ]
     },
     "execution_count": 101,
     "metadata": {},
     "output_type": "execute_result"
    }
   ],
   "source": [
    "#0, no occlusion\n",
    "cohort18_19[cohort18_19[\"proximal_occlusion\"]==0][\"RAPID Penumbra (mL)\"].quantile(q=[.25,.5,.75])"
   ]
  },
  {
   "cell_type": "code",
   "execution_count": 102,
   "metadata": {},
   "outputs": [
    {
     "data": {
      "text/plain": [
       "0.25     58.0\n",
       "0.50    105.0\n",
       "0.75    188.0\n",
       "Name: RAPID Penumbra (mL), dtype: float64"
      ]
     },
     "execution_count": 102,
     "metadata": {},
     "output_type": "execute_result"
    }
   ],
   "source": [
    "#1, proximal occlusion\n",
    "cohort18_19[cohort18_19[\"proximal_occlusion\"]==1][\"RAPID Penumbra (mL)\"].quantile(q=[.25,.5,.75])"
   ]
  },
  {
   "cell_type": "code",
   "execution_count": 103,
   "metadata": {},
   "outputs": [
    {
     "data": {
      "text/plain": [
       "0.25    37.0\n",
       "0.50    56.0\n",
       "0.75    80.0\n",
       "Name: RAPID Penumbra (mL), dtype: float64"
      ]
     },
     "execution_count": 103,
     "metadata": {},
     "output_type": "execute_result"
    }
   ],
   "source": [
    "#2, distal occlusion\n",
    "cohort18_19[cohort18_19[\"proximal_occlusion\"]==2][\"RAPID Penumbra (mL)\"].quantile(q=[.25,.5,.75])"
   ]
  },
  {
   "cell_type": "code",
   "execution_count": 104,
   "metadata": {},
   "outputs": [
    {
     "data": {
      "text/plain": [
       "MannwhitneyuResult(statistic=995.5, pvalue=9.339403165371447e-06)"
      ]
     },
     "execution_count": 104,
     "metadata": {},
     "output_type": "execute_result"
    }
   ],
   "source": [
    "#p-val for proximal vs distal occlusions\n",
    "mannwhitneyu(cohort18_19[cohort18_19[\"proximal_occlusion\"]==1][\"RAPID Penumbra (mL)\"],cohort18_19[cohort18_19[\"proximal_occlusion\"]==2][\"RAPID Penumbra (mL)\"])"
   ]
  },
  {
   "cell_type": "code",
   "execution_count": 100,
   "metadata": {},
   "outputs": [
    {
     "data": {
      "text/html": [
       "<div>\n",
       "<style scoped>\n",
       "    .dataframe tbody tr th:only-of-type {\n",
       "        vertical-align: middle;\n",
       "    }\n",
       "\n",
       "    .dataframe tbody tr th {\n",
       "        vertical-align: top;\n",
       "    }\n",
       "\n",
       "    .dataframe thead th {\n",
       "        text-align: right;\n",
       "    }\n",
       "</style>\n",
       "<table border=\"1\" class=\"dataframe\">\n",
       "  <thead>\n",
       "    <tr style=\"text-align: right;\">\n",
       "      <th></th>\n",
       "      <th>RAPID Core (mL)</th>\n",
       "      <th>RAPID Penumbra (mL)</th>\n",
       "      <th>proximal_occlusion</th>\n",
       "      <th>midline shift (mm)</th>\n",
       "      <th>edema</th>\n",
       "      <th>sulcal effacement</th>\n",
       "      <th>ME</th>\n",
       "    </tr>\n",
       "  </thead>\n",
       "  <tbody>\n",
       "    <tr>\n",
       "      <th>3</th>\n",
       "      <td>12.0</td>\n",
       "      <td>137.0</td>\n",
       "      <td>2</td>\n",
       "      <td>0</td>\n",
       "      <td>0</td>\n",
       "      <td>1.0</td>\n",
       "      <td>0</td>\n",
       "    </tr>\n",
       "    <tr>\n",
       "      <th>23</th>\n",
       "      <td>131.0</td>\n",
       "      <td>232.0</td>\n",
       "      <td>1</td>\n",
       "      <td>0</td>\n",
       "      <td>0</td>\n",
       "      <td>1.0</td>\n",
       "      <td>0</td>\n",
       "    </tr>\n",
       "    <tr>\n",
       "      <th>34</th>\n",
       "      <td>5.0</td>\n",
       "      <td>91.0</td>\n",
       "      <td>2</td>\n",
       "      <td>0</td>\n",
       "      <td>0</td>\n",
       "      <td>1.0</td>\n",
       "      <td>0</td>\n",
       "    </tr>\n",
       "    <tr>\n",
       "      <th>67</th>\n",
       "      <td>19.0</td>\n",
       "      <td>95.0</td>\n",
       "      <td>2</td>\n",
       "      <td>0</td>\n",
       "      <td>0</td>\n",
       "      <td>1.0</td>\n",
       "      <td>0</td>\n",
       "    </tr>\n",
       "    <tr>\n",
       "      <th>103</th>\n",
       "      <td>60.0</td>\n",
       "      <td>162.0</td>\n",
       "      <td>2</td>\n",
       "      <td>0</td>\n",
       "      <td>0</td>\n",
       "      <td>1.0</td>\n",
       "      <td>1</td>\n",
       "    </tr>\n",
       "    <tr>\n",
       "      <th>104</th>\n",
       "      <td>16.0</td>\n",
       "      <td>69.0</td>\n",
       "      <td>2</td>\n",
       "      <td>0</td>\n",
       "      <td>0</td>\n",
       "      <td>1.0</td>\n",
       "      <td>0</td>\n",
       "    </tr>\n",
       "  </tbody>\n",
       "</table>\n",
       "</div>"
      ],
      "text/plain": [
       "     RAPID Core (mL)  RAPID Penumbra (mL)  proximal_occlusion  \\\n",
       "3               12.0                137.0                   2   \n",
       "23             131.0                232.0                   1   \n",
       "34               5.0                 91.0                   2   \n",
       "67              19.0                 95.0                   2   \n",
       "103             60.0                162.0                   2   \n",
       "104             16.0                 69.0                   2   \n",
       "\n",
       "     midline shift (mm)  edema  sulcal effacement  ME  \n",
       "3                     0      0                1.0   0  \n",
       "23                    0      0                1.0   0  \n",
       "34                    0      0                1.0   0  \n",
       "67                    0      0                1.0   0  \n",
       "103                   0      0                1.0   1  \n",
       "104                   0      0                1.0   0  "
      ]
     },
     "execution_count": 100,
     "metadata": {},
     "output_type": "execute_result"
    }
   ],
   "source": [
    "#Sulcal effacement without edema volume distributions\n",
    "se = merged_sig[merged_sig[\"sulcal effacement\"]>0]\n",
    "se = se[se[\"edema\"] == 0]\n",
    "se\n",
    "#merged_sig[merged_sig[\"sulcal effacement\"]>0].hist(column=[\"RAPID Core (mL)\", \"RAPID Penumbra (mL)\"])"
   ]
  },
  {
   "cell_type": "code",
   "execution_count": 101,
   "metadata": {},
   "outputs": [
    {
     "data": {
      "text/plain": [
       "array([[<AxesSubplot:title={'center':'proximal_occlusion'}>]],\n",
       "      dtype=object)"
      ]
     },
     "execution_count": 101,
     "metadata": {},
     "output_type": "execute_result"
    },
    {
     "data": {
      "image/png": "[encoded data removed]",
      "text/plain": [
       "<Figure size 432x288 with 1 Axes>"
      ]
     },
     "metadata": {
      "needs_background": "light"
     },
     "output_type": "display_data"
    }
   ],
   "source": [
    "#Sulcal effacement proximal occlusion distributions\n",
    "#0=Not found\n",
    "#1=Proximal occlusion\n",
    "#2=Distal occlusion\n",
    "# se.hist(column=\"proximal_occlusion\")"
   ]
  },
  {
   "cell_type": "code",
   "execution_count": 102,
   "metadata": {},
   "outputs": [
    {
     "data": {
      "text/plain": [
       "array([[<AxesSubplot:title={'center':'midline shift (mm)'}>]],\n",
       "      dtype=object)"
      ]
     },
     "execution_count": 102,
     "metadata": {},
     "output_type": "execute_result"
    },
    {
     "data": {
      "image/png": "[encoded data removed]",
      "text/plain": [
       "<Figure size 432x288 with 1 Axes>"
      ]
     },
     "metadata": {
      "needs_background": "light"
     },
     "output_type": "display_data"
    }
   ],
   "source": [
    "#Edema report frequency (y axis) with varying degrees of midline shift (x axis)\n",
    "# edema.hist(column=\"midline shift (mm)\")"
   ]
  },
  {
   "cell_type": "code",
   "execution_count": 103,
   "metadata": {},
   "outputs": [
    {
     "data": {
      "text/plain": [
       "42"
      ]
     },
     "execution_count": 103,
     "metadata": {},
     "output_type": "execute_result"
    }
   ],
   "source": [
    "#Total records with edema\n",
    "edema.shape[0]"
   ]
  },
  {
   "cell_type": "code",
   "execution_count": 104,
   "metadata": {},
   "outputs": [
    {
     "data": {
      "text/plain": [
       "23"
      ]
     },
     "execution_count": 104,
     "metadata": {},
     "output_type": "execute_result"
    }
   ],
   "source": [
    "#Total records with midline shift\n",
    "edema[edema[\"midline shift (mm)\"] > 0].shape[0]"
   ]
  },
  {
   "cell_type": "code",
   "execution_count": 105,
   "metadata": {},
   "outputs": [
    {
     "data": {
      "text/plain": [
       "<AxesSubplot:xlabel='edema', ylabel='RAPID Core (mL)'>"
      ]
     },
     "execution_count": 105,
     "metadata": {},
     "output_type": "execute_result"
    },
    {
     "data": {
      "image/png": "[encoded data removed]",
      "text/plain": [
       "<Figure size 432x288 with 1 Axes>"
      ]
     },
     "metadata": {
      "needs_background": "light"
     },
     "output_type": "display_data"
    }
   ],
   "source": [
    "#Edema/no edema (x) vs core vol (y)\n",
    "#merged_sig.boxplot(column='RAPID Core (mL)',by='edema')\n",
    "sns.boxplot(x=merged_sig[\"edema\"],y=merged_sig[\"RAPID Core (mL)\"])"
   ]
  },
  {
   "cell_type": "code",
   "execution_count": 106,
   "metadata": {},
   "outputs": [
    {
     "data": {
      "text/plain": [
       "0.25     0.00\n",
       "0.50    11.00\n",
       "0.75    23.75\n",
       "Name: RAPID Core (mL), dtype: float64"
      ]
     },
     "execution_count": 106,
     "metadata": {},
     "output_type": "execute_result"
    }
   ],
   "source": [
    "#Edema 0 percentiles\n",
    "merged_sig[merged_sig[\"edema\"]==0][\"RAPID Core (mL)\"].quantile(q=[.25,.5,.75])"
   ]
  },
  {
   "cell_type": "code",
   "execution_count": 107,
   "metadata": {},
   "outputs": [
    {
     "data": {
      "text/plain": [
       "0.25      9.25\n",
       "0.50     35.00\n",
       "0.75    105.25\n",
       "Name: RAPID Core (mL), dtype: float64"
      ]
     },
     "execution_count": 107,
     "metadata": {},
     "output_type": "execute_result"
    }
   ],
   "source": [
    "#Edema 1 percentiles\n",
    "merged_sig[merged_sig[\"edema\"]==1][\"RAPID Core (mL)\"].quantile(q=[.25,.5,.75])"
   ]
  },
  {
   "cell_type": "code",
   "execution_count": 108,
   "metadata": {},
   "outputs": [
    {
     "data": {
      "text/plain": [
       "MannwhitneyuResult(statistic=877.0, pvalue=4.529848873934426e-05)"
      ]
     },
     "execution_count": 108,
     "metadata": {},
     "output_type": "execute_result"
    }
   ],
   "source": [
    "#p val edema vs core vol\n",
    "mannwhitneyu(merged_sig[merged_sig[\"edema\"]==0][\"RAPID Core (mL)\"],merged_sig[merged_sig[\"edema\"]==1][\"RAPID Core (mL)\"])"
   ]
  },
  {
   "cell_type": "code",
   "execution_count": 109,
   "metadata": {},
   "outputs": [
    {
     "data": {
      "text/plain": [
       "<AxesSubplot:xlabel='edema', ylabel='RAPID Penumbra (mL)'>"
      ]
     },
     "execution_count": 109,
     "metadata": {},
     "output_type": "execute_result"
    },
    {
     "data": {
      "image/png": "[encoded data removed]",
      "text/plain": [
       "<Figure size 432x288 with 1 Axes>"
      ]
     },
     "metadata": {
      "needs_background": "light"
     },
     "output_type": "display_data"
    }
   ],
   "source": [
    "#Edema/no edema (x) vs penumbra vol (y)\n",
    "#merged_sig.boxplot(column='RAPID Core (mL)',by='edema')\n",
    "sns.boxplot(x=merged_sig[\"edema\"],y=merged_sig[\"RAPID Penumbra (mL)\"])"
   ]
  },
  {
   "cell_type": "code",
   "execution_count": 110,
   "metadata": {},
   "outputs": [
    {
     "data": {
      "text/plain": [
       "0.25     47.0\n",
       "0.50     74.0\n",
       "0.75    136.0\n",
       "Name: RAPID Penumbra (mL), dtype: float64"
      ]
     },
     "execution_count": 110,
     "metadata": {},
     "output_type": "execute_result"
    }
   ],
   "source": [
    "#Edema 0 percentiles\n",
    "merged_sig[merged_sig[\"edema\"]==0][\"RAPID Penumbra (mL)\"].quantile(q=[.25,.5,.75])"
   ]
  },
  {
   "cell_type": "code",
   "execution_count": 111,
   "metadata": {},
   "outputs": [
    {
     "data": {
      "text/plain": [
       "0.25     58.5\n",
       "0.50    107.0\n",
       "0.75    184.5\n",
       "Name: RAPID Penumbra (mL), dtype: float64"
      ]
     },
     "execution_count": 111,
     "metadata": {},
     "output_type": "execute_result"
    }
   ],
   "source": [
    "#Edema 1 percentiles\n",
    "merged_sig[merged_sig[\"edema\"]==1][\"RAPID Penumbra (mL)\"].quantile(q=[.25,.5,.75])"
   ]
  },
  {
   "cell_type": "code",
   "execution_count": 112,
   "metadata": {},
   "outputs": [
    {
     "data": {
      "text/plain": [
       "MannwhitneyuResult(statistic=1141.0, pvalue=0.008898043640121941)"
      ]
     },
     "execution_count": 112,
     "metadata": {},
     "output_type": "execute_result"
    }
   ],
   "source": [
    "#p val edema vs penumbra vol\n",
    "mannwhitneyu(merged_sig[merged_sig[\"edema\"]==0][\"RAPID Penumbra (mL)\"],merged_sig[merged_sig[\"edema\"]==1][\"RAPID Penumbra (mL)\"])"
   ]
  },
  {
   "cell_type": "code",
   "execution_count": 113,
   "metadata": {},
   "outputs": [
    {
     "data": {
      "text/plain": [
       "<AxesSubplot:xlabel='edema', ylabel='Count'>"
      ]
     },
     "execution_count": 113,
     "metadata": {},
     "output_type": "execute_result"
    },
    {
     "data": {
      "image/png": "[encoded data removed]",
      "text/plain": [
       "<Figure size 432x288 with 1 Axes>"
      ]
     },
     "metadata": {
      "needs_background": "light"
     },
     "output_type": "display_data"
    }
   ],
   "source": [
    "#Edema/no edema (x) vs count of occlusion (y, proximal=1, distal=2)\n",
    "m=merged_sig[merged_sig[\"proximal_occlusion\"]>0]\n",
    "sns.histplot(data=m, x=\"edema\", hue=\"proximal_occlusion\", multiple=\"dodge\")"
   ]
  },
  {
   "cell_type": "code",
   "execution_count": 114,
   "metadata": {},
   "outputs": [
    {
     "data": {
      "text/html": [
       "<div>\n",
       "<style scoped>\n",
       "    .dataframe tbody tr th:only-of-type {\n",
       "        vertical-align: middle;\n",
       "    }\n",
       "\n",
       "    .dataframe tbody tr th {\n",
       "        vertical-align: top;\n",
       "    }\n",
       "\n",
       "    .dataframe thead th {\n",
       "        text-align: right;\n",
       "    }\n",
       "</style>\n",
       "<table border=\"1\" class=\"dataframe\">\n",
       "  <thead>\n",
       "    <tr style=\"text-align: right;\">\n",
       "      <th>proximal_occlusion</th>\n",
       "      <th>2</th>\n",
       "      <th>1</th>\n",
       "    </tr>\n",
       "    <tr>\n",
       "      <th>edema</th>\n",
       "      <th></th>\n",
       "      <th></th>\n",
       "    </tr>\n",
       "  </thead>\n",
       "  <tbody>\n",
       "    <tr>\n",
       "      <th>0</th>\n",
       "      <td>31</td>\n",
       "      <td>37</td>\n",
       "    </tr>\n",
       "    <tr>\n",
       "      <th>1</th>\n",
       "      <td>12</td>\n",
       "      <td>27</td>\n",
       "    </tr>\n",
       "  </tbody>\n",
       "</table>\n",
       "</div>"
      ],
      "text/plain": [
       "proximal_occlusion   2   1\n",
       "edema                     \n",
       "0                   31  37\n",
       "1                   12  27"
      ]
     },
     "execution_count": 114,
     "metadata": {},
     "output_type": "execute_result"
    }
   ],
   "source": [
    "#2x2 contingency table\n",
    "edema_occl_tbl = pd.crosstab(index=m[\"edema\"],columns=m[\"proximal_occlusion\"])\n",
    "edema_occl_tbl = edema_occl_tbl[[2,1]]\n",
    "edema_occl_tbl"
   ]
  },
  {
   "cell_type": "code",
   "execution_count": 115,
   "metadata": {},
   "outputs": [
    {
     "data": {
      "text/plain": [
       "(1.885135135135135, 0.15498228547558707)"
      ]
     },
     "execution_count": 115,
     "metadata": {},
     "output_type": "execute_result"
    }
   ],
   "source": [
    "#Odds ratio, p-value\n",
    "#Odds of edema having proximal occlusion vs case without edema\n",
    "from scipy.stats import fisher_exact\n",
    "fisher_exact(edema_occl_tbl)"
   ]
  },
  {
   "cell_type": "code",
   "execution_count": 116,
   "metadata": {},
   "outputs": [
    {
     "data": {
      "image/png": "[encoded data removed]",
      "text/plain": [
       "<Figure size 432x288 with 1 Axes>"
      ]
     },
     "metadata": {
      "needs_background": "light"
     },
     "output_type": "display_data"
    }
   ],
   "source": [
    "# #Core/penumbra (x) vs midline shift (y) plots\n",
    "# import matplotlib.pyplot as plt\n",
    "# core = plt.scatter(edema[\"midline shift (mm)\"], edema[\"RAPID Core (mL)\"], c=\"blue\")\n",
    "# penumbra = plt.scatter(edema[\"midline shift (mm)\"], edema[\"RAPID Penumbra (mL)\"], c=\"orange\")\n",
    "# plt.legend([core,penumbra], [\"core\",\"penumbra\"])\n",
    "# plt.show()"
   ]
  },
  {
   "cell_type": "code",
   "execution_count": 117,
   "metadata": {
    "scrolled": true
   },
   "outputs": [
    {
     "data": {
      "text/plain": [
       "<AxesSubplot:xlabel='midline shift (mm)', ylabel='RAPID Core (mL)'>"
      ]
     },
     "execution_count": 117,
     "metadata": {},
     "output_type": "execute_result"
    },
    {
     "data": {
      "image/png": "[encoded data removed]",
      "text/plain": [
       "<Figure size 432x288 with 1 Axes>"
      ]
     },
     "metadata": {
      "needs_background": "light"
     },
     "output_type": "display_data"
    }
   ],
   "source": [
    "#Core (x) vs midline shift (y) with regression\n",
    "# import seaborn as sns\n",
    "# sns.regplot(x=edema[\"midline shift (mm)\"], y=edema[\"RAPID Core (mL)\"])"
   ]
  },
  {
   "cell_type": "code",
   "execution_count": 118,
   "metadata": {},
   "outputs": [
    {
     "name": "stdout",
     "output_type": "stream",
     "text": [
      "r = 0.2594690673040682\n",
      "p = 0.09704308684659671\n"
     ]
    }
   ],
   "source": [
    "# #Pearson correlation and p value for core vs midline shift\n",
    "# import scipy.stats\n",
    "# r, p = scipy.stats.pearsonr(x=edema[\"midline shift (mm)\"], y= edema[\"RAPID Core (mL)\"])\n",
    "# print(\"r = \"+ str(r))\n",
    "# print(\"p = \"+ str(p))"
   ]
  },
  {
   "cell_type": "code",
   "execution_count": 119,
   "metadata": {},
   "outputs": [
    {
     "data": {
      "text/plain": [
       "<AxesSubplot:xlabel='midline shift (mm)', ylabel='RAPID Penumbra (mL)'>"
      ]
     },
     "execution_count": 119,
     "metadata": {},
     "output_type": "execute_result"
    },
    {
     "data": {
      "image/png": "[encoded data removed]",
      "text/plain": [
       "<Figure size 432x288 with 1 Axes>"
      ]
     },
     "metadata": {
      "needs_background": "light"
     },
     "output_type": "display_data"
    }
   ],
   "source": [
    "#Penumbra (x) vs midline shift (y) with regression\n",
    "# sns.regplot(x=edema[\"midline shift (mm)\"], y= edema[\"RAPID Penumbra (mL)\"])"
   ]
  },
  {
   "cell_type": "code",
   "execution_count": 120,
   "metadata": {},
   "outputs": [
    {
     "name": "stdout",
     "output_type": "stream",
     "text": [
      "r = 0.28624995832907335\n",
      "p = 0.06609269944069224\n"
     ]
    }
   ],
   "source": [
    "# #Pearson correlation and p value for core vs midline shift\n",
    "# r, p = scipy.stats.pearsonr(x=edema[\"midline shift (mm)\"], y= edema[\"RAPID Penumbra (mL)\"])\n",
    "# print(\"r = \"+ str(r))\n",
    "# print(\"p = \"+ str(p))"
   ]
  },
  {
   "cell_type": "code",
   "execution_count": 121,
   "metadata": {},
   "outputs": [
    {
     "data": {
      "image/png": "[encoded data removed]",
      "text/plain": [
       "<Figure size 432x288 with 1 Axes>"
      ]
     },
     "metadata": {
      "needs_background": "light"
     },
     "output_type": "display_data"
    }
   ],
   "source": [
    "#Boxplot midline shifts by proximal occlusion status\n",
    "e = edema[edema[\"proximal_occlusion\"]>0]\n",
    "p = sns.boxplot(data=e, x='proximal_occlusion', y='midline shift (mm)')\n",
    "p.axes.set_title(\"Midline shift of Proximal vs Distal Occlusions (p < .05)  \", fontsize=16)\n",
    "p.set_xlabel(\"Proximal Occlusion (1) vs Distal Occlusion (2) status\")\n",
    "plt.savefig(\"saved_figs/mls vs prox.png\", dpi=500)"
   ]
  },
  {
   "cell_type": "code",
   "execution_count": 122,
   "metadata": {},
   "outputs": [
    {
     "data": {
      "text/plain": [
       "18"
      ]
     },
     "execution_count": 122,
     "metadata": {},
     "output_type": "execute_result"
    }
   ],
   "source": [
    "#Records with midline shift and proximal occlusion\n",
    "o = edema[edema[\"proximal_occlusion\"] == 1]\n",
    "o[o[\"midline shift (mm)\"] > 0].shape[0]"
   ]
  },
  {
   "cell_type": "code",
   "execution_count": 123,
   "metadata": {},
   "outputs": [
    {
     "data": {
      "text/plain": [
       "3"
      ]
     },
     "execution_count": 123,
     "metadata": {},
     "output_type": "execute_result"
    }
   ],
   "source": [
    "#Records with midline shift and distal occlusion\n",
    "o = edema[edema[\"proximal_occlusion\"] == 2]\n",
    "o[o[\"midline shift (mm)\"] > 0].shape[0]"
   ]
  },
  {
   "cell_type": "code",
   "execution_count": 124,
   "metadata": {},
   "outputs": [
    {
     "data": {
      "text/plain": [
       "2"
      ]
     },
     "execution_count": 124,
     "metadata": {},
     "output_type": "execute_result"
    }
   ],
   "source": [
    "#Records with midline shift and no occlusion\n",
    "o = edema[edema[\"proximal_occlusion\"] == 0]\n",
    "o[o[\"midline shift (mm)\"] > 0].shape[0]"
   ]
  },
  {
   "cell_type": "code",
   "execution_count": 125,
   "metadata": {},
   "outputs": [
    {
     "data": {
      "text/plain": [
       "3"
      ]
     },
     "execution_count": 125,
     "metadata": {},
     "output_type": "execute_result"
    }
   ],
   "source": [
    "#Records with edema proximal occlusion 0 (i.e no occlusion)\n",
    "edema[edema[\"proximal_occlusion\"] == 0].shape[0]"
   ]
  },
  {
   "cell_type": "code",
   "execution_count": 126,
   "metadata": {},
   "outputs": [
    {
     "data": {
      "text/plain": [
       "27"
      ]
     },
     "execution_count": 126,
     "metadata": {},
     "output_type": "execute_result"
    }
   ],
   "source": [
    "#Records with edema proximal occlusion 1 (i.e proximal occlusion)\n",
    "edema[edema[\"proximal_occlusion\"] == 1].shape[0]"
   ]
  },
  {
   "cell_type": "code",
   "execution_count": 127,
   "metadata": {},
   "outputs": [
    {
     "data": {
      "text/plain": [
       "12"
      ]
     },
     "execution_count": 127,
     "metadata": {},
     "output_type": "execute_result"
    }
   ],
   "source": [
    "#Records with edema proximal occlusion 2 (i.e distal occlusion)\n",
    "edema[edema[\"proximal_occlusion\"] == 2].shape[0]"
   ]
  },
  {
   "cell_type": "code",
   "execution_count": 128,
   "metadata": {},
   "outputs": [],
   "source": [
    "# #0, no occlusion\n",
    "# edema[edema[\"proximal_occlusion\"]==0][\"midline shift (mm)\"].quantile(q=[.25,.5,.75])"
   ]
  },
  {
   "cell_type": "code",
   "execution_count": 129,
   "metadata": {},
   "outputs": [
    {
     "data": {
      "text/plain": [
       "0.25    0.0\n",
       "0.50    4.0\n",
       "0.75    8.5\n",
       "Name: midline shift (mm), dtype: float64"
      ]
     },
     "execution_count": 129,
     "metadata": {},
     "output_type": "execute_result"
    }
   ],
   "source": [
    "#1, proximal occlusion\n",
    "e[e[\"proximal_occlusion\"]==1][\"midline shift (mm)\"].quantile(q=[.25,.5,.75])"
   ]
  },
  {
   "cell_type": "code",
   "execution_count": 130,
   "metadata": {},
   "outputs": [
    {
     "data": {
      "text/plain": [
       "0.25    0.0\n",
       "0.50    0.0\n",
       "0.75    2.5\n",
       "Name: midline shift (mm), dtype: float64"
      ]
     },
     "execution_count": 130,
     "metadata": {},
     "output_type": "execute_result"
    }
   ],
   "source": [
    "#2, distal occlusion\n",
    "e[e[\"proximal_occlusion\"]==2][\"midline shift (mm)\"].quantile(q=[.25,.5,.75])"
   ]
  },
  {
   "cell_type": "code",
   "execution_count": 131,
   "metadata": {},
   "outputs": [
    {
     "data": {
      "text/plain": [
       "MannwhitneyuResult(statistic=114.0, pvalue=0.06386246214282376)"
      ]
     },
     "execution_count": 131,
     "metadata": {},
     "output_type": "execute_result"
    }
   ],
   "source": [
    "#p-val for proximal vs distal occlusions\n",
    "mannwhitneyu(e[e[\"proximal_occlusion\"]==1][\"midline shift (mm)\"],e[e[\"proximal_occlusion\"]==2][\"midline shift (mm)\"])"
   ]
  },
  {
   "cell_type": "code",
   "execution_count": 132,
   "metadata": {},
   "outputs": [
    {
     "data": {
      "text/plain": [
       "<AxesSubplot:xlabel='edema', ylabel='Count'>"
      ]
     },
     "execution_count": 132,
     "metadata": {},
     "output_type": "execute_result"
    },
    {
     "data": {
      "image/png": "[encoded data removed]",
      "text/plain": [
       "<Figure size 432x288 with 1 Axes>"
      ]
     },
     "metadata": {
      "needs_background": "light"
     },
     "output_type": "display_data"
    }
   ],
   "source": [
    "#Edema/no edema (x) vs malignant edema/no malig edema (y)\n",
    "sns.histplot(data=merged_sig, x=\"edema\", hue=\"ME\", multiple=\"dodge\")"
   ]
  },
  {
   "cell_type": "code",
   "execution_count": 133,
   "metadata": {},
   "outputs": [
    {
     "data": {
      "text/html": [
       "<div>\n",
       "<style scoped>\n",
       "    .dataframe tbody tr th:only-of-type {\n",
       "        vertical-align: middle;\n",
       "    }\n",
       "\n",
       "    .dataframe tbody tr th {\n",
       "        vertical-align: top;\n",
       "    }\n",
       "\n",
       "    .dataframe thead th {\n",
       "        text-align: right;\n",
       "    }\n",
       "</style>\n",
       "<table border=\"1\" class=\"dataframe\">\n",
       "  <thead>\n",
       "    <tr style=\"text-align: right;\">\n",
       "      <th>ME</th>\n",
       "      <th>0</th>\n",
       "      <th>1</th>\n",
       "    </tr>\n",
       "    <tr>\n",
       "      <th>edema</th>\n",
       "      <th></th>\n",
       "      <th></th>\n",
       "    </tr>\n",
       "  </thead>\n",
       "  <tbody>\n",
       "    <tr>\n",
       "      <th>0</th>\n",
       "      <td>71</td>\n",
       "      <td>3</td>\n",
       "    </tr>\n",
       "    <tr>\n",
       "      <th>1</th>\n",
       "      <td>20</td>\n",
       "      <td>22</td>\n",
       "    </tr>\n",
       "  </tbody>\n",
       "</table>\n",
       "</div>"
      ],
      "text/plain": [
       "ME      0   1\n",
       "edema        \n",
       "0      71   3\n",
       "1      20  22"
      ]
     },
     "execution_count": 133,
     "metadata": {},
     "output_type": "execute_result"
    }
   ],
   "source": [
    "#merged_sig[merged_sig[\"edema\"]>0 ].count().edema\n",
    "edema_me_tbl = pd.crosstab(index=merged_sig[\"edema\"],columns=merged_sig[\"ME\"])\n",
    "edema_me_tbl"
   ]
  },
  {
   "cell_type": "code",
   "execution_count": 134,
   "metadata": {},
   "outputs": [],
   "source": [
    "#\"Recall\" - 23/(23+3)= 89%"
   ]
  },
  {
   "cell_type": "code",
   "execution_count": 135,
   "metadata": {},
   "outputs": [
    {
     "data": {
      "text/plain": [
       "(26.033333333333335, 2.134702252383102e-09)"
      ]
     },
     "execution_count": 135,
     "metadata": {},
     "output_type": "execute_result"
    }
   ],
   "source": [
    "#Odds ratio, p-value\n",
    "#Odds of edema having malignant edema \n",
    "from scipy.stats import fisher_exact\n",
    "fisher_exact(edema_me_tbl)"
   ]
  },
  {
   "cell_type": "code",
   "execution_count": 136,
   "metadata": {},
   "outputs": [],
   "source": [
    "#mannwhitneyu(merged_sig[merged_sig[\"edema\"]==0][\"ME\"],merged_sig[merged_sig[\"edema\"]==1][\"ME\"])"
   ]
  },
  {
   "cell_type": "code",
   "execution_count": 137,
   "metadata": {},
   "outputs": [
    {
     "data": {
      "text/html": [
       "<div>\n",
       "<style scoped>\n",
       "    .dataframe tbody tr th:only-of-type {\n",
       "        vertical-align: middle;\n",
       "    }\n",
       "\n",
       "    .dataframe tbody tr th {\n",
       "        vertical-align: top;\n",
       "    }\n",
       "\n",
       "    .dataframe thead th {\n",
       "        text-align: right;\n",
       "    }\n",
       "</style>\n",
       "<table border=\"1\" class=\"dataframe\">\n",
       "  <thead>\n",
       "    <tr style=\"text-align: right;\">\n",
       "      <th></th>\n",
       "      <th>Accession Number</th>\n",
       "      <th>pred_occlusion</th>\n",
       "      <th>pred_vessels</th>\n",
       "      <th>pred_segments</th>\n",
       "      <th>true_vessels</th>\n",
       "      <th>true_segments</th>\n",
       "      <th>volumes</th>\n",
       "      <th>TICI_x</th>\n",
       "      <th>CTA CTP Report Text</th>\n",
       "      <th>unmatched_occlusions</th>\n",
       "      <th>...</th>\n",
       "      <th>sulcal effacement</th>\n",
       "      <th>fu_CT_report</th>\n",
       "      <th>fu_CT2_report</th>\n",
       "      <th>fu_CT3_report</th>\n",
       "      <th>ee_ms_se</th>\n",
       "      <th>TICI_y</th>\n",
       "      <th>ME</th>\n",
       "      <th>manual_edema</th>\n",
       "      <th>manual_mls</th>\n",
       "      <th>manual_proximal_occlusion</th>\n",
       "    </tr>\n",
       "  </thead>\n",
       "  <tbody>\n",
       "    <tr>\n",
       "      <th>83</th>\n",
       "      <td>52080386</td>\n",
       "      <td>1</td>\n",
       "      <td>[L MCA]</td>\n",
       "      <td>[L M1]</td>\n",
       "      <td>[L MCA]</td>\n",
       "      <td>[L M1]</td>\n",
       "      <td>(58, 153)</td>\n",
       "      <td>2b</td>\n",
       "      <td>EXAMINATION: Computed tomography angiography (...</td>\n",
       "      <td>[]</td>\n",
       "      <td>...</td>\n",
       "      <td>0.0</td>\n",
       "      <td>Evolving areas of hypoattenuation are seen wit...</td>\n",
       "      <td>There is continued resolution of hypoattenuati...</td>\n",
       "      <td>There are evolving regions of hypoattenuation ...</td>\n",
       "      <td>[(0, 0, 0), (0, 0, 0), (0, 0, 0)]</td>\n",
       "      <td>2b</td>\n",
       "      <td>1</td>\n",
       "      <td>0</td>\n",
       "      <td>0</td>\n",
       "      <td>1</td>\n",
       "    </tr>\n",
       "    <tr>\n",
       "      <th>99</th>\n",
       "      <td>51793852</td>\n",
       "      <td>1</td>\n",
       "      <td>[R MCA]</td>\n",
       "      <td>[R M1, R M2]</td>\n",
       "      <td>[R MCA]</td>\n",
       "      <td>[R M1, R M2]</td>\n",
       "      <td>(46, 105)</td>\n",
       "      <td>0</td>\n",
       "      <td>EXAMINATION: Computed tomography angiography (...</td>\n",
       "      <td>[]</td>\n",
       "      <td>...</td>\n",
       "      <td>0.0</td>\n",
       "      <td>There is a large area of hypoattenuation with ...</td>\n",
       "      <td>0</td>\n",
       "      <td>0</td>\n",
       "      <td>[(0, 0, 0)]</td>\n",
       "      <td>0</td>\n",
       "      <td>1</td>\n",
       "      <td>0</td>\n",
       "      <td>0</td>\n",
       "      <td>1</td>\n",
       "    </tr>\n",
       "    <tr>\n",
       "      <th>103</th>\n",
       "      <td>51759302</td>\n",
       "      <td>1</td>\n",
       "      <td>[L MCA]</td>\n",
       "      <td>[L M2]</td>\n",
       "      <td>[L MCA]</td>\n",
       "      <td>[L M2]</td>\n",
       "      <td>(60, 162)</td>\n",
       "      <td>0</td>\n",
       "      <td>EXAMINATION: Computed tomography angiography (...</td>\n",
       "      <td>[]</td>\n",
       "      <td>...</td>\n",
       "      <td>1.0</td>\n",
       "      <td>Hyperdensity seen in the left M1/M2 location c...</td>\n",
       "      <td>0</td>\n",
       "      <td>0</td>\n",
       "      <td>[(0, 0, 1)]</td>\n",
       "      <td>0</td>\n",
       "      <td>1</td>\n",
       "      <td>0</td>\n",
       "      <td>0</td>\n",
       "      <td>2</td>\n",
       "    </tr>\n",
       "  </tbody>\n",
       "</table>\n",
       "<p>3 rows × 31 columns</p>\n",
       "</div>"
      ],
      "text/plain": [
       "     Accession Number  pred_occlusion pred_vessels pred_segments true_vessels  \\\n",
       "83           52080386               1      [L MCA]        [L M1]      [L MCA]   \n",
       "99           51793852               1      [R MCA]  [R M1, R M2]      [R MCA]   \n",
       "103          51759302               1      [L MCA]        [L M2]      [L MCA]   \n",
       "\n",
       "    true_segments    volumes TICI_x  \\\n",
       "83         [L M1]  (58, 153)     2b   \n",
       "99   [R M1, R M2]  (46, 105)      0   \n",
       "103        [L M2]  (60, 162)      0   \n",
       "\n",
       "                                   CTA CTP Report Text unmatched_occlusions  \\\n",
       "83   EXAMINATION: Computed tomography angiography (...                   []   \n",
       "99   EXAMINATION: Computed tomography angiography (...                   []   \n",
       "103  EXAMINATION: Computed tomography angiography (...                   []   \n",
       "\n",
       "     ... sulcal effacement                                       fu_CT_report  \\\n",
       "83   ...               0.0  Evolving areas of hypoattenuation are seen wit...   \n",
       "99   ...               0.0  There is a large area of hypoattenuation with ...   \n",
       "103  ...               1.0  Hyperdensity seen in the left M1/M2 location c...   \n",
       "\n",
       "                                         fu_CT2_report  \\\n",
       "83   There is continued resolution of hypoattenuati...   \n",
       "99                                                   0   \n",
       "103                                                  0   \n",
       "\n",
       "                                         fu_CT3_report  \\\n",
       "83   There are evolving regions of hypoattenuation ...   \n",
       "99                                                   0   \n",
       "103                                                  0   \n",
       "\n",
       "                              ee_ms_se  TICI_y  ME  manual_edema  manual_mls  \\\n",
       "83   [(0, 0, 0), (0, 0, 0), (0, 0, 0)]      2b   1             0           0   \n",
       "99                         [(0, 0, 0)]       0   1             0           0   \n",
       "103                        [(0, 0, 1)]       0   1             0           0   \n",
       "\n",
       "     manual_proximal_occlusion  \n",
       "83                           1  \n",
       "99                           1  \n",
       "103                          2  \n",
       "\n",
       "[3 rows x 31 columns]"
      ]
     },
     "execution_count": 137,
     "metadata": {},
     "output_type": "execute_result"
    }
   ],
   "source": [
    "#Reports with deterioration to malignant edema without edema on follow up CT\n",
    "merged[(merged[\"edema\"]==0) & (merged[\"ME\"]==1)]"
   ]
  },
  {
   "cell_type": "code",
   "execution_count": 138,
   "metadata": {
    "scrolled": false
   },
   "outputs": [
    {
     "data": {
      "text/plain": [
       "<AxesSubplot:xlabel='ME', ylabel='midline shift (mm)'>"
      ]
     },
     "execution_count": 138,
     "metadata": {},
     "output_type": "execute_result"
    },
    {
     "data": {
      "image/png": "[encoded data removed]",
      "text/plain": [
       "<Figure size 432x288 with 1 Axes>"
      ]
     },
     "metadata": {
      "needs_background": "light"
     },
     "output_type": "display_data"
    }
   ],
   "source": [
    "#Malignant edema/no malig edema (x) vs midline shift (y)\n",
    "sns.boxplot(data=merged_sig, x=\"ME\", y=\"midline shift (mm)\")"
   ]
  },
  {
   "cell_type": "code",
   "execution_count": 139,
   "metadata": {},
   "outputs": [
    {
     "data": {
      "text/plain": [
       "0.25    0.0\n",
       "0.50    0.0\n",
       "0.75    0.0\n",
       "Name: midline shift (mm), dtype: float64"
      ]
     },
     "execution_count": 139,
     "metadata": {},
     "output_type": "execute_result"
    }
   ],
   "source": [
    "#Malignant edema 0 percentiles of midline shift \n",
    "merged_sig[merged_sig[\"ME\"]==0][\"midline shift (mm)\"].quantile(q=[.25,.5,.75])"
   ]
  },
  {
   "cell_type": "code",
   "execution_count": 140,
   "metadata": {},
   "outputs": [
    {
     "data": {
      "text/plain": [
       "0.25     0.0\n",
       "0.50     6.0\n",
       "0.75    11.0\n",
       "Name: midline shift (mm), dtype: float64"
      ]
     },
     "execution_count": 140,
     "metadata": {},
     "output_type": "execute_result"
    }
   ],
   "source": [
    "#Malignant edema 1 percentiles of midline shift\n",
    "merged_sig[merged_sig[\"ME\"]==1][\"midline shift (mm)\"].quantile(q=[.25,.5,.75])"
   ]
  },
  {
   "cell_type": "code",
   "execution_count": 141,
   "metadata": {},
   "outputs": [
    {
     "data": {
      "text/plain": [
       "MannwhitneyuResult(statistic=407.5, pvalue=2.26689654168283e-12)"
      ]
     },
     "execution_count": 141,
     "metadata": {},
     "output_type": "execute_result"
    }
   ],
   "source": [
    "#p val malig edema vs midline shift\n",
    "mannwhitneyu(merged_sig[merged_sig[\"ME\"]==0][\"midline shift (mm)\"],merged_sig[merged_sig[\"ME\"]==1][\"midline shift (mm)\"])"
   ]
  },
  {
   "cell_type": "code",
   "execution_count": 142,
   "metadata": {
    "scrolled": false
   },
   "outputs": [
    {
     "data": {
      "text/plain": [
       "<AxesSubplot:xlabel='edema', ylabel='midline shift (mm)'>"
      ]
     },
     "execution_count": 142,
     "metadata": {},
     "output_type": "execute_result"
    },
    {
     "data": {
      "image/png": "[encoded data removed]",
      "text/plain": [
       "<Figure size 432x288 with 1 Axes>"
      ]
     },
     "metadata": {
      "needs_background": "light"
     },
     "output_type": "display_data"
    }
   ],
   "source": [
    "#Edema/no edema (x) vs midline shift (y)\n",
    "sns.boxplot(data=merged_sig, x=\"edema\", y=\"midline shift (mm)\")"
   ]
  },
  {
   "cell_type": "code",
   "execution_count": 143,
   "metadata": {},
   "outputs": [
    {
     "data": {
      "text/plain": [
       "0.25    0.0\n",
       "0.50    0.0\n",
       "0.75    0.0\n",
       "Name: midline shift (mm), dtype: float64"
      ]
     },
     "execution_count": 143,
     "metadata": {},
     "output_type": "execute_result"
    }
   ],
   "source": [
    "#Edema 0 percentiles of midline shift \n",
    "merged_sig[merged_sig[\"edema\"]==0][\"midline shift (mm)\"].quantile(q=[.25,.5,.75])"
   ]
  },
  {
   "cell_type": "code",
   "execution_count": 144,
   "metadata": {},
   "outputs": [
    {
     "data": {
      "text/html": [
       "<div>\n",
       "<style scoped>\n",
       "    .dataframe tbody tr th:only-of-type {\n",
       "        vertical-align: middle;\n",
       "    }\n",
       "\n",
       "    .dataframe tbody tr th {\n",
       "        vertical-align: top;\n",
       "    }\n",
       "\n",
       "    .dataframe thead th {\n",
       "        text-align: right;\n",
       "    }\n",
       "</style>\n",
       "<table border=\"1\" class=\"dataframe\">\n",
       "  <thead>\n",
       "    <tr style=\"text-align: right;\">\n",
       "      <th></th>\n",
       "      <th>RAPID Core (mL)</th>\n",
       "      <th>RAPID Penumbra (mL)</th>\n",
       "      <th>proximal_occlusion</th>\n",
       "      <th>midline shift (mm)</th>\n",
       "      <th>edema</th>\n",
       "      <th>sulcal effacement</th>\n",
       "      <th>ME</th>\n",
       "    </tr>\n",
       "  </thead>\n",
       "  <tbody>\n",
       "    <tr>\n",
       "      <th>33</th>\n",
       "      <td>0.0</td>\n",
       "      <td>8.0</td>\n",
       "      <td>1</td>\n",
       "      <td>1</td>\n",
       "      <td>0</td>\n",
       "      <td>0.0</td>\n",
       "      <td>0</td>\n",
       "    </tr>\n",
       "  </tbody>\n",
       "</table>\n",
       "</div>"
      ],
      "text/plain": [
       "    RAPID Core (mL)  RAPID Penumbra (mL)  proximal_occlusion  \\\n",
       "33              0.0                  8.0                   1   \n",
       "\n",
       "    midline shift (mm)  edema  sulcal effacement  ME  \n",
       "33                   1      0                0.0   0  "
      ]
     },
     "execution_count": 144,
     "metadata": {},
     "output_type": "execute_result"
    }
   ],
   "source": [
    "#Edema 0 percentiles of midline shift \n",
    "no_e = merged_sig[merged_sig[\"edema\"]==0]\n",
    "no_e[no_e[\"midline shift (mm)\"]>0]"
   ]
  },
  {
   "cell_type": "code",
   "execution_count": 145,
   "metadata": {},
   "outputs": [],
   "source": [
    "#no_e[34]"
   ]
  },
  {
   "cell_type": "code",
   "execution_count": 146,
   "metadata": {},
   "outputs": [
    {
     "data": {
      "text/plain": [
       "0.25    0.00\n",
       "0.50    2.50\n",
       "0.75    8.75\n",
       "Name: midline shift (mm), dtype: float64"
      ]
     },
     "execution_count": 146,
     "metadata": {},
     "output_type": "execute_result"
    }
   ],
   "source": [
    "#Edema 1 percentiles of midline shift\n",
    "merged_sig[merged_sig[\"edema\"]==1][\"midline shift (mm)\"].quantile(q=[.25,.5,.75])"
   ]
  },
  {
   "cell_type": "code",
   "execution_count": 147,
   "metadata": {},
   "outputs": [
    {
     "data": {
      "text/plain": [
       "MannwhitneyuResult(statistic=407.5, pvalue=2.26689654168283e-12)"
      ]
     },
     "execution_count": 147,
     "metadata": {},
     "output_type": "execute_result"
    }
   ],
   "source": [
    "#p val edema vs midline shift\n",
    "mannwhitneyu(merged_sig[merged_sig[\"ME\"]==0][\"midline shift (mm)\"],merged_sig[merged_sig[\"ME\"]==1][\"midline shift (mm)\"])"
   ]
  },
  {
   "cell_type": "code",
   "execution_count": 148,
   "metadata": {},
   "outputs": [
    {
     "data": {
      "text/plain": [
       "42"
      ]
     },
     "execution_count": 148,
     "metadata": {},
     "output_type": "execute_result"
    }
   ],
   "source": [
    "len(merged_sig[merged_sig[\"edema\"]==1])"
   ]
  },
  {
   "cell_type": "code",
   "execution_count": 149,
   "metadata": {},
   "outputs": [
    {
     "data": {
      "text/plain": [
       "<AxesSubplot:xlabel='ME', ylabel='Count'>"
      ]
     },
     "execution_count": 149,
     "metadata": {},
     "output_type": "execute_result"
    },
    {
     "data": {
      "image/png": "[encoded data removed]",
      "text/plain": [
       "<Figure size 432x288 with 1 Axes>"
      ]
     },
     "metadata": {
      "needs_background": "light"
     },
     "output_type": "display_data"
    }
   ],
   "source": [
    "#Malignant Edema/no malig edema (x) vs count of occlusion (y, proximal=1, distal=2)\n",
    "m=merged_sig[merged_sig[\"proximal_occlusion\"]>0]\n",
    "sns.histplot(data=m, x=\"ME\", hue=\"proximal_occlusion\", multiple=\"dodge\")"
   ]
  },
  {
   "cell_type": "code",
   "execution_count": 150,
   "metadata": {},
   "outputs": [
    {
     "data": {
      "text/html": [
       "<div>\n",
       "<style scoped>\n",
       "    .dataframe tbody tr th:only-of-type {\n",
       "        vertical-align: middle;\n",
       "    }\n",
       "\n",
       "    .dataframe tbody tr th {\n",
       "        vertical-align: top;\n",
       "    }\n",
       "\n",
       "    .dataframe thead th {\n",
       "        text-align: right;\n",
       "    }\n",
       "</style>\n",
       "<table border=\"1\" class=\"dataframe\">\n",
       "  <thead>\n",
       "    <tr style=\"text-align: right;\">\n",
       "      <th>proximal_occlusion</th>\n",
       "      <th>2</th>\n",
       "      <th>1</th>\n",
       "    </tr>\n",
       "    <tr>\n",
       "      <th>ME</th>\n",
       "      <th></th>\n",
       "      <th></th>\n",
       "    </tr>\n",
       "  </thead>\n",
       "  <tbody>\n",
       "    <tr>\n",
       "      <th>0</th>\n",
       "      <td>38</td>\n",
       "      <td>47</td>\n",
       "    </tr>\n",
       "    <tr>\n",
       "      <th>1</th>\n",
       "      <td>5</td>\n",
       "      <td>17</td>\n",
       "    </tr>\n",
       "  </tbody>\n",
       "</table>\n",
       "</div>"
      ],
      "text/plain": [
       "proximal_occlusion   2   1\n",
       "ME                        \n",
       "0                   38  47\n",
       "1                    5  17"
      ]
     },
     "execution_count": 150,
     "metadata": {},
     "output_type": "execute_result"
    }
   ],
   "source": [
    "#2x2 contingency table\n",
    "#Proximal occlusion = 1\n",
    "#Distal occlusion = 2\n",
    "occl_me_tbl = pd.crosstab(index=m[\"ME\"],columns=m[\"proximal_occlusion\"])\n",
    "occl_me_tbl = occl_me_tbl[[2,1]]\n",
    "occl_me_tbl"
   ]
  },
  {
   "cell_type": "code",
   "execution_count": 151,
   "metadata": {},
   "outputs": [
    {
     "data": {
      "text/plain": [
       "(2.748936170212766, 0.08703608353751498)"
      ]
     },
     "execution_count": 151,
     "metadata": {},
     "output_type": "execute_result"
    }
   ],
   "source": [
    "#Odds ratio, p-value\n",
    "#Odds of malignant edema having proximal cerebral artery occlusion vs pt w/o malignant edema\n",
    "from scipy.stats import fisher_exact\n",
    "fisher_exact(occl_me_tbl)\n",
    "#Medcalc ci interval 1.1256-9.6377"
   ]
  },
  {
   "cell_type": "code",
   "execution_count": 152,
   "metadata": {},
   "outputs": [],
   "source": [
    "# import numpy as np\n",
    "# #occl_me_tbl.reindex([1,0])\n",
    "# omt = np.asarray(occl_me_tbl)\n",
    "# omt\n",
    "# # occl_me_tbl"
   ]
  },
  {
   "cell_type": "code",
   "execution_count": 153,
   "metadata": {},
   "outputs": [],
   "source": [
    "# from statsmodels.stats.contingency_tables import Table2x2 as smt\n",
    "# smt(omt).oddsratio_confint()"
   ]
  },
  {
   "cell_type": "code",
   "execution_count": 154,
   "metadata": {},
   "outputs": [],
   "source": [
    "# smt(omt).summary()"
   ]
  },
  {
   "cell_type": "code",
   "execution_count": 155,
   "metadata": {},
   "outputs": [],
   "source": [
    "# from __future__ import division\n",
    "\n",
    "\n",
    "# def diffprop(obs):\n",
    "#     \"\"\"\n",
    "#     `obs` must be a 2x2 numpy array.\n",
    "\n",
    "#     Returns:\n",
    "#     delta\n",
    "#         The difference in proportions\n",
    "#     ci\n",
    "#         The Wald 95% confidence interval for delta\n",
    "#     corrected_ci\n",
    "#         Yates continuity correction for the 95% confidence interval of delta.\n",
    "#     \"\"\"\n",
    "#     n1, n2 = obs.sum(axis=1)\n",
    "#     prop1 = obs[0,0] / n1\n",
    "#     prop2 = obs[1,0] / n2\n",
    "#     delta = prop1 - prop2\n",
    "\n",
    "#     # Wald 95% confidence interval for delta\n",
    "#     se = np.sqrt(prop1*(1 - prop1)/n1 + prop2*(1 - prop2)/n2)\n",
    "#     ci = (delta - 1.96*se, delta + 1.96*se)\n",
    "\n",
    "#     # Yates continuity correction for confidence interval of delta\n",
    "#     correction = 0.5*(1/n1 + 1/n2)\n",
    "#     corrected_ci = (ci[0] - correction, ci[1] + correction)\n",
    "\n",
    "#     return delta, ci, corrected_ci\n",
    "\n",
    "# diffprop(omt)"
   ]
  },
  {
   "cell_type": "code",
   "execution_count": 156,
   "metadata": {},
   "outputs": [],
   "source": [
    "#z = –0.862+ √[0.743 – 2.404×log(0.0327)] = 1.215;\n",
    "# Est = log (0.30) = −1.204;\n",
    "# SE = −1.204/2.117 = −0.569 but we ignore the minus sign, so SE = 0.569, and 1.96×SE = 1.115;\n",
    "# 95% CI on log scale = −1.204 − 1.115 to −1.204 + 1.115 = −2.319 to −0.089;\n",
    "# 95% CI on natural scale = exp (−2.319) = 0.10 to exp (−0.089) = 0.91.\n",
    "\n"
   ]
  },
  {
   "cell_type": "code",
   "execution_count": 157,
   "metadata": {},
   "outputs": [
    {
     "data": {
      "image/png": "[encoded data removed]",
      "text/plain": [
       "<Figure size 432x288 with 1 Axes>"
      ]
     },
     "metadata": {
      "needs_background": "light"
     },
     "output_type": "display_data"
    }
   ],
   "source": [
    "#Malignant edema/no malig edema (x) vs core vol (y)\n",
    "\n",
    "p=sns.boxplot(x=merged_sig[\"ME\"],y=merged_sig[\"RAPID Core (mL)\"])\n",
    "#p.axes.set_title(\"Malignant Edema Ischemic Core Volumes\")\n",
    "p.set_xlabel(\"Malignant Edema Status\")\n",
    "plt.savefig(\"saved_figs/me vs core.png\", dpi=500)"
   ]
  },
  {
   "cell_type": "code",
   "execution_count": 158,
   "metadata": {},
   "outputs": [
    {
     "data": {
      "text/plain": [
       "0.25     0.0\n",
       "0.50    12.0\n",
       "0.75    24.0\n",
       "Name: RAPID Core (mL), dtype: float64"
      ]
     },
     "execution_count": 158,
     "metadata": {},
     "output_type": "execute_result"
    }
   ],
   "source": [
    "#ME 0 percentiles\n",
    "merged_sig[merged_sig[\"ME\"]==0][\"RAPID Core (mL)\"].quantile(q=[.25,.5,.75])"
   ]
  },
  {
   "cell_type": "code",
   "execution_count": 159,
   "metadata": {},
   "outputs": [
    {
     "data": {
      "text/plain": [
       "0.25      9.0\n",
       "0.50     58.0\n",
       "0.75    126.0\n",
       "Name: RAPID Core (mL), dtype: float64"
      ]
     },
     "execution_count": 159,
     "metadata": {},
     "output_type": "execute_result"
    }
   ],
   "source": [
    "#ME 1 percentiles\n",
    "merged_sig[merged_sig[\"ME\"]==1][\"RAPID Core (mL)\"].quantile(q=[.25,.5,.75])"
   ]
  },
  {
   "cell_type": "code",
   "execution_count": 160,
   "metadata": {},
   "outputs": [
    {
     "data": {
      "text/plain": [
       "MannwhitneyuResult(statistic=606.5, pvalue=0.00016666648304260667)"
      ]
     },
     "execution_count": 160,
     "metadata": {},
     "output_type": "execute_result"
    }
   ],
   "source": [
    "#p val edema vs core vol\n",
    "mannwhitneyu(merged_sig[merged_sig[\"ME\"]==0][\"RAPID Core (mL)\"],merged_sig[merged_sig[\"ME\"]==1][\"RAPID Core (mL)\"])"
   ]
  },
  {
   "cell_type": "code",
   "execution_count": 161,
   "metadata": {},
   "outputs": [
    {
     "data": {
      "image/png": "[encoded data removed]",
      "text/plain": [
       "<Figure size 432x288 with 1 Axes>"
      ]
     },
     "metadata": {
      "needs_background": "light"
     },
     "output_type": "display_data"
    }
   ],
   "source": [
    "#Malignant Edema/no malignant edema (x) vs penumbra vol (y)\n",
    "\n",
    "p = sns.boxplot(x=merged_sig[\"ME\"],y=merged_sig[\"RAPID Penumbra (mL)\"])\n",
    "#p.axes.set_title(\"Malignant Edema Ischemic Penumbra Volumes\")\n",
    "p.set_xlabel(\"Malignant Edema Status\")\n",
    "plt.savefig(\"saved_figs/me vs penumbra.png\", dpi=500)"
   ]
  },
  {
   "cell_type": "code",
   "execution_count": 162,
   "metadata": {},
   "outputs": [
    {
     "data": {
      "text/plain": [
       "0.25     47.5\n",
       "0.50     80.0\n",
       "0.75    135.0\n",
       "Name: RAPID Penumbra (mL), dtype: float64"
      ]
     },
     "execution_count": 162,
     "metadata": {},
     "output_type": "execute_result"
    }
   ],
   "source": [
    "#Edema 0 percentiles\n",
    "merged_sig[merged_sig[\"ME\"]==0][\"RAPID Penumbra (mL)\"].quantile(q=[.25,.5,.75])"
   ]
  },
  {
   "cell_type": "code",
   "execution_count": 163,
   "metadata": {},
   "outputs": [
    {
     "data": {
      "text/plain": [
       "0.25     83.0\n",
       "0.50    135.0\n",
       "0.75    196.0\n",
       "Name: RAPID Penumbra (mL), dtype: float64"
      ]
     },
     "execution_count": 163,
     "metadata": {},
     "output_type": "execute_result"
    }
   ],
   "source": [
    "#Edema 1 percentiles\n",
    "merged_sig[merged_sig[\"ME\"]==1][\"RAPID Penumbra (mL)\"].quantile(q=[.25,.5,.75])"
   ]
  },
  {
   "cell_type": "code",
   "execution_count": 164,
   "metadata": {},
   "outputs": [
    {
     "data": {
      "text/plain": [
       "MannwhitneyuResult(statistic=746.0, pvalue=0.004325440630382034)"
      ]
     },
     "execution_count": 164,
     "metadata": {},
     "output_type": "execute_result"
    }
   ],
   "source": [
    "#p val edema vs penumbra vol\n",
    "mannwhitneyu(merged_sig[merged_sig[\"ME\"]==0][\"RAPID Penumbra (mL)\"],merged_sig[merged_sig[\"ME\"]==1][\"RAPID Penumbra (mL)\"])"
   ]
  },
  {
   "cell_type": "code",
   "execution_count": 165,
   "metadata": {},
   "outputs": [
    {
     "data": {
      "text/html": [
       "<div>\n",
       "<style scoped>\n",
       "    .dataframe tbody tr th:only-of-type {\n",
       "        vertical-align: middle;\n",
       "    }\n",
       "\n",
       "    .dataframe tbody tr th {\n",
       "        vertical-align: top;\n",
       "    }\n",
       "\n",
       "    .dataframe thead th {\n",
       "        text-align: right;\n",
       "    }\n",
       "</style>\n",
       "<table border=\"1\" class=\"dataframe\">\n",
       "  <thead>\n",
       "    <tr style=\"text-align: right;\">\n",
       "      <th></th>\n",
       "      <th>RAPID Core (mL)</th>\n",
       "      <th>RAPID Penumbra (mL)</th>\n",
       "      <th>proximal_occlusion</th>\n",
       "      <th>edema</th>\n",
       "      <th>midline shift (mm)</th>\n",
       "      <th>sulcal effacement</th>\n",
       "    </tr>\n",
       "  </thead>\n",
       "  <tbody>\n",
       "    <tr>\n",
       "      <th>RAPID Core (mL)</th>\n",
       "      <td>1.000000</td>\n",
       "      <td>0.754780</td>\n",
       "      <td>-0.239875</td>\n",
       "      <td>0.363789</td>\n",
       "      <td>0.370738</td>\n",
       "      <td>0.217200</td>\n",
       "    </tr>\n",
       "    <tr>\n",
       "      <th>RAPID Penumbra (mL)</th>\n",
       "      <td>0.754780</td>\n",
       "      <td>1.000000</td>\n",
       "      <td>-0.350585</td>\n",
       "      <td>0.245333</td>\n",
       "      <td>0.297756</td>\n",
       "      <td>0.155054</td>\n",
       "    </tr>\n",
       "    <tr>\n",
       "      <th>proximal_occlusion</th>\n",
       "      <td>-0.239875</td>\n",
       "      <td>-0.350585</td>\n",
       "      <td>1.000000</td>\n",
       "      <td>-0.098641</td>\n",
       "      <td>-0.154720</td>\n",
       "      <td>0.031421</td>\n",
       "    </tr>\n",
       "    <tr>\n",
       "      <th>edema</th>\n",
       "      <td>0.363789</td>\n",
       "      <td>0.245333</td>\n",
       "      <td>-0.098641</td>\n",
       "      <td>1.000000</td>\n",
       "      <td>0.559747</td>\n",
       "      <td>0.344568</td>\n",
       "    </tr>\n",
       "    <tr>\n",
       "      <th>midline shift (mm)</th>\n",
       "      <td>0.370738</td>\n",
       "      <td>0.297756</td>\n",
       "      <td>-0.154720</td>\n",
       "      <td>0.559747</td>\n",
       "      <td>1.000000</td>\n",
       "      <td>0.109759</td>\n",
       "    </tr>\n",
       "    <tr>\n",
       "      <th>sulcal effacement</th>\n",
       "      <td>0.217200</td>\n",
       "      <td>0.155054</td>\n",
       "      <td>0.031421</td>\n",
       "      <td>0.344568</td>\n",
       "      <td>0.109759</td>\n",
       "      <td>1.000000</td>\n",
       "    </tr>\n",
       "  </tbody>\n",
       "</table>\n",
       "</div>"
      ],
      "text/plain": [
       "                     RAPID Core (mL)  RAPID Penumbra (mL)  proximal_occlusion  \\\n",
       "RAPID Core (mL)             1.000000             0.754780           -0.239875   \n",
       "RAPID Penumbra (mL)         0.754780             1.000000           -0.350585   \n",
       "proximal_occlusion         -0.239875            -0.350585            1.000000   \n",
       "edema                       0.363789             0.245333           -0.098641   \n",
       "midline shift (mm)          0.370738             0.297756           -0.154720   \n",
       "sulcal effacement           0.217200             0.155054            0.031421   \n",
       "\n",
       "                        edema  midline shift (mm)  sulcal effacement  \n",
       "RAPID Core (mL)      0.363789            0.370738           0.217200  \n",
       "RAPID Penumbra (mL)  0.245333            0.297756           0.155054  \n",
       "proximal_occlusion  -0.098641           -0.154720           0.031421  \n",
       "edema                1.000000            0.559747           0.344568  \n",
       "midline shift (mm)   0.559747            1.000000           0.109759  \n",
       "sulcal effacement    0.344568            0.109759           1.000000  "
      ]
     },
     "execution_count": 165,
     "metadata": {},
     "output_type": "execute_result"
    }
   ],
   "source": [
    "# merged_sig[[\"RAPID Core (mL)\", \"RAPID Penumbra (mL)\",\"proximal_occlusion\",\"edema\", \"midline shift (mm)\", \"sulcal effacement\"]].corr()"
   ]
  },
  {
   "cell_type": "code",
   "execution_count": 166,
   "metadata": {},
   "outputs": [],
   "source": [
    "#MAKE PLOT FOR MIDLINE SHIFT AND PROXIMAL OCCLUSIONS"
   ]
  },
  {
   "cell_type": "code",
   "execution_count": 167,
   "metadata": {
    "scrolled": true
   },
   "outputs": [
    {
     "data": {
      "image/png": "[encoded data removed]",
      "text/plain": [
       "<Figure size 432x288 with 1 Axes>"
      ]
     },
     "metadata": {
      "needs_background": "light"
     },
     "output_type": "display_data"
    }
   ],
   "source": [
    "# #Sulcal effacement vs core/penumbra vol plots\n",
    "# import matplotlib.pyplot as plt\n",
    "# core = plt.scatter(se[\"RAPID Core (mL)\"], se[\"midline shift (mm)\"], c=\"blue\")\n",
    "# penumbra = plt.scatter(se[\"RAPID Penumbra (mL)\"], se[\"midline shift (mm)\"], c=\"orange\")\n",
    "# plt.legend([core,penumbra], [\"core\",\"penumbra\"])\n",
    "# plt.show()"
   ]
  },
  {
   "cell_type": "code",
   "execution_count": 168,
   "metadata": {},
   "outputs": [
    {
     "data": {
      "text/html": [
       "<div>\n",
       "<style scoped>\n",
       "    .dataframe tbody tr th:only-of-type {\n",
       "        vertical-align: middle;\n",
       "    }\n",
       "\n",
       "    .dataframe tbody tr th {\n",
       "        vertical-align: top;\n",
       "    }\n",
       "\n",
       "    .dataframe thead th {\n",
       "        text-align: right;\n",
       "    }\n",
       "</style>\n",
       "<table border=\"1\" class=\"dataframe\">\n",
       "  <thead>\n",
       "    <tr style=\"text-align: right;\">\n",
       "      <th></th>\n",
       "      <th>RAPID Core (mL)</th>\n",
       "      <th>RAPID Penumbra (mL)</th>\n",
       "      <th>proximal_occlusion</th>\n",
       "      <th>midline shift (mm)</th>\n",
       "      <th>edema</th>\n",
       "      <th>sulcal effacement</th>\n",
       "      <th>ME</th>\n",
       "    </tr>\n",
       "  </thead>\n",
       "  <tbody>\n",
       "    <tr>\n",
       "      <th>RAPID Core (mL)</th>\n",
       "      <td>1.000000</td>\n",
       "      <td>0.754780</td>\n",
       "      <td>-0.239875</td>\n",
       "      <td>0.370738</td>\n",
       "      <td>0.363789</td>\n",
       "      <td>0.217200</td>\n",
       "      <td>0.396755</td>\n",
       "    </tr>\n",
       "    <tr>\n",
       "      <th>RAPID Penumbra (mL)</th>\n",
       "      <td>0.754780</td>\n",
       "      <td>1.000000</td>\n",
       "      <td>-0.350585</td>\n",
       "      <td>0.297756</td>\n",
       "      <td>0.245333</td>\n",
       "      <td>0.155054</td>\n",
       "      <td>0.279498</td>\n",
       "    </tr>\n",
       "    <tr>\n",
       "      <th>proximal_occlusion</th>\n",
       "      <td>-0.239875</td>\n",
       "      <td>-0.350585</td>\n",
       "      <td>1.000000</td>\n",
       "      <td>-0.154720</td>\n",
       "      <td>-0.098641</td>\n",
       "      <td>0.031421</td>\n",
       "      <td>-0.185552</td>\n",
       "    </tr>\n",
       "    <tr>\n",
       "      <th>midline shift (mm)</th>\n",
       "      <td>0.370738</td>\n",
       "      <td>0.297756</td>\n",
       "      <td>-0.154720</td>\n",
       "      <td>1.000000</td>\n",
       "      <td>0.559747</td>\n",
       "      <td>0.109759</td>\n",
       "      <td>0.663539</td>\n",
       "    </tr>\n",
       "    <tr>\n",
       "      <th>edema</th>\n",
       "      <td>0.363789</td>\n",
       "      <td>0.245333</td>\n",
       "      <td>-0.098641</td>\n",
       "      <td>0.559747</td>\n",
       "      <td>1.000000</td>\n",
       "      <td>0.344568</td>\n",
       "      <td>0.564857</td>\n",
       "    </tr>\n",
       "    <tr>\n",
       "      <th>sulcal effacement</th>\n",
       "      <td>0.217200</td>\n",
       "      <td>0.155054</td>\n",
       "      <td>0.031421</td>\n",
       "      <td>0.109759</td>\n",
       "      <td>0.344568</td>\n",
       "      <td>1.000000</td>\n",
       "      <td>0.243616</td>\n",
       "    </tr>\n",
       "    <tr>\n",
       "      <th>ME</th>\n",
       "      <td>0.396755</td>\n",
       "      <td>0.279498</td>\n",
       "      <td>-0.185552</td>\n",
       "      <td>0.663539</td>\n",
       "      <td>0.564857</td>\n",
       "      <td>0.243616</td>\n",
       "      <td>1.000000</td>\n",
       "    </tr>\n",
       "  </tbody>\n",
       "</table>\n",
       "</div>"
      ],
      "text/plain": [
       "                     RAPID Core (mL)  RAPID Penumbra (mL)  proximal_occlusion  \\\n",
       "RAPID Core (mL)             1.000000             0.754780           -0.239875   \n",
       "RAPID Penumbra (mL)         0.754780             1.000000           -0.350585   \n",
       "proximal_occlusion         -0.239875            -0.350585            1.000000   \n",
       "midline shift (mm)          0.370738             0.297756           -0.154720   \n",
       "edema                       0.363789             0.245333           -0.098641   \n",
       "sulcal effacement           0.217200             0.155054            0.031421   \n",
       "ME                          0.396755             0.279498           -0.185552   \n",
       "\n",
       "                     midline shift (mm)     edema  sulcal effacement        ME  \n",
       "RAPID Core (mL)                0.370738  0.363789           0.217200  0.396755  \n",
       "RAPID Penumbra (mL)            0.297756  0.245333           0.155054  0.279498  \n",
       "proximal_occlusion            -0.154720 -0.098641           0.031421 -0.185552  \n",
       "midline shift (mm)             1.000000  0.559747           0.109759  0.663539  \n",
       "edema                          0.559747  1.000000           0.344568  0.564857  \n",
       "sulcal effacement              0.109759  0.344568           1.000000  0.243616  \n",
       "ME                             0.663539  0.564857           0.243616  1.000000  "
      ]
     },
     "execution_count": 168,
     "metadata": {},
     "output_type": "execute_result"
    }
   ],
   "source": [
    "# merged_sig.corr()"
   ]
  },
  {
   "cell_type": "code",
   "execution_count": 169,
   "metadata": {
    "scrolled": true
   },
   "outputs": [
    {
     "data": {
      "image/png": "[encoded data removed]",
      "text/plain": [
       "<Figure size 432x288 with 1 Axes>"
      ]
     },
     "metadata": {
      "needs_background": "light"
     },
     "output_type": "display_data"
    }
   ],
   "source": [
    "# #No edema or sulcal effacement vs core/penumbra vol plots\n",
    "# import matplotlib.pyplot as plt\n",
    "# core = plt.scatter(no_e_se[\"RAPID Core (mL)\"], no_e_se[\"midline shift (mm)\"], c=\"blue\")\n",
    "# penumbra = plt.scatter(no_e_se[\"RAPID Penumbra (mL)\"], no_e_se[\"midline shift (mm)\"], c=\"orange\")\n",
    "# plt.legend([core,penumbra], [\"core\",\"penumbra\"])\n",
    "# plt.show()"
   ]
  },
  {
   "cell_type": "code",
   "execution_count": 170,
   "metadata": {},
   "outputs": [],
   "source": [
    "# from pandas.plotting import scatter_matrix\n",
    "# scatter_matrix(merged_sig, alpha=0.8, figsize=(20, 20), diagonal='kde')"
   ]
  }
 ],
 "metadata": {
  "kernelspec": {
   "display_name": "Python 3",
   "language": "python",
   "name": "python3"
  },
  "language_info": {
   "codemirror_mode": {
    "name": "ipython",
    "version": 3
   },
   "file_extension": ".py",
   "mimetype": "text/x-python",
   "name": "python",
   "nbconvert_exporter": "python",
   "pygments_lexer": "ipython3",
   "version": "3.8.3"
  }
 },
 "nbformat": 4,
 "nbformat_minor": 4
}
